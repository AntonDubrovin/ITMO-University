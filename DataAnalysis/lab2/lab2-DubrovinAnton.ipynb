{
 "cells": [
  {
   "cell_type": "markdown",
   "source": [
    "Задание 1. Будем работать с пандасом."
   ],
   "metadata": {
    "collapsed": false
   }
  },
  {
   "cell_type": "code",
   "execution_count": 15,
   "metadata": {
    "collapsed": true
   },
   "outputs": [
    {
     "name": "stdout",
     "output_type": "stream",
     "text": [
      "Name: pandas\r\n",
      "Version: 1.2.4\r\n",
      "Summary: Powerful data structures for data analysis, time series, and statistics\r\n",
      "Home-page: https://pandas.pydata.org\r\n",
      "Author: None\r\n",
      "Author-email: None\r\n",
      "License: BSD\r\n",
      "Location: /home/anton/anaconda3/lib/python3.8/site-packages\r\n",
      "Requires: python-dateutil, pytz, numpy\r\n",
      "Required-by: xarray, statsmodels, seaborn\r\n",
      "Note: you may need to restart the kernel to use updated packages.\n"
     ]
    }
   ],
   "source": [
    "import pandas as pd\n",
    "%pip show pandas"
   ]
  },
  {
   "cell_type": "markdown",
   "source": [
    "Устанавливаем зависящий от пандаса xarray. Видим, что требуется версия pandas >= 1.0"
   ],
   "metadata": {
    "collapsed": false
   }
  },
  {
   "cell_type": "code",
   "execution_count": 16,
   "outputs": [
    {
     "name": "stdout",
     "output_type": "stream",
     "text": [
      "Requirement already satisfied: xarray in /home/anton/anaconda3/lib/python3.8/site-packages (0.19.0)\r\n",
      "Requirement already satisfied: setuptools>=40.4 in /home/anton/anaconda3/lib/python3.8/site-packages (from xarray) (52.0.0.post20210125)\r\n",
      "Requirement already satisfied: numpy>=1.17 in /home/anton/anaconda3/lib/python3.8/site-packages (from xarray) (1.20.1)\r\n",
      "Requirement already satisfied: pandas>=1.0 in /home/anton/anaconda3/lib/python3.8/site-packages (from xarray) (1.2.4)\r\n",
      "Requirement already satisfied: python-dateutil>=2.7.3 in /home/anton/anaconda3/lib/python3.8/site-packages (from pandas>=1.0->xarray) (2.8.1)\r\n",
      "Requirement already satisfied: pytz>=2017.3 in /home/anton/anaconda3/lib/python3.8/site-packages (from pandas>=1.0->xarray) (2021.1)\r\n",
      "Requirement already satisfied: six>=1.5 in /home/anton/anaconda3/lib/python3.8/site-packages (from python-dateutil>=2.7.3->pandas>=1.0->xarray) (1.15.0)\r\n",
      "Note: you may need to restart the kernel to use updated packages.\n"
     ]
    }
   ],
   "source": [
    "%pip install xarray"
   ],
   "metadata": {
    "collapsed": false,
    "pycharm": {
     "name": "#%%\n"
    }
   }
  },
  {
   "cell_type": "markdown",
   "source": [
    "Создаём свой пакет и требуем в нём pandas < 1.0(см setup.py, conflictPackage/*) Получаем конфилкт."
   ],
   "metadata": {
    "collapsed": false
   }
  },
  {
   "cell_type": "code",
   "execution_count": 17,
   "outputs": [
    {
     "name": "stdout",
     "output_type": "stream",
     "text": [
      "Collecting conflictPacketForLab2==0.3\r\n",
      "  Downloading conflictPacketForLab2-0.3.tar.gz (1.0 kB)\r\n",
      "Collecting pandas<1.0\r\n",
      "  Downloading pandas-0.25.3-cp38-cp38-manylinux1_x86_64.whl (10.4 MB)\r\n",
      "\u001B[K     |████████████████████████████████| 10.4 MB 3.6 MB/s eta 0:00:01\r\n",
      "\u001B[?25hRequirement already satisfied: numpy>=1.13.3 in /home/anton/anaconda3/lib/python3.8/site-packages (from pandas<1.0->conflictPacketForLab2==0.3) (1.20.1)\r\n",
      "Requirement already satisfied: python-dateutil>=2.6.1 in /home/anton/anaconda3/lib/python3.8/site-packages (from pandas<1.0->conflictPacketForLab2==0.3) (2.8.1)\r\n",
      "Requirement already satisfied: pytz>=2017.2 in /home/anton/anaconda3/lib/python3.8/site-packages (from pandas<1.0->conflictPacketForLab2==0.3) (2021.1)\r\n",
      "Requirement already satisfied: six>=1.5 in /home/anton/anaconda3/lib/python3.8/site-packages (from python-dateutil>=2.6.1->pandas<1.0->conflictPacketForLab2==0.3) (1.15.0)\r\n",
      "Building wheels for collected packages: conflictPacketForLab2\r\n",
      "  Building wheel for conflictPacketForLab2 (setup.py) ... \u001B[?25l-\b \bdone\r\n",
      "\u001B[?25h  Created wheel for conflictPacketForLab2: filename=conflictPacketForLab2-0.3-py3-none-any.whl size=1608 sha256=900b379acc2a8789edef6c5687e7c60d8c2643f239e1991cbedf29a1ea8028ce\r\n",
      "  Stored in directory: /home/anton/.cache/pip/wheels/fb/51/f6/36691dd43fb25a741baca72f7fd7974d5e4d7f994e75123d0d\r\n",
      "Successfully built conflictPacketForLab2\r\n",
      "Installing collected packages: pandas, conflictPacketForLab2\r\n",
      "  Attempting uninstall: pandas\r\n",
      "    Found existing installation: pandas 1.2.4\r\n",
      "    Uninstalling pandas-1.2.4:\r\n",
      "      Successfully uninstalled pandas-1.2.4\r\n",
      "\u001B[31mERROR: pip's dependency resolver does not currently take into account all the packages that are installed. This behaviour is the source of the following dependency conflicts.\r\n",
      "xarray 0.19.0 requires pandas>=1.0, but you have pandas 0.25.3 which is incompatible.\u001B[0m\r\n",
      "Successfully installed conflictPacketForLab2-0.3 pandas-0.25.3\r\n",
      "Note: you may need to restart the kernel to use updated packages.\n"
     ]
    }
   ],
   "source": [
    "%pip install conflictPacketForLab2==0.3"
   ],
   "metadata": {
    "collapsed": false,
    "pycharm": {
     "name": "#%%\n"
    }
   }
  },
  {
   "cell_type": "markdown",
   "source": [
    "Задание2. Для задания 2 вынес следующие функции и добавил к ним аннотации типов"
   ],
   "metadata": {
    "collapsed": false
   }
  },
  {
   "cell_type": "code",
   "execution_count": null,
   "outputs": [],
   "source": [
    "from functional.py import property\n",
    "from functional.py import subclassOf\n",
    "from functional.py import individual\n",
    "from functional.py import equivalentClass\n",
    "from functional.py import disjointclasses\n",
    "from functional.py import addProperty\n",
    "from functional.py import functionalProperty"
   ],
   "metadata": {
    "collapsed": false,
    "pycharm": {
     "name": "#%%\n"
    }
   }
  },
  {
   "cell_type": "markdown",
   "source": [
    "добавил конфиги в файл constants.yaml и поменял обращение к ним при помощи\n",
    "следующего:"
   ],
   "metadata": {
    "collapsed": false
   }
  },
  {
   "cell_type": "code",
   "execution_count": null,
   "outputs": [],
   "source": [
    "import yaml\n",
    "\n",
    "with open('constants.yaml') as f:\n",
    "    templates = yaml.safe_load(f)"
   ],
   "metadata": {
    "collapsed": false,
    "pycharm": {
     "name": "#%%\n"
    }
   }
  },
  {
   "cell_type": "markdown",
   "source": [
    "Задание 3. Выбираем по ссылке textgenrnn. Открываем в коллабе, запускаем всё с нашим созданным файлом, залитым на гугл диск(fileForLab2.txt\n",
    "). Получаем результат: См файл outputFile_gentext_20211030_173056.txt"
   ],
   "metadata": {
    "collapsed": false
   }
  }
 ],
 "metadata": {
  "kernelspec": {
   "display_name": "Python 3",
   "language": "python",
   "name": "python3"
  },
  "language_info": {
   "codemirror_mode": {
    "name": "ipython",
    "version": 2
   },
   "file_extension": ".py",
   "mimetype": "text/x-python",
   "name": "python",
   "nbconvert_exporter": "python",
   "pygments_lexer": "ipython2",
   "version": "2.7.6"
  }
 },
 "nbformat": 4,
 "nbformat_minor": 0
}
{
 "cells": [
  {
   "cell_type": "markdown",
   "id": "loose-emerald",
   "metadata": {},
   "source": [
    "# 1. ResolutionFailure: Your dependencies could not be resolved\n",
    "\n",
    "Найдите python пакет, имеющий зависимость от любого python пакета, использованного вами в первой лабораторной. Создайте свой пакет и установите его с конфликтующими зависимостями\n",
    "\n",
    "1. Создайте и [загрузите в pypi](https://betterscientificsoftware.github.io/python-for-hpc/tutorials/python-pypi-packaging/) свой пакет, проверьте, что его можно установить через pip\n",
    "1. Установите свой пакет с помощью pip\n",
    "1. Установите свой пакет в любую вируальную среду\n",
    "1. Продемонстрируйте корректно работающие функции в своём python-пакете"
   ]
  },
  {
   "cell_type": "markdown",
   "id": "animated-fight",
   "metadata": {},
   "source": [
    "# 2. Да кто так пишет?!\n",
    "\n",
    "Возьмите произвольный дипломный проект по машинному обучению. Для этого скорее всего будет достаточно найти на github проекты по запросу \"machine learning thesis\" и профильтровать по языку \"Jupyter Notebook\". С большой вероятностью код случайно выбранного диплома в этой сфере будет ужасным. Приведите код в порядок:\n",
    "\n",
    "- вынесите занимающий место функционал в python модули\n",
    "- напишите аннотации типов для функций\n",
    "- добавьте конфиги для параметров\n",
    "- если это не требует углубления в логику дипломной работы, расставьте порядок запуска ноутбуков и/или скриптов\n",
    "- для случайных процессов зафиксируйте seed\n",
    "- выделите зависимости, создайте pipenv файлы\n",
    "- сделайте пулреквест автору: покажите своё культурное превосходство\n",
    "\n",
    "\n",
    "Выберите такой проект, который:\n",
    "- ещё не был выбран вашими одногруппниками\n",
    "- относительно небольшой по количеству файлов. Не стоит тратить много времени на это задание\n",
    "- содержит как минимум половину грехов из списка исправлений выше"
   ]
  },
  {
   "cell_type": "markdown",
   "id": "alive-armor",
   "metadata": {},
   "source": [
    "# 3. Press Shift+Enter to get 300k/sec salary\n",
    "\n",
    "Выберите произвольный Google Colab notebook из этого крутого [репозитория](https://github.com/amrzv/awesome-colab-notebooks), запустите и примените к своим данным"
   ]
  },
  {
   "cell_type": "code",
   "execution_count": null,
   "id": "geographic-group",
   "metadata": {},
   "outputs": [],
   "source": []
  }
 ],
 "metadata": {
  "kernelspec": {
   "display_name": "Python 3",
   "language": "python",
   "name": "python3"
  },
  "language_info": {
   "codemirror_mode": {
    "name": "ipython",
    "version": 3
   },
   "file_extension": ".py",
   "mimetype": "text/x-python",
   "name": "python",
   "nbconvert_exporter": "python",
   "pygments_lexer": "ipython3",
   "version": "3.8.2"
  }
 },
 "nbformat": 4,
 "nbformat_minor": 5
}

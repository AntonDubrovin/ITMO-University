{
 "cells": [
  {
   "cell_type": "markdown",
   "source": [
    "Задание 1(3-4)(почему-то не работает в виртуальной среде)"
   ],
   "metadata": {
    "collapsed": false
   }
  },
  {
   "cell_type": "markdown",
   "source": [
    "Устанавливаем свой созданный пакет"
   ],
   "metadata": {
    "collapsed": false
   }
  },
  {
   "cell_type": "code",
   "execution_count": 22,
   "outputs": [
    {
     "name": "stdout",
     "output_type": "stream",
     "text": [
      "Requirement already satisfied: conflictPacketForLab2==0.3 in /home/anton/anaconda3/lib/python3.8/site-packages (0.3)\r\n",
      "Requirement already satisfied: pandas<1.0 in /home/anton/anaconda3/lib/python3.8/site-packages (from conflictPacketForLab2==0.3) (0.25.3)\r\n",
      "Requirement already satisfied: numpy>=1.13.3 in /home/anton/anaconda3/lib/python3.8/site-packages (from pandas<1.0->conflictPacketForLab2==0.3) (1.20.1)\r\n",
      "Requirement already satisfied: pytz>=2017.2 in /home/anton/anaconda3/lib/python3.8/site-packages (from pandas<1.0->conflictPacketForLab2==0.3) (2021.1)\r\n",
      "Requirement already satisfied: python-dateutil>=2.6.1 in /home/anton/anaconda3/lib/python3.8/site-packages (from pandas<1.0->conflictPacketForLab2==0.3) (2.8.1)\r\n",
      "Requirement already satisfied: six>=1.5 in /home/anton/anaconda3/lib/python3.8/site-packages (from python-dateutil>=2.6.1->pandas<1.0->conflictPacketForLab2==0.3) (1.15.0)\r\n",
      "Note: you may need to restart the kernel to use updated packages.\n"
     ]
    }
   ],
   "source": [
    "%pip install conflictPacketForLab2==0.3"
   ],
   "metadata": {
    "collapsed": false,
    "pycharm": {
     "name": "#%%\n"
    }
   }
  },
  {
   "cell_type": "markdown",
   "source": [
    "Проверяем что он есть"
   ],
   "metadata": {
    "collapsed": false
   }
  },
  {
   "cell_type": "code",
   "execution_count": 23,
   "outputs": [
    {
     "name": "stdout",
     "output_type": "stream",
     "text": [
      "Package                            Version\r\n",
      "---------------------------------- -------------------\r\n",
      "alabaster                          0.7.12\r\n",
      "anaconda-client                    1.7.2\r\n",
      "anaconda-navigator                 2.0.3\r\n",
      "anaconda-project                   0.9.1\r\n",
      "anyio                              2.2.0\r\n",
      "appdirs                            1.4.4\r\n",
      "argh                               0.26.2\r\n",
      "argon2-cffi                        20.1.0\r\n",
      "asn1crypto                         1.4.0\r\n",
      "astroid                            2.5\r\n",
      "astropy                            4.2.1\r\n",
      "async-generator                    1.10\r\n",
      "atomicwrites                       1.4.0\r\n",
      "attrs                              20.3.0\r\n",
      "autopep8                           1.5.6\r\n",
      "Babel                              2.9.0\r\n",
      "backcall                           0.2.0\r\n",
      "backports.functools-lru-cache      1.6.4\r\n",
      "backports.shutil-get-terminal-size 1.0.0\r\n",
      "backports.tempfile                 1.0\r\n",
      "backports.weakref                  1.0.post1\r\n",
      "beautifulsoup4                     4.9.3\r\n",
      "bitarray                           2.1.0\r\n",
      "bkcharts                           0.2\r\n",
      "black                              19.10b0\r\n",
      "bleach                             3.3.0\r\n",
      "bokeh                              2.3.2\r\n",
      "boto                               2.49.0\r\n",
      "Bottleneck                         1.3.2\r\n",
      "brotlipy                           0.7.0\r\n",
      "certifi                            2020.12.5\r\n",
      "cffi                               1.14.5\r\n",
      "chardet                            4.0.0\r\n",
      "click                              7.1.2\r\n",
      "cloudpickle                        1.6.0\r\n",
      "clyent                             1.2.2\r\n",
      "colorama                           0.4.4\r\n",
      "conda                              4.10.1\r\n",
      "conda-build                        3.21.4\r\n",
      "conda-content-trust                0+unknown\r\n",
      "conda-package-handling             1.7.3\r\n",
      "conda-repo-cli                     1.0.4\r\n",
      "conda-token                        0.3.0\r\n",
      "conda-verify                       3.4.2\r\n",
      "conflictPacketForLab2              0.3\r\n",
      "contextlib2                        0.6.0.post1\r\n",
      "cryptography                       3.4.7\r\n",
      "cycler                             0.10.0\r\n",
      "Cython                             0.29.23\r\n",
      "cytoolz                            0.11.0\r\n",
      "dask                               2021.4.0\r\n",
      "decorator                          5.0.6\r\n",
      "defusedxml                         0.7.1\r\n",
      "diff-match-patch                   20200713\r\n",
      "distributed                        2021.4.1\r\n",
      "docutils                           0.17.1\r\n",
      "entrypoints                        0.3\r\n",
      "et-xmlfile                         1.0.1\r\n",
      "fastcache                          1.1.0\r\n",
      "filelock                           3.0.12\r\n",
      "flake8                             3.9.0\r\n",
      "Flask                              1.1.2\r\n",
      "fsspec                             0.9.0\r\n",
      "future                             0.18.2\r\n",
      "gevent                             21.1.2\r\n",
      "glob2                              0.7\r\n",
      "gmpy2                              2.0.8\r\n",
      "greenlet                           1.0.0\r\n",
      "h5py                               2.10.0\r\n",
      "HeapDict                           1.0.1\r\n",
      "html5lib                           1.1\r\n",
      "idna                               2.10\r\n",
      "imageio                            2.9.0\r\n",
      "imagesize                          1.2.0\r\n",
      "importlib-metadata                 3.10.0\r\n",
      "iniconfig                          1.1.1\r\n",
      "intervaltree                       3.1.0\r\n",
      "ipykernel                          5.3.4\r\n",
      "ipython                            7.22.0\r\n",
      "ipython-genutils                   0.2.0\r\n",
      "ipywidgets                         7.6.3\r\n",
      "isort                              5.8.0\r\n",
      "itsdangerous                       1.1.0\r\n",
      "jdcal                              1.4.1\r\n",
      "jedi                               0.17.2\r\n",
      "jeepney                            0.6.0\r\n",
      "Jinja2                             2.11.3\r\n",
      "joblib                             1.0.1\r\n",
      "json5                              0.9.5\r\n",
      "jsonschema                         3.2.0\r\n",
      "jupyter                            1.0.0\r\n",
      "jupyter-client                     6.1.12\r\n",
      "jupyter-console                    6.4.0\r\n",
      "jupyter-core                       4.7.1\r\n",
      "jupyter-packaging                  0.7.12\r\n",
      "jupyter-server                     1.4.1\r\n",
      "jupyterlab                         3.0.14\r\n",
      "jupyterlab-pygments                0.1.2\r\n",
      "jupyterlab-server                  2.4.0\r\n",
      "jupyterlab-widgets                 1.0.0\r\n",
      "keyring                            22.3.0\r\n",
      "kiwisolver                         1.3.1\r\n",
      "lazy-object-proxy                  1.6.0\r\n",
      "libarchive-c                       2.9\r\n",
      "llvmlite                           0.36.0\r\n",
      "locket                             0.2.1\r\n",
      "lxml                               4.6.3\r\n",
      "MarkupSafe                         1.1.1\r\n",
      "matplotlib                         3.3.4\r\n",
      "mccabe                             0.6.1\r\n",
      "mistune                            0.8.4\r\n",
      "mkl-fft                            1.3.0\r\n",
      "mkl-random                         1.2.1\r\n",
      "mkl-service                        2.3.0\r\n",
      "mock                               4.0.3\r\n",
      "more-itertools                     8.7.0\r\n",
      "mpmath                             1.2.1\r\n",
      "msgpack                            1.0.2\r\n",
      "multipledispatch                   0.6.0\r\n",
      "mypy-extensions                    0.4.3\r\n",
      "navigator-updater                  0.2.1\r\n",
      "nbclassic                          0.2.6\r\n",
      "nbclient                           0.5.3\r\n",
      "nbconvert                          6.0.7\r\n",
      "nbformat                           5.1.3\r\n",
      "nest-asyncio                       1.5.1\r\n",
      "networkx                           2.5\r\n",
      "nltk                               3.6.1\r\n",
      "nose                               1.3.7\r\n",
      "notebook                           6.3.0\r\n",
      "numba                              0.53.1\r\n",
      "numexpr                            2.7.3\r\n",
      "numpy                              1.20.1\r\n",
      "numpydoc                           1.1.0\r\n",
      "olefile                            0.46\r\n",
      "openpyxl                           3.0.7\r\n",
      "packaging                          20.9\r\n",
      "pandas                             0.25.3\r\n",
      "pandocfilters                      1.4.3\r\n",
      "parso                              0.7.0\r\n",
      "partd                              1.2.0\r\n",
      "path                               15.1.2\r\n",
      "pathlib2                           2.3.5\r\n",
      "pathspec                           0.7.0\r\n",
      "patsy                              0.5.1\r\n",
      "pep8                               1.7.1\r\n",
      "pexpect                            4.8.0\r\n",
      "pickleshare                        0.7.5\r\n",
      "Pillow                             8.2.0\r\n",
      "pip                                21.0.1\r\n",
      "pkginfo                            1.7.0\r\n",
      "pluggy                             0.13.1\r\n",
      "ply                                3.11\r\n",
      "prometheus-client                  0.10.1\r\n",
      "prompt-toolkit                     3.0.17\r\n",
      "psutil                             5.8.0\r\n",
      "ptyprocess                         0.7.0\r\n",
      "py                                 1.10.0\r\n",
      "pycodestyle                        2.6.0\r\n",
      "pycosat                            0.6.3\r\n",
      "pycparser                          2.20\r\n",
      "pycurl                             7.43.0.6\r\n",
      "pydocstyle                         6.0.0\r\n",
      "pyerfa                             1.7.3\r\n",
      "pyflakes                           2.2.0\r\n",
      "Pygments                           2.8.1\r\n",
      "pylint                             2.7.4\r\n",
      "pyls-black                         0.4.6\r\n",
      "pyls-spyder                        0.3.2\r\n",
      "pyodbc                             4.0.0-unsupported\r\n",
      "pyOpenSSL                          20.0.1\r\n",
      "pyparsing                          2.4.7\r\n",
      "pyrsistent                         0.17.3\r\n",
      "PySocks                            1.7.1\r\n",
      "pytest                             6.2.3\r\n",
      "python-dateutil                    2.8.1\r\n",
      "python-jsonrpc-server              0.4.0\r\n",
      "python-language-server             0.36.2\r\n",
      "pytz                               2021.1\r\n",
      "PyWavelets                         1.1.1\r\n",
      "pyxdg                              0.27\r\n",
      "PyYAML                             5.4.1\r\n",
      "pyzmq                              20.0.0\r\n",
      "QDarkStyle                         2.8.1\r\n",
      "QtAwesome                          1.0.2\r\n",
      "qtconsole                          5.0.3\r\n",
      "QtPy                               1.9.0\r\n",
      "readme-renderer                    30.0\r\n",
      "regex                              2021.4.4\r\n",
      "requests                           2.25.1\r\n",
      "requests-toolbelt                  0.9.1\r\n",
      "rfc3986                            1.5.0\r\n",
      "rope                               0.18.0\r\n",
      "Rtree                              0.9.7\r\n",
      "ruamel-yaml-conda                  0.15.100\r\n",
      "scikit-image                       0.18.1\r\n",
      "scikit-learn                       0.24.1\r\n",
      "scipy                              1.6.2\r\n",
      "seaborn                            0.11.1\r\n",
      "SecretStorage                      3.3.1\r\n",
      "Send2Trash                         1.5.0\r\n",
      "setuptools                         52.0.0.post20210125\r\n",
      "simplegeneric                      0.8.1\r\n",
      "singledispatch                     0.0.0\r\n",
      "sip                                4.19.13\r\n",
      "six                                1.15.0\r\n",
      "sniffio                            1.2.0\r\n",
      "snowballstemmer                    2.1.0\r\n",
      "sortedcollections                  2.1.0\r\n",
      "sortedcontainers                   2.3.0\r\n",
      "soupsieve                          2.2.1\r\n",
      "Sphinx                             4.0.1\r\n",
      "sphinxcontrib-applehelp            1.0.2\r\n",
      "sphinxcontrib-devhelp              1.0.2\r\n",
      "sphinxcontrib-htmlhelp             1.0.3\r\n",
      "sphinxcontrib-jsmath               1.0.1\r\n",
      "sphinxcontrib-qthelp               1.0.3\r\n",
      "sphinxcontrib-serializinghtml      1.1.4\r\n",
      "sphinxcontrib-websupport           1.2.4\r\n",
      "spyder                             4.2.5\r\n",
      "spyder-kernels                     1.10.2\r\n",
      "SQLAlchemy                         1.4.15\r\n",
      "statsmodels                        0.12.2\r\n",
      "sympy                              1.8\r\n",
      "tables                             3.6.1\r\n",
      "tblib                              1.7.0\r\n",
      "terminado                          0.9.4\r\n",
      "testpath                           0.4.4\r\n",
      "textdistance                       4.2.1\r\n",
      "threadpoolctl                      2.1.0\r\n",
      "three-merge                        0.1.1\r\n",
      "tifffile                           2020.10.1\r\n",
      "toml                               0.10.2\r\n",
      "toolz                              0.11.1\r\n",
      "tornado                            6.1\r\n",
      "tqdm                               4.59.0\r\n",
      "traitlets                          5.0.5\r\n",
      "twine                              3.4.2\r\n",
      "typed-ast                          1.4.2\r\n",
      "typing-extensions                  3.7.4.3\r\n",
      "ujson                              4.0.2\r\n",
      "unicodecsv                         0.14.1\r\n",
      "urllib3                            1.26.4\r\n",
      "watchdog                           1.0.2\r\n",
      "wcwidth                            0.2.5\r\n",
      "webencodings                       0.5.1\r\n",
      "Werkzeug                           1.0.1\r\n",
      "wheel                              0.36.2\r\n",
      "widgetsnbextension                 3.5.1\r\n",
      "wrapt                              1.12.1\r\n",
      "wurlitzer                          2.1.0\r\n",
      "xarray                             0.19.0\r\n",
      "xlrd                               2.0.1\r\n",
      "XlsxWriter                         1.3.8\r\n",
      "xlwt                               1.3.0\r\n",
      "xmltodict                          0.12.0\r\n",
      "yapf                               0.31.0\r\n",
      "zict                               2.0.0\r\n",
      "zipp                               3.4.1\r\n",
      "zope.event                         4.5.0\r\n",
      "zope.interface                     5.3.0\r\n",
      "Note: you may need to restart the kernel to use updated packages.\n"
     ]
    }
   ],
   "source": [
    "%pip list"
   ],
   "metadata": {
    "collapsed": false,
    "pycharm": {
     "name": "#%%\n"
    }
   }
  },
  {
   "cell_type": "markdown",
   "source": [
    "Импортим и вызываем функцию. Видим наш вывод."
   ],
   "metadata": {
    "collapsed": false
   }
  },
  {
   "cell_type": "code",
   "execution_count": 24,
   "metadata": {
    "collapsed": true
   },
   "outputs": [],
   "source": [
    "import conflictPackage as cp"
   ]
  },
  {
   "cell_type": "code",
   "execution_count": 25,
   "outputs": [
    {
     "name": "stdout",
     "output_type": "stream",
     "text": [
      "Print in function for lab2 :)\n"
     ]
    }
   ],
   "source": [
    "cp.function.f()"
   ],
   "metadata": {
    "collapsed": false,
    "pycharm": {
     "name": "#%%\n"
    }
   }
  }
 ],
 "metadata": {
  "kernelspec": {
   "display_name": "Python 3",
   "language": "python",
   "name": "python3"
  },
  "language_info": {
   "codemirror_mode": {
    "name": "ipython",
    "version": 2
   },
   "file_extension": ".py",
   "mimetype": "text/x-python",
   "name": "python",
   "nbconvert_exporter": "python",
   "pygments_lexer": "ipython2",
   "version": "2.7.6"
  }
 },
 "nbformat": 4,
 "nbformat_minor": 0
}
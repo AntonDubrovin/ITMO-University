{
 "cells": [
  {
   "cell_type": "code",
   "execution_count": 123,
   "metadata": {},
   "outputs": [
    {
     "data": {
      "text/plain": "     cpm  hour_start  hour_end     publishers  audience_size  \\\n0  220.0        1058      1153           7,17           1906   \n1  312.0        1295      1301           3,18           1380   \n2   70.0        1229      1249  1,2,3,9,15,21            888   \n3  240.0        1295      1377           1,14            440   \n4  262.0         752       990        1,3,7,8           1476   \n\n                                            user_ids  ad_id  \n0  12,44,46,50,58,71,93,122,134,143,176,184,187,1...      0  \n1  29,81,98,102,165,167,195,205,218,231,242,263,3...      1  \n2  12,23,25,29,45,85,92,124,156,190,272,334,456,5...      2  \n3  44,122,187,209,242,255,312,345,382,465,513,524...      3  \n4  15,24,30,43,50,53,96,105,159,168,181,190,196,2...      4  ",
      "text/html": "<div>\n<style scoped>\n    .dataframe tbody tr th:only-of-type {\n        vertical-align: middle;\n    }\n\n    .dataframe tbody tr th {\n        vertical-align: top;\n    }\n\n    .dataframe thead th {\n        text-align: right;\n    }\n</style>\n<table border=\"1\" class=\"dataframe\">\n  <thead>\n    <tr style=\"text-align: right;\">\n      <th></th>\n      <th>cpm</th>\n      <th>hour_start</th>\n      <th>hour_end</th>\n      <th>publishers</th>\n      <th>audience_size</th>\n      <th>user_ids</th>\n      <th>ad_id</th>\n    </tr>\n  </thead>\n  <tbody>\n    <tr>\n      <th>0</th>\n      <td>220.0</td>\n      <td>1058</td>\n      <td>1153</td>\n      <td>7,17</td>\n      <td>1906</td>\n      <td>12,44,46,50,58,71,93,122,134,143,176,184,187,1...</td>\n      <td>0</td>\n    </tr>\n    <tr>\n      <th>1</th>\n      <td>312.0</td>\n      <td>1295</td>\n      <td>1301</td>\n      <td>3,18</td>\n      <td>1380</td>\n      <td>29,81,98,102,165,167,195,205,218,231,242,263,3...</td>\n      <td>1</td>\n    </tr>\n    <tr>\n      <th>2</th>\n      <td>70.0</td>\n      <td>1229</td>\n      <td>1249</td>\n      <td>1,2,3,9,15,21</td>\n      <td>888</td>\n      <td>12,23,25,29,45,85,92,124,156,190,272,334,456,5...</td>\n      <td>2</td>\n    </tr>\n    <tr>\n      <th>3</th>\n      <td>240.0</td>\n      <td>1295</td>\n      <td>1377</td>\n      <td>1,14</td>\n      <td>440</td>\n      <td>44,122,187,209,242,255,312,345,382,465,513,524...</td>\n      <td>3</td>\n    </tr>\n    <tr>\n      <th>4</th>\n      <td>262.0</td>\n      <td>752</td>\n      <td>990</td>\n      <td>1,3,7,8</td>\n      <td>1476</td>\n      <td>15,24,30,43,50,53,96,105,159,168,181,190,196,2...</td>\n      <td>4</td>\n    </tr>\n  </tbody>\n</table>\n</div>"
     },
     "execution_count": 123,
     "metadata": {},
     "output_type": "execute_result"
    }
   ],
   "source": [
    "import numpy\n",
    "import numpy as np\n",
    "import pandas as pd\n",
    "ads = pd.read_csv('ads.csv')\n",
    "ads.head()"
   ]
  },
  {
   "cell_type": "code",
   "execution_count": 124,
   "metadata": {
    "pycharm": {
     "name": "#%%\n"
    }
   },
   "outputs": [
    {
     "data": {
      "text/plain": "   hour     cpm  publisher  user_id\n0    10   30.00          1    15661\n1     8   41.26          1     8444\n2     7  360.00          1    15821\n3    18  370.00          1    21530\n4     8  195.00          2    22148",
      "text/html": "<div>\n<style scoped>\n    .dataframe tbody tr th:only-of-type {\n        vertical-align: middle;\n    }\n\n    .dataframe tbody tr th {\n        vertical-align: top;\n    }\n\n    .dataframe thead th {\n        text-align: right;\n    }\n</style>\n<table border=\"1\" class=\"dataframe\">\n  <thead>\n    <tr style=\"text-align: right;\">\n      <th></th>\n      <th>hour</th>\n      <th>cpm</th>\n      <th>publisher</th>\n      <th>user_id</th>\n    </tr>\n  </thead>\n  <tbody>\n    <tr>\n      <th>0</th>\n      <td>10</td>\n      <td>30.00</td>\n      <td>1</td>\n      <td>15661</td>\n    </tr>\n    <tr>\n      <th>1</th>\n      <td>8</td>\n      <td>41.26</td>\n      <td>1</td>\n      <td>8444</td>\n    </tr>\n    <tr>\n      <th>2</th>\n      <td>7</td>\n      <td>360.00</td>\n      <td>1</td>\n      <td>15821</td>\n    </tr>\n    <tr>\n      <th>3</th>\n      <td>18</td>\n      <td>370.00</td>\n      <td>1</td>\n      <td>21530</td>\n    </tr>\n    <tr>\n      <th>4</th>\n      <td>8</td>\n      <td>195.00</td>\n      <td>2</td>\n      <td>22148</td>\n    </tr>\n  </tbody>\n</table>\n</div>"
     },
     "execution_count": 124,
     "metadata": {},
     "output_type": "execute_result"
    }
   ],
   "source": [
    "history = pd.read_csv('history.csv')\n",
    "history.head()"
   ]
  },
  {
   "cell_type": "code",
   "execution_count": 125,
   "metadata": {
    "pycharm": {
     "name": "#%%\n"
    }
   },
   "outputs": [
    {
     "data": {
      "text/plain": "        cpm  hour_start  hour_end    publishers  audience_size  \\\n1003  127.0        1095      1154  2,7,12,15,16            368   \n1004   90.0        1052      1056          2,21            484   \n1005  122.0        1058      1063           2,5            704   \n1006  138.0         932      1169         1,2,7           1210   \n1007   35.0         747       806      1,3,7,18           1000   \n\n                                               user_ids  ad_id  \n1003  38,50,143,237,456,649,653,698,881,893,1100,127...   1003  \n1004  1,4,61,212,230,348,356,372,429,431,462,540,593...   1004  \n1005  1,23,29,104,136,176,201,206,250,269,355,403,44...   1005  \n1006  67,73,80,146,182,202,212,254,307,377,383,385,3...   1006  \n1007  39,78,101,205,242,266,277,284,306,440,447,451,...   1007  ",
      "text/html": "<div>\n<style scoped>\n    .dataframe tbody tr th:only-of-type {\n        vertical-align: middle;\n    }\n\n    .dataframe tbody tr th {\n        vertical-align: top;\n    }\n\n    .dataframe thead th {\n        text-align: right;\n    }\n</style>\n<table border=\"1\" class=\"dataframe\">\n  <thead>\n    <tr style=\"text-align: right;\">\n      <th></th>\n      <th>cpm</th>\n      <th>hour_start</th>\n      <th>hour_end</th>\n      <th>publishers</th>\n      <th>audience_size</th>\n      <th>user_ids</th>\n      <th>ad_id</th>\n    </tr>\n  </thead>\n  <tbody>\n    <tr>\n      <th>1003</th>\n      <td>127.0</td>\n      <td>1095</td>\n      <td>1154</td>\n      <td>2,7,12,15,16</td>\n      <td>368</td>\n      <td>38,50,143,237,456,649,653,698,881,893,1100,127...</td>\n      <td>1003</td>\n    </tr>\n    <tr>\n      <th>1004</th>\n      <td>90.0</td>\n      <td>1052</td>\n      <td>1056</td>\n      <td>2,21</td>\n      <td>484</td>\n      <td>1,4,61,212,230,348,356,372,429,431,462,540,593...</td>\n      <td>1004</td>\n    </tr>\n    <tr>\n      <th>1005</th>\n      <td>122.0</td>\n      <td>1058</td>\n      <td>1063</td>\n      <td>2,5</td>\n      <td>704</td>\n      <td>1,23,29,104,136,176,201,206,250,269,355,403,44...</td>\n      <td>1005</td>\n    </tr>\n    <tr>\n      <th>1006</th>\n      <td>138.0</td>\n      <td>932</td>\n      <td>1169</td>\n      <td>1,2,7</td>\n      <td>1210</td>\n      <td>67,73,80,146,182,202,212,254,307,377,383,385,3...</td>\n      <td>1006</td>\n    </tr>\n    <tr>\n      <th>1007</th>\n      <td>35.0</td>\n      <td>747</td>\n      <td>806</td>\n      <td>1,3,7,18</td>\n      <td>1000</td>\n      <td>39,78,101,205,242,266,277,284,306,440,447,451,...</td>\n      <td>1007</td>\n    </tr>\n  </tbody>\n</table>\n</div>"
     },
     "execution_count": 125,
     "metadata": {},
     "output_type": "execute_result"
    }
   ],
   "source": [
    "ads.tail()"
   ]
  },
  {
   "cell_type": "code",
   "execution_count": 126,
   "metadata": {
    "pycharm": {
     "name": "#%%\n"
    }
   },
   "outputs": [
    {
     "data": {
      "text/plain": "   ad_id  at_least_one\n0      0        0.0430\n1      1        0.0130\n2      2        0.0878\n3      3        0.2295\n4      4        0.3963",
      "text/html": "<div>\n<style scoped>\n    .dataframe tbody tr th:only-of-type {\n        vertical-align: middle;\n    }\n\n    .dataframe tbody tr th {\n        vertical-align: top;\n    }\n\n    .dataframe thead th {\n        text-align: right;\n    }\n</style>\n<table border=\"1\" class=\"dataframe\">\n  <thead>\n    <tr style=\"text-align: right;\">\n      <th></th>\n      <th>ad_id</th>\n      <th>at_least_one</th>\n    </tr>\n  </thead>\n  <tbody>\n    <tr>\n      <th>0</th>\n      <td>0</td>\n      <td>0.0430</td>\n    </tr>\n    <tr>\n      <th>1</th>\n      <td>1</td>\n      <td>0.0130</td>\n    </tr>\n    <tr>\n      <th>2</th>\n      <td>2</td>\n      <td>0.0878</td>\n    </tr>\n    <tr>\n      <th>3</th>\n      <td>3</td>\n      <td>0.2295</td>\n    </tr>\n    <tr>\n      <th>4</th>\n      <td>4</td>\n      <td>0.3963</td>\n    </tr>\n  </tbody>\n</table>\n</div>"
     },
     "execution_count": 126,
     "metadata": {},
     "output_type": "execute_result"
    }
   ],
   "source": [
    "target = pd.read_csv('target.csv')\n",
    "target.head()"
   ]
  },
  {
   "cell_type": "code",
   "execution_count": 127,
   "metadata": {
    "pycharm": {
     "name": "#%%\n"
    }
   },
   "outputs": [
    {
     "data": {
      "text/plain": "   user_id  sex  age  city_id\n0        0    2   19        0\n1        1    1    0        1\n2        2    2   24        2\n3        3    1   20        3\n4        4    2   29        4",
      "text/html": "<div>\n<style scoped>\n    .dataframe tbody tr th:only-of-type {\n        vertical-align: middle;\n    }\n\n    .dataframe tbody tr th {\n        vertical-align: top;\n    }\n\n    .dataframe thead th {\n        text-align: right;\n    }\n</style>\n<table border=\"1\" class=\"dataframe\">\n  <thead>\n    <tr style=\"text-align: right;\">\n      <th></th>\n      <th>user_id</th>\n      <th>sex</th>\n      <th>age</th>\n      <th>city_id</th>\n    </tr>\n  </thead>\n  <tbody>\n    <tr>\n      <th>0</th>\n      <td>0</td>\n      <td>2</td>\n      <td>19</td>\n      <td>0</td>\n    </tr>\n    <tr>\n      <th>1</th>\n      <td>1</td>\n      <td>1</td>\n      <td>0</td>\n      <td>1</td>\n    </tr>\n    <tr>\n      <th>2</th>\n      <td>2</td>\n      <td>2</td>\n      <td>24</td>\n      <td>2</td>\n    </tr>\n    <tr>\n      <th>3</th>\n      <td>3</td>\n      <td>1</td>\n      <td>20</td>\n      <td>3</td>\n    </tr>\n    <tr>\n      <th>4</th>\n      <td>4</td>\n      <td>2</td>\n      <td>29</td>\n      <td>4</td>\n    </tr>\n  </tbody>\n</table>\n</div>"
     },
     "execution_count": 127,
     "metadata": {},
     "output_type": "execute_result"
    }
   ],
   "source": [
    "users = pd.read_csv('users.csv')\n",
    "users.head()"
   ]
  },
  {
   "cell_type": "code",
   "execution_count": 128,
   "metadata": {
    "pycharm": {
     "name": "#%%\n"
    }
   },
   "outputs": [
    {
     "data": {
      "text/plain": "   user_id  sex   age  city_id\n0      NaN  2.0  19.0      NaN\n1      1.0  1.0   NaN      1.0\n2      2.0  2.0  24.0      2.0\n3      3.0  1.0  20.0      3.0\n4      4.0  2.0  29.0      4.0",
      "text/html": "<div>\n<style scoped>\n    .dataframe tbody tr th:only-of-type {\n        vertical-align: middle;\n    }\n\n    .dataframe tbody tr th {\n        vertical-align: top;\n    }\n\n    .dataframe thead th {\n        text-align: right;\n    }\n</style>\n<table border=\"1\" class=\"dataframe\">\n  <thead>\n    <tr style=\"text-align: right;\">\n      <th></th>\n      <th>user_id</th>\n      <th>sex</th>\n      <th>age</th>\n      <th>city_id</th>\n    </tr>\n  </thead>\n  <tbody>\n    <tr>\n      <th>0</th>\n      <td>NaN</td>\n      <td>2.0</td>\n      <td>19.0</td>\n      <td>NaN</td>\n    </tr>\n    <tr>\n      <th>1</th>\n      <td>1.0</td>\n      <td>1.0</td>\n      <td>NaN</td>\n      <td>1.0</td>\n    </tr>\n    <tr>\n      <th>2</th>\n      <td>2.0</td>\n      <td>2.0</td>\n      <td>24.0</td>\n      <td>2.0</td>\n    </tr>\n    <tr>\n      <th>3</th>\n      <td>3.0</td>\n      <td>1.0</td>\n      <td>20.0</td>\n      <td>3.0</td>\n    </tr>\n    <tr>\n      <th>4</th>\n      <td>4.0</td>\n      <td>2.0</td>\n      <td>29.0</td>\n      <td>4.0</td>\n    </tr>\n  </tbody>\n</table>\n</div>"
     },
     "execution_count": 128,
     "metadata": {},
     "output_type": "execute_result"
    }
   ],
   "source": [
    "users = users.replace(0, numpy.NaN)\n",
    "users.head()"
   ]
  },
  {
   "cell_type": "code",
   "execution_count": 129,
   "metadata": {
    "pycharm": {
     "name": "#%%\n"
    }
   },
   "outputs": [
    {
     "data": {
      "text/plain": "user_id       1\nsex          30\nage        2180\ncity_id    8479\ndtype: int64"
     },
     "execution_count": 129,
     "metadata": {},
     "output_type": "execute_result"
    }
   ],
   "source": [
    "users.isnull().sum(axis=0)"
   ]
  },
  {
   "cell_type": "code",
   "execution_count": 130,
   "metadata": {
    "pycharm": {
     "name": "#%%\n"
    }
   },
   "outputs": [
    {
     "data": {
      "text/plain": "   ad_id  at_least_one\n0    700      0.118536\n1    701      0.118536\n2    702      0.118536\n3    703      0.118536\n4    704      0.118536",
      "text/html": "<div>\n<style scoped>\n    .dataframe tbody tr th:only-of-type {\n        vertical-align: middle;\n    }\n\n    .dataframe tbody tr th {\n        vertical-align: top;\n    }\n\n    .dataframe thead th {\n        text-align: right;\n    }\n</style>\n<table border=\"1\" class=\"dataframe\">\n  <thead>\n    <tr style=\"text-align: right;\">\n      <th></th>\n      <th>ad_id</th>\n      <th>at_least_one</th>\n    </tr>\n  </thead>\n  <tbody>\n    <tr>\n      <th>0</th>\n      <td>700</td>\n      <td>0.118536</td>\n    </tr>\n    <tr>\n      <th>1</th>\n      <td>701</td>\n      <td>0.118536</td>\n    </tr>\n    <tr>\n      <th>2</th>\n      <td>702</td>\n      <td>0.118536</td>\n    </tr>\n    <tr>\n      <th>3</th>\n      <td>703</td>\n      <td>0.118536</td>\n    </tr>\n    <tr>\n      <th>4</th>\n      <td>704</td>\n      <td>0.118536</td>\n    </tr>\n  </tbody>\n</table>\n</div>"
     },
     "execution_count": 130,
     "metadata": {},
     "output_type": "execute_result"
    }
   ],
   "source": [
    "sample = pd.read_csv('sample_solution.csv')\n",
    "sample.head()"
   ]
  },
  {
   "cell_type": "code",
   "execution_count": 131,
   "metadata": {
    "pycharm": {
     "name": "#%%\n"
    }
   },
   "outputs": [
    {
     "data": {
      "text/plain": "(27769, 4)"
     },
     "execution_count": 131,
     "metadata": {},
     "output_type": "execute_result"
    }
   ],
   "source": [
    "from scipy import stats\n",
    "\n",
    "users['sex'] = users['sex'].fillna(stats.mode(users['sex']).mode[0])\n",
    "users['age'] = users['age'].fillna(np.mean(users['age']))\n",
    "users['city_id'] = users['city_id'].fillna(stats.mode(users['city_id']).mode[0])\n",
    "users.shape"
   ]
  },
  {
   "cell_type": "code",
   "execution_count": 132,
   "metadata": {
    "pycharm": {
     "name": "#%%\n"
    }
   },
   "outputs": [
    {
     "data": {
      "text/plain": "     cpm     publishers  audience_size  \\\n0  220.0           7,17           1906   \n1  312.0           3,18           1380   \n2   70.0  1,2,3,9,15,21            888   \n3  240.0           1,14            440   \n4  262.0        1,3,7,8           1476   \n\n                                            user_ids  ad_id  duration  \\\n0  12,44,46,50,58,71,93,122,134,143,176,184,187,1...      0        95   \n1  29,81,98,102,165,167,195,205,218,231,242,263,3...      1         6   \n2  12,23,25,29,45,85,92,124,156,190,272,334,456,5...      2        20   \n3  44,122,187,209,242,255,312,345,382,465,513,524...      3        82   \n4  15,24,30,43,50,53,96,105,159,168,181,190,196,2...      4       238   \n\n   n_publishers  dur_x_audience  log_dur_x_audience  cpm_x_duration  \\\n0             2          181070           12.106639         20900.0   \n1             2            8280            9.021598          1872.0   \n2             6           17760            9.784704          1400.0   \n3             2           36080           10.493494         19680.0   \n4             4          351288           12.769362         62356.0   \n\n   cpm_x_audience  cpm_x_publishers  peek_hours  \n0        0.115425          0.230850        56.0  \n1        0.226087          0.452174         0.0  \n2        0.078829          0.472973        14.0  \n3        0.545455          1.090909        43.0  \n4        0.177507          0.710027       140.0  ",
      "text/html": "<div>\n<style scoped>\n    .dataframe tbody tr th:only-of-type {\n        vertical-align: middle;\n    }\n\n    .dataframe tbody tr th {\n        vertical-align: top;\n    }\n\n    .dataframe thead th {\n        text-align: right;\n    }\n</style>\n<table border=\"1\" class=\"dataframe\">\n  <thead>\n    <tr style=\"text-align: right;\">\n      <th></th>\n      <th>cpm</th>\n      <th>publishers</th>\n      <th>audience_size</th>\n      <th>user_ids</th>\n      <th>ad_id</th>\n      <th>duration</th>\n      <th>n_publishers</th>\n      <th>dur_x_audience</th>\n      <th>log_dur_x_audience</th>\n      <th>cpm_x_duration</th>\n      <th>cpm_x_audience</th>\n      <th>cpm_x_publishers</th>\n      <th>peek_hours</th>\n    </tr>\n  </thead>\n  <tbody>\n    <tr>\n      <th>0</th>\n      <td>220.0</td>\n      <td>7,17</td>\n      <td>1906</td>\n      <td>12,44,46,50,58,71,93,122,134,143,176,184,187,1...</td>\n      <td>0</td>\n      <td>95</td>\n      <td>2</td>\n      <td>181070</td>\n      <td>12.106639</td>\n      <td>20900.0</td>\n      <td>0.115425</td>\n      <td>0.230850</td>\n      <td>56.0</td>\n    </tr>\n    <tr>\n      <th>1</th>\n      <td>312.0</td>\n      <td>3,18</td>\n      <td>1380</td>\n      <td>29,81,98,102,165,167,195,205,218,231,242,263,3...</td>\n      <td>1</td>\n      <td>6</td>\n      <td>2</td>\n      <td>8280</td>\n      <td>9.021598</td>\n      <td>1872.0</td>\n      <td>0.226087</td>\n      <td>0.452174</td>\n      <td>0.0</td>\n    </tr>\n    <tr>\n      <th>2</th>\n      <td>70.0</td>\n      <td>1,2,3,9,15,21</td>\n      <td>888</td>\n      <td>12,23,25,29,45,85,92,124,156,190,272,334,456,5...</td>\n      <td>2</td>\n      <td>20</td>\n      <td>6</td>\n      <td>17760</td>\n      <td>9.784704</td>\n      <td>1400.0</td>\n      <td>0.078829</td>\n      <td>0.472973</td>\n      <td>14.0</td>\n    </tr>\n    <tr>\n      <th>3</th>\n      <td>240.0</td>\n      <td>1,14</td>\n      <td>440</td>\n      <td>44,122,187,209,242,255,312,345,382,465,513,524...</td>\n      <td>3</td>\n      <td>82</td>\n      <td>2</td>\n      <td>36080</td>\n      <td>10.493494</td>\n      <td>19680.0</td>\n      <td>0.545455</td>\n      <td>1.090909</td>\n      <td>43.0</td>\n    </tr>\n    <tr>\n      <th>4</th>\n      <td>262.0</td>\n      <td>1,3,7,8</td>\n      <td>1476</td>\n      <td>15,24,30,43,50,53,96,105,159,168,181,190,196,2...</td>\n      <td>4</td>\n      <td>238</td>\n      <td>4</td>\n      <td>351288</td>\n      <td>12.769362</td>\n      <td>62356.0</td>\n      <td>0.177507</td>\n      <td>0.710027</td>\n      <td>140.0</td>\n    </tr>\n  </tbody>\n</table>\n</div>"
     },
     "execution_count": 132,
     "metadata": {},
     "output_type": "execute_result"
    }
   ],
   "source": [
    "ads = ads.assign(\n",
    "    duration=ads.hour_end - ads.hour_start,\n",
    "    n_publishers=ads.publishers.apply(lambda s: len(s.split(',')))\n",
    ")\n",
    "ads = ads.assign(\n",
    "    dur_x_audience=ads.duration*ads.audience_size,\n",
    "    log_dur_x_audience=np.log(ads.duration*ads.audience_size),\n",
    "    cpm_x_duration=ads.cpm*ads.duration,\n",
    "    cpm_x_audience=ads.cpm/ads.audience_size,\n",
    "    cpm_x_publishers=(ads.cpm/ads.audience_size)*ads.n_publishers\n",
    ")\n",
    "\n",
    "start = ads.hour_start.to_numpy()\n",
    "end = ads.hour_end.to_numpy()\n",
    "\n",
    "def peek(start, end):\n",
    "    s_hour = start % 24\n",
    "    e_hour = end % 24\n",
    "    days = ((end - e_hour) - (start - s_hour) - 1) // 24\n",
    "    in_first = max(0, 22 - max(s_hour, 8))\n",
    "    in_last = max(0, min(e_hour, 22) - 8)\n",
    "    return days * 14 + in_first + in_last\n",
    "\n",
    "def hours_in_peek(start, end):\n",
    "    res = np.array([])\n",
    "    for i in range(len(start)):\n",
    "        res = np.append(res, peek(start[i],end[i]))\n",
    "    return res\n",
    "\n",
    "ads = ads.assign(peek_hours= pd.Series(hours_in_peek(start,end)))\n",
    "\n",
    "ads = ads.drop(['hour_start', 'hour_end'], axis=1)\n",
    "ads.head()"
   ]
  },
  {
   "cell_type": "code",
   "execution_count": 133,
   "metadata": {},
   "outputs": [],
   "source": [
    "users_d = {int(user[1]['user_id']): user[1] for user in users.iterrows() if not np.isnan(user[1]['user_id'])}"
   ]
  },
  {
   "cell_type": "code",
   "execution_count": 134,
   "metadata": {},
   "outputs": [],
   "source": [
    "from tqdm.auto import tqdm"
   ]
  },
  {
   "cell_type": "code",
   "execution_count": 135,
   "metadata": {},
   "outputs": [
    {
     "data": {
      "text/plain": "  0%|          | 0/1008 [00:00<?, ?it/s]",
      "application/vnd.jupyter.widget-view+json": {
       "version_major": 2,
       "version_minor": 0,
       "model_id": "b28a9f1f0ab74a55b41f6a262b6b90c8"
      }
     },
     "metadata": {},
     "output_type": "display_data"
    }
   ],
   "source": [
    "dim1, dim2 = ads.shape\n",
    "\n",
    "ads['mode_sex'] = np.zeros_like(dim2)\n",
    "ads['mean_age'] = np.zeros_like(dim2)\n",
    "ads['mode_city'] = np.zeros_like(dim2)\n",
    "\n",
    "for id, us in tqdm(list(zip(ads['ad_id'].values, ads['user_ids'].values))):\n",
    "    user_ids = [int(i) for i in us.split(',')]\n",
    "    u_data = []\n",
    "    for u_id in user_ids:\n",
    "        user = users_d.get(u_id, None)\n",
    "        if user is None:\n",
    "            continue\n",
    "        u_data.append((user['sex'], user['age'], user['city_id']))\n",
    "    sex, age, city = zip(*u_data)\n",
    "    ads.loc[ads['ad_id'] == id, 'mean_age'] = np.mean(age)\n",
    "    ads.loc[ads['ad_id'] == id, 'mode_sex'] = stats.mode(sex).mode[0]\n",
    "    ads.loc[ads['ad_id'] == id, 'mode_city'] = stats.mode(city).mode[0]\n",
    "ads.head()\n",
    "ads.to_csv('new_ads.csv', index=False)"
   ]
  },
  {
   "cell_type": "code",
   "execution_count": 136,
   "metadata": {},
   "outputs": [
    {
     "data": {
      "text/plain": "  0%|          | 0/1008 [00:00<?, ?it/s]",
      "application/vnd.jupyter.widget-view+json": {
       "version_major": 2,
       "version_minor": 0,
       "model_id": "389dbe798bda402b959447ffb0b0b28a"
      }
     },
     "metadata": {},
     "output_type": "display_data"
    }
   ],
   "source": [
    "dim1, dim2 = ads.shape\n",
    "d = {}\n",
    "\n",
    "for j in tqdm(list(range(dim1))):\n",
    "    split = [int(i) for i in ads.loc[j]['user_ids'].split(',')]\n",
    "    for u in split:\n",
    "        if u not in d:\n",
    "            d[u] = []\n",
    "        d[u].append(ads.loc[j]['cpm'])"
   ]
  },
  {
   "cell_type": "code",
   "execution_count": 137,
   "metadata": {},
   "outputs": [
    {
     "data": {
      "text/plain": "  0%|          | 0/1008 [00:00<?, ?it/s]",
      "application/vnd.jupyter.widget-view+json": {
       "version_major": 2,
       "version_minor": 0,
       "model_id": "510de82e90e4407e880d5b3ef69613f0"
      }
     },
     "metadata": {},
     "output_type": "display_data"
    }
   ],
   "source": [
    "ads['mean_unique'] = np.zeros_like(dim1)\n",
    "\n",
    "for j in tqdm(list(range(dim1))):\n",
    "    split = [int(i) for i in ads.loc[j]['user_ids'].split(',')]\n",
    "    cpms = []\n",
    "    for u in split:\n",
    "        cpms.append(len(d[u]))\n",
    "    ads.loc[j, 'mean_unique'] = np.mean(cpms)"
   ]
  },
  {
   "cell_type": "code",
   "execution_count": 138,
   "metadata": {},
   "outputs": [
    {
     "data": {
      "text/plain": "  0%|          | 0/1008 [00:00<?, ?it/s]",
      "application/vnd.jupyter.widget-view+json": {
       "version_major": 2,
       "version_minor": 0,
       "model_id": "ff5ccd58b4224b699d3c1a48752f2e6c"
      }
     },
     "metadata": {},
     "output_type": "display_data"
    }
   ],
   "source": [
    "ads['mean_better_cpm_count'] = np.zeros_like(dim2)\n",
    "ads['mean_better_cpm_count_ratio'] = np.zeros_like(dim2)\n",
    "\n",
    "for j in tqdm(list(range(dim1))):\n",
    "    split = [int(i) for i in ads.loc[j]['user_ids'].split(',')]\n",
    "    betters = []\n",
    "    betters_ratios = []\n",
    "    curr_cpm = ads.loc[j, 'cpm']\n",
    "    for u in split:\n",
    "        betters_for_us = []\n",
    "        for tmp in range(len(d[u])):\n",
    "            if d[u][tmp] > curr_cpm:\n",
    "                betters_for_us.append(d[u][tmp])\n",
    "        betters.append(len(betters_for_us))\n",
    "        betters_ratios.append(len(betters_for_us) / len(d[u]))\n",
    "    ads.loc[j, 'mean_better_cpm_count'] = np.mean(betters)\n",
    "    ads.loc[j, 'mean_better_cpm_count_ratio'] = np.mean(betters_ratios)"
   ]
  },
  {
   "cell_type": "code",
   "execution_count": 139,
   "outputs": [
    {
     "data": {
      "text/plain": "        cpm     publishers  audience_size  \\\n0     220.0           7,17           1906   \n1     312.0           3,18           1380   \n2      70.0  1,2,3,9,15,21            888   \n3     240.0           1,14            440   \n4     262.0        1,3,7,8           1476   \n...     ...            ...            ...   \n1003  127.0   2,7,12,15,16            368   \n1004   90.0           2,21            484   \n1005  122.0            2,5            704   \n1006  138.0          1,2,7           1210   \n1007   35.0       1,3,7,18           1000   \n\n                                               user_ids  ad_id  duration  \\\n0     12,44,46,50,58,71,93,122,134,143,176,184,187,1...      0        95   \n1     29,81,98,102,165,167,195,205,218,231,242,263,3...      1         6   \n2     12,23,25,29,45,85,92,124,156,190,272,334,456,5...      2        20   \n3     44,122,187,209,242,255,312,345,382,465,513,524...      3        82   \n4     15,24,30,43,50,53,96,105,159,168,181,190,196,2...      4       238   \n...                                                 ...    ...       ...   \n1003  38,50,143,237,456,649,653,698,881,893,1100,127...   1003        59   \n1004  1,4,61,212,230,348,356,372,429,431,462,540,593...   1004         4   \n1005  1,23,29,104,136,176,201,206,250,269,355,403,44...   1005         5   \n1006  67,73,80,146,182,202,212,254,307,377,383,385,3...   1006       237   \n1007  39,78,101,205,242,266,277,284,306,440,447,451,...   1007        59   \n\n      n_publishers  dur_x_audience  log_dur_x_audience  cpm_x_duration  \\\n0                2          181070           12.106639         20900.0   \n1                2            8280            9.021598          1872.0   \n2                6           17760            9.784704          1400.0   \n3                2           36080           10.493494         19680.0   \n4                4          351288           12.769362         62356.0   \n...            ...             ...                 ...             ...   \n1003             5           21712            9.985620          7493.0   \n1004             2            1936            7.568379           360.0   \n1005             2            3520            8.166216           610.0   \n1006             3          286770           12.566436         32706.0   \n1007             4           59000           10.985293          2065.0   \n\n      cpm_x_audience  cpm_x_publishers  peek_hours  mode_sex   mean_age  \\\n0           0.115425          0.230850        56.0         1  30.728484   \n1           0.226087          0.452174         0.0         1  30.111252   \n2           0.078829          0.472973        14.0         1  31.385729   \n3           0.545455          1.090909        43.0         1  29.972843   \n4           0.177507          0.710027       140.0         1  44.760840   \n...              ...               ...         ...       ...        ...   \n1003        0.345109          1.725543        35.0         1  31.021500   \n1004        0.185950          0.371901         2.0         1  31.027701   \n1005        0.173295          0.346591         0.0         1  30.262436   \n1006        0.114050          0.342149       137.0         1  88.629752   \n1007        0.035000          0.140000        34.0         1  31.131588   \n\n      mode_city  mean_unique  mean_better_cpm_count  \\\n0            25    47.302204              11.479538   \n1             3    44.267391               6.147826   \n2             3    40.564189              30.418919   \n3            19    49.163636              10.884091   \n4             3    47.792005               8.650407   \n...         ...          ...                    ...   \n1003          3    39.543478              19.823370   \n1004          3    40.954545              27.090909   \n1005          3    43.217330              21.869318   \n1006          3    54.593388              25.067769   \n1007          3    40.083000              37.254000   \n\n      mean_better_cpm_count_ratio  \n0                        0.241818  \n1                        0.138094  \n2                        0.748228  \n3                        0.220159  \n4                        0.178759  \n...                           ...  \n1003                     0.497858  \n1004                     0.655932  \n1005                     0.503591  \n1006                     0.458619  \n1007                     0.926211  \n\n[1008 rows x 19 columns]",
      "text/html": "<div>\n<style scoped>\n    .dataframe tbody tr th:only-of-type {\n        vertical-align: middle;\n    }\n\n    .dataframe tbody tr th {\n        vertical-align: top;\n    }\n\n    .dataframe thead th {\n        text-align: right;\n    }\n</style>\n<table border=\"1\" class=\"dataframe\">\n  <thead>\n    <tr style=\"text-align: right;\">\n      <th></th>\n      <th>cpm</th>\n      <th>publishers</th>\n      <th>audience_size</th>\n      <th>user_ids</th>\n      <th>ad_id</th>\n      <th>duration</th>\n      <th>n_publishers</th>\n      <th>dur_x_audience</th>\n      <th>log_dur_x_audience</th>\n      <th>cpm_x_duration</th>\n      <th>cpm_x_audience</th>\n      <th>cpm_x_publishers</th>\n      <th>peek_hours</th>\n      <th>mode_sex</th>\n      <th>mean_age</th>\n      <th>mode_city</th>\n      <th>mean_unique</th>\n      <th>mean_better_cpm_count</th>\n      <th>mean_better_cpm_count_ratio</th>\n    </tr>\n  </thead>\n  <tbody>\n    <tr>\n      <th>0</th>\n      <td>220.0</td>\n      <td>7,17</td>\n      <td>1906</td>\n      <td>12,44,46,50,58,71,93,122,134,143,176,184,187,1...</td>\n      <td>0</td>\n      <td>95</td>\n      <td>2</td>\n      <td>181070</td>\n      <td>12.106639</td>\n      <td>20900.0</td>\n      <td>0.115425</td>\n      <td>0.230850</td>\n      <td>56.0</td>\n      <td>1</td>\n      <td>30.728484</td>\n      <td>25</td>\n      <td>47.302204</td>\n      <td>11.479538</td>\n      <td>0.241818</td>\n    </tr>\n    <tr>\n      <th>1</th>\n      <td>312.0</td>\n      <td>3,18</td>\n      <td>1380</td>\n      <td>29,81,98,102,165,167,195,205,218,231,242,263,3...</td>\n      <td>1</td>\n      <td>6</td>\n      <td>2</td>\n      <td>8280</td>\n      <td>9.021598</td>\n      <td>1872.0</td>\n      <td>0.226087</td>\n      <td>0.452174</td>\n      <td>0.0</td>\n      <td>1</td>\n      <td>30.111252</td>\n      <td>3</td>\n      <td>44.267391</td>\n      <td>6.147826</td>\n      <td>0.138094</td>\n    </tr>\n    <tr>\n      <th>2</th>\n      <td>70.0</td>\n      <td>1,2,3,9,15,21</td>\n      <td>888</td>\n      <td>12,23,25,29,45,85,92,124,156,190,272,334,456,5...</td>\n      <td>2</td>\n      <td>20</td>\n      <td>6</td>\n      <td>17760</td>\n      <td>9.784704</td>\n      <td>1400.0</td>\n      <td>0.078829</td>\n      <td>0.472973</td>\n      <td>14.0</td>\n      <td>1</td>\n      <td>31.385729</td>\n      <td>3</td>\n      <td>40.564189</td>\n      <td>30.418919</td>\n      <td>0.748228</td>\n    </tr>\n    <tr>\n      <th>3</th>\n      <td>240.0</td>\n      <td>1,14</td>\n      <td>440</td>\n      <td>44,122,187,209,242,255,312,345,382,465,513,524...</td>\n      <td>3</td>\n      <td>82</td>\n      <td>2</td>\n      <td>36080</td>\n      <td>10.493494</td>\n      <td>19680.0</td>\n      <td>0.545455</td>\n      <td>1.090909</td>\n      <td>43.0</td>\n      <td>1</td>\n      <td>29.972843</td>\n      <td>19</td>\n      <td>49.163636</td>\n      <td>10.884091</td>\n      <td>0.220159</td>\n    </tr>\n    <tr>\n      <th>4</th>\n      <td>262.0</td>\n      <td>1,3,7,8</td>\n      <td>1476</td>\n      <td>15,24,30,43,50,53,96,105,159,168,181,190,196,2...</td>\n      <td>4</td>\n      <td>238</td>\n      <td>4</td>\n      <td>351288</td>\n      <td>12.769362</td>\n      <td>62356.0</td>\n      <td>0.177507</td>\n      <td>0.710027</td>\n      <td>140.0</td>\n      <td>1</td>\n      <td>44.760840</td>\n      <td>3</td>\n      <td>47.792005</td>\n      <td>8.650407</td>\n      <td>0.178759</td>\n    </tr>\n    <tr>\n      <th>...</th>\n      <td>...</td>\n      <td>...</td>\n      <td>...</td>\n      <td>...</td>\n      <td>...</td>\n      <td>...</td>\n      <td>...</td>\n      <td>...</td>\n      <td>...</td>\n      <td>...</td>\n      <td>...</td>\n      <td>...</td>\n      <td>...</td>\n      <td>...</td>\n      <td>...</td>\n      <td>...</td>\n      <td>...</td>\n      <td>...</td>\n      <td>...</td>\n    </tr>\n    <tr>\n      <th>1003</th>\n      <td>127.0</td>\n      <td>2,7,12,15,16</td>\n      <td>368</td>\n      <td>38,50,143,237,456,649,653,698,881,893,1100,127...</td>\n      <td>1003</td>\n      <td>59</td>\n      <td>5</td>\n      <td>21712</td>\n      <td>9.985620</td>\n      <td>7493.0</td>\n      <td>0.345109</td>\n      <td>1.725543</td>\n      <td>35.0</td>\n      <td>1</td>\n      <td>31.021500</td>\n      <td>3</td>\n      <td>39.543478</td>\n      <td>19.823370</td>\n      <td>0.497858</td>\n    </tr>\n    <tr>\n      <th>1004</th>\n      <td>90.0</td>\n      <td>2,21</td>\n      <td>484</td>\n      <td>1,4,61,212,230,348,356,372,429,431,462,540,593...</td>\n      <td>1004</td>\n      <td>4</td>\n      <td>2</td>\n      <td>1936</td>\n      <td>7.568379</td>\n      <td>360.0</td>\n      <td>0.185950</td>\n      <td>0.371901</td>\n      <td>2.0</td>\n      <td>1</td>\n      <td>31.027701</td>\n      <td>3</td>\n      <td>40.954545</td>\n      <td>27.090909</td>\n      <td>0.655932</td>\n    </tr>\n    <tr>\n      <th>1005</th>\n      <td>122.0</td>\n      <td>2,5</td>\n      <td>704</td>\n      <td>1,23,29,104,136,176,201,206,250,269,355,403,44...</td>\n      <td>1005</td>\n      <td>5</td>\n      <td>2</td>\n      <td>3520</td>\n      <td>8.166216</td>\n      <td>610.0</td>\n      <td>0.173295</td>\n      <td>0.346591</td>\n      <td>0.0</td>\n      <td>1</td>\n      <td>30.262436</td>\n      <td>3</td>\n      <td>43.217330</td>\n      <td>21.869318</td>\n      <td>0.503591</td>\n    </tr>\n    <tr>\n      <th>1006</th>\n      <td>138.0</td>\n      <td>1,2,7</td>\n      <td>1210</td>\n      <td>67,73,80,146,182,202,212,254,307,377,383,385,3...</td>\n      <td>1006</td>\n      <td>237</td>\n      <td>3</td>\n      <td>286770</td>\n      <td>12.566436</td>\n      <td>32706.0</td>\n      <td>0.114050</td>\n      <td>0.342149</td>\n      <td>137.0</td>\n      <td>1</td>\n      <td>88.629752</td>\n      <td>3</td>\n      <td>54.593388</td>\n      <td>25.067769</td>\n      <td>0.458619</td>\n    </tr>\n    <tr>\n      <th>1007</th>\n      <td>35.0</td>\n      <td>1,3,7,18</td>\n      <td>1000</td>\n      <td>39,78,101,205,242,266,277,284,306,440,447,451,...</td>\n      <td>1007</td>\n      <td>59</td>\n      <td>4</td>\n      <td>59000</td>\n      <td>10.985293</td>\n      <td>2065.0</td>\n      <td>0.035000</td>\n      <td>0.140000</td>\n      <td>34.0</td>\n      <td>1</td>\n      <td>31.131588</td>\n      <td>3</td>\n      <td>40.083000</td>\n      <td>37.254000</td>\n      <td>0.926211</td>\n    </tr>\n  </tbody>\n</table>\n<p>1008 rows × 19 columns</p>\n</div>"
     },
     "execution_count": 139,
     "metadata": {},
     "output_type": "execute_result"
    }
   ],
   "source": [
    "ads"
   ],
   "metadata": {
    "collapsed": false,
    "pycharm": {
     "name": "#%%\n"
    }
   }
  },
  {
   "cell_type": "code",
   "execution_count": 140,
   "outputs": [
    {
     "data": {
      "text/plain": "  0%|          | 0/1147857 [00:00<?, ?it/s]",
      "application/vnd.jupyter.widget-view+json": {
       "version_major": 2,
       "version_minor": 0,
       "model_id": "887be8df64e242efa100c2cf9ee20b82"
      }
     },
     "metadata": {},
     "output_type": "display_data"
    }
   ],
   "source": [
    "dim1, dim2 = history.shape\n",
    "h = {}\n",
    "\n",
    "for j in tqdm(list(range(dim1))):\n",
    "     u = history.loc[j]['publisher']\n",
    "     if u not in h:\n",
    "        h[u] = set()\n",
    "     h[u].add(history.loc[j]['user_id'])"
   ],
   "metadata": {
    "collapsed": false,
    "pycharm": {
     "name": "#%%\n"
    }
   }
  },
  {
   "cell_type": "code",
   "execution_count": 141,
   "outputs": [
    {
     "data": {
      "text/plain": "{1.0: {0.0,\n  1.0,\n  3.0,\n  6.0,\n  9.0,\n  14.0,\n  15.0,\n  16.0,\n  18.0,\n  19.0,\n  22.0,\n  23.0,\n  24.0,\n  25.0,\n  26.0,\n  28.0,\n  30.0,\n  31.0,\n  32.0,\n  34.0,\n  37.0,\n  40.0,\n  41.0,\n  43.0,\n  44.0,\n  45.0,\n  47.0,\n  48.0,\n  49.0,\n  50.0,\n  52.0,\n  54.0,\n  57.0,\n  61.0,\n  62.0,\n  63.0,\n  64.0,\n  65.0,\n  68.0,\n  69.0,\n  75.0,\n  77.0,\n  78.0,\n  79.0,\n  80.0,\n  81.0,\n  82.0,\n  84.0,\n  86.0,\n  88.0,\n  89.0,\n  92.0,\n  94.0,\n  95.0,\n  97.0,\n  99.0,\n  101.0,\n  104.0,\n  105.0,\n  106.0,\n  108.0,\n  110.0,\n  111.0,\n  112.0,\n  113.0,\n  114.0,\n  115.0,\n  116.0,\n  117.0,\n  118.0,\n  119.0,\n  121.0,\n  122.0,\n  123.0,\n  124.0,\n  125.0,\n  126.0,\n  129.0,\n  130.0,\n  131.0,\n  133.0,\n  135.0,\n  137.0,\n  141.0,\n  145.0,\n  148.0,\n  149.0,\n  150.0,\n  153.0,\n  154.0,\n  156.0,\n  157.0,\n  159.0,\n  162.0,\n  165.0,\n  167.0,\n  169.0,\n  173.0,\n  176.0,\n  178.0,\n  179.0,\n  181.0,\n  183.0,\n  184.0,\n  186.0,\n  187.0,\n  188.0,\n  191.0,\n  194.0,\n  195.0,\n  197.0,\n  198.0,\n  200.0,\n  201.0,\n  202.0,\n  205.0,\n  206.0,\n  210.0,\n  212.0,\n  216.0,\n  217.0,\n  221.0,\n  222.0,\n  223.0,\n  224.0,\n  225.0,\n  228.0,\n  229.0,\n  234.0,\n  236.0,\n  237.0,\n  238.0,\n  239.0,\n  240.0,\n  241.0,\n  243.0,\n  244.0,\n  245.0,\n  248.0,\n  250.0,\n  251.0,\n  252.0,\n  253.0,\n  255.0,\n  258.0,\n  259.0,\n  260.0,\n  263.0,\n  264.0,\n  266.0,\n  270.0,\n  272.0,\n  273.0,\n  274.0,\n  275.0,\n  277.0,\n  278.0,\n  280.0,\n  282.0,\n  283.0,\n  285.0,\n  286.0,\n  287.0,\n  288.0,\n  289.0,\n  290.0,\n  291.0,\n  292.0,\n  293.0,\n  294.0,\n  295.0,\n  298.0,\n  299.0,\n  301.0,\n  304.0,\n  305.0,\n  306.0,\n  309.0,\n  310.0,\n  311.0,\n  313.0,\n  314.0,\n  318.0,\n  319.0,\n  322.0,\n  324.0,\n  326.0,\n  327.0,\n  328.0,\n  331.0,\n  334.0,\n  335.0,\n  336.0,\n  338.0,\n  339.0,\n  340.0,\n  341.0,\n  342.0,\n  344.0,\n  346.0,\n  347.0,\n  348.0,\n  352.0,\n  354.0,\n  357.0,\n  360.0,\n  362.0,\n  363.0,\n  364.0,\n  367.0,\n  369.0,\n  371.0,\n  372.0,\n  378.0,\n  379.0,\n  380.0,\n  381.0,\n  382.0,\n  383.0,\n  384.0,\n  386.0,\n  387.0,\n  388.0,\n  392.0,\n  393.0,\n  395.0,\n  396.0,\n  397.0,\n  398.0,\n  402.0,\n  403.0,\n  404.0,\n  405.0,\n  411.0,\n  412.0,\n  413.0,\n  414.0,\n  416.0,\n  418.0,\n  420.0,\n  422.0,\n  426.0,\n  429.0,\n  430.0,\n  432.0,\n  433.0,\n  434.0,\n  436.0,\n  438.0,\n  439.0,\n  443.0,\n  444.0,\n  445.0,\n  446.0,\n  447.0,\n  448.0,\n  449.0,\n  450.0,\n  454.0,\n  456.0,\n  457.0,\n  458.0,\n  460.0,\n  461.0,\n  462.0,\n  463.0,\n  467.0,\n  469.0,\n  470.0,\n  474.0,\n  475.0,\n  476.0,\n  477.0,\n  478.0,\n  480.0,\n  482.0,\n  486.0,\n  487.0,\n  488.0,\n  490.0,\n  492.0,\n  493.0,\n  494.0,\n  495.0,\n  496.0,\n  497.0,\n  500.0,\n  503.0,\n  506.0,\n  508.0,\n  512.0,\n  514.0,\n  516.0,\n  518.0,\n  521.0,\n  524.0,\n  526.0,\n  528.0,\n  529.0,\n  530.0,\n  533.0,\n  534.0,\n  537.0,\n  538.0,\n  540.0,\n  542.0,\n  543.0,\n  544.0,\n  546.0,\n  547.0,\n  549.0,\n  551.0,\n  552.0,\n  555.0,\n  558.0,\n  561.0,\n  562.0,\n  563.0,\n  564.0,\n  565.0,\n  569.0,\n  570.0,\n  574.0,\n  576.0,\n  578.0,\n  579.0,\n  582.0,\n  586.0,\n  588.0,\n  590.0,\n  594.0,\n  595.0,\n  596.0,\n  600.0,\n  602.0,\n  603.0,\n  605.0,\n  608.0,\n  611.0,\n  616.0,\n  617.0,\n  619.0,\n  620.0,\n  623.0,\n  626.0,\n  631.0,\n  635.0,\n  637.0,\n  638.0,\n  639.0,\n  640.0,\n  641.0,\n  642.0,\n  643.0,\n  644.0,\n  646.0,\n  647.0,\n  648.0,\n  649.0,\n  650.0,\n  651.0,\n  652.0,\n  653.0,\n  654.0,\n  656.0,\n  659.0,\n  660.0,\n  661.0,\n  665.0,\n  667.0,\n  668.0,\n  671.0,\n  673.0,\n  675.0,\n  676.0,\n  678.0,\n  679.0,\n  680.0,\n  681.0,\n  682.0,\n  683.0,\n  685.0,\n  688.0,\n  692.0,\n  694.0,\n  695.0,\n  696.0,\n  697.0,\n  698.0,\n  700.0,\n  702.0,\n  703.0,\n  704.0,\n  706.0,\n  707.0,\n  708.0,\n  710.0,\n  711.0,\n  713.0,\n  715.0,\n  720.0,\n  721.0,\n  722.0,\n  723.0,\n  724.0,\n  726.0,\n  727.0,\n  729.0,\n  730.0,\n  731.0,\n  732.0,\n  734.0,\n  737.0,\n  738.0,\n  741.0,\n  742.0,\n  744.0,\n  745.0,\n  746.0,\n  749.0,\n  753.0,\n  755.0,\n  756.0,\n  757.0,\n  759.0,\n  760.0,\n  761.0,\n  762.0,\n  766.0,\n  767.0,\n  772.0,\n  773.0,\n  774.0,\n  775.0,\n  776.0,\n  778.0,\n  780.0,\n  781.0,\n  782.0,\n  783.0,\n  785.0,\n  786.0,\n  788.0,\n  789.0,\n  791.0,\n  793.0,\n  794.0,\n  795.0,\n  797.0,\n  803.0,\n  805.0,\n  806.0,\n  807.0,\n  808.0,\n  809.0,\n  810.0,\n  811.0,\n  812.0,\n  814.0,\n  815.0,\n  817.0,\n  819.0,\n  822.0,\n  823.0,\n  824.0,\n  825.0,\n  826.0,\n  827.0,\n  828.0,\n  830.0,\n  831.0,\n  832.0,\n  833.0,\n  834.0,\n  836.0,\n  843.0,\n  844.0,\n  847.0,\n  849.0,\n  850.0,\n  851.0,\n  855.0,\n  857.0,\n  858.0,\n  860.0,\n  866.0,\n  867.0,\n  868.0,\n  869.0,\n  872.0,\n  873.0,\n  877.0,\n  881.0,\n  883.0,\n  886.0,\n  888.0,\n  889.0,\n  890.0,\n  892.0,\n  893.0,\n  894.0,\n  895.0,\n  896.0,\n  897.0,\n  898.0,\n  899.0,\n  900.0,\n  901.0,\n  905.0,\n  907.0,\n  910.0,\n  911.0,\n  912.0,\n  914.0,\n  917.0,\n  921.0,\n  922.0,\n  927.0,\n  929.0,\n  931.0,\n  932.0,\n  934.0,\n  940.0,\n  942.0,\n  945.0,\n  946.0,\n  948.0,\n  951.0,\n  952.0,\n  953.0,\n  956.0,\n  959.0,\n  960.0,\n  961.0,\n  962.0,\n  963.0,\n  964.0,\n  965.0,\n  966.0,\n  968.0,\n  970.0,\n  971.0,\n  972.0,\n  974.0,\n  975.0,\n  977.0,\n  978.0,\n  981.0,\n  982.0,\n  985.0,\n  986.0,\n  987.0,\n  989.0,\n  990.0,\n  991.0,\n  992.0,\n  993.0,\n  996.0,\n  997.0,\n  998.0,\n  1003.0,\n  1007.0,\n  1008.0,\n  1009.0,\n  1011.0,\n  1013.0,\n  1015.0,\n  1017.0,\n  1020.0,\n  1021.0,\n  1022.0,\n  1024.0,\n  1025.0,\n  1026.0,\n  1027.0,\n  1028.0,\n  1029.0,\n  1030.0,\n  1031.0,\n  1034.0,\n  1036.0,\n  1037.0,\n  1038.0,\n  1041.0,\n  1042.0,\n  1044.0,\n  1047.0,\n  1048.0,\n  1049.0,\n  1050.0,\n  1056.0,\n  1058.0,\n  1062.0,\n  1063.0,\n  1066.0,\n  1067.0,\n  1069.0,\n  1070.0,\n  1071.0,\n  1076.0,\n  1077.0,\n  1079.0,\n  1081.0,\n  1082.0,\n  1083.0,\n  1086.0,\n  1088.0,\n  1094.0,\n  1095.0,\n  1096.0,\n  1098.0,\n  1099.0,\n  1102.0,\n  1103.0,\n  1104.0,\n  1106.0,\n  1108.0,\n  1110.0,\n  1113.0,\n  1114.0,\n  1117.0,\n  1118.0,\n  1119.0,\n  1121.0,\n  1122.0,\n  1124.0,\n  1125.0,\n  1127.0,\n  1133.0,\n  1137.0,\n  1139.0,\n  1140.0,\n  1141.0,\n  1142.0,\n  1143.0,\n  1144.0,\n  1147.0,\n  1149.0,\n  1150.0,\n  1151.0,\n  1152.0,\n  1153.0,\n  1154.0,\n  1155.0,\n  1159.0,\n  1160.0,\n  1161.0,\n  1162.0,\n  1163.0,\n  1164.0,\n  1166.0,\n  1169.0,\n  1170.0,\n  1171.0,\n  1173.0,\n  1176.0,\n  1177.0,\n  1180.0,\n  1181.0,\n  1184.0,\n  1187.0,\n  1188.0,\n  1189.0,\n  1193.0,\n  1195.0,\n  1196.0,\n  1197.0,\n  1199.0,\n  1200.0,\n  1201.0,\n  1203.0,\n  1204.0,\n  1206.0,\n  1208.0,\n  1212.0,\n  1213.0,\n  1214.0,\n  1215.0,\n  1216.0,\n  1217.0,\n  1218.0,\n  1220.0,\n  1223.0,\n  1224.0,\n  1226.0,\n  1227.0,\n  1229.0,\n  1230.0,\n  1231.0,\n  1233.0,\n  1234.0,\n  1236.0,\n  1237.0,\n  1242.0,\n  1244.0,\n  1246.0,\n  1250.0,\n  1255.0,\n  1256.0,\n  1258.0,\n  1260.0,\n  1261.0,\n  1262.0,\n  1263.0,\n  1264.0,\n  1266.0,\n  1267.0,\n  1268.0,\n  1269.0,\n  1270.0,\n  1271.0,\n  1272.0,\n  1273.0,\n  1274.0,\n  1276.0,\n  1277.0,\n  1279.0,\n  1282.0,\n  1283.0,\n  1284.0,\n  1285.0,\n  1286.0,\n  1287.0,\n  1288.0,\n  1289.0,\n  1290.0,\n  1297.0,\n  1298.0,\n  1300.0,\n  1302.0,\n  1305.0,\n  1307.0,\n  1310.0,\n  1312.0,\n  1313.0,\n  1314.0,\n  1316.0,\n  1317.0,\n  1318.0,\n  1319.0,\n  1320.0,\n  1321.0,\n  1323.0,\n  1324.0,\n  1325.0,\n  1326.0,\n  1328.0,\n  1333.0,\n  1335.0,\n  1337.0,\n  1339.0,\n  1340.0,\n  1341.0,\n  1342.0,\n  1345.0,\n  1346.0,\n  1350.0,\n  1352.0,\n  1354.0,\n  1355.0,\n  1356.0,\n  1357.0,\n  1358.0,\n  1359.0,\n  1361.0,\n  1363.0,\n  1364.0,\n  1366.0,\n  1367.0,\n  1368.0,\n  1370.0,\n  1371.0,\n  1372.0,\n  1373.0,\n  1374.0,\n  1375.0,\n  1378.0,\n  1380.0,\n  1383.0,\n  1384.0,\n  1385.0,\n  1386.0,\n  1387.0,\n  1388.0,\n  1392.0,\n  1393.0,\n  1394.0,\n  1396.0,\n  1398.0,\n  1399.0,\n  1400.0,\n  1401.0,\n  1406.0,\n  1409.0,\n  1410.0,\n  1411.0,\n  1412.0,\n  1414.0,\n  1415.0,\n  1416.0,\n  1421.0,\n  1423.0,\n  1424.0,\n  1425.0,\n  1430.0,\n  1434.0,\n  1436.0,\n  1437.0,\n  1438.0,\n  1439.0,\n  1441.0,\n  1442.0,\n  1443.0,\n  1450.0,\n  1451.0,\n  1452.0,\n  1453.0,\n  1454.0,\n  1455.0,\n  1457.0,\n  1458.0,\n  1459.0,\n  1460.0,\n  1462.0,\n  1463.0,\n  1464.0,\n  1465.0,\n  1467.0,\n  1469.0,\n  1471.0,\n  1472.0,\n  1473.0,\n  1475.0,\n  1476.0,\n  1477.0,\n  1479.0,\n  1480.0,\n  1481.0,\n  1482.0,\n  1484.0,\n  1485.0,\n  1486.0,\n  1488.0,\n  1490.0,\n  1493.0,\n  1495.0,\n  1502.0,\n  1506.0,\n  1507.0,\n  1509.0,\n  1510.0,\n  1511.0,\n  1513.0,\n  1514.0,\n  1515.0,\n  1516.0,\n  1519.0,\n  1520.0,\n  1521.0,\n  1522.0,\n  1523.0,\n  1524.0,\n  1527.0,\n  1528.0,\n  1529.0,\n  1531.0,\n  1535.0,\n  1537.0,\n  1541.0,\n  1543.0,\n  1544.0,\n  1547.0,\n  1548.0,\n  1551.0,\n  1553.0,\n  1555.0,\n  1557.0,\n  1558.0,\n  1559.0,\n  1561.0,\n  1562.0,\n  1564.0,\n  1567.0,\n  1569.0,\n  1572.0,\n  1573.0,\n  1574.0,\n  1575.0,\n  1576.0,\n  1580.0,\n  1582.0,\n  1584.0,\n  1587.0,\n  1589.0,\n  1590.0,\n  1591.0,\n  1593.0,\n  1594.0,\n  1595.0,\n  1598.0,\n  1599.0,\n  1600.0,\n  1602.0,\n  1603.0,\n  1605.0,\n  1606.0,\n  1607.0,\n  1609.0,\n  1613.0,\n  1614.0,\n  1615.0,\n  1616.0,\n  1617.0,\n  1619.0,\n  1621.0,\n  1623.0,\n  1624.0,\n  1625.0,\n  1627.0,\n  1628.0,\n  1629.0,\n  1630.0,\n  1637.0,\n  1638.0,\n  1640.0,\n  1641.0,\n  1642.0,\n  1646.0,\n  1647.0,\n  1648.0,\n  1650.0,\n  1652.0,\n  1653.0,\n  1655.0,\n  1656.0,\n  1658.0,\n  1659.0,\n  1660.0,\n  1661.0,\n  1663.0,\n  1664.0,\n  1665.0,\n  1669.0,\n  1670.0,\n  1675.0,\n  1677.0,\n  1680.0,\n  1682.0,\n  1684.0,\n  1685.0,\n  1687.0,\n  1689.0,\n  1693.0,\n  1694.0,\n  1695.0,\n  1696.0,\n  1700.0,\n  1702.0,\n  1703.0,\n  1708.0,\n  1710.0,\n  1713.0,\n  1717.0,\n  1718.0,\n  1719.0,\n  1720.0,\n  1721.0,\n  1722.0,\n  1724.0,\n  1726.0,\n  1727.0,\n  1729.0,\n  1732.0,\n  1733.0,\n  1737.0,\n  1739.0,\n  1740.0,\n  1741.0,\n  1743.0,\n  1745.0,\n  1746.0,\n  1747.0,\n  1748.0,\n  1749.0,\n  1750.0,\n  1751.0,\n  1752.0,\n  1753.0,\n  1754.0,\n  1755.0,\n  1759.0,\n  1760.0,\n  1765.0,\n  1767.0,\n  1771.0,\n  1773.0,\n  1777.0,\n  1778.0,\n  1779.0,\n  1781.0,\n  ...},\n 2.0: {4.0,\n  11.0,\n  20.0,\n  27.0,\n  33.0,\n  36.0,\n  39.0,\n  48.0,\n  51.0,\n  56.0,\n  67.0,\n  68.0,\n  71.0,\n  72.0,\n  76.0,\n  85.0,\n  89.0,\n  98.0,\n  102.0,\n  103.0,\n  116.0,\n  127.0,\n  132.0,\n  134.0,\n  136.0,\n  139.0,\n  151.0,\n  155.0,\n  163.0,\n  164.0,\n  166.0,\n  170.0,\n  177.0,\n  180.0,\n  182.0,\n  185.0,\n  189.0,\n  190.0,\n  192.0,\n  193.0,\n  203.0,\n  208.0,\n  214.0,\n  218.0,\n  223.0,\n  226.0,\n  227.0,\n  230.0,\n  231.0,\n  233.0,\n  242.0,\n  246.0,\n  247.0,\n  267.0,\n  269.0,\n  271.0,\n  276.0,\n  279.0,\n  282.0,\n  300.0,\n  310.0,\n  312.0,\n  315.0,\n  316.0,\n  319.0,\n  320.0,\n  323.0,\n  325.0,\n  330.0,\n  332.0,\n  333.0,\n  336.0,\n  349.0,\n  350.0,\n  352.0,\n  355.0,\n  358.0,\n  361.0,\n  365.0,\n  368.0,\n  372.0,\n  374.0,\n  375.0,\n  376.0,\n  389.0,\n  390.0,\n  393.0,\n  394.0,\n  399.0,\n  400.0,\n  401.0,\n  406.0,\n  408.0,\n  409.0,\n  418.0,\n  419.0,\n  423.0,\n  425.0,\n  427.0,\n  428.0,\n  431.0,\n  440.0,\n  449.0,\n  451.0,\n  452.0,\n  459.0,\n  465.0,\n  479.0,\n  481.0,\n  483.0,\n  484.0,\n  485.0,\n  489.0,\n  491.0,\n  496.0,\n  498.0,\n  504.0,\n  505.0,\n  507.0,\n  509.0,\n  510.0,\n  522.0,\n  527.0,\n  532.0,\n  535.0,\n  536.0,\n  540.0,\n  548.0,\n  554.0,\n  556.0,\n  571.0,\n  572.0,\n  581.0,\n  588.0,\n  591.0,\n  592.0,\n  604.0,\n  606.0,\n  609.0,\n  613.0,\n  624.0,\n  625.0,\n  630.0,\n  634.0,\n  637.0,\n  645.0,\n  663.0,\n  664.0,\n  666.0,\n  670.0,\n  672.0,\n  674.0,\n  681.0,\n  684.0,\n  687.0,\n  691.0,\n  703.0,\n  705.0,\n  708.0,\n  725.0,\n  739.0,\n  740.0,\n  741.0,\n  748.0,\n  749.0,\n  755.0,\n  758.0,\n  763.0,\n  764.0,\n  768.0,\n  770.0,\n  771.0,\n  792.0,\n  796.0,\n  802.0,\n  812.0,\n  813.0,\n  816.0,\n  820.0,\n  829.0,\n  835.0,\n  837.0,\n  838.0,\n  839.0,\n  842.0,\n  845.0,\n  846.0,\n  848.0,\n  852.0,\n  853.0,\n  859.0,\n  861.0,\n  862.0,\n  864.0,\n  869.0,\n  870.0,\n  874.0,\n  878.0,\n  879.0,\n  880.0,\n  882.0,\n  891.0,\n  904.0,\n  906.0,\n  908.0,\n  915.0,\n  916.0,\n  918.0,\n  923.0,\n  924.0,\n  926.0,\n  928.0,\n  930.0,\n  933.0,\n  935.0,\n  937.0,\n  942.0,\n  943.0,\n  944.0,\n  947.0,\n  950.0,\n  955.0,\n  967.0,\n  978.0,\n  983.0,\n  988.0,\n  994.0,\n  995.0,\n  1001.0,\n  1010.0,\n  1014.0,\n  1025.0,\n  1032.0,\n  1033.0,\n  1039.0,\n  1043.0,\n  1045.0,\n  1046.0,\n  1054.0,\n  1055.0,\n  1057.0,\n  1059.0,\n  1061.0,\n  1065.0,\n  1068.0,\n  1089.0,\n  1093.0,\n  1097.0,\n  1101.0,\n  1107.0,\n  1109.0,\n  1115.0,\n  1116.0,\n  1126.0,\n  1129.0,\n  1131.0,\n  1134.0,\n  1138.0,\n  1146.0,\n  1147.0,\n  1156.0,\n  1157.0,\n  1165.0,\n  1167.0,\n  1168.0,\n  1175.0,\n  1178.0,\n  1186.0,\n  1190.0,\n  1192.0,\n  1198.0,\n  1205.0,\n  1209.0,\n  1210.0,\n  1211.0,\n  1214.0,\n  1217.0,\n  1232.0,\n  1240.0,\n  1241.0,\n  1248.0,\n  1249.0,\n  1257.0,\n  1280.0,\n  1291.0,\n  1294.0,\n  1295.0,\n  1301.0,\n  1302.0,\n  1311.0,\n  1315.0,\n  1317.0,\n  1322.0,\n  1325.0,\n  1327.0,\n  1331.0,\n  1336.0,\n  1338.0,\n  1343.0,\n  1349.0,\n  1360.0,\n  1362.0,\n  1377.0,\n  1379.0,\n  1381.0,\n  1389.0,\n  1394.0,\n  1395.0,\n  1396.0,\n  1397.0,\n  1404.0,\n  1405.0,\n  1419.0,\n  1422.0,\n  1428.0,\n  1432.0,\n  1435.0,\n  1440.0,\n  1445.0,\n  1447.0,\n  1449.0,\n  1452.0,\n  1461.0,\n  1483.0,\n  1486.0,\n  1487.0,\n  1494.0,\n  1497.0,\n  1498.0,\n  1499.0,\n  1501.0,\n  1503.0,\n  1504.0,\n  1508.0,\n  1512.0,\n  1517.0,\n  1518.0,\n  1525.0,\n  1526.0,\n  1532.0,\n  1534.0,\n  1549.0,\n  1552.0,\n  1554.0,\n  1559.0,\n  1561.0,\n  1563.0,\n  1566.0,\n  1571.0,\n  1578.0,\n  1581.0,\n  1583.0,\n  1608.0,\n  1610.0,\n  1620.0,\n  1625.0,\n  1643.0,\n  1654.0,\n  1666.0,\n  1668.0,\n  1671.0,\n  1672.0,\n  1673.0,\n  1674.0,\n  1676.0,\n  1678.0,\n  1681.0,\n  1683.0,\n  1686.0,\n  1690.0,\n  1697.0,\n  1701.0,\n  1707.0,\n  1709.0,\n  1711.0,\n  1712.0,\n  1715.0,\n  1716.0,\n  1730.0,\n  1731.0,\n  1744.0,\n  1756.0,\n  1757.0,\n  1761.0,\n  1762.0,\n  1763.0,\n  1764.0,\n  1766.0,\n  1770.0,\n  1772.0,\n  1774.0,\n  1775.0,\n  1778.0,\n  1780.0,\n  1783.0,\n  1787.0,\n  1799.0,\n  1806.0,\n  1807.0,\n  1808.0,\n  1810.0,\n  1817.0,\n  1821.0,\n  1826.0,\n  1832.0,\n  1834.0,\n  1836.0,\n  1842.0,\n  1848.0,\n  1851.0,\n  1854.0,\n  1857.0,\n  1868.0,\n  1872.0,\n  1880.0,\n  1881.0,\n  1889.0,\n  1890.0,\n  1897.0,\n  1899.0,\n  1904.0,\n  1917.0,\n  1931.0,\n  1933.0,\n  1934.0,\n  1938.0,\n  1944.0,\n  1949.0,\n  1957.0,\n  1960.0,\n  1961.0,\n  1972.0,\n  1973.0,\n  1977.0,\n  1979.0,\n  1980.0,\n  1981.0,\n  1993.0,\n  1998.0,\n  2000.0,\n  2013.0,\n  2016.0,\n  2022.0,\n  2028.0,\n  2029.0,\n  2032.0,\n  2034.0,\n  2040.0,\n  2041.0,\n  2044.0,\n  2047.0,\n  2050.0,\n  2057.0,\n  2061.0,\n  2064.0,\n  2071.0,\n  2074.0,\n  2080.0,\n  2085.0,\n  2089.0,\n  2100.0,\n  2103.0,\n  2104.0,\n  2105.0,\n  2109.0,\n  2111.0,\n  2116.0,\n  2121.0,\n  2122.0,\n  2125.0,\n  2127.0,\n  2129.0,\n  2134.0,\n  2135.0,\n  2137.0,\n  2141.0,\n  2158.0,\n  2171.0,\n  2173.0,\n  2178.0,\n  2181.0,\n  2187.0,\n  2192.0,\n  2209.0,\n  2214.0,\n  2215.0,\n  2216.0,\n  2220.0,\n  2233.0,\n  2250.0,\n  2252.0,\n  2259.0,\n  2262.0,\n  2270.0,\n  2272.0,\n  2284.0,\n  2287.0,\n  2289.0,\n  2291.0,\n  2293.0,\n  2299.0,\n  2306.0,\n  2307.0,\n  2320.0,\n  2322.0,\n  2330.0,\n  2332.0,\n  2333.0,\n  2345.0,\n  2346.0,\n  2354.0,\n  2376.0,\n  2377.0,\n  2381.0,\n  2383.0,\n  2384.0,\n  2392.0,\n  2396.0,\n  2397.0,\n  2405.0,\n  2409.0,\n  2414.0,\n  2419.0,\n  2421.0,\n  2423.0,\n  2425.0,\n  2426.0,\n  2431.0,\n  2432.0,\n  2446.0,\n  2453.0,\n  2461.0,\n  2465.0,\n  2475.0,\n  2476.0,\n  2477.0,\n  2487.0,\n  2491.0,\n  2494.0,\n  2504.0,\n  2521.0,\n  2531.0,\n  2533.0,\n  2535.0,\n  2537.0,\n  2550.0,\n  2555.0,\n  2560.0,\n  2570.0,\n  2581.0,\n  2582.0,\n  2589.0,\n  2593.0,\n  2597.0,\n  2600.0,\n  2606.0,\n  2610.0,\n  2614.0,\n  2617.0,\n  2619.0,\n  2620.0,\n  2638.0,\n  2640.0,\n  2646.0,\n  2655.0,\n  2659.0,\n  2662.0,\n  2675.0,\n  2677.0,\n  2680.0,\n  2684.0,\n  2694.0,\n  2696.0,\n  2702.0,\n  2704.0,\n  2708.0,\n  2712.0,\n  2713.0,\n  2720.0,\n  2729.0,\n  2732.0,\n  2742.0,\n  2744.0,\n  2748.0,\n  2753.0,\n  2761.0,\n  2762.0,\n  2772.0,\n  2783.0,\n  2798.0,\n  2802.0,\n  2812.0,\n  2813.0,\n  2814.0,\n  2819.0,\n  2824.0,\n  2829.0,\n  2835.0,\n  2836.0,\n  2837.0,\n  2841.0,\n  2847.0,\n  2848.0,\n  2865.0,\n  2867.0,\n  2869.0,\n  2888.0,\n  2890.0,\n  2898.0,\n  2900.0,\n  2909.0,\n  2910.0,\n  2911.0,\n  2918.0,\n  2919.0,\n  2929.0,\n  2933.0,\n  2935.0,\n  2936.0,\n  2937.0,\n  2939.0,\n  2945.0,\n  2946.0,\n  2947.0,\n  2966.0,\n  2975.0,\n  2976.0,\n  2978.0,\n  2981.0,\n  2989.0,\n  2990.0,\n  2993.0,\n  2997.0,\n  3000.0,\n  3004.0,\n  3005.0,\n  3013.0,\n  3020.0,\n  3029.0,\n  3032.0,\n  3034.0,\n  3043.0,\n  3044.0,\n  3055.0,\n  3058.0,\n  3065.0,\n  3074.0,\n  3076.0,\n  3078.0,\n  3079.0,\n  3087.0,\n  3093.0,\n  3094.0,\n  3098.0,\n  3107.0,\n  3108.0,\n  3112.0,\n  3116.0,\n  3118.0,\n  3121.0,\n  3129.0,\n  3135.0,\n  3136.0,\n  3137.0,\n  3156.0,\n  3159.0,\n  3161.0,\n  3176.0,\n  3181.0,\n  3184.0,\n  3187.0,\n  3188.0,\n  3189.0,\n  3191.0,\n  3198.0,\n  3202.0,\n  3205.0,\n  3212.0,\n  3219.0,\n  3225.0,\n  3226.0,\n  3233.0,\n  3235.0,\n  3238.0,\n  3244.0,\n  3251.0,\n  3253.0,\n  3254.0,\n  3263.0,\n  3265.0,\n  3272.0,\n  3278.0,\n  3286.0,\n  3291.0,\n  3294.0,\n  3295.0,\n  3305.0,\n  3306.0,\n  3308.0,\n  3311.0,\n  3315.0,\n  3316.0,\n  3319.0,\n  3322.0,\n  3327.0,\n  3329.0,\n  3334.0,\n  3342.0,\n  3347.0,\n  3348.0,\n  3349.0,\n  3350.0,\n  3358.0,\n  3361.0,\n  3363.0,\n  3364.0,\n  3367.0,\n  3371.0,\n  3373.0,\n  3375.0,\n  3384.0,\n  3386.0,\n  3387.0,\n  3389.0,\n  3391.0,\n  3393.0,\n  3397.0,\n  3399.0,\n  3400.0,\n  3407.0,\n  3414.0,\n  3421.0,\n  3425.0,\n  3448.0,\n  3449.0,\n  3450.0,\n  3457.0,\n  3462.0,\n  3464.0,\n  3471.0,\n  3476.0,\n  3485.0,\n  3489.0,\n  3490.0,\n  3506.0,\n  3507.0,\n  3513.0,\n  3518.0,\n  3519.0,\n  3520.0,\n  3522.0,\n  3526.0,\n  3532.0,\n  3534.0,\n  3536.0,\n  3539.0,\n  3541.0,\n  3543.0,\n  3547.0,\n  3548.0,\n  3556.0,\n  3572.0,\n  3576.0,\n  3577.0,\n  3584.0,\n  3587.0,\n  3602.0,\n  3605.0,\n  3617.0,\n  3618.0,\n  3620.0,\n  3626.0,\n  3634.0,\n  3635.0,\n  3639.0,\n  3650.0,\n  3656.0,\n  3678.0,\n  3680.0,\n  3682.0,\n  3688.0,\n  3694.0,\n  3696.0,\n  3697.0,\n  3698.0,\n  3703.0,\n  3705.0,\n  3714.0,\n  3715.0,\n  3724.0,\n  3726.0,\n  3730.0,\n  3734.0,\n  3738.0,\n  3740.0,\n  3744.0,\n  3749.0,\n  3754.0,\n  3755.0,\n  3760.0,\n  3761.0,\n  3766.0,\n  3769.0,\n  3780.0,\n  3783.0,\n  3793.0,\n  3796.0,\n  3800.0,\n  3801.0,\n  3807.0,\n  3808.0,\n  3812.0,\n  3823.0,\n  3825.0,\n  3836.0,\n  3839.0,\n  3841.0,\n  3842.0,\n  3846.0,\n  3848.0,\n  3849.0,\n  3851.0,\n  3857.0,\n  3865.0,\n  3872.0,\n  3873.0,\n  3884.0,\n  3888.0,\n  3892.0,\n  3901.0,\n  3903.0,\n  3911.0,\n  3914.0,\n  3920.0,\n  3929.0,\n  3930.0,\n  3932.0,\n  3935.0,\n  3936.0,\n  3937.0,\n  3951.0,\n  3954.0,\n  3963.0,\n  3965.0,\n  3971.0,\n  3973.0,\n  3980.0,\n  3981.0,\n  3984.0,\n  3990.0,\n  3991.0,\n  3999.0,\n  4000.0,\n  4001.0,\n  4004.0,\n  4008.0,\n  4012.0,\n  4013.0,\n  4017.0,\n  4025.0,\n  4031.0,\n  4034.0,\n  4048.0,\n  4051.0,\n  4055.0,\n  4058.0,\n  4060.0,\n  4062.0,\n  4063.0,\n  4065.0,\n  4066.0,\n  4068.0,\n  4084.0,\n  4089.0,\n  4090.0,\n  4092.0,\n  4093.0,\n  4095.0,\n  4097.0,\n  4101.0,\n  4102.0,\n  4105.0,\n  4116.0,\n  4121.0,\n  4128.0,\n  4130.0,\n  4132.0,\n  4137.0,\n  4154.0,\n  4157.0,\n  4166.0,\n  4168.0,\n  4174.0,\n  4176.0,\n  4181.0,\n  4185.0,\n  4186.0,\n  4190.0,\n  4194.0,\n  4195.0,\n  4198.0,\n  4199.0,\n  4206.0,\n  4208.0,\n  4226.0,\n  4238.0,\n  4239.0,\n  4240.0,\n  4244.0,\n  4245.0,\n  4247.0,\n  4260.0,\n  4267.0,\n  4268.0,\n  4269.0,\n  4270.0,\n  4272.0,\n  4273.0,\n  4285.0,\n  4286.0,\n  4287.0,\n  4290.0,\n  4296.0,\n  4300.0,\n  4308.0,\n  4310.0,\n  4314.0,\n  4315.0,\n  4321.0,\n  4327.0,\n  4333.0,\n  4338.0,\n  4348.0,\n  4355.0,\n  4356.0,\n  4358.0,\n  4362.0,\n  4365.0,\n  4366.0,\n  4367.0,\n  4371.0,\n  4375.0,\n  4376.0,\n  4377.0,\n  4378.0,\n  4379.0,\n  4380.0,\n  4389.0,\n  4393.0,\n  4399.0,\n  4401.0,\n  4405.0,\n  4408.0,\n  4432.0,\n  4441.0,\n  4448.0,\n  4459.0,\n  4460.0,\n  4470.0,\n  4474.0,\n  4475.0,\n  4479.0,\n  4483.0,\n  4489.0,\n  4498.0,\n  4502.0,\n  4507.0,\n  4511.0,\n  4512.0,\n  4515.0,\n  4516.0,\n  4518.0,\n  4519.0,\n  4520.0,\n  4524.0,\n  4527.0,\n  4528.0,\n  4530.0,\n  4538.0,\n  4539.0,\n  4544.0,\n  4558.0,\n  4566.0,\n  4568.0,\n  4581.0,\n  4588.0,\n  4589.0,\n  4591.0,\n  4594.0,\n  4597.0,\n  4598.0,\n  4600.0,\n  4604.0,\n  4609.0,\n  4613.0,\n  4621.0,\n  4624.0,\n  4630.0,\n  4637.0,\n  4639.0,\n  ...},\n 3.0: {24580.0,\n  8201.0,\n  8203.0,\n  24588.0,\n  13.0,\n  8206.0,\n  24591.0,\n  8210.0,\n  24596.0,\n  8214.0,\n  24599.0,\n  29.0,\n  24608.0,\n  16419.0,\n  37.0,\n  8232.0,\n  42.0,\n  16433.0,\n  16434.0,\n  8243.0,\n  8244.0,\n  24630.0,\n  24632.0,\n  58.0,\n  60.0,\n  16446.0,\n  16449.0,\n  74.0,\n  8271.0,\n  16470.0,\n  16471.0,\n  87.0,\n  16473.0,\n  88.0,\n  24668.0,\n  16477.0,\n  16478.0,\n  24671.0,\n  16484.0,\n  8292.0,\n  16486.0,\n  16488.0,\n  8298.0,\n  16491.0,\n  16493.0,\n  109.0,\n  24688.0,\n  114.0,\n  24691.0,\n  8311.0,\n  120.0,\n  16508.0,\n  24700.0,\n  16511.0,\n  8326.0,\n  16521.0,\n  16522.0,\n  24713.0,\n  16528.0,\n  144.0,\n  147.0,\n  8339.0,\n  8341.0,\n  16532.0,\n  24732.0,\n  16542.0,\n  16550.0,\n  16553.0,\n  24747.0,\n  171.0,\n  8367.0,\n  24760.0,\n  24761.0,\n  24762.0,\n  8381.0,\n  24765.0,\n  16579.0,\n  16582.0,\n  24776.0,\n  8395.0,\n  204.0,\n  16590.0,\n  207.0,\n  206.0,\n  213.0,\n  8407.0,\n  223.0,\n  24800.0,\n  225.0,\n  24803.0,\n  16613.0,\n  24806.0,\n  16615.0,\n  16616.0,\n  16617.0,\n  24809.0,\n  235.0,\n  229.0,\n  8430.0,\n  238.0,\n  8431.0,\n  16627.0,\n  16630.0,\n  249.0,\n  251.0,\n  24828.0,\n  24830.0,\n  8447.0,\n  24832.0,\n  257.0,\n  16642.0,\n  24835.0,\n  8452.0,\n  261.0,\n  268.0,\n  24845.0,\n  24846.0,\n  16654.0,\n  24848.0,\n  16659.0,\n  24852.0,\n  8469.0,\n  278.0,\n  24856.0,\n  24858.0,\n  284.0,\n  24860.0,\n  8480.0,\n  16674.0,\n  16680.0,\n  16682.0,\n  24875.0,\n  16686.0,\n  8495.0,\n  8496.0,\n  24881.0,\n  306.0,\n  24885.0,\n  310.0,\n  8502.0,\n  16693.0,\n  24892.0,\n  8514.0,\n  8516.0,\n  8520.0,\n  329.0,\n  24909.0,\n  337.0,\n  16724.0,\n  16735.0,\n  356.0,\n  16743.0,\n  8553.0,\n  16752.0,\n  8562.0,\n  8565.0,\n  8567.0,\n  16759.0,\n  382.0,\n  8576.0,\n  8578.0,\n  8583.0,\n  24969.0,\n  8589.0,\n  16784.0,\n  8593.0,\n  16787.0,\n  407.0,\n  24985.0,\n  410.0,\n  16794.0,\n  24988.0,\n  8606.0,\n  24995.0,\n  24999.0,\n  25001.0,\n  25003.0,\n  16813.0,\n  16814.0,\n  16815.0,\n  25007.0,\n  8630.0,\n  25017.0,\n  16825.0,\n  16828.0,\n  25020.0,\n  16829.0,\n  25022.0,\n  25029.0,\n  25032.0,\n  461.0,\n  25040.0,\n  464.0,\n  16854.0,\n  475.0,\n  25055.0,\n  16378.0,\n  8676.0,\n  25069.0,\n  501.0,\n  502.0,\n  16893.0,\n  8703.0,\n  25090.0,\n  25092.0,\n  517.0,\n  525.0,\n  16912.0,\n  534.0,\n  8729.0,\n  16924.0,\n  16925.0,\n  541.0,\n  8738.0,\n  16930.0,\n  25125.0,\n  553.0,\n  16939.0,\n  16940.0,\n  25133.0,\n  557.0,\n  25132.0,\n  25134.0,\n  8753.0,\n  25137.0,\n  16943.0,\n  561.0,\n  16946.0,\n  16944.0,\n  568.0,\n  25146.0,\n  25147.0,\n  573.0,\n  8765.0,\n  577.0,\n  25155.0,\n  8772.0,\n  8774.0,\n  583.0,\n  8777.0,\n  25162.0,\n  588.0,\n  25165.0,\n  16975.0,\n  8783.0,\n  596.0,\n  598.0,\n  8793.0,\n  605.0,\n  8798.0,\n  607.0,\n  16992.0,\n  8799.0,\n  8803.0,\n  615.0,\n  25199.0,\n  25201.0,\n  25209.0,\n  25210.0,\n  635.0,\n  25225.0,\n  25226.0,\n  25229.0,\n  8846.0,\n  655.0,\n  25232.0,\n  17042.0,\n  25236.0,\n  17049.0,\n  17058.0,\n  8867.0,\n  8868.0,\n  17068.0,\n  17069.0,\n  689.0,\n  690.0,\n  8882.0,\n  17074.0,\n  693.0,\n  17076.0,\n  695.0,\n  8890.0,\n  699.0,\n  698.0,\n  17089.0,\n  25283.0,\n  25284.0,\n  17092.0,\n  8903.0,\n  25287.0,\n  17100.0,\n  717.0,\n  8909.0,\n  17104.0,\n  17106.0,\n  8916.0,\n  8919.0,\n  25304.0,\n  729.0,\n  736.0,\n  25312.0,\n  17122.0,\n  25317.0,\n  747.0,\n  25325.0,\n  17134.0,\n  750.0,\n  17136.0,\n  25329.0,\n  17138.0,\n  8950.0,\n  25344.0,\n  17163.0,\n  25356.0,\n  779.0,\n  25358.0,\n  25362.0,\n  25364.0,\n  8982.0,\n  25367.0,\n  25369.0,\n  17177.0,\n  8990.0,\n  798.0,\n  17184.0,\n  17185.0,\n  799.0,\n  801.0,\n  25380.0,\n  25379.0,\n  8994.0,\n  800.0,\n  25384.0,\n  9004.0,\n  819.0,\n  821.0,\n  9015.0,\n  17210.0,\n  17213.0,\n  830.0,\n  25414.0,\n  25419.0,\n  17232.0,\n  25432.0,\n  17241.0,\n  17242.0,\n  17244.0,\n  25445.0,\n  17254.0,\n  17257.0,\n  9066.0,\n  17264.0,\n  882.0,\n  17268.0,\n  885.0,\n  9080.0,\n  9081.0,\n  25470.0,\n  17278.0,\n  17281.0,\n  17282.0,\n  25479.0,\n  9096.0,\n  25481.0,\n  25484.0,\n  25488.0,\n  17300.0,\n  25492.0,\n  25499.0,\n  927.0,\n  25518.0,\n  25519.0,\n  9136.0,\n  9134.0,\n  9142.0,\n  953.0,\n  25531.0,\n  17339.0,\n  9149.0,\n  25535.0,\n  9156.0,\n  17348.0,\n  969.0,\n  25548.0,\n  9164.0,\n  17357.0,\n  9166.0,\n  973.0,\n  976.0,\n  25555.0,\n  980.0,\n  17370.0,\n  9182.0,\n  17384.0,\n  9193.0,\n  17390.0,\n  1011.0,\n  17398.0,\n  17400.0,\n  9209.0,\n  25597.0,\n  1023.0,\n  17408.0,\n  25600.0,\n  9218.0,\n  1027.0,\n  9221.0,\n  9222.0,\n  25607.0,\n  1035.0,\n  17420.0,\n  1037.0,\n  25617.0,\n  9235.0,\n  25621.0,\n  9239.0,\n  17434.0,\n  9243.0,\n  1052.0,\n  17437.0,\n  25632.0,\n  1058.0,\n  17442.0,\n  17447.0,\n  25639.0,\n  17454.0,\n  1072.0,\n  1073.0,\n  9264.0,\n  9265.0,\n  1078.0,\n  25657.0,\n  1082.0,\n  17468.0,\n  1085.0,\n  1084.0,\n  1087.0,\n  17473.0,\n  17474.0,\n  17476.0,\n  17477.0,\n  17478.0,\n  25669.0,\n  25672.0,\n  25674.0,\n  1099.0,\n  25676.0,\n  17493.0,\n  9302.0,\n  1111.0,\n  17498.0,\n  25691.0,\n  17502.0,\n  9311.0,\n  9310.0,\n  1124.0,\n  17510.0,\n  25703.0,\n  9320.0,\n  17511.0,\n  9319.0,\n  17515.0,\n  1132.0,\n  25708.0,\n  9330.0,\n  25714.0,\n  9333.0,\n  1141.0,\n  9336.0,\n  9337.0,\n  9340.0,\n  17541.0,\n  25733.0,\n  1159.0,\n  1161.0,\n  25742.0,\n  17550.0,\n  17555.0,\n  1174.0,\n  25754.0,\n  1182.0,\n  1183.0,\n  1185.0,\n  25764.0,\n  17581.0,\n  17585.0,\n  9394.0,\n  25777.0,\n  9396.0,\n  17591.0,\n  17593.0,\n  9402.0,\n  9403.0,\n  25793.0,\n  1219.0,\n  25796.0,\n  9412.0,\n  1222.0,\n  17603.0,\n  25799.0,\n  17611.0,\n  1228.0,\n  25804.0,\n  9422.0,\n  9427.0,\n  25814.0,\n  17623.0,\n  25816.0,\n  1243.0,\n  17628.0,\n  25822.0,\n  17634.0,\n  25827.0,\n  25826.0,\n  9445.0,\n  1254.0,\n  17637.0,\n  9443.0,\n  9449.0,\n  17640.0,\n  9451.0,\n  25836.0,\n  9453.0,\n  25840.0,\n  17649.0,\n  9461.0,\n  1272.0,\n  25850.0,\n  1285.0,\n  17671.0,\n  17673.0,\n  17674.0,\n  25867.0,\n  9482.0,\n  1293.0,\n  25870.0,\n  1296.0,\n  9491.0,\n  25876.0,\n  9493.0,\n  1303.0,\n  25879.0,\n  1308.0,\n  25897.0,\n  17707.0,\n  9516.0,\n  9517.0,\n  17711.0,\n  1330.0,\n  9524.0,\n  25914.0,\n  25916.0,\n  9533.0,\n  9536.0,\n  1347.0,\n  25927.0,\n  1351.0,\n  1354.0,\n  25930.0,\n  1359.0,\n  9552.0,\n  25939.0,\n  17748.0,\n  9557.0,\n  1365.0,\n  17759.0,\n  17760.0,\n  17765.0,\n  17767.0,\n  17768.0,\n  17770.0,\n  17771.0,\n  25964.0,\n  1389.0,\n  25967.0,\n  9586.0,\n  17779.0,\n  9588.0,\n  9589.0,\n  25975.0,\n  17784.0,\n  1402.0,\n  25979.0,\n  9597.0,\n  17790.0,\n  1407.0,\n  17795.0,\n  25988.0,\n  25993.0,\n  17802.0,\n  9616.0,\n  9618.0,\n  9622.0,\n  1432.0,\n  26012.0,\n  1436.0,\n  26029.0,\n  17840.0,\n  1456.0,\n  9652.0,\n  9653.0,\n  9655.0,\n  26040.0,\n  9659.0,\n  9660.0,\n  26050.0,\n  1477.0,\n  9670.0,\n  1482.0,\n  26060.0,\n  17869.0,\n  26062.0,\n  1489.0,\n  1490.0,\n  17874.0,\n  1492.0,\n  1496.0,\n  26074.0,\n  17882.0,\n  26077.0,\n  17887.0,\n  26081.0,\n  26083.0,\n  1508.0,\n  9702.0,\n  26087.0,\n  26089.0,\n  17900.0,\n  17901.0,\n  26092.0,\n  9710.0,\n  17907.0,\n  17910.0,\n  1527.0,\n  9720.0,\n  9719.0,\n  17912.0,\n  17913.0,\n  1533.0,\n  17918.0,\n  1539.0,\n  17923.0,\n  1546.0,\n  26122.0,\n  1551.0,\n  26127.0,\n  9746.0,\n  17939.0,\n  9748.0,\n  1556.0,\n  9751.0,\n  17946.0,\n  9756.0,\n  26143.0,\n  1568.0,\n  1570.0,\n  17956.0,\n  1574.0,\n  1577.0,\n  26159.0,\n  17967.0,\n  9775.0,\n  17972.0,\n  9781.0,\n  17976.0,\n  1596.0,\n  9788.0,\n  17982.0,\n  1599.0,\n  1601.0,\n  26179.0,\n  17993.0,\n  9811.0,\n  1622.0,\n  18007.0,\n  18008.0,\n  1625.0,\n  9821.0,\n  9823.0,\n  18017.0,\n  1636.0,\n  26220.0,\n  9837.0,\n  26223.0,\n  26224.0,\n  26226.0,\n  26230.0,\n  9848.0,\n  18041.0,\n  18042.0,\n  26234.0,\n  9850.0,\n  18047.0,\n  1664.0,\n  26241.0,\n  9857.0,\n  1667.0,\n  18051.0,\n  26245.0,\n  9863.0,\n  18056.0,\n  9865.0,\n  26259.0,\n  9876.0,\n  9877.0,\n  18070.0,\n  26266.0,\n  1691.0,\n  18075.0,\n  9885.0,\n  26270.0,\n  18083.0,\n  18084.0,\n  1699.0,\n  26283.0,\n  9904.0,\n  18097.0,\n  9905.0,\n  9907.0,\n  26293.0,\n  18105.0,\n  26299.0,\n  26303.0,\n  26305.0,\n  26306.0,\n  18113.0,\n  9925.0,\n  26310.0,\n  18119.0,\n  1738.0,\n  9931.0,\n  9933.0,\n  26324.0,\n  9943.0,\n  1752.0,\n  18137.0,\n  26330.0,\n  9947.0,\n  26332.0,\n  18146.0,\n  26339.0,\n  26348.0,\n  9965.0,\n  9964.0,\n  26353.0,\n  9970.0,\n  1779.0,\n  18162.0,\n  26363.0,\n  9981.0,\n  1790.0,\n  9984.0,\n  26372.0,\n  9993.0,\n  26378.0,\n  9995.0,\n  18187.0,\n  26377.0,\n  18192.0,\n  26385.0,\n  18194.0,\n  18204.0,\n  18205.0,\n  10014.0,\n  18207.0,\n  10017.0,\n  10019.0,\n  18214.0,\n  1833.0,\n  1835.0,\n  26411.0,\n  1837.0,\n  26412.0,\n  10031.0,\n  1841.0,\n  1845.0,\n  1847.0,\n  10047.0,\n  10049.0,\n  18245.0,\n  1862.0,\n  10056.0,\n  1865.0,\n  18250.0,\n  1864.0,\n  10058.0,\n  18254.0,\n  26449.0,\n  1873.0,\n  26460.0,\n  26461.0,\n  1886.0,\n  18270.0,\n  10084.0,\n  18277.0,\n  18278.0,\n  1895.0,\n  10088.0,\n  10087.0,\n  18280.0,\n  1900.0,\n  26478.0,\n  1907.0,\n  1912.0,\n  1913.0,\n  10105.0,\n  26491.0,\n  18301.0,\n  18302.0,\n  1921.0,\n  10114.0,\n  10115.0,\n  26501.0,\n  18310.0,\n  10117.0,\n  1929.0,\n  10124.0,\n  10125.0,\n  26510.0,\n  1935.0,\n  26511.0,\n  10131.0,\n  1940.0,\n  18325.0,\n  10136.0,\n  1945.0,\n  10138.0,\n  1947.0,\n  26526.0,\n  10145.0,\n  26530.0,\n  10148.0,\n  1959.0,\n  26537.0,\n  26538.0,\n  26540.0,\n  1969.0,\n  26545.0,\n  26547.0,\n  18356.0,\n  18357.0,\n  26558.0,\n  26560.0,\n  18370.0,\n  26565.0,\n  1991.0,\n  1992.0,\n  18379.0,\n  18380.0,\n  1999.0,\n  26579.0,\n  18390.0,\n  10201.0,\n  18394.0,\n  2010.0,\n  10210.0,\n  10212.0,\n  18406.0,\n  26601.0,\n  2026.0,\n  26606.0,\n  2030.0,\n  10225.0,\n  18418.0,\n  10227.0,\n  10228.0,\n  26613.0,\n  2037.0,\n  26612.0,\n  10233.0,\n  18425.0,\n  26619.0,\n  10237.0,\n  26623.0,\n  18437.0,\n  10247.0,\n  26633.0,\n  18441.0,\n  2059.0,\n  2058.0,\n  10252.0,\n  2066.0,\n  10259.0,\n  18452.0,\n  2068.0,\n  2067.0,\n  26645.0,\n  18454.0,\n  18461.0,\n  2078.0,\n  18463.0,\n  10272.0,\n  18467.0,\n  2086.0,\n  2087.0,\n  26666.0,\n  10282.0,\n  10284.0,\n  2091.0,\n  2092.0,\n  26676.0,\n  26677.0,\n  18487.0,\n  2108.0,\n  18493.0,\n  10302.0,\n  2113.0,\n  10310.0,\n  10314.0,\n  10318.0,\n  10322.0,\n  2130.0,\n  10326.0,\n  10327.0,\n  10328.0,\n  10329.0,\n  10330.0,\n  10332.0,\n  10335.0,\n  2143.0,\n  18530.0,\n  26731.0,\n  2159.0,\n  10352.0,\n  18545.0,\n  26739.0,\n  2163.0,\n  26741.0,\n  18550.0,\n  2172.0,\n  18559.0,\n  2179.0,\n  10372.0,\n  26757.0,\n  2183.0,\n  18568.0,\n  2185.0,\n  26761.0,\n  18570.0,\n  26764.0,\n  2193.0,\n  18578.0,\n  2194.0,\n  18580.0,\n  18583.0,\n  2200.0,\n  10393.0,\n  10394.0,\n  10396.0,\n  18591.0,\n  18592.0,\n  2210.0,\n  10403.0,\n  26788.0,\n  18598.0,\n  26790.0,\n  2217.0,\n  26796.0,\n  2221.0,\n  2224.0,\n  18613.0,\n  26806.0,\n  2234.0,\n  18619.0,\n  18621.0,\n  26814.0,\n  2241.0,\n  26818.0,\n  10435.0,\n  26824.0,\n  2254.0,\n  10452.0,\n  26836.0,\n  10456.0,\n  26845.0,\n  18653.0,\n  18662.0,\n  10477.0,\n  18672.0,\n  18674.0,\n  10483.0,\n  26869.0,\n  18678.0,\n  18679.0,\n  26871.0,\n  10486.0,\n  10490.0,\n  2300.0,\n  26878.0,\n  10494.0,\n  2305.0,\n  18691.0,\n  10504.0,\n  18704.0,\n  2323.0,\n  2326.0,\n  26904.0,\n  26911.0,\n  18723.0,\n  10533.0,\n  ...},\n 4.0: {8.0,\n  77.0,\n  97.0,\n  101.0,\n  167.0,\n  229.0,\n  240.0,\n  328.0,\n  329.0,\n  331.0,\n  346.0,\n  372.0,\n  404.0,\n  516.0,\n  524.0,\n  594.0,\n  698.0,\n  790.0,\n  827.0,\n  844.0,\n  855.0,\n  860.0,\n  889.0,\n  932.0,\n  965.0,\n  990.0,\n  993.0,\n  1011.0,\n  1025.0,\n  1094.0,\n  1096.0,\n  1144.0,\n  1166.0,\n  1176.0,\n  1187.0,\n  1380.0,\n  1406.0,\n  1447.0,\n  1514.0,\n  1567.0,\n  1580.0,\n  1639.0,\n  1663.0,\n  1680.0,\n  1682.0,\n  1694.0,\n  1700.0,\n  1719.0,\n  1728.0,\n  1737.0,\n  1751.0,\n  1767.0,\n  1794.0,\n  1825.0,\n  1838.0,\n  1933.0,\n  1974.0,\n  1987.0,\n  2053.0,\n  2090.0,\n  2107.0,\n  2110.0,\n  2114.0,\n  2233.0,\n  2243.0,\n  2263.0,\n  2323.0,\n  2356.0,\n  2364.0,\n  2366.0,\n  2375.0,\n  2389.0,\n  2409.0,\n  2450.0,\n  2460.0,\n  2538.0,\n  2541.0,\n  2548.0,\n  2592.0,\n  2710.0,\n  2785.0,\n  2845.0,\n  2852.0,\n  2862.0,\n  2880.0,\n  2881.0,\n  2893.0,\n  2942.0,\n  3024.0,\n  3047.0,\n  3150.0,\n  3385.0,\n  3445.0,\n  3468.0,\n  3495.0,\n  3531.0,\n  3581.0,\n  3611.0,\n  3624.0,\n  3708.0,\n  3710.0,\n  3726.0,\n  3799.0,\n  3814.0,\n  3833.0,\n  3834.0,\n  3852.0,\n  3854.0,\n  3893.0,\n  3908.0,\n  3933.0,\n  3952.0,\n  4041.0,\n  4047.0,\n  4081.0,\n  4101.0,\n  4121.0,\n  4160.0,\n  4213.0,\n  4298.0,\n  4308.0,\n  4316.0,\n  4331.0,\n  4453.0,\n  4473.0,\n  4493.0,\n  4510.0,\n  4513.0,\n  4648.0,\n  4710.0,\n  4730.0,\n  4775.0,\n  4824.0,\n  4865.0,\n  4906.0,\n  4927.0,\n  4953.0,\n  4994.0,\n  5014.0,\n  5040.0,\n  5082.0,\n  5091.0,\n  5128.0,\n  5223.0,\n  5257.0,\n  5298.0,\n  5368.0,\n  5373.0,\n  5429.0,\n  5517.0,\n  5521.0,\n  5527.0,\n  5532.0,\n  5561.0,\n  5589.0,\n  5675.0,\n  5679.0,\n  5701.0,\n  5709.0,\n  5759.0,\n  5761.0,\n  5848.0,\n  5957.0,\n  6059.0,\n  6077.0,\n  6125.0,\n  6193.0,\n  6252.0,\n  6265.0,\n  6301.0,\n  6326.0,\n  6391.0,\n  6404.0,\n  6478.0,\n  6507.0,\n  6530.0,\n  6631.0,\n  6635.0,\n  6636.0,\n  6691.0,\n  6692.0,\n  6718.0,\n  6770.0,\n  6821.0,\n  6856.0,\n  6865.0,\n  6882.0,\n  6958.0,\n  6988.0,\n  6994.0,\n  7008.0,\n  7017.0,\n  7040.0,\n  7067.0,\n  7095.0,\n  7134.0,\n  7310.0,\n  7313.0,\n  7321.0,\n  7324.0,\n  7406.0,\n  7430.0,\n  7460.0,\n  7468.0,\n  7529.0,\n  7566.0,\n  7632.0,\n  7633.0,\n  7641.0,\n  7687.0,\n  7692.0,\n  7694.0,\n  7741.0,\n  7820.0,\n  7835.0,\n  7853.0,\n  7874.0,\n  7925.0,\n  8011.0,\n  8092.0,\n  8121.0,\n  8157.0,\n  8180.0,\n  8282.0,\n  8333.0,\n  8353.0,\n  8391.0,\n  8409.0,\n  8411.0,\n  8478.0,\n  8506.0,\n  8560.0,\n  8599.0,\n  8631.0,\n  8658.0,\n  8695.0,\n  8762.0,\n  8818.0,\n  8861.0,\n  8928.0,\n  8971.0,\n  8987.0,\n  8997.0,\n  9010.0,\n  9090.0,\n  9112.0,\n  9137.0,\n  9187.0,\n  9227.0,\n  9368.0,\n  9421.0,\n  9477.0,\n  9517.0,\n  9527.0,\n  9639.0,\n  9738.0,\n  9817.0,\n  9827.0,\n  9847.0,\n  9853.0,\n  9912.0,\n  9959.0,\n  10024.0,\n  10025.0,\n  10045.0,\n  10157.0,\n  10169.0,\n  10233.0,\n  10240.0,\n  10415.0,\n  10577.0,\n  10585.0,\n  10679.0,\n  10705.0,\n  10710.0,\n  10726.0,\n  10760.0,\n  10795.0,\n  10812.0,\n  10870.0,\n  10874.0,\n  10892.0,\n  10979.0,\n  10991.0,\n  11060.0,\n  11155.0,\n  11182.0,\n  11212.0,\n  11217.0,\n  11282.0,\n  11384.0,\n  11440.0,\n  11498.0,\n  11505.0,\n  11510.0,\n  11517.0,\n  11579.0,\n  11584.0,\n  11592.0,\n  11594.0,\n  11609.0,\n  11629.0,\n  11659.0,\n  11664.0,\n  11709.0,\n  11731.0,\n  11742.0,\n  11758.0,\n  11761.0,\n  11782.0,\n  11791.0,\n  11818.0,\n  12036.0,\n  12149.0,\n  12174.0,\n  12295.0,\n  12377.0,\n  12389.0,\n  12554.0,\n  12582.0,\n  12601.0,\n  12647.0,\n  12668.0,\n  12696.0,\n  12706.0,\n  12759.0,\n  12839.0,\n  12853.0,\n  12865.0,\n  12885.0,\n  12902.0,\n  12914.0,\n  12920.0,\n  12955.0,\n  12975.0,\n  12976.0,\n  13145.0,\n  13164.0,\n  13175.0,\n  13179.0,\n  13180.0,\n  13186.0,\n  13293.0,\n  13354.0,\n  13359.0,\n  13394.0,\n  13458.0,\n  13469.0,\n  13517.0,\n  13518.0,\n  13542.0,\n  13544.0,\n  13557.0,\n  13558.0,\n  13563.0,\n  13630.0,\n  13633.0,\n  13702.0,\n  13707.0,\n  13710.0,\n  13734.0,\n  13802.0,\n  13833.0,\n  13855.0,\n  13913.0,\n  13930.0,\n  13943.0,\n  14006.0,\n  14063.0,\n  14134.0,\n  14196.0,\n  14203.0,\n  14211.0,\n  14364.0,\n  14391.0,\n  14416.0,\n  14478.0,\n  14517.0,\n  14549.0,\n  14568.0,\n  14608.0,\n  14619.0,\n  14632.0,\n  14639.0,\n  14729.0,\n  14753.0,\n  14803.0,\n  14825.0,\n  14834.0,\n  14856.0,\n  14899.0,\n  14951.0,\n  14962.0,\n  15008.0,\n  15054.0,\n  15062.0,\n  15083.0,\n  15091.0,\n  15111.0,\n  15183.0,\n  15184.0,\n  15240.0,\n  15298.0,\n  15362.0,\n  15483.0,\n  15513.0,\n  15681.0,\n  15712.0,\n  15721.0,\n  15724.0,\n  15752.0,\n  15762.0,\n  15797.0,\n  15830.0,\n  15880.0,\n  15927.0,\n  15934.0,\n  15946.0,\n  15951.0,\n  15962.0,\n  15997.0,\n  16018.0,\n  16052.0,\n  16076.0,\n  16089.0,\n  16093.0,\n  16171.0,\n  16173.0,\n  16196.0,\n  16231.0,\n  16289.0,\n  16355.0,\n  16377.0,\n  16396.0,\n  16401.0,\n  16405.0,\n  16416.0,\n  16421.0,\n  16437.0,\n  16497.0,\n  16504.0,\n  16516.0,\n  16532.0,\n  16555.0,\n  16584.0,\n  16587.0,\n  16675.0,\n  16686.0,\n  16687.0,\n  16699.0,\n  16731.0,\n  16734.0,\n  16744.0,\n  16747.0,\n  16797.0,\n  16838.0,\n  16858.0,\n  16904.0,\n  16910.0,\n  16941.0,\n  16977.0,\n  17045.0,\n  17169.0,\n  17190.0,\n  17352.0,\n  17388.0,\n  17450.0,\n  17494.0,\n  17506.0,\n  17655.0,\n  17674.0,\n  17746.0,\n  17855.0,\n  17890.0,\n  17903.0,\n  17997.0,\n  18025.0,\n  18027.0,\n  18029.0,\n  18037.0,\n  18075.0,\n  18114.0,\n  18152.0,\n  18188.0,\n  18232.0,\n  18263.0,\n  18280.0,\n  18285.0,\n  18298.0,\n  18304.0,\n  18307.0,\n  18371.0,\n  18378.0,\n  18386.0,\n  18413.0,\n  18446.0,\n  18460.0,\n  18503.0,\n  18549.0,\n  18653.0,\n  18664.0,\n  18703.0,\n  18722.0,\n  18771.0,\n  18799.0,\n  19033.0,\n  19058.0,\n  19085.0,\n  19116.0,\n  19123.0,\n  19150.0,\n  19159.0,\n  19217.0,\n  19241.0,\n  19324.0,\n  19358.0,\n  19417.0,\n  19512.0,\n  19526.0,\n  19543.0,\n  19560.0,\n  19580.0,\n  19595.0,\n  19708.0,\n  19733.0,\n  19761.0,\n  19773.0,\n  19814.0,\n  19884.0,\n  19936.0,\n  19964.0,\n  19979.0,\n  19993.0,\n  20013.0,\n  20035.0,\n  20036.0,\n  20099.0,\n  20147.0,\n  20194.0,\n  20212.0,\n  20216.0,\n  20244.0,\n  20246.0,\n  20256.0,\n  20297.0,\n  20308.0,\n  20329.0,\n  20360.0,\n  20403.0,\n  20439.0,\n  20452.0,\n  20548.0,\n  20621.0,\n  20658.0,\n  20728.0,\n  20740.0,\n  20791.0,\n  20819.0,\n  20843.0,\n  20906.0,\n  21032.0,\n  21038.0,\n  21045.0,\n  21133.0,\n  21154.0,\n  21161.0,\n  21189.0,\n  21274.0,\n  21359.0,\n  21436.0,\n  21438.0,\n  21458.0,\n  21501.0,\n  21516.0,\n  21528.0,\n  21585.0,\n  21588.0,\n  21617.0,\n  21694.0,\n  21743.0,\n  21761.0,\n  21773.0,\n  21807.0,\n  21818.0,\n  21825.0,\n  21876.0,\n  21938.0,\n  21952.0,\n  21961.0,\n  22013.0,\n  22095.0,\n  22136.0,\n  22172.0,\n  22204.0,\n  22221.0,\n  22283.0,\n  22284.0,\n  22351.0,\n  22402.0,\n  22418.0,\n  22487.0,\n  22517.0,\n  22555.0,\n  22585.0,\n  22592.0,\n  22628.0,\n  22713.0,\n  22796.0,\n  22843.0,\n  22936.0,\n  23040.0,\n  23049.0,\n  23061.0,\n  23114.0,\n  23150.0,\n  23200.0,\n  23284.0,\n  23377.0,\n  23435.0,\n  23436.0,\n  23441.0,\n  23458.0,\n  23479.0,\n  23486.0,\n  23499.0,\n  23500.0,\n  23532.0,\n  23535.0,\n  23558.0,\n  23645.0,\n  23666.0,\n  23812.0,\n  23880.0,\n  23915.0,\n  23939.0,\n  23970.0,\n  24054.0,\n  24068.0,\n  24139.0,\n  24184.0,\n  24209.0,\n  24219.0,\n  24245.0,\n  24269.0,\n  24277.0,\n  24283.0,\n  24403.0,\n  24438.0,\n  24466.0,\n  24585.0,\n  24605.0,\n  24607.0,\n  24637.0,\n  24660.0,\n  24746.0,\n  24771.0,\n  24796.0,\n  24820.0,\n  24825.0,\n  24860.0,\n  24961.0,\n  24988.0,\n  25053.0,\n  25072.0,\n  25098.0,\n  25100.0,\n  25146.0,\n  25182.0,\n  25283.0,\n  25324.0,\n  25353.0,\n  25378.0,\n  25388.0,\n  25405.0,\n  25464.0,\n  25469.0,\n  25507.0,\n  25527.0,\n  25577.0,\n  25591.0,\n  25598.0,\n  25661.0,\n  25705.0,\n  25726.0,\n  25749.0,\n  25773.0,\n  25928.0,\n  25945.0,\n  26007.0,\n  26035.0,\n  26078.0,\n  26113.0,\n  26118.0,\n  26212.0,\n  26246.0,\n  26259.0,\n  26274.0,\n  26292.0,\n  26334.0,\n  26336.0,\n  26348.0,\n  26349.0,\n  26437.0,\n  26476.0,\n  26549.0,\n  26615.0,\n  26617.0,\n  26622.0,\n  26653.0,\n  26667.0,\n  26706.0,\n  26760.0,\n  26856.0,\n  26859.0,\n  26862.0,\n  26884.0,\n  26892.0,\n  26955.0,\n  26992.0,\n  27015.0,\n  27140.0,\n  27142.0,\n  27216.0,\n  27219.0,\n  27267.0,\n  27278.0,\n  27288.0,\n  27305.0,\n  27311.0,\n  27323.0,\n  27465.0,\n  27560.0,\n  27616.0,\n  27661.0,\n  27664.0,\n  27684.0,\n  27690.0,\n  27694.0,\n  27716.0},\n 5.0: {48.0,\n  83.0,\n  128.0,\n  132.0,\n  180.0,\n  233.0,\n  345.0,\n  389.0,\n  481.0,\n  520.0,\n  592.0,\n  610.0,\n  702.0,\n  741.0,\n  796.0,\n  829.0,\n  839.0,\n  866.0,\n  871.0,\n  909.0,\n  918.0,\n  947.0,\n  988.0,\n  1130.0,\n  1315.0,\n  1317.0,\n  1411.0,\n  1445.0,\n  1563.0,\n  1631.0,\n  1633.0,\n  1673.0,\n  1742.0,\n  1819.0,\n  1861.0,\n  2119.0,\n  2405.0,\n  2542.0,\n  2650.0,\n  2683.0,\n  2700.0,\n  2757.0,\n  2769.0,\n  2824.0,\n  2856.0,\n  2876.0,\n  2965.0,\n  2972.0,\n  3008.0,\n  3095.0,\n  3124.0,\n  3145.0,\n  3186.0,\n  3204.0,\n  3315.0,\n  3323.0,\n  3324.0,\n  3350.0,\n  3496.0,\n  3511.0,\n  3517.0,\n  3555.0,\n  3744.0,\n  3827.0,\n  3861.0,\n  3916.0,\n  3981.0,\n  3985.0,\n  4003.0,\n  4026.0,\n  4064.0,\n  4111.0,\n  4126.0,\n  4225.0,\n  4238.0,\n  4249.0,\n  4330.0,\n  4356.0,\n  4376.0,\n  4447.0,\n  4464.0,\n  4474.0,\n  4607.0,\n  4613.0,\n  4692.0,\n  4738.0,\n  4916.0,\n  4943.0,\n  4996.0,\n  5029.0,\n  5065.0,\n  5071.0,\n  5075.0,\n  5195.0,\n  5274.0,\n  5283.0,\n  5310.0,\n  5318.0,\n  5357.0,\n  5425.0,\n  5495.0,\n  5505.0,\n  5513.0,\n  5612.0,\n  5671.0,\n  5686.0,\n  5771.0,\n  5816.0,\n  5828.0,\n  5837.0,\n  5906.0,\n  5975.0,\n  6112.0,\n  6124.0,\n  6165.0,\n  6188.0,\n  6195.0,\n  6212.0,\n  6339.0,\n  6383.0,\n  6470.0,\n  6546.0,\n  6555.0,\n  6729.0,\n  6744.0,\n  6753.0,\n  6789.0,\n  6883.0,\n  6955.0,\n  6997.0,\n  7004.0,\n  7058.0,\n  7137.0,\n  7151.0,\n  7171.0,\n  7182.0,\n  7196.0,\n  7265.0,\n  7309.0,\n  7327.0,\n  7333.0,\n  7338.0,\n  7384.0,\n  7473.0,\n  7492.0,\n  7536.0,\n  7645.0,\n  7668.0,\n  7689.0,\n  7714.0,\n  7720.0,\n  7748.0,\n  7767.0,\n  7811.0,\n  7833.0,\n  7849.0,\n  7876.0,\n  7898.0,\n  7913.0,\n  7947.0,\n  8027.0,\n  8035.0,\n  8127.0,\n  8171.0,\n  8204.0,\n  8269.0,\n  8342.0,\n  8393.0,\n  8423.0,\n  8428.0,\n  8475.0,\n  8498.0,\n  8541.0,\n  8542.0,\n  8556.0,\n  8579.0,\n  8677.0,\n  8681.0,\n  8753.0,\n  8815.0,\n  8828.0,\n  8889.0,\n  8923.0,\n  8961.0,\n  8985.0,\n  8987.0,\n  9001.0,\n  9004.0,\n  9029.0,\n  9039.0,\n  9044.0,\n  9130.0,\n  9132.0,\n  9158.0,\n  9161.0,\n  9275.0,\n  9416.0,\n  9450.0,\n  9517.0,\n  9567.0,\n  9590.0,\n  9629.0,\n  9630.0,\n  9726.0,\n  9737.0,\n  9763.0,\n  9845.0,\n  9872.0,\n  10001.0,\n  10118.0,\n  10170.0,\n  10193.0,\n  10196.0,\n  10211.0,\n  10234.0,\n  10242.0,\n  10247.0,\n  10277.0,\n  10291.0,\n  10346.0,\n  10450.0,\n  10473.0,\n  10544.0,\n  10550.0,\n  10565.0,\n  10688.0,\n  10852.0,\n  10889.0,\n  11011.0,\n  11084.0,\n  11095.0,\n  11114.0,\n  11168.0,\n  11420.0,\n  11445.0,\n  11453.0,\n  11532.0,\n  11595.0,\n  11666.0,\n  11739.0,\n  11744.0,\n  11813.0,\n  11822.0,\n  11824.0,\n  11831.0,\n  11884.0,\n  11929.0,\n  11935.0,\n  11970.0,\n  12026.0,\n  12077.0,\n  12114.0,\n  12162.0,\n  12200.0,\n  12427.0,\n  12491.0,\n  12564.0,\n  12634.0,\n  12646.0,\n  12693.0,\n  12738.0,\n  12749.0,\n  12788.0,\n  12793.0,\n  12825.0,\n  12892.0,\n  12904.0,\n  12954.0,\n  13018.0,\n  13132.0,\n  13149.0,\n  13405.0,\n  13481.0,\n  13482.0,\n  13492.0,\n  13533.0,\n  13559.0,\n  13682.0,\n  13744.0,\n  13778.0,\n  13862.0,\n  14022.0,\n  14073.0,\n  14168.0,\n  14173.0,\n  14225.0,\n  14235.0,\n  14305.0,\n  14409.0,\n  14426.0,\n  14438.0,\n  14447.0,\n  14508.0,\n  14509.0,\n  14536.0,\n  14545.0,\n  14579.0,\n  14594.0,\n  14599.0,\n  14612.0,\n  14624.0,\n  14646.0,\n  14728.0,\n  14745.0,\n  14865.0,\n  14911.0,\n  14971.0,\n  14994.0,\n  14997.0,\n  15036.0,\n  15090.0,\n  15137.0,\n  15175.0,\n  15179.0,\n  15197.0,\n  15220.0,\n  15288.0,\n  15361.0,\n  15380.0,\n  15404.0,\n  15411.0,\n  15466.0,\n  15562.0,\n  15565.0,\n  15601.0,\n  15655.0,\n  15683.0,\n  15709.0,\n  15711.0,\n  15732.0,\n  15743.0,\n  15758.0,\n  15804.0,\n  15846.0,\n  15870.0,\n  15939.0,\n  15950.0,\n  16068.0,\n  16107.0,\n  16278.0,\n  16362.0,\n  16382.0,\n  16407.0,\n  16439.0,\n  16446.0,\n  16600.0,\n  16626.0,\n  16629.0,\n  16648.0,\n  16801.0,\n  16843.0,\n  16888.0,\n  16934.0,\n  16973.0,\n  16978.0,\n  16980.0,\n  17012.0,\n  17062.0,\n  17065.0,\n  17121.0,\n  17140.0,\n  17149.0,\n  17160.0,\n  17200.0,\n  17203.0,\n  17235.0,\n  17344.0,\n  17350.0,\n  17377.0,\n  17405.0,\n  17501.0,\n  17513.0,\n  17562.0,\n  17700.0,\n  17727.0,\n  17828.0,\n  17878.0,\n  17902.0,\n  17935.0,\n  17938.0,\n  17939.0,\n  17942.0,\n  17990.0,\n  18008.0,\n  18112.0,\n  18143.0,\n  18173.0,\n  18208.0,\n  18339.0,\n  18395.0,\n  18396.0,\n  18494.0,\n  18516.0,\n  18527.0,\n  18565.0,\n  18660.0,\n  18787.0,\n  18860.0,\n  18908.0,\n  18967.0,\n  19067.0,\n  19107.0,\n  19270.0,\n  19312.0,\n  19317.0,\n  19341.0,\n  19350.0,\n  19367.0,\n  19397.0,\n  19411.0,\n  19415.0,\n  19505.0,\n  19541.0,\n  19604.0,\n  19662.0,\n  19677.0,\n  19689.0,\n  19712.0,\n  19764.0,\n  19783.0,\n  19802.0,\n  19817.0,\n  19837.0,\n  19886.0,\n  19923.0,\n  19957.0,\n  19968.0,\n  20117.0,\n  20267.0,\n  20326.0,\n  20340.0,\n  20409.0,\n  20493.0,\n  20577.0,\n  20631.0,\n  20660.0,\n  20702.0,\n  20732.0,\n  20773.0,\n  20871.0,\n  20897.0,\n  20904.0,\n  21045.0,\n  21232.0,\n  21248.0,\n  21296.0,\n  21298.0,\n  21338.0,\n  21517.0,\n  21532.0,\n  21536.0,\n  21547.0,\n  21593.0,\n  21673.0,\n  21678.0,\n  21757.0,\n  21800.0,\n  21804.0,\n  21881.0,\n  21895.0,\n  21964.0,\n  22069.0,\n  22255.0,\n  22392.0,\n  22471.0,\n  22544.0,\n  22569.0,\n  22663.0,\n  22717.0,\n  22721.0,\n  22787.0,\n  22797.0,\n  22814.0,\n  22924.0,\n  22949.0,\n  22955.0,\n  22962.0,\n  22978.0,\n  22994.0,\n  22998.0,\n  23007.0,\n  23028.0,\n  23031.0,\n  23035.0,\n  23131.0,\n  23135.0,\n  23147.0,\n  23261.0,\n  23353.0,\n  23410.0,\n  23446.0,\n  23448.0,\n  23665.0,\n  23691.0,\n  23766.0,\n  23804.0,\n  23859.0,\n  23896.0,\n  23898.0,\n  23928.0,\n  24003.0,\n  24071.0,\n  24130.0,\n  24182.0,\n  24191.0,\n  24193.0,\n  24229.0,\n  24256.0,\n  24309.0,\n  24329.0,\n  24334.0,\n  24374.0,\n  24377.0,\n  24402.0,\n  24586.0,\n  24724.0,\n  24731.0,\n  24763.0,\n  24793.0,\n  24837.0,\n  24845.0,\n  24852.0,\n  24866.0,\n  24967.0,\n  24975.0,\n  24989.0,\n  25032.0,\n  25040.0,\n  25044.0,\n  25327.0,\n  25393.0,\n  25477.0,\n  25508.0,\n  25530.0,\n  25536.0,\n  25580.0,\n  25639.0,\n  25647.0,\n  25668.0,\n  25726.0,\n  25759.0,\n  25766.0,\n  25871.0,\n  25889.0,\n  25989.0,\n  26077.0,\n  26106.0,\n  26111.0,\n  26119.0,\n  26139.0,\n  26145.0,\n  26180.0,\n  26189.0,\n  26237.0,\n  26276.0,\n  26318.0,\n  26350.0,\n  26410.0,\n  26448.0,\n  26465.0,\n  26494.0,\n  26507.0,\n  26563.0,\n  26574.0,\n  26630.0,\n  26669.0,\n  26738.0,\n  26776.0,\n  26824.0,\n  26876.0,\n  27011.0,\n  27088.0,\n  27157.0,\n  27208.0,\n  27329.0,\n  27360.0,\n  27393.0,\n  27409.0,\n  27441.0,\n  27749.0},\n 6.0: {21.0,\n  55.0,\n  93.0,\n  130.0,\n  211.0,\n  261.0,\n  268.0,\n  274.0,\n  353.0,\n  357.0,\n  364.0,\n  368.0,\n  373.0,\n  412.0,\n  417.0,\n  437.0,\n  466.0,\n  471.0,\n  492.0,\n  499.0,\n  589.0,\n  595.0,\n  597.0,\n  662.0,\n  701.0,\n  728.0,\n  869.0,\n  884.0,\n  936.0,\n  1012.0,\n  1024.0,\n  1086.0,\n  1102.0,\n  1128.0,\n  1136.0,\n  1172.0,\n  1245.0,\n  1299.0,\n  1309.0,\n  1464.0,\n  1502.0,\n  1530.0,\n  1560.0,\n  1617.0,\n  1618.0,\n  1699.0,\n  1737.0,\n  1755.0,\n  1758.0,\n  1798.0,\n  1814.0,\n  1822.0,\n  1883.0,\n  1889.0,\n  1943.0,\n  1968.0,\n  1970.0,\n  1992.0,\n  1994.0,\n  2002.0,\n  2008.0,\n  2094.0,\n  2128.0,\n  2177.0,\n  2249.0,\n  2430.0,\n  2498.0,\n  2541.0,\n  2669.0,\n  2688.0,\n  2730.0,\n  2736.0,\n  2743.0,\n  2750.0,\n  2768.0,\n  2816.0,\n  2844.0,\n  2846.0,\n  2849.0,\n  2851.0,\n  2944.0,\n  2958.0,\n  2983.0,\n  3014.0,\n  3038.0,\n  3086.0,\n  3097.0,\n  3104.0,\n  3129.0,\n  3155.0,\n  3177.0,\n  3236.0,\n  3259.0,\n  3369.0,\n  3416.0,\n  3459.0,\n  3463.0,\n  3514.0,\n  3553.0,\n  3582.0,\n  3608.0,\n  3805.0,\n  3842.0,\n  3854.0,\n  3863.0,\n  4015.0,\n  4022.0,\n  4023.0,\n  4027.0,\n  4088.0,\n  4114.0,\n  4191.0,\n  4389.0,\n  4424.0,\n  4456.0,\n  4463.0,\n  4479.0,\n  4548.0,\n  4554.0,\n  4606.0,\n  4612.0,\n  4623.0,\n  4685.0,\n  4702.0,\n  4712.0,\n  4745.0,\n  4756.0,\n  4771.0,\n  4832.0,\n  4851.0,\n  4865.0,\n  4908.0,\n  4918.0,\n  4919.0,\n  4933.0,\n  4939.0,\n  5081.0,\n  5084.0,\n  5090.0,\n  5112.0,\n  5241.0,\n  5242.0,\n  5322.0,\n  5323.0,\n  5325.0,\n  5339.0,\n  5363.0,\n  5439.0,\n  5448.0,\n  5454.0,\n  5523.0,\n  5540.0,\n  5572.0,\n  5599.0,\n  5641.0,\n  5705.0,\n  5834.0,\n  5861.0,\n  5870.0,\n  5876.0,\n  5922.0,\n  5992.0,\n  6027.0,\n  6070.0,\n  6079.0,\n  6094.0,\n  6105.0,\n  6110.0,\n  6140.0,\n  6151.0,\n  6196.0,\n  6380.0,\n  6432.0,\n  6444.0,\n  6466.0,\n  6471.0,\n  6490.0,\n  6505.0,\n  6621.0,\n  6641.0,\n  6646.0,\n  6689.0,\n  6698.0,\n  6717.0,\n  6796.0,\n  6910.0,\n  7049.0,\n  7081.0,\n  7136.0,\n  7138.0,\n  7160.0,\n  7174.0,\n  7184.0,\n  7198.0,\n  7219.0,\n  7254.0,\n  7274.0,\n  7335.0,\n  7339.0,\n  7362.0,\n  7430.0,\n  7465.0,\n  7493.0,\n  7497.0,\n  7524.0,\n  7578.0,\n  7600.0,\n  7653.0,\n  7683.0,\n  7715.0,\n  7745.0,\n  7834.0,\n  7891.0,\n  7974.0,\n  7991.0,\n  8006.0,\n  8036.0,\n  8049.0,\n  8133.0,\n  8161.0,\n  8251.0,\n  8298.0,\n  8311.0,\n  8326.0,\n  8359.0,\n  8366.0,\n  8447.0,\n  8450.0,\n  8476.0,\n  8490.0,\n  8507.0,\n  8524.0,\n  8546.0,\n  8553.0,\n  8566.0,\n  8659.0,\n  8674.0,\n  8786.0,\n  8866.0,\n  9010.0,\n  9015.0,\n  9043.0,\n  9154.0,\n  9187.0,\n  9189.0,\n  9272.0,\n  9299.0,\n  9350.0,\n  9363.0,\n  9366.0,\n  9382.0,\n  9422.0,\n  9681.0,\n  9705.0,\n  9781.0,\n  9813.0,\n  9824.0,\n  9825.0,\n  9842.0,\n  9869.0,\n  9913.0,\n  9914.0,\n  9920.0,\n  9975.0,\n  10040.0,\n  10070.0,\n  10078.0,\n  10096.0,\n  10175.0,\n  10197.0,\n  10228.0,\n  10247.0,\n  10253.0,\n  10300.0,\n  10317.0,\n  10320.0,\n  10348.0,\n  10362.0,\n  10486.0,\n  10525.0,\n  10551.0,\n  10562.0,\n  10574.0,\n  10595.0,\n  10618.0,\n  10649.0,\n  10655.0,\n  10746.0,\n  10757.0,\n  10806.0,\n  10825.0,\n  10907.0,\n  10942.0,\n  11001.0,\n  11018.0,\n  11066.0,\n  11086.0,\n  11120.0,\n  11128.0,\n  11146.0,\n  11150.0,\n  11185.0,\n  11239.0,\n  11242.0,\n  11259.0,\n  11260.0,\n  11276.0,\n  11291.0,\n  11298.0,\n  11338.0,\n  11350.0,\n  11386.0,\n  11412.0,\n  11456.0,\n  11465.0,\n  11512.0,\n  11523.0,\n  11594.0,\n  11616.0,\n  11626.0,\n  11632.0,\n  11641.0,\n  11732.0,\n  11771.0,\n  11889.0,\n  11916.0,\n  11918.0,\n  11930.0,\n  12006.0,\n  12041.0,\n  12055.0,\n  12062.0,\n  12067.0,\n  12071.0,\n  12134.0,\n  12149.0,\n  12226.0,\n  12248.0,\n  12250.0,\n  12317.0,\n  12356.0,\n  12357.0,\n  12381.0,\n  12440.0,\n  12452.0,\n  12485.0,\n  12549.0,\n  12594.0,\n  12669.0,\n  12687.0,\n  12692.0,\n  12700.0,\n  12754.0,\n  12868.0,\n  12909.0,\n  12930.0,\n  12995.0,\n  13041.0,\n  13069.0,\n  13090.0,\n  13142.0,\n  13203.0,\n  13208.0,\n  13312.0,\n  13313.0,\n  13331.0,\n  13355.0,\n  13365.0,\n  13377.0,\n  13389.0,\n  13398.0,\n  13426.0,\n  13431.0,\n  13479.0,\n  13501.0,\n  13517.0,\n  13541.0,\n  13600.0,\n  13684.0,\n  13705.0,\n  13885.0,\n  13959.0,\n  13974.0,\n  13984.0,\n  14062.0,\n  14063.0,\n  14099.0,\n  14142.0,\n  14163.0,\n  14184.0,\n  14218.0,\n  14223.0,\n  14290.0,\n  14312.0,\n  14339.0,\n  14365.0,\n  14390.0,\n  14395.0,\n  14409.0,\n  14562.0,\n  14571.0,\n  14572.0,\n  14596.0,\n  14666.0,\n  14677.0,\n  14709.0,\n  14778.0,\n  14794.0,\n  14973.0,\n  14993.0,\n  15127.0,\n  15138.0,\n  15222.0,\n  15334.0,\n  15354.0,\n  15366.0,\n  15396.0,\n  15415.0,\n  15542.0,\n  15624.0,\n  15660.0,\n  15671.0,\n  15673.0,\n  15679.0,\n  15704.0,\n  15734.0,\n  15739.0,\n  15774.0,\n  15867.0,\n  15881.0,\n  15897.0,\n  15918.0,\n  15930.0,\n  15993.0,\n  16016.0,\n  16099.0,\n  16132.0,\n  16229.0,\n  16245.0,\n  16267.0,\n  16300.0,\n  16313.0,\n  16392.0,\n  16413.0,\n  16415.0,\n  16487.0,\n  16518.0,\n  16522.0,\n  16532.0,\n  16558.0,\n  16585.0,\n  16627.0,\n  16672.0,\n  16673.0,\n  16682.0,\n  16746.0,\n  16766.0,\n  16828.0,\n  16852.0,\n  16870.0,\n  16910.0,\n  16943.0,\n  16951.0,\n  16972.0,\n  17195.0,\n  17210.0,\n  17242.0,\n  17246.0,\n  17305.0,\n  17329.0,\n  17345.0,\n  17354.0,\n  17428.0,\n  17447.0,\n  17471.0,\n  17474.0,\n  17483.0,\n  17521.0,\n  17529.0,\n  17573.0,\n  17603.0,\n  17651.0,\n  17726.0,\n  17731.0,\n  17804.0,\n  17812.0,\n  17894.0,\n  17901.0,\n  17914.0,\n  17915.0,\n  17930.0,\n  18009.0,\n  18055.0,\n  18066.0,\n  18068.0,\n  18095.0,\n  18116.0,\n  18132.0,\n  18165.0,\n  18184.0,\n  18195.0,\n  18211.0,\n  18216.0,\n  18245.0,\n  18292.0,\n  18329.0,\n  18343.0,\n  18401.0,\n  18437.0,\n  18475.0,\n  18498.0,\n  18520.0,\n  18567.0,\n  18601.0,\n  18641.0,\n  18746.0,\n  18812.0,\n  18838.0,\n  18867.0,\n  18924.0,\n  18958.0,\n  19065.0,\n  19113.0,\n  19136.0,\n  19218.0,\n  19265.0,\n  19295.0,\n  19302.0,\n  19376.0,\n  19406.0,\n  19409.0,\n  19526.0,\n  19553.0,\n  19566.0,\n  19574.0,\n  19594.0,\n  19599.0,\n  19770.0,\n  19789.0,\n  19879.0,\n  19896.0,\n  19909.0,\n  19942.0,\n  19983.0,\n  20010.0,\n  20135.0,\n  20187.0,\n  20218.0,\n  20442.0,\n  20521.0,\n  20527.0,\n  20535.0,\n  20590.0,\n  20642.0,\n  20683.0,\n  20753.0,\n  20815.0,\n  20825.0,\n  20871.0,\n  20873.0,\n  20934.0,\n  20939.0,\n  20999.0,\n  21016.0,\n  21040.0,\n  21079.0,\n  21083.0,\n  21251.0,\n  21252.0,\n  21265.0,\n  21272.0,\n  21355.0,\n  21409.0,\n  21443.0,\n  21450.0,\n  21495.0,\n  21525.0,\n  21534.0,\n  21575.0,\n  21634.0,\n  21669.0,\n  21693.0,\n  21700.0,\n  21732.0,\n  21796.0,\n  21826.0,\n  21856.0,\n  21929.0,\n  22000.0,\n  22137.0,\n  22142.0,\n  22207.0,\n  22267.0,\n  22268.0,\n  22278.0,\n  22310.0,\n  22314.0,\n  22367.0,\n  22435.0,\n  22494.0,\n  22526.0,\n  22577.0,\n  22588.0,\n  22598.0,\n  22601.0,\n  22604.0,\n  22687.0,\n  22724.0,\n  22732.0,\n  22740.0,\n  22917.0,\n  22947.0,\n  22982.0,\n  23020.0,\n  23037.0,\n  23041.0,\n  23047.0,\n  23063.0,\n  23085.0,\n  23192.0,\n  23242.0,\n  23253.0,\n  23274.0,\n  23300.0,\n  23309.0,\n  23330.0,\n  23373.0,\n  23385.0,\n  23423.0,\n  23482.0,\n  23554.0,\n  23618.0,\n  23678.0,\n  23704.0,\n  23712.0,\n  23815.0,\n  23833.0,\n  23846.0,\n  24020.0,\n  24048.0,\n  24055.0,\n  24067.0,\n  24094.0,\n  24119.0,\n  24205.0,\n  24208.0,\n  24281.0,\n  24289.0,\n  24311.0,\n  24338.0,\n  24354.0,\n  24369.0,\n  24404.0,\n  24454.0,\n  24463.0,\n  24464.0,\n  24490.0,\n  24505.0,\n  24641.0,\n  24676.0,\n  24733.0,\n  24765.0,\n  24829.0,\n  24841.0,\n  24863.0,\n  24896.0,\n  24910.0,\n  24936.0,\n  24952.0,\n  25002.0,\n  25025.0,\n  25036.0,\n  25077.0,\n  25225.0,\n  25230.0,\n  25275.0,\n  25331.0,\n  25339.0,\n  25399.0,\n  25404.0,\n  25423.0,\n  25437.0,\n  25457.0,\n  25469.0,\n  25554.0,\n  25589.0,\n  25605.0,\n  25628.0,\n  25630.0,\n  25638.0,\n  25709.0,\n  25872.0,\n  25922.0,\n  25954.0,\n  26103.0,\n  26130.0,\n  26141.0,\n  26142.0,\n  26171.0,\n  26223.0,\n  26225.0,\n  26229.0,\n  26246.0,\n  26363.0,\n  26417.0,\n  26433.0,\n  26444.0,\n  26455.0,\n  26565.0,\n  26576.0,\n  26633.0,\n  26679.0,\n  26709.0,\n  26743.0,\n  26763.0,\n  26769.0,\n  26801.0,\n  26824.0,\n  26870.0,\n  26953.0,\n  26965.0,\n  27041.0,\n  27083.0,\n  27092.0,\n  27151.0,\n  27167.0,\n  27169.0,\n  27198.0,\n  27206.0,\n  27216.0,\n  27280.0,\n  27305.0,\n  27350.0,\n  27355.0,\n  27365.0,\n  27399.0,\n  27438.0,\n  27454.0,\n  27459.0,\n  27490.0,\n  27515.0,\n  27536.0,\n  27577.0,\n  27599.0,\n  27642.0,\n  27646.0,\n  27664.0,\n  27703.0,\n  27708.0},\n 7.0: {3.0,\n  4.0,\n  5.0,\n  6.0,\n  7.0,\n  20.0,\n  24.0,\n  26.0,\n  29.0,\n  38.0,\n  55.0,\n  57.0,\n  69.0,\n  77.0,\n  82.0,\n  83.0,\n  84.0,\n  101.0,\n  109.0,\n  116.0,\n  117.0,\n  118.0,\n  121.0,\n  133.0,\n  138.0,\n  146.0,\n  150.0,\n  156.0,\n  158.0,\n  168.0,\n  171.0,\n  175.0,\n  182.0,\n  185.0,\n  188.0,\n  190.0,\n  191.0,\n  194.0,\n  206.0,\n  218.0,\n  223.0,\n  233.0,\n  238.0,\n  241.0,\n  242.0,\n  244.0,\n  250.0,\n  258.0,\n  259.0,\n  264.0,\n  270.0,\n  272.0,\n  275.0,\n  278.0,\n  283.0,\n  286.0,\n  290.0,\n  303.0,\n  305.0,\n  308.0,\n  309.0,\n  321.0,\n  322.0,\n  323.0,\n  331.0,\n  336.0,\n  338.0,\n  341.0,\n  342.0,\n  364.0,\n  368.0,\n  369.0,\n  370.0,\n  382.0,\n  386.0,\n  388.0,\n  391.0,\n  392.0,\n  395.0,\n  399.0,\n  401.0,\n  402.0,\n  404.0,\n  413.0,\n  418.0,\n  427.0,\n  438.0,\n  449.0,\n  451.0,\n  455.0,\n  461.0,\n  466.0,\n  471.0,\n  475.0,\n  477.0,\n  481.0,\n  485.0,\n  488.0,\n  502.0,\n  503.0,\n  507.0,\n  508.0,\n  511.0,\n  521.0,\n  523.0,\n  524.0,\n  528.0,\n  529.0,\n  531.0,\n  535.0,\n  545.0,\n  557.0,\n  560.0,\n  567.0,\n  569.0,\n  585.0,\n  587.0,\n  592.0,\n  594.0,\n  596.0,\n  601.0,\n  602.0,\n  605.0,\n  611.0,\n  613.0,\n  614.0,\n  616.0,\n  622.0,\n  631.0,\n  636.0,\n  641.0,\n  642.0,\n  652.0,\n  653.0,\n  662.0,\n  665.0,\n  667.0,\n  679.0,\n  681.0,\n  686.0,\n  692.0,\n  693.0,\n  699.0,\n  700.0,\n  706.0,\n  711.0,\n  712.0,\n  717.0,\n  722.0,\n  728.0,\n  729.0,\n  730.0,\n  732.0,\n  744.0,\n  749.0,\n  751.0,\n  754.0,\n  756.0,\n  758.0,\n  763.0,\n  768.0,\n  769.0,\n  777.0,\n  788.0,\n  795.0,\n  797.0,\n  806.0,\n  811.0,\n  815.0,\n  818.0,\n  830.0,\n  839.0,\n  840.0,\n  844.0,\n  846.0,\n  850.0,\n  859.0,\n  860.0,\n  862.0,\n  865.0,\n  873.0,\n  876.0,\n  879.0,\n  886.0,\n  887.0,\n  892.0,\n  903.0,\n  908.0,\n  909.0,\n  910.0,\n  919.0,\n  925.0,\n  931.0,\n  935.0,\n  937.0,\n  938.0,\n  942.0,\n  946.0,\n  951.0,\n  953.0,\n  955.0,\n  957.0,\n  958.0,\n  962.0,\n  967.0,\n  973.0,\n  974.0,\n  978.0,\n  980.0,\n  992.0,\n  1000.0,\n  1003.0,\n  1018.0,\n  1021.0,\n  1024.0,\n  1033.0,\n  1035.0,\n  1037.0,\n  1042.0,\n  1045.0,\n  1053.0,\n  1056.0,\n  1065.0,\n  1069.0,\n  1072.0,\n  1073.0,\n  1078.0,\n  1080.0,\n  1085.0,\n  1094.0,\n  1097.0,\n  1098.0,\n  1103.0,\n  1108.0,\n  1110.0,\n  1117.0,\n  1122.0,\n  1128.0,\n  1149.0,\n  1152.0,\n  1158.0,\n  1161.0,\n  1188.0,\n  1195.0,\n  1201.0,\n  1203.0,\n  1210.0,\n  1211.0,\n  1217.0,\n  1219.0,\n  1227.0,\n  1229.0,\n  1232.0,\n  1235.0,\n  1246.0,\n  1251.0,\n  1256.0,\n  1259.0,\n  1260.0,\n  1263.0,\n  1276.0,\n  1278.0,\n  1287.0,\n  1293.0,\n  1296.0,\n  1306.0,\n  1315.0,\n  1318.0,\n  1325.0,\n  1332.0,\n  1338.0,\n  1346.0,\n  1353.0,\n  1354.0,\n  1359.0,\n  1364.0,\n  1380.0,\n  1389.0,\n  1395.0,\n  1399.0,\n  1407.0,\n  1409.0,\n  1413.0,\n  1415.0,\n  1417.0,\n  1418.0,\n  1420.0,\n  1427.0,\n  1430.0,\n  1432.0,\n  1433.0,\n  1436.0,\n  1439.0,\n  1443.0,\n  1444.0,\n  1448.0,\n  1454.0,\n  1459.0,\n  1460.0,\n  1466.0,\n  1470.0,\n  1476.0,\n  1481.0,\n  1489.0,\n  1494.0,\n  1500.0,\n  1505.0,\n  1506.0,\n  1510.0,\n  1513.0,\n  1514.0,\n  1521.0,\n  1525.0,\n  1537.0,\n  1550.0,\n  1553.0,\n  1554.0,\n  1558.0,\n  1559.0,\n  1569.0,\n  1571.0,\n  1579.0,\n  1580.0,\n  1599.0,\n  1604.0,\n  1611.0,\n  1617.0,\n  1628.0,\n  1630.0,\n  1632.0,\n  1640.0,\n  1649.0,\n  1651.0,\n  1654.0,\n  1665.0,\n  1667.0,\n  1691.0,\n  1699.0,\n  1702.0,\n  1703.0,\n  1719.0,\n  1736.0,\n  1737.0,\n  1748.0,\n  1753.0,\n  1755.0,\n  1762.0,\n  1768.0,\n  1769.0,\n  1774.0,\n  1778.0,\n  1789.0,\n  1796.0,\n  1797.0,\n  1800.0,\n  1804.0,\n  1809.0,\n  1813.0,\n  1818.0,\n  1824.0,\n  1827.0,\n  1844.0,\n  1852.0,\n  1854.0,\n  1860.0,\n  1862.0,\n  1866.0,\n  1870.0,\n  1871.0,\n  1877.0,\n  1878.0,\n  1885.0,\n  1886.0,\n  1896.0,\n  1899.0,\n  1901.0,\n  1904.0,\n  1907.0,\n  1912.0,\n  1921.0,\n  1923.0,\n  1926.0,\n  1934.0,\n  1935.0,\n  1941.0,\n  1943.0,\n  1956.0,\n  1963.0,\n  1965.0,\n  1966.0,\n  1975.0,\n  1977.0,\n  1982.0,\n  1985.0,\n  1988.0,\n  1989.0,\n  1991.0,\n  1992.0,\n  1994.0,\n  1995.0,\n  1997.0,\n  1999.0,\n  2001.0,\n  2006.0,\n  2007.0,\n  2008.0,\n  2013.0,\n  2019.0,\n  2021.0,\n  2025.0,\n  2030.0,\n  2035.0,\n  2036.0,\n  2043.0,\n  2044.0,\n  2052.0,\n  2057.0,\n  2062.0,\n  2063.0,\n  2065.0,\n  2074.0,\n  2076.0,\n  2081.0,\n  2082.0,\n  2083.0,\n  2084.0,\n  2085.0,\n  2089.0,\n  2093.0,\n  2100.0,\n  2103.0,\n  2108.0,\n  2109.0,\n  2112.0,\n  2114.0,\n  2117.0,\n  2121.0,\n  2128.0,\n  2136.0,\n  2139.0,\n  2142.0,\n  2149.0,\n  2157.0,\n  2158.0,\n  2159.0,\n  2164.0,\n  2168.0,\n  2179.0,\n  2193.0,\n  2197.0,\n  2201.0,\n  2205.0,\n  2238.0,\n  2240.0,\n  2241.0,\n  2242.0,\n  2247.0,\n  2249.0,\n  2250.0,\n  2253.0,\n  2254.0,\n  2265.0,\n  2266.0,\n  2271.0,\n  2275.0,\n  2276.0,\n  2282.0,\n  2284.0,\n  2289.0,\n  2294.0,\n  2309.0,\n  2313.0,\n  2315.0,\n  2328.0,\n  2332.0,\n  2338.0,\n  2353.0,\n  2356.0,\n  2359.0,\n  2363.0,\n  2365.0,\n  2366.0,\n  2368.0,\n  2386.0,\n  2400.0,\n  2403.0,\n  2411.0,\n  2414.0,\n  2421.0,\n  2423.0,\n  2427.0,\n  2428.0,\n  2430.0,\n  2440.0,\n  2451.0,\n  2454.0,\n  2463.0,\n  2475.0,\n  2479.0,\n  2484.0,\n  2487.0,\n  2500.0,\n  2501.0,\n  2503.0,\n  2507.0,\n  2511.0,\n  2515.0,\n  2516.0,\n  2518.0,\n  2519.0,\n  2528.0,\n  2530.0,\n  2531.0,\n  2535.0,\n  2541.0,\n  2545.0,\n  2551.0,\n  2552.0,\n  2554.0,\n  2557.0,\n  2559.0,\n  2572.0,\n  2574.0,\n  2575.0,\n  2585.0,\n  2586.0,\n  2588.0,\n  2598.0,\n  2601.0,\n  2604.0,\n  2606.0,\n  2608.0,\n  2611.0,\n  2614.0,\n  2623.0,\n  2627.0,\n  2632.0,\n  2636.0,\n  2641.0,\n  2662.0,\n  2663.0,\n  2665.0,\n  2666.0,\n  2668.0,\n  2669.0,\n  2672.0,\n  2675.0,\n  2678.0,\n  2681.0,\n  2693.0,\n  2695.0,\n  2698.0,\n  2700.0,\n  2706.0,\n  2708.0,\n  2718.0,\n  2722.0,\n  2723.0,\n  2728.0,\n  2735.0,\n  2739.0,\n  2740.0,\n  2755.0,\n  2768.0,\n  2772.0,\n  2774.0,\n  2776.0,\n  2778.0,\n  2780.0,\n  2791.0,\n  2794.0,\n  2799.0,\n  2801.0,\n  2804.0,\n  2807.0,\n  2819.0,\n  2823.0,\n  2826.0,\n  2827.0,\n  2831.0,\n  2833.0,\n  2839.0,\n  2849.0,\n  2850.0,\n  2857.0,\n  2860.0,\n  2861.0,\n  2872.0,\n  2873.0,\n  2874.0,\n  2878.0,\n  2881.0,\n  2883.0,\n  2886.0,\n  2900.0,\n  2903.0,\n  2908.0,\n  2910.0,\n  2911.0,\n  2918.0,\n  2921.0,\n  2922.0,\n  2925.0,\n  2927.0,\n  2930.0,\n  2933.0,\n  2938.0,\n  2954.0,\n  2956.0,\n  2959.0,\n  2960.0,\n  2972.0,\n  2982.0,\n  2991.0,\n  2995.0,\n  2999.0,\n  3002.0,\n  3006.0,\n  3019.0,\n  3020.0,\n  3024.0,\n  3028.0,\n  3039.0,\n  3041.0,\n  3042.0,\n  3057.0,\n  3059.0,\n  3060.0,\n  3062.0,\n  3065.0,\n  3069.0,\n  3075.0,\n  3086.0,\n  3089.0,\n  3098.0,\n  3108.0,\n  3112.0,\n  3114.0,\n  3123.0,\n  3132.0,\n  3133.0,\n  3134.0,\n  3141.0,\n  3147.0,\n  3165.0,\n  3167.0,\n  3169.0,\n  3171.0,\n  3176.0,\n  3177.0,\n  3179.0,\n  3192.0,\n  3193.0,\n  3205.0,\n  3208.0,\n  3217.0,\n  3220.0,\n  3227.0,\n  3233.0,\n  3241.0,\n  3251.0,\n  3254.0,\n  3268.0,\n  3270.0,\n  3277.0,\n  3295.0,\n  3297.0,\n  3305.0,\n  3310.0,\n  3312.0,\n  3318.0,\n  3319.0,\n  3342.0,\n  3343.0,\n  3351.0,\n  3353.0,\n  3357.0,\n  3360.0,\n  3365.0,\n  3371.0,\n  3374.0,\n  3390.0,\n  3392.0,\n  3398.0,\n  3400.0,\n  3402.0,\n  3407.0,\n  3409.0,\n  3415.0,\n  3427.0,\n  3433.0,\n  3440.0,\n  3461.0,\n  3467.0,\n  3475.0,\n  3479.0,\n  3484.0,\n  3486.0,\n  3497.0,\n  3504.0,\n  3507.0,\n  3511.0,\n  3514.0,\n  3521.0,\n  3522.0,\n  3525.0,\n  3535.0,\n  3551.0,\n  3561.0,\n  3563.0,\n  3570.0,\n  3576.0,\n  3577.0,\n  3579.0,\n  3583.0,\n  3586.0,\n  3588.0,\n  3593.0,\n  3595.0,\n  3598.0,\n  3600.0,\n  3615.0,\n  3617.0,\n  3627.0,\n  3630.0,\n  3633.0,\n  3634.0,\n  3637.0,\n  3639.0,\n  3655.0,\n  3657.0,\n  3658.0,\n  3667.0,\n  3671.0,\n  3676.0,\n  3678.0,\n  3683.0,\n  3685.0,\n  3693.0,\n  3700.0,\n  3709.0,\n  3710.0,\n  3711.0,\n  3716.0,\n  3724.0,\n  3735.0,\n  3741.0,\n  3749.0,\n  3756.0,\n  3768.0,\n  3776.0,\n  3777.0,\n  3782.0,\n  3792.0,\n  3793.0,\n  3795.0,\n  3803.0,\n  3805.0,\n  3807.0,\n  3810.0,\n  3811.0,\n  3817.0,\n  3818.0,\n  3822.0,\n  3823.0,\n  3830.0,\n  3831.0,\n  3836.0,\n  3840.0,\n  3843.0,\n  3848.0,\n  3857.0,\n  3861.0,\n  3878.0,\n  3882.0,\n  3887.0,\n  3898.0,\n  3909.0,\n  3911.0,\n  3912.0,\n  3913.0,\n  3918.0,\n  3920.0,\n  3922.0,\n  3923.0,\n  3926.0,\n  3927.0,\n  3928.0,\n  3931.0,\n  3935.0,\n  3936.0,\n  3937.0,\n  3938.0,\n  3940.0,\n  3945.0,\n  3947.0,\n  3949.0,\n  3952.0,\n  3955.0,\n  3967.0,\n  3972.0,\n  3983.0,\n  3984.0,\n  3988.0,\n  3991.0,\n  3996.0,\n  3998.0,\n  4002.0,\n  4010.0,\n  4011.0,\n  4018.0,\n  4020.0,\n  4021.0,\n  4023.0,\n  4037.0,\n  4039.0,\n  4040.0,\n  4041.0,\n  4044.0,\n  4050.0,\n  4053.0,\n  4054.0,\n  4057.0,\n  4065.0,\n  4070.0,\n  4072.0,\n  4073.0,\n  4074.0,\n  4075.0,\n  4081.0,\n  4083.0,\n  4084.0,\n  4085.0,\n  4086.0,\n  4089.0,\n  4090.0,\n  4091.0,\n  4099.0,\n  4107.0,\n  4108.0,\n  4111.0,\n  4113.0,\n  4123.0,\n  4126.0,\n  4130.0,\n  4166.0,\n  4167.0,\n  4168.0,\n  4171.0,\n  4172.0,\n  4173.0,\n  4180.0,\n  4183.0,\n  4187.0,\n  4189.0,\n  4191.0,\n  4215.0,\n  4234.0,\n  4250.0,\n  4257.0,\n  4258.0,\n  4261.0,\n  4274.0,\n  4279.0,\n  4295.0,\n  4297.0,\n  4301.0,\n  4306.0,\n  4307.0,\n  4309.0,\n  4312.0,\n  4315.0,\n  4318.0,\n  4326.0,\n  4329.0,\n  4332.0,\n  4343.0,\n  4346.0,\n  4354.0,\n  4357.0,\n  4358.0,\n  4365.0,\n  4392.0,\n  4393.0,\n  4395.0,\n  4396.0,\n  4401.0,\n  4406.0,\n  4407.0,\n  4414.0,\n  4421.0,\n  4425.0,\n  4431.0,\n  4446.0,\n  4449.0,\n  4456.0,\n  4458.0,\n  4460.0,\n  4466.0,\n  4467.0,\n  4470.0,\n  4472.0,\n  4486.0,\n  4488.0,\n  4495.0,\n  4496.0,\n  4500.0,\n  4503.0,\n  4505.0,\n  4511.0,\n  4512.0,\n  4514.0,\n  4517.0,\n  4518.0,\n  4522.0,\n  4542.0,\n  4546.0,\n  4548.0,\n  4549.0,\n  4550.0,\n  4554.0,\n  4555.0,\n  4562.0,\n  4566.0,\n  4567.0,\n  4570.0,\n  4575.0,\n  4579.0,\n  4580.0,\n  4582.0,\n  4587.0,\n  4588.0,\n  4592.0,\n  4598.0,\n  4600.0,\n  4601.0,\n  4615.0,\n  4618.0,\n  4619.0,\n  4631.0,\n  4637.0,\n  4642.0,\n  4649.0,\n  4651.0,\n  4656.0,\n  4662.0,\n  4663.0,\n  4664.0,\n  4676.0,\n  4678.0,\n  4679.0,\n  4683.0,\n  4685.0,\n  4686.0,\n  4687.0,\n  4690.0,\n  4692.0,\n  4696.0,\n  4698.0,\n  4701.0,\n  4702.0,\n  4707.0,\n  4715.0,\n  4725.0,\n  4726.0,\n  4740.0,\n  4744.0,\n  4747.0,\n  4756.0,\n  4761.0,\n  4763.0,\n  4770.0,\n  4777.0,\n  4781.0,\n  4784.0,\n  4786.0,\n  4788.0,\n  4799.0,\n  4800.0,\n  4807.0,\n  4809.0,\n  4814.0,\n  4820.0,\n  4822.0,\n  4827.0,\n  4836.0,\n  4843.0,\n  4850.0,\n  4856.0,\n  4886.0,\n  4890.0,\n  4894.0,\n  4901.0,\n  4909.0,\n  4910.0,\n  4912.0,\n  4914.0,\n  4916.0,\n  4919.0,\n  4924.0,\n  ...},\n 8.0: {15.0,\n  80.0,\n  172.0,\n  195.0,\n  306.0,\n  337.0,\n  357.0,\n  410.0,\n  488.0,\n  525.0,\n  560.0,\n  577.0,\n  698.0,\n  776.0,\n  810.0,\n  816.0,\n  821.0,\n  851.0,\n  873.0,\n  927.0,\n  973.0,\n  979.0,\n  1016.0,\n  1078.0,\n  1099.0,\n  1137.0,\n  1182.0,\n  1222.0,\n  1228.0,\n  1296.0,\n  1308.0,\n  1338.0,\n  1351.0,\n  1382.0,\n  1478.0,\n  1546.0,\n  1575.0,\n  1577.0,\n  1586.0,\n  1596.0,\n  1729.0,\n  1827.0,\n  1845.0,\n  1865.0,\n  1877.0,\n  1900.0,\n  1928.0,\n  1959.0,\n  2010.0,\n  2025.0,\n  2113.0,\n  2172.0,\n  2199.0,\n  2200.0,\n  2224.0,\n  2246.0,\n  2252.0,\n  2326.0,\n  2396.0,\n  2427.0,\n  2459.0,\n  2479.0,\n  2493.0,\n  2567.0,\n  2598.0,\n  2604.0,\n  2630.0,\n  2658.0,\n  2693.0,\n  2727.0,\n  2749.0,\n  2779.0,\n  2784.0,\n  2823.0,\n  2984.0,\n  3014.0,\n  3070.0,\n  3179.0,\n  3456.0,\n  3499.0,\n  3627.0,\n  3736.0,\n  3832.0,\n  3860.0,\n  3902.0,\n  3907.0,\n  3917.0,\n  4075.0,\n  4103.0,\n  4111.0,\n  4127.0,\n  4134.0,\n  4152.0,\n  4359.0,\n  4420.0,\n  4585.0,\n  4642.0,\n  4673.0,\n  4683.0,\n  4707.0,\n  4731.0,\n  4802.0,\n  4874.0,\n  4926.0,\n  4937.0,\n  4983.0,\n  5014.0,\n  5083.0,\n  5175.0,\n  5281.0,\n  5463.0,\n  5593.0,\n  5628.0,\n  5663.0,\n  5735.0,\n  5736.0,\n  5741.0,\n  5743.0,\n  5910.0,\n  5936.0,\n  5938.0,\n  5957.0,\n  6021.0,\n  6065.0,\n  6078.0,\n  6111.0,\n  6118.0,\n  6157.0,\n  6332.0,\n  6334.0,\n  6498.0,\n  6513.0,\n  6523.0,\n  6527.0,\n  6542.0,\n  6562.0,\n  6569.0,\n  6606.0,\n  6818.0,\n  6863.0,\n  6888.0,\n  6952.0,\n  6993.0,\n  7012.0,\n  7041.0,\n  7042.0,\n  7079.0,\n  7113.0,\n  7118.0,\n  7188.0,\n  7199.0,\n  7246.0,\n  7270.0,\n  7337.0,\n  7370.0,\n  7410.0,\n  7436.0,\n  7464.0,\n  7466.0,\n  7516.0,\n  7535.0,\n  7589.0,\n  7687.0,\n  7711.0,\n  7713.0,\n  7715.0,\n  7740.0,\n  7844.0,\n  7896.0,\n  7919.0,\n  7931.0,\n  7951.0,\n  8098.0,\n  8137.0,\n  8197.0,\n  8337.0,\n  8404.0,\n  8430.0,\n  8452.0,\n  8480.0,\n  8495.0,\n  8496.0,\n  8583.0,\n  8644.0,\n  8790.0,\n  8840.0,\n  9023.0,\n  9217.0,\n  9245.0,\n  9264.0,\n  9337.0,\n  9453.0,\n  9595.0,\n  9605.0,\n  9620.0,\n  9670.0,\n  9702.0,\n  9748.0,\n  9787.0,\n  9821.0,\n  9823.0,\n  9842.0,\n  9912.0,\n  9981.0,\n  9984.0,\n  10019.0,\n  10031.0,\n  10049.0,\n  10058.0,\n  10072.0,\n  10145.0,\n  10148.0,\n  10228.0,\n  10272.0,\n  10275.0,\n  10302.0,\n  10410.0,\n  10437.0,\n  10454.0,\n  10490.0,\n  10515.0,\n  10551.0,\n  10604.0,\n  10628.0,\n  10713.0,\n  10720.0,\n  10730.0,\n  10786.0,\n  10790.0,\n  10795.0,\n  10809.0,\n  10872.0,\n  10883.0,\n  10941.0,\n  10985.0,\n  11015.0,\n  11069.0,\n  11140.0,\n  11268.0,\n  11362.0,\n  11370.0,\n  11375.0,\n  11429.0,\n  11458.0,\n  11481.0,\n  11496.0,\n  11684.0,\n  11694.0,\n  11765.0,\n  11766.0,\n  11909.0,\n  11967.0,\n  12022.0,\n  12047.0,\n  12064.0,\n  12083.0,\n  12175.0,\n  12181.0,\n  12206.0,\n  12208.0,\n  12234.0,\n  12408.0,\n  12468.0,\n  12535.0,\n  12592.0,\n  12698.0,\n  12701.0,\n  12762.0,\n  12784.0,\n  12813.0,\n  12850.0,\n  12865.0,\n  12933.0,\n  13013.0,\n  13131.0,\n  13155.0,\n  13236.0,\n  13257.0,\n  13271.0,\n  13312.0,\n  13351.0,\n  13355.0,\n  13470.0,\n  13476.0,\n  13527.0,\n  13599.0,\n  13604.0,\n  13657.0,\n  13666.0,\n  13671.0,\n  13672.0,\n  13678.0,\n  13732.0,\n  13794.0,\n  13799.0,\n  13882.0,\n  13884.0,\n  13930.0,\n  14051.0,\n  14154.0,\n  14190.0,\n  14346.0,\n  14370.0,\n  14413.0,\n  14419.0,\n  14460.0,\n  14477.0,\n  14486.0,\n  14637.0,\n  14645.0,\n  14669.0,\n  14735.0,\n  14767.0,\n  14775.0,\n  14880.0,\n  14897.0,\n  14904.0,\n  14920.0,\n  14961.0,\n  14996.0,\n  15055.0,\n  15075.0,\n  15088.0,\n  15154.0,\n  15223.0,\n  15251.0,\n  15264.0,\n  15287.0,\n  15297.0,\n  15384.0,\n  15398.0,\n  15435.0,\n  15457.0,\n  15556.0,\n  15602.0,\n  15644.0,\n  15657.0,\n  15664.0,\n  15672.0,\n  15795.0,\n  15818.0,\n  15848.0,\n  15856.0,\n  15889.0,\n  15900.0,\n  15936.0,\n  16013.0,\n  16018.0,\n  16033.0,\n  16071.0,\n  16093.0,\n  16120.0,\n  16209.0,\n  16268.0,\n  16295.0,\n  16330.0,\n  16340.0,\n  16353.0,\n  16361.0,\n  16365.0,\n  16367.0,\n  16428.0,\n  16466.0,\n  16473.0,\n  16477.0,\n  16508.0,\n  16521.0,\n  16544.0,\n  16630.0,\n  16642.0,\n  16815.0,\n  16925.0,\n  17044.0,\n  17057.0,\n  17074.0,\n  17088.0,\n  17106.0,\n  17136.0,\n  17184.0,\n  17185.0,\n  17211.0,\n  17364.0,\n  17381.0,\n  17476.0,\n  17509.0,\n  17515.0,\n  17541.0,\n  17559.0,\n  17581.0,\n  17588.0,\n  17593.0,\n  17603.0,\n  17640.0,\n  17710.0,\n  17719.0,\n  17760.0,\n  17767.0,\n  17946.0,\n  17994.0,\n  18017.0,\n  18047.0,\n  18053.0,\n  18083.0,\n  18162.0,\n  18186.0,\n  18187.0,\n  18205.0,\n  18214.0,\n  18301.0,\n  18394.0,\n  18441.0,\n  18452.0,\n  18487.0,\n  18502.0,\n  18550.0,\n  18568.0,\n  18580.0,\n  18591.0,\n  18598.0,\n  18662.0,\n  18691.0,\n  18740.0,\n  18778.0,\n  18792.0,\n  18802.0,\n  18892.0,\n  18893.0,\n  18930.0,\n  18964.0,\n  18973.0,\n  18984.0,\n  19001.0,\n  19062.0,\n  19063.0,\n  19191.0,\n  19230.0,\n  19247.0,\n  19263.0,\n  19277.0,\n  19325.0,\n  19335.0,\n  19372.0,\n  19375.0,\n  19385.0,\n  19391.0,\n  19396.0,\n  19404.0,\n  19411.0,\n  19438.0,\n  19477.0,\n  19479.0,\n  19480.0,\n  19493.0,\n  19514.0,\n  19519.0,\n  19595.0,\n  19600.0,\n  19607.0,\n  19685.0,\n  19806.0,\n  19810.0,\n  19824.0,\n  19848.0,\n  19884.0,\n  19927.0,\n  19949.0,\n  19986.0,\n  20015.0,\n  20083.0,\n  20127.0,\n  20254.0,\n  20272.0,\n  20420.0,\n  20560.0,\n  20608.0,\n  20671.0,\n  20755.0,\n  20835.0,\n  20854.0,\n  20863.0,\n  21007.0,\n  21024.0,\n  21069.0,\n  21230.0,\n  21250.0,\n  21271.0,\n  21272.0,\n  21322.0,\n  21355.0,\n  21371.0,\n  21459.0,\n  21513.0,\n  21590.0,\n  21602.0,\n  21641.0,\n  21645.0,\n  21659.0,\n  21685.0,\n  21717.0,\n  21805.0,\n  21960.0,\n  21986.0,\n  22008.0,\n  22010.0,\n  22075.0,\n  22113.0,\n  22206.0,\n  22433.0,\n  22481.0,\n  22568.0,\n  22591.0,\n  22598.0,\n  22609.0,\n  22658.0,\n  22664.0,\n  22682.0,\n  22701.0,\n  22751.0,\n  22835.0,\n  22847.0,\n  22951.0,\n  23026.0,\n  23069.0,\n  23139.0,\n  23161.0,\n  23188.0,\n  23259.0,\n  23280.0,\n  23318.0,\n  23416.0,\n  23421.0,\n  23423.0,\n  23579.0,\n  23610.0,\n  23826.0,\n  23895.0,\n  24034.0,\n  24115.0,\n  24215.0,\n  24227.0,\n  24241.0,\n  24297.0,\n  24323.0,\n  24400.0,\n  24449.0,\n  24458.0,\n  24476.0,\n  24512.0,\n  24691.0,\n  24734.0,\n  24769.0,\n  24803.0,\n  24875.0,\n  24896.0,\n  24898.0,\n  24909.0,\n  24995.0,\n  25003.0,\n  25061.0,\n  25074.0,\n  25108.0,\n  25134.0,\n  25165.0,\n  25232.0,\n  25287.0,\n  25344.0,\n  25369.0,\n  25384.0,\n  25470.0,\n  25488.0,\n  25493.0,\n  25525.0,\n  25539.0,\n  25544.0,\n  25548.0,\n  25635.0,\n  25655.0,\n  25676.0,\n  25745.0,\n  25754.0,\n  25789.0,\n  25799.0,\n  25826.0,\n  25887.0,\n  25914.0,\n  26067.0,\n  26083.0,\n  26100.0,\n  26136.0,\n  26303.0,\n  26388.0,\n  26395.0,\n  26413.0,\n  26414.0,\n  26492.0,\n  26510.0,\n  26532.0,\n  26545.0,\n  26731.0,\n  26757.0,\n  26831.0,\n  26958.0,\n  26970.0,\n  26993.0,\n  27051.0,\n  27138.0,\n  27234.0,\n  27248.0,\n  27261.0,\n  27312.0,\n  27339.0,\n  27405.0,\n  27483.0,\n  27492.0,\n  27502.0,\n  27559.0,\n  27635.0,\n  27675.0,\n  27702.0,\n  27735.0,\n  27747.0},\n 9.0: {8192.0,\n  16385.0,\n  8195.0,\n  8197.0,\n  16396.0,\n  16401.0,\n  8212.0,\n  16404.0,\n  16406.0,\n  24.0,\n  16409.0,\n  26.0,\n  8219.0,\n  24605.0,\n  8222.0,\n  8224.0,\n  16416.0,\n  16421.0,\n  8229.0,\n  41.0,\n  16427.0,\n  24620.0,\n  45.0,\n  8238.0,\n  16433.0,\n  24626.0,\n  24629.0,\n  16437.0,\n  8248.0,\n  64.0,\n  8265.0,\n  73.0,\n  8266.0,\n  8267.0,\n  79.0,\n  24655.0,\n  8284.0,\n  8286.0,\n  8287.0,\n  94.0,\n  8288.0,\n  8296.0,\n  105.0,\n  24685.0,\n  16494.0,\n  24690.0,\n  24693.0,\n  118.0,\n  8311.0,\n  16504.0,\n  124.0,\n  24701.0,\n  16509.0,\n  16519.0,\n  8331.0,\n  16527.0,\n  16529.0,\n  24721.0,\n  8340.0,\n  24728.0,\n  24730.0,\n  8349.0,\n  159.0,\n  8351.0,\n  8353.0,\n  8357.0,\n  8359.0,\n  24746.0,\n  178.0,\n  16563.0,\n  180.0,\n  16564.0,\n  24756.0,\n  181.0,\n  16568.0,\n  8374.0,\n  24764.0,\n  24766.0,\n  24770.0,\n  196.0,\n  197.0,\n  198.0,\n  8391.0,\n  204.0,\n  24782.0,\n  16591.0,\n  16593.0,\n  8402.0,\n  212.0,\n  8406.0,\n  8411.0,\n  8413.0,\n  16608.0,\n  225.0,\n  24813.0,\n  8435.0,\n  243.0,\n  24820.0,\n  16631.0,\n  24825.0,\n  16635.0,\n  8444.0,\n  252.0,\n  8446.0,\n  256.0,\n  259.0,\n  263.0,\n  8458.0,\n  24843.0,\n  274.0,\n  16661.0,\n  280.0,\n  16667.0,\n  8482.0,\n  291.0,\n  8487.0,\n  24872.0,\n  16681.0,\n  8488.0,\n  8491.0,\n  24876.0,\n  301.0,\n  16685.0,\n  16687.0,\n  16688.0,\n  8503.0,\n  24887.0,\n  314.0,\n  318.0,\n  16702.0,\n  16705.0,\n  24899.0,\n  16711.0,\n  24904.0,\n  16725.0,\n  16726.0,\n  8534.0,\n  8538.0,\n  24924.0,\n  16736.0,\n  8552.0,\n  8553.0,\n  16747.0,\n  24942.0,\n  8560.0,\n  16757.0,\n  378.0,\n  16763.0,\n  24956.0,\n  8574.0,\n  16769.0,\n  16781.0,\n  16785.0,\n  8594.0,\n  24980.0,\n  404.0,\n  16792.0,\n  24984.0,\n  16798.0,\n  24998.0,\n  25003.0,\n  8620.0,\n  8624.0,\n  8627.0,\n  25016.0,\n  443.0,\n  16830.0,\n  450.0,\n  8643.0,\n  456.0,\n  458.0,\n  8651.0,\n  25036.0,\n  8650.0,\n  462.0,\n  470.0,\n  25049.0,\n  25051.0,\n  25060.0,\n  8679.0,\n  488.0,\n  16876.0,\n  25070.0,\n  495.0,\n  25072.0,\n  16881.0,\n  25076.0,\n  16886.0,\n  25079.0,\n  25080.0,\n  8695.0,\n  25082.0,\n  16892.0,\n  16894.0,\n  16897.0,\n  516.0,\n  530.0,\n  8722.0,\n  532.0,\n  25109.0,\n  8724.0,\n  8731.0,\n  25120.0,\n  546.0,\n  25124.0,\n  16935.0,\n  25128.0,\n  551.0,\n  558.0,\n  25135.0,\n  8750.0,\n  25138.0,\n  563.0,\n  16947.0,\n  562.0,\n  25143.0,\n  25146.0,\n  8762.0,\n  25149.0,\n  16957.0,\n  16959.0,\n  16964.0,\n  25160.0,\n  16968.0,\n  25167.0,\n  596.0,\n  8789.0,\n  25174.0,\n  25180.0,\n  8800.0,\n  8801.0,\n  16995.0,\n  25197.0,\n  8814.0,\n  8823.0,\n  8824.0,\n  640.0,\n  25223.0,\n  8842.0,\n  25231.0,\n  8850.0,\n  17043.0,\n  17044.0,\n  17045.0,\n  17047.0,\n  17050.0,\n  25243.0,\n  17052.0,\n  8860.0,\n  667.0,\n  671.0,\n  8870.0,\n  8872.0,\n  25258.0,\n  25262.0,\n  25263.0,\n  688.0,\n  8880.0,\n  17077.0,\n  695.0,\n  8888.0,\n  698.0,\n  17086.0,\n  25279.0,\n  25280.0,\n  17093.0,\n  25290.0,\n  715.0,\n  25299.0,\n  17109.0,\n  8921.0,\n  17114.0,\n  734.0,\n  8926.0,\n  8930.0,\n  741.0,\n  17126.0,\n  8943.0,\n  25330.0,\n  755.0,\n  760.0,\n  25338.0,\n  8955.0,\n  8956.0,\n  17150.0,\n  773.0,\n  783.0,\n  25364.0,\n  25371.0,\n  8987.0,\n  25375.0,\n  25377.0,\n  25378.0,\n  17189.0,\n  25383.0,\n  25388.0,\n  17197.0,\n  812.0,\n  9007.0,\n  25392.0,\n  25391.0,\n  826.0,\n  9020.0,\n  828.0,\n  17213.0,\n  832.0,\n  25410.0,\n  25415.0,\n  25416.0,\n  17227.0,\n  9040.0,\n  9041.0,\n  25427.0,\n  17240.0,\n  9059.0,\n  869.0,\n  9065.0,\n  25450.0,\n  17268.0,\n  25462.0,\n  9079.0,\n  17272.0,\n  888.0,\n  25466.0,\n  9086.0,\n  9090.0,\n  9093.0,\n  901.0,\n  25482.0,\n  17294.0,\n  9102.0,\n  17296.0,\n  17299.0,\n  25497.0,\n  922.0,\n  25504.0,\n  929.0,\n  9123.0,\n  932.0,\n  9126.0,\n  17320.0,\n  25520.0,\n  9137.0,\n  25524.0,\n  25527.0,\n  9146.0,\n  17340.0,\n  960.0,\n  25539.0,\n  17347.0,\n  17351.0,\n  969.0,\n  17354.0,\n  25554.0,\n  981.0,\n  25560.0,\n  25561.0,\n  986.0,\n  9180.0,\n  25566.0,\n  17378.0,\n  25572.0,\n  998.0,\n  999.0,\n  25577.0,\n  1005.0,\n  9199.0,\n  17395.0,\n  1015.0,\n  1018.0,\n  9213.0,\n  1022.0,\n  1031.0,\n  17422.0,\n  17429.0,\n  9240.0,\n  9245.0,\n  9250.0,\n  25637.0,\n  17446.0,\n  9257.0,\n  9262.0,\n  25652.0,\n  1077.0,\n  1078.0,\n  17463.0,\n  9284.0,\n  9285.0,\n  25673.0,\n  25675.0,\n  1099.0,\n  1100.0,\n  25679.0,\n  1105.0,\n  25684.0,\n  25685.0,\n  1110.0,\n  25687.0,\n  17493.0,\n  1113.0,\n  9306.0,\n  17506.0,\n  17507.0,\n  25700.0,\n  17517.0,\n  1135.0,\n  9329.0,\n  1142.0,\n  17528.0,\n  25721.0,\n  17532.0,\n  17533.0,\n  1151.0,\n  17537.0,\n  1155.0,\n  9348.0,\n  1163.0,\n  1166.0,\n  25744.0,\n  25750.0,\n  1177.0,\n  25760.0,\n  1189.0,\n  17574.0,\n  25770.0,\n  1195.0,\n  25773.0,\n  17583.0,\n  25779.0,\n  25780.0,\n  9397.0,\n  25782.0,\n  1203.0,\n  9400.0,\n  17594.0,\n  1212.0,\n  25790.0,\n  9413.0,\n  17607.0,\n  1224.0,\n  1226.0,\n  9419.0,\n  17614.0,\n  25813.0,\n  1242.0,\n  25821.0,\n  9438.0,\n  17631.0,\n  1250.0,\n  17637.0,\n  17638.0,\n  25831.0,\n  9448.0,\n  25833.0,\n  17645.0,\n  17646.0,\n  9458.0,\n  1267.0,\n  17651.0,\n  1273.0,\n  9465.0,\n  1281.0,\n  1284.0,\n  17669.0,\n  9478.0,\n  9479.0,\n  1287.0,\n  17673.0,\n  25861.0,\n  25870.0,\n  9487.0,\n  17680.0,\n  1297.0,\n  17682.0,\n  17685.0,\n  1302.0,\n  17690.0,\n  9502.0,\n  9503.0,\n  1313.0,\n  1329.0,\n  25905.0,\n  1337.0,\n  17724.0,\n  17728.0,\n  25923.0,\n  17732.0,\n  9540.0,\n  17736.0,\n  1354.0,\n  25931.0,\n  1357.0,\n  17743.0,\n  25940.0,\n  9556.0,\n  17750.0,\n  25949.0,\n  1376.0,\n  1378.0,\n  25955.0,\n  17764.0,\n  1380.0,\n  9572.0,\n  25957.0,\n  17769.0,\n  17772.0,\n  1388.0,\n  9583.0,\n  17780.0,\n  1398.0,\n  9598.0,\n  9599.0,\n  17804.0,\n  17807.0,\n  26001.0,\n  1426.0,\n  26008.0,\n  26010.0,\n  17822.0,\n  26014.0,\n  17823.0,\n  1441.0,\n  26018.0,\n  17827.0,\n  1447.0,\n  17833.0,\n  1453.0,\n  1457.0,\n  26041.0,\n  1468.0,\n  9662.0,\n  26046.0,\n  17856.0,\n  17864.0,\n  26056.0,\n  9673.0,\n  26059.0,\n  1507.0,\n  17892.0,\n  1509.0,\n  26088.0,\n  26091.0,\n  17901.0,\n  17903.0,\n  1520.0,\n  1524.0,\n  1528.0,\n  26105.0,\n  9722.0,\n  26109.0,\n  17917.0,\n  1538.0,\n  17923.0,\n  26114.0,\n  9733.0,\n  26116.0,\n  9735.0,\n  17930.0,\n  1547.0,\n  9740.0,\n  26125.0,\n  9742.0,\n  26126.0,\n  26131.0,\n  9761.0,\n  9765.0,\n  9766.0,\n  17961.0,\n  9771.0,\n  26156.0,\n  17966.0,\n  1588.0,\n  9791.0,\n  1600.0,\n  17983.0,\n  9794.0,\n  1607.0,\n  17995.0,\n  26188.0,\n  9806.0,\n  18000.0,\n  26195.0,\n  18005.0,\n  26197.0,\n  1629.0,\n  26208.0,\n  26210.0,\n  1634.0,\n  1637.0,\n  9830.0,\n  1638.0,\n  9838.0,\n  18031.0,\n  26224.0,\n  1650.0,\n  9843.0,\n  1653.0,\n  9849.0,\n  9851.0,\n  1659.0,\n  9853.0,\n  26240.0,\n  9858.0,\n  1679.0,\n  26268.0,\n  26269.0,\n  1700.0,\n  9898.0,\n  1708.0,\n  9903.0,\n  1719.0,\n  1721.0,\n  1722.0,\n  1728.0,\n  1729.0,\n  9921.0,\n  18117.0,\n  26316.0,\n  1740.0,\n  26328.0,\n  9948.0,\n  26339.0,\n  18147.0,\n  26342.0,\n  9967.0,\n  18163.0,\n  9971.0,\n  1784.0,\n  9983.0,\n  18175.0,\n  1794.0,\n  18179.0,\n  1805.0,\n  1809.0,\n  26390.0,\n  1815.0,\n  1816.0,\n  26396.0,\n  10012.0,\n  1828.0,\n  1831.0,\n  18217.0,\n  18218.0,\n  18222.0,\n  26415.0,\n  10031.0,\n  10035.0,\n  18232.0,\n  10042.0,\n  26427.0,\n  10052.0,\n  10053.0,\n  1867.0,\n  18258.0,\n  10068.0,\n  26453.0,\n  26458.0,\n  18268.0,\n  18269.0,\n  26466.0,\n  18274.0,\n  1892.0,\n  26474.0,\n  26475.0,\n  26477.0,\n  18288.0,\n  10099.0,\n  1911.0,\n  1916.0,\n  1929.0,\n  18319.0,\n  1937.0,\n  10130.0,\n  1939.0,\n  18329.0,\n  26521.0,\n  26523.0,\n  10139.0,\n  1949.0,\n  1954.0,\n  10155.0,\n  26541.0,\n  18349.0,\n  1966.0,\n  10164.0,\n  26549.0,\n  26553.0,\n  10173.0,\n  1986.0,\n  26571.0,\n  26572.0,\n  18386.0,\n  18391.0,\n  18392.0,\n  10201.0,\n  2009.0,\n  26583.0,\n  2012.0,\n  18400.0,\n  18404.0,\n  10213.0,\n  26598.0,\n  26599.0,\n  26602.0,\n  10223.0,\n  26615.0,\n  18443.0,\n  18446.0,\n  26642.0,\n  26650.0,\n  2082.0,\n  18469.0,\n  26663.0,\n  18472.0,\n  10281.0,\n  26674.0,\n  18483.0,\n  2107.0,\n  26690.0,\n  2117.0,\n  18507.0,\n  26712.0,\n  10333.0,\n  2141.0,\n  26720.0,\n  18529.0,\n  18534.0,\n  2153.0,\n  26735.0,\n  10354.0,\n  18549.0,\n  2166.0,\n  10361.0,\n  10365.0,\n  18561.0,\n  2182.0,\n  18566.0,\n  2195.0,\n  26778.0,\n  18587.0,\n  2211.0,\n  10404.0,\n  10407.0,\n  18611.0,\n  18615.0,\n  26814.0,\n  18625.0,\n  10435.0,\n  26823.0,\n  2247.0,\n  26826.0,\n  10457.0,\n  18652.0,\n  18653.0,\n  10464.0,\n  18658.0,\n  26851.0,\n  2280.0,\n  26859.0,\n  10476.0,\n  10475.0,\n  26863.0,\n  26873.0,\n  18681.0,\n  10491.0,\n  10496.0,\n  2311.0,\n  10506.0,\n  26890.0,\n  2318.0,\n  18706.0,\n  10516.0,\n  2325.0,\n  26901.0,\n  10519.0,\n  26903.0,\n  2333.0,\n  10529.0,\n  10530.0,\n  2341.0,\n  26921.0,\n  10538.0,\n  2348.0,\n  18733.0,\n  2349.0,\n  26927.0,\n  26929.0,\n  2360.0,\n  26940.0,\n  10556.0,\n  10559.0,\n  18752.0,\n  26943.0,\n  2370.0,\n  18756.0,\n  10564.0,\n  2378.0,\n  10570.0,\n  26955.0,\n  2379.0,\n  2380.0,\n  26959.0,\n  2389.0,\n  18778.0,\n  18779.0,\n  2396.0,\n  18781.0,\n  2398.0,\n  2395.0,\n  26982.0,\n  26983.0,\n  10600.0,\n  2407.0,\n  18796.0,\n  2412.0,\n  26993.0,\n  18804.0,\n  10625.0,\n  2435.0,\n  2436.0,\n  10629.0,\n  10630.0,\n  27015.0,\n  27021.0,\n  10638.0,\n  10639.0,\n  18832.0,\n  10641.0,\n  27022.0,\n  10647.0,\n  18841.0,\n  2460.0,\n  2471.0,\n  10666.0,\n  27053.0,\n  2478.0,\n  27058.0,\n  2482.0,\n  18868.0,\n  18879.0,\n  2497.0,\n  27077.0,\n  2508.0,\n  2513.0,\n  27093.0,\n  10710.0,\n  27099.0,\n  10717.0,\n  10720.0,\n  18914.0,\n  18919.0,\n  27112.0,\n  27117.0,\n  18930.0,\n  27123.0,\n  10740.0,\n  10743.0,\n  18935.0,\n  2553.0,\n  18938.0,\n  10749.0,\n  10751.0,\n  2561.0,\n  18945.0,\n  10756.0,\n  18952.0,\n  2569.0,\n  27148.0,\n  10765.0,\n  27150.0,\n  27153.0,\n  10770.0,\n  27155.0,\n  27163.0,\n  2588.0,\n  18972.0,\n  18974.0,\n  2592.0,\n  10789.0,\n  27180.0,\n  10798.0,\n  10800.0,\n  2609.0,\n  27186.0,\n  10802.0,\n  2612.0,\n  18996.0,\n  27190.0,\n  27189.0,\n  10810.0,\n  10814.0,\n  2626.0,\n  2627.0,\n  19012.0,\n  10824.0,\n  10825.0,\n  2636.0,\n  10828.0,\n  2642.0,\n  2644.0,\n  27222.0,\n  27225.0,\n  10844.0,\n  27230.0,\n  10849.0,\n  27236.0,\n  10860.0,\n  10864.0,\n  10866.0,\n  10868.0,\n  19061.0,\n  2678.0,\n  19068.0,\n  27262.0,\n  2690.0,\n  10882.0,\n  27268.0,\n  10886.0,\n  27278.0,\n  19093.0,\n  2710.0,\n  2711.0,\n  2715.0,\n  27298.0,\n  2723.0,\n  10919.0,\n  19115.0,\n  10924.0,\n  19116.0,\n  10923.0,\n  10933.0,\n  19134.0,\n  2751.0,\n  2752.0,\n  2759.0,\n  19144.0,\n  27339.0,\n  2765.0,\n  27342.0,\n  19151.0,\n  27345.0,\n  2770.0,\n  27346.0,\n  27353.0,\n  27354.0,\n  19163.0,\n  27357.0,\n  10975.0,\n  27361.0,\n  2785.0,\n  2787.0,\n  10979.0,\n  19179.0,\n  27371.0,\n  2795.0,\n  10991.0,\n  10992.0,\n  27383.0,\n  11005.0,\n  2817.0,\n  27397.0,\n  11015.0,\n  27402.0,\n  19214.0,\n  27411.0,\n  27417.0,\n  19227.0,\n  2844.0,\n  27426.0,\n  2852.0,\n  11047.0,\n  2855.0,\n  2858.0,\n  2862.0,\n  27440.0,\n  11061.0,\n  27453.0,\n  11070.0,\n  2885.0,\n  11079.0,\n  2891.0,\n  11085.0,\n  11091.0,\n  2902.0,\n  19297.0,\n  27497.0,\n  11115.0,\n  11118.0,\n  19320.0,\n  11130.0,\n  2942.0,\n  27521.0,\n  11138.0,\n  2951.0,\n  2953.0,\n  27537.0,\n  19349.0,\n  2968.0,\n  11161.0,\n  11160.0,\n  ...},\n 10.0: {7.0,\n  24591.0,\n  22.0,\n  24.0,\n  26.0,\n  24609.0,\n  59.0,\n  61.0,\n  24641.0,\n  24643.0,\n  24659.0,\n  8278.0,\n  8284.0,\n  24668.0,\n  8286.0,\n  8289.0,\n  16505.0,\n  16507.0,\n  24703.0,\n  8321.0,\n  16516.0,\n  138.0,\n  142.0,\n  16530.0,\n  8340.0,\n  16538.0,\n  8351.0,\n  8353.0,\n  16547.0,\n  8358.0,\n  168.0,\n  182.0,\n  24765.0,\n  24769.0,\n  194.0,\n  24779.0,\n  24782.0,\n  206.0,\n  16592.0,\n  209.0,\n  16595.0,\n  8413.0,\n  24798.0,\n  8416.0,\n  24803.0,\n  8424.0,\n  16620.0,\n  8431.0,\n  250.0,\n  254.0,\n  24843.0,\n  24845.0,\n  270.0,\n  272.0,\n  280.0,\n  16665.0,\n  16671.0,\n  8480.0,\n  24872.0,\n  16681.0,\n  24879.0,\n  307.0,\n  314.0,\n  16702.0,\n  8512.0,\n  16706.0,\n  24898.0,\n  8530.0,\n  343.0,\n  16740.0,\n  16742.0,\n  8560.0,\n  24944.0,\n  24951.0,\n  8574.0,\n  16774.0,\n  391.0,\n  8583.0,\n  8586.0,\n  8590.0,\n  8591.0,\n  16785.0,\n  24981.0,\n  24985.0,\n  413.0,\n  24991.0,\n  16842.0,\n  8656.0,\n  16850.0,\n  8665.0,\n  16862.0,\n  25058.0,\n  25081.0,\n  8699.0,\n  8704.0,\n  8707.0,\n  8725.0,\n  25114.0,\n  25117.0,\n  25119.0,\n  25149.0,\n  577.0,\n  580.0,\n  8773.0,\n  585.0,\n  16974.0,\n  25171.0,\n  605.0,\n  17001.0,\n  621.0,\n  628.0,\n  8823.0,\n  8834.0,\n  25220.0,\n  646.0,\n  25223.0,\n  17030.0,\n  8842.0,\n  8843.0,\n  653.0,\n  25229.0,\n  25232.0,\n  17040.0,\n  25252.0,\n  685.0,\n  686.0,\n  8884.0,\n  8896.0,\n  17088.0,\n  706.0,\n  719.0,\n  17106.0,\n  726.0,\n  25315.0,\n  25322.0,\n  25326.0,\n  8942.0,\n  17136.0,\n  8951.0,\n  8961.0,\n  17154.0,\n  776.0,\n  8968.0,\n  788.0,\n  25368.0,\n  17184.0,\n  25380.0,\n  813.0,\n  9006.0,\n  25391.0,\n  9011.0,\n  9018.0,\n  17211.0,\n  9022.0,\n  17227.0,\n  846.0,\n  9041.0,\n  9045.0,\n  9050.0,\n  17244.0,\n  9061.0,\n  25448.0,\n  9093.0,\n  903.0,\n  910.0,\n  25487.0,\n  17302.0,\n  919.0,\n  927.0,\n  9122.0,\n  17316.0,\n  17318.0,\n  936.0,\n  17322.0,\n  9131.0,\n  9135.0,\n  25525.0,\n  25532.0,\n  9150.0,\n  25549.0,\n  974.0,\n  17359.0,\n  17365.0,\n  25561.0,\n  1000.0,\n  9192.0,\n  9202.0,\n  1016.0,\n  17402.0,\n  1022.0,\n  25621.0,\n  17457.0,\n  1075.0,\n  17467.0,\n  1085.0,\n  17471.0,\n  1090.0,\n  1110.0,\n  9310.0,\n  1120.0,\n  25698.0,\n  17510.0,\n  17515.0,\n  17518.0,\n  25714.0,\n  17522.0,\n  25719.0,\n  1148.0,\n  17534.0,\n  25748.0,\n  1177.0,\n  17563.0,\n  1179.0,\n  9373.0,\n  17569.0,\n  25770.0,\n  9388.0,\n  1201.0,\n  17586.0,\n  9393.0,\n  25782.0,\n  9406.0,\n  17602.0,\n  25795.0,\n  17604.0,\n  9412.0,\n  1221.0,\n  25799.0,\n  1218.0,\n  1232.0,\n  1235.0,\n  9434.0,\n  1253.0,\n  9446.0,\n  17640.0,\n  25839.0,\n  9474.0,\n  1296.0,\n  25880.0,\n  1308.0,\n  17693.0,\n  17696.0,\n  17700.0,\n  9510.0,\n  17707.0,\n  1338.0,\n  25915.0,\n  17743.0,\n  9560.0,\n  1369.0,\n  9571.0,\n  1382.0,\n  1391.0,\n  25974.0,\n  1402.0,\n  9599.0,\n  9602.0,\n  9620.0,\n  26009.0,\n  26019.0,\n  26024.0,\n  17833.0,\n  9648.0,\n  1465.0,\n  9661.0,\n  1486.0,\n  9678.0,\n  1489.0,\n  9685.0,\n  1505.0,\n  9701.0,\n  9703.0,\n  1521.0,\n  26100.0,\n  1525.0,\n  1524.0,\n  9728.0,\n  9729.0,\n  26115.0,\n  1550.0,\n  9745.0,\n  9748.0,\n  26136.0,\n  1562.0,\n  9771.0,\n  26158.0,\n  26163.0,\n  26165.0,\n  9811.0,\n  26204.0,\n  1630.0,\n  26207.0,\n  1636.0,\n  9832.0,\n  1645.0,\n  9839.0,\n  1651.0,\n  26234.0,\n  1662.0,\n  1667.0,\n  26247.0,\n  26266.0,\n  18076.0,\n  9897.0,\n  1706.0,\n  1712.0,\n  18097.0,\n  1719.0,\n  9911.0,\n  26298.0,\n  9916.0,\n  1729.0,\n  9934.0,\n  26326.0,\n  1751.0,\n  9943.0,\n  26329.0,\n  26341.0,\n  1769.0,\n  18153.0,\n  18159.0,\n  26354.0,\n  9971.0,\n  9981.0,\n  26366.0,\n  18187.0,\n  9997.0,\n  9998.0,\n  1809.0,\n  26395.0,\n  26398.0,\n  18209.0,\n  10017.0,\n  1826.0,\n  18218.0,\n  26411.0,\n  18219.0,\n  26413.0,\n  10029.0,\n  1854.0,\n  18244.0,\n  1873.0,\n  26449.0,\n  1877.0,\n  26461.0,\n  26462.0,\n  26463.0,\n  10080.0,\n  1888.0,\n  26470.0,\n  10102.0,\n  26487.0,\n  26491.0,\n  10108.0,\n  18301.0,\n  1919.0,\n  10111.0,\n  1921.0,\n  1935.0,\n  1941.0,\n  1956.0,\n  10152.0,\n  26540.0,\n  26554.0,\n  10177.0,\n  18374.0,\n  10191.0,\n  26585.0,\n  2019.0,\n  26599.0,\n  26600.0,\n  10223.0,\n  10233.0,\n  26623.0,\n  2060.0,\n  2065.0,\n  18452.0,\n  10266.0,\n  26653.0,\n  10271.0,\n  2084.0,\n  26668.0,\n  18487.0,\n  10297.0,\n  18493.0,\n  26685.0,\n  26687.0,\n  2114.0,\n  26694.0,\n  26695.0,\n  10322.0,\n  2144.0,\n  26722.0,\n  18533.0,\n  18539.0,\n  2157.0,\n  26733.0,\n  18547.0,\n  2179.0,\n  10375.0,\n  2191.0,\n  10387.0,\n  18582.0,\n  2200.0,\n  26777.0,\n  26778.0,\n  18591.0,\n  10413.0,\n  26806.0,\n  10425.0,\n  26814.0,\n  2240.0,\n  18624.0,\n  26822.0,\n  2247.0,\n  18644.0,\n  2263.0,\n  2264.0,\n  10456.0,\n  18657.0,\n  2273.0,\n  18662.0,\n  10470.0,\n  10478.0,\n  18673.0,\n  2297.0,\n  18690.0,\n  2313.0,\n  18698.0,\n  2315.0,\n  18700.0,\n  2324.0,\n  2328.0,\n  18713.0,\n  10526.0,\n  26913.0,\n  18729.0,\n  18737.0,\n  26932.0,\n  10551.0,\n  2365.0,\n  26941.0,\n  2368.0,\n  18757.0,\n  2402.0,\n  26979.0,\n  18790.0,\n  18792.0,\n  26986.0,\n  2411.0,\n  18799.0,\n  18804.0,\n  27000.0,\n  2427.0,\n  27003.0,\n  27006.0,\n  2433.0,\n  27009.0,\n  27016.0,\n  2451.0,\n  27029.0,\n  10645.0,\n  18841.0,\n  18850.0,\n  10664.0,\n  10667.0,\n  18863.0,\n  27058.0,\n  10680.0,\n  2497.0,\n  27079.0,\n  18890.0,\n  18908.0,\n  18914.0,\n  2533.0,\n  10726.0,\n  10736.0,\n  27123.0,\n  18931.0,\n  18937.0,\n  27149.0,\n  27163.0,\n  2588.0,\n  27168.0,\n  18978.0,\n  2598.0,\n  27175.0,\n  2604.0,\n  10801.0,\n  10808.0,\n  27193.0,\n  10819.0,\n  19019.0,\n  2636.0,\n  19029.0,\n  19035.0,\n  10844.0,\n  19037.0,\n  10863.0,\n  10864.0,\n  2674.0,\n  2678.0,\n  10872.0,\n  2681.0,\n  10881.0,\n  27269.0,\n  2694.0,\n  2701.0,\n  10893.0,\n  19089.0,\n  2707.0,\n  27284.0,\n  10904.0,\n  19099.0,\n  27293.0,\n  2717.0,\n  19103.0,\n  10915.0,\n  27299.0,\n  19109.0,\n  27302.0,\n  27304.0,\n  10936.0,\n  19135.0,\n  2753.0,\n  19139.0,\n  2756.0,\n  19144.0,\n  19154.0,\n  2774.0,\n  19161.0,\n  2790.0,\n  2791.0,\n  10985.0,\n  2795.0,\n  2797.0,\n  19200.0,\n  27396.0,\n  19216.0,\n  27412.0,\n  11028.0,\n  11040.0,\n  2849.0,\n  27427.0,\n  19246.0,\n  27441.0,\n  11066.0,\n  2876.0,\n  27454.0,\n  19263.0,\n  27464.0,\n  2891.0,\n  19289.0,\n  2908.0,\n  27490.0,\n  11108.0,\n  27492.0,\n  2918.0,\n  27501.0,\n  27502.0,\n  19346.0,\n  19361.0,\n  27554.0,\n  27557.0,\n  27564.0,\n  19378.0,\n  19381.0,\n  3012.0,\n  11206.0,\n  27595.0,\n  3028.0,\n  27605.0,\n  3039.0,\n  3052.0,\n  19438.0,\n  3057.0,\n  3059.0,\n  11259.0,\n  11263.0,\n  11268.0,\n  3086.0,\n  27666.0,\n  27675.0,\n  27684.0,\n  11300.0,\n  19500.0,\n  11309.0,\n  11310.0,\n  3122.0,\n  11323.0,\n  11326.0,\n  19520.0,\n  3144.0,\n  11337.0,\n  19530.0,\n  3147.0,\n  27726.0,\n  27735.0,\n  11352.0,\n  27765.0,\n  3194.0,\n  19579.0,\n  19586.0,\n  3203.0,\n  3206.0,\n  3210.0,\n  19597.0,\n  19618.0,\n  11431.0,\n  3241.0,\n  11437.0,\n  3251.0,\n  11470.0,\n  3280.0,\n  19666.0,\n  3290.0,\n  19691.0,\n  19694.0,\n  3345.0,\n  11539.0,\n  19745.0,\n  3365.0,\n  19751.0,\n  11560.0,\n  3377.0,\n  19763.0,\n  19769.0,\n  11582.0,\n  19775.0,\n  19782.0,\n  11593.0,\n  11606.0,\n  11611.0,\n  19803.0,\n  3422.0,\n  11635.0,\n  3451.0,\n  19842.0,\n  19847.0,\n  19848.0,\n  11668.0,\n  3479.0,\n  11672.0,\n  19866.0,\n  19875.0,\n  3493.0,\n  19883.0,\n  19889.0,\n  19901.0,\n  11714.0,\n  11715.0,\n  3538.0,\n  11740.0,\n  11751.0,\n  19950.0,\n  19954.0,\n  19955.0,\n  19956.0,\n  3577.0,\n  3600.0,\n  19984.0,\n  3603.0,\n  11798.0,\n  3606.0,\n  3615.0,\n  11810.0,\n  20002.0,\n  3627.0,\n  3629.0,\n  11822.0,\n  20014.0,\n  3634.0,\n  20026.0,\n  20037.0,\n  11870.0,\n  3683.0,\n  11875.0,\n  3692.0,\n  3693.0,\n  11891.0,\n  20083.0,\n  11893.0,\n  11894.0,\n  3711.0,\n  11921.0,\n  20127.0,\n  11947.0,\n  20153.0,\n  3774.0,\n  11972.0,\n  3784.0,\n  20173.0,\n  20195.0,\n  12004.0,\n  3818.0,\n  12014.0,\n  20209.0,\n  3831.0,\n  12027.0,\n  12030.0,\n  20244.0,\n  3877.0,\n  12075.0,\n  12086.0,\n  3898.0,\n  3905.0,\n  20289.0,\n  3909.0,\n  3912.0,\n  20300.0,\n  3927.0,\n  12130.0,\n  12131.0,\n  12138.0,\n  3947.0,\n  3952.0,\n  3955.0,\n  20343.0,\n  3967.0,\n  3970.0,\n  20355.0,\n  20356.0,\n  12190.0,\n  4001.0,\n  4014.0,\n  20400.0,\n  12208.0,\n  4040.0,\n  4050.0,\n  12243.0,\n  20450.0,\n  4068.0,\n  4074.0,\n  12267.0,\n  20464.0,\n  4085.0,\n  4091.0,\n  20483.0,\n  12291.0,\n  4103.0,\n  4111.0,\n  12316.0,\n  4130.0,\n  20540.0,\n  4166.0,\n  12360.0,\n  12362.0,\n  12375.0,\n  4215.0,\n  20604.0,\n  4223.0,\n  12424.0,\n  12426.0,\n  4236.0,\n  20622.0,\n  20627.0,\n  20634.0,\n  20636.0,\n  4257.0,\n  20647.0,\n  20661.0,\n  12481.0,\n  12497.0,\n  12499.0,\n  4315.0,\n  12507.0,\n  20705.0,\n  12515.0,\n  4343.0,\n  12544.0,\n  12546.0,\n  20739.0,\n  20741.0,\n  20748.0,\n  20754.0,\n  4370.0,\n  4387.0,\n  12591.0,\n  20794.0,\n  20796.0,\n  12605.0,\n  4431.0,\n  12624.0,\n  20828.0,\n  4446.0,\n  4456.0,\n  4458.0,\n  12655.0,\n  4466.0,\n  4467.0,\n  12660.0,\n  12665.0,\n  20865.0,\n  12677.0,\n  20870.0,\n  4495.0,\n  12688.0,\n  20892.0,\n  4522.0,\n  12724.0,\n  12727.0,\n  20923.0,\n  4565.0,\n  20950.0,\n  12760.0,\n  4580.0,\n  20965.0,\n  4587.0,\n  12784.0,\n  4600.0,\n  21017.0,\n  4642.0,\n  4656.0,\n  21043.0,\n  4664.0,\n  12859.0,\n  21052.0,\n  4672.0,\n  12865.0,\n  4682.0,\n  12877.0,\n  12892.0,\n  12893.0,\n  21120.0,\n  12938.0,\n  12942.0,\n  4752.0,\n  12953.0,\n  4765.0,\n  12959.0,\n  4770.0,\n  21156.0,\n  12966.0,\n  4781.0,\n  4782.0,\n  21167.0,\n  21174.0,\n  21181.0,\n  4806.0,\n  4820.0,\n  21208.0,\n  13020.0,\n  21231.0,\n  21241.0,\n  21247.0,\n  13057.0,\n  13063.0,\n  4874.0,\n  21268.0,\n  13078.0,\n  21271.0,\n  13084.0,\n  13092.0,\n  4913.0,\n  4918.0,\n  13111.0,\n  4925.0,\n  13127.0,\n  21321.0,\n  4938.0,\n  13129.0,\n  13132.0,\n  13138.0,\n  4950.0,\n  4951.0,\n  13183.0,\n  13198.0,\n  13199.0,\n  13217.0,\n  21410.0,\n  21413.0,\n  5039.0,\n  5041.0,\n  13237.0,\n  13243.0,\n  21438.0,\n  13258.0,\n  13260.0,\n  21453.0,\n  13276.0,\n  21473.0,\n  13284.0,\n  5095.0,\n  5099.0,\n  21493.0,\n  5110.0,\n  5125.0,\n  21513.0,\n  21519.0,\n  21540.0,\n  21546.0,\n  13355.0,\n  21549.0,\n  21551.0,\n  13384.0,\n  5206.0,\n  5207.0,\n  21592.0,\n  21593.0,\n  5211.0,\n  21601.0,\n  21602.0,\n  13415.0,\n  21618.0,\n  21634.0,\n  21642.0,\n  21645.0,\n  13460.0,\n  5278.0,\n  21665.0,\n  5285.0,\n  21681.0,\n  21682.0,\n  5312.0,\n  5315.0,\n  13508.0,\n  13512.0,\n  13527.0,\n  5336.0,\n  21726.0,\n  13556.0,\n  13601.0,\n  5411.0,\n  21799.0,\n  5423.0,\n  5428.0,\n  21820.0,\n  5437.0,\n  5443.0,\n  5458.0,\n  13651.0,\n  13657.0,\n  21852.0,\n  5473.0,\n  5475.0,\n  13671.0,\n  21865.0,\n  13678.0,\n  13680.0,\n  13692.0,\n  13705.0,\n  21912.0,\n  5530.0,\n  13725.0,\n  13728.0,\n  5538.0,\n  13736.0,\n  13742.0,\n  5550.0,\n  13766.0,\n  21959.0,\n  13771.0,\n  13778.0,\n  5587.0,\n  21975.0,\n  5593.0,\n  21984.0,\n  21993.0,\n  13808.0,\n  5620.0,\n  22011.0,\n  22012.0,\n  5628.0,\n  5633.0,\n  5635.0,\n  22022.0,\n  13837.0,\n  13843.0,\n  22039.0,\n  13850.0,\n  13854.0,\n  22075.0,\n  13884.0,\n  22080.0,\n  22090.0,\n  22094.0,\n  5714.0,\n  13910.0,\n  13915.0,\n  5732.0,\n  13929.0,\n  13933.0,\n  5756.0,\n  5760.0,\n  22150.0,\n  22159.0,\n  13968.0,\n  22163.0,\n  5803.0,\n  14011.0,\n  14014.0,\n  14015.0,\n  14033.0,\n  5848.0,\n  14044.0,\n  14060.0,\n  14088.0,\n  14095.0,\n  14098.0,\n  5917.0,\n  ...},\n 11.0: {262.0,\n  302.0,\n  321.0,\n  467.0,\n  550.0,\n  920.0,\n  1273.0,\n  1517.0,\n  1963.0,\n  2075.0,\n  2190.0,\n  2337.0,\n  2422.0,\n  2871.0,\n  3897.0,\n  3983.0,\n  4014.0,\n  4279.0,\n  4357.0,\n  4818.0,\n  4837.0,\n  5018.0,\n  5434.0,\n  6061.0,\n  6074.0,\n  6266.0,\n  6271.0,\n  6950.0,\n  7152.0,\n  7351.0,\n  7452.0,\n  7994.0,\n  8083.0,\n  8126.0,\n  8532.0,\n  8546.0,\n  8897.0,\n  9035.0,\n  9167.0,\n  9558.0,\n  9586.0,\n  9798.0,\n  10047.0,\n  10222.0,\n  10247.0,\n  10466.0,\n  10505.0,\n  10646.0,\n  10718.0,\n  11340.0,\n  11565.0,\n  11596.0,\n  11793.0,\n  12081.0,\n  12253.0,\n  12276.0,\n  12611.0,\n  12968.0,\n  13212.0,\n  13268.0,\n  13562.0,\n  13676.0,\n  13998.0,\n  14277.0,\n  14330.0,\n  14534.0,\n  14646.0,\n  14854.0,\n  15158.0,\n  15199.0,\n  15208.0,\n  15496.0,\n  15539.0,\n  15570.0,\n  15763.0,\n  16576.0,\n  16907.0,\n  17187.0,\n  18196.0,\n  18207.0,\n  18237.0,\n  18256.0,\n  18356.0,\n  18961.0,\n  19106.0,\n  19413.0,\n  19470.0,\n  19793.0,\n  19824.0,\n  19827.0,\n  19999.0,\n  20019.0,\n  20050.0,\n  20176.0,\n  20234.0,\n  20432.0,\n  20628.0,\n  20746.0,\n  20956.0,\n  20968.0,\n  21121.0,\n  21248.0,\n  21279.0,\n  21623.0,\n  21830.0,\n  21863.0,\n  22020.0,\n  22146.0,\n  22270.0,\n  22370.0,\n  22619.0,\n  22996.0,\n  23085.0,\n  23403.0,\n  23641.0,\n  23643.0,\n  23725.0,\n  24432.0,\n  24479.0,\n  24802.0,\n  24882.0,\n  24905.0,\n  24955.0,\n  25286.0,\n  25316.0,\n  25341.0,\n  25448.0,\n  25841.0,\n  25954.0,\n  26220.0,\n  27090.0,\n  27134.0,\n  27450.0},\n 12.0: {102.0,\n  163.0,\n  166.0,\n  347.0,\n  556.0,\n  624.0,\n  645.0,\n  838.0,\n  852.0,\n  861.0,\n  924.0,\n  1050.0,\n  1068.0,\n  1116.0,\n  1129.0,\n  1186.0,\n  1232.0,\n  1291.0,\n  1302.0,\n  1338.0,\n  1511.0,\n  1554.0,\n  1563.0,\n  1668.0,\n  1678.0,\n  1690.0,\n  1770.0,\n  1851.0,\n  2029.0,\n  2198.0,\n  2209.0,\n  2242.0,\n  2354.0,\n  2533.0,\n  2597.0,\n  2610.0,\n  2619.0,\n  2638.0,\n  2655.0,\n  2702.0,\n  2775.0,\n  2875.0,\n  2898.0,\n  2993.0,\n  3087.0,\n  3191.0,\n  3226.0,\n  3534.0,\n  3572.0,\n  3591.0,\n  3602.0,\n  3634.0,\n  3703.0,\n  3825.0,\n  3841.0,\n  4008.0,\n  4016.0,\n  4034.0,\n  4197.0,\n  4199.0,\n  4290.0,\n  4355.0,\n  4411.0,\n  4475.0,\n  4632.0,\n  4764.0,\n  4793.0,\n  4854.0,\n  4974.0,\n  5002.0,\n  5049.0,\n  5128.0,\n  5144.0,\n  5194.0,\n  5198.0,\n  5398.0,\n  5423.0,\n  5506.0,\n  5581.0,\n  5582.0,\n  5652.0,\n  5654.0,\n  5670.0,\n  5694.0,\n  5704.0,\n  5729.0,\n  5734.0,\n  5810.0,\n  6049.0,\n  6057.0,\n  6075.0,\n  6220.0,\n  6254.0,\n  6291.0,\n  6336.0,\n  6406.0,\n  6450.0,\n  6603.0,\n  6633.0,\n  6678.0,\n  6703.0,\n  6721.0,\n  6949.0,\n  7010.0,\n  7016.0,\n  7018.0,\n  7044.0,\n  7162.0,\n  7199.0,\n  7248.0,\n  7320.0,\n  7337.0,\n  7341.0,\n  7389.0,\n  7407.0,\n  7423.0,\n  7525.0,\n  7548.0,\n  7550.0,\n  7592.0,\n  7617.0,\n  7631.0,\n  7671.0,\n  7738.0,\n  7765.0,\n  7813.0,\n  7894.0,\n  7897.0,\n  7974.0,\n  8103.0,\n  8143.0,\n  8178.0,\n  8217.0,\n  8225.0,\n  8318.0,\n  8320.0,\n  8328.0,\n  8350.0,\n  8621.0,\n  8678.0,\n  8830.0,\n  8839.0,\n  8851.0,\n  8862.0,\n  8875.0,\n  8974.0,\n  8976.0,\n  9002.0,\n  9067.0,\n  9093.0,\n  9169.0,\n  9177.0,\n  9192.0,\n  9274.0,\n  9437.0,\n  9444.0,\n  9460.0,\n  9526.0,\n  9585.0,\n  9602.0,\n  9650.0,\n  9692.0,\n  9750.0,\n  9753.0,\n  9780.0,\n  9797.0,\n  9829.0,\n  9886.0,\n  9999.0,\n  10010.0,\n  10018.0,\n  10089.0,\n  10185.0,\n  10192.0,\n  10279.0,\n  10370.0,\n  10395.0,\n  10414.0,\n  10526.0,\n  10527.0,\n  10576.0,\n  10675.0,\n  10930.0,\n  10964.0,\n  10982.0,\n  10986.0,\n  10998.0,\n  11029.0,\n  11106.0,\n  11142.0,\n  11145.0,\n  11207.0,\n  11245.0,\n  11452.0,\n  11472.0,\n  11485.0,\n  11495.0,\n  11553.0,\n  11568.0,\n  11576.0,\n  11610.0,\n  11678.0,\n  11682.0,\n  11717.0,\n  11743.0,\n  11748.0,\n  11762.0,\n  11783.0,\n  11804.0,\n  11870.0,\n  11873.0,\n  11896.0,\n  11969.0,\n  11985.0,\n  12072.0,\n  12079.0,\n  12197.0,\n  12247.0,\n  12258.0,\n  12263.0,\n  12358.0,\n  12366.0,\n  12394.0,\n  12409.0,\n  12431.0,\n  12489.0,\n  12512.0,\n  12539.0,\n  12599.0,\n  12637.0,\n  12652.0,\n  12927.0,\n  13040.0,\n  13248.0,\n  13332.0,\n  13413.0,\n  13531.0,\n  13582.0,\n  13583.0,\n  13615.0,\n  13639.0,\n  13768.0,\n  13778.0,\n  13831.0,\n  13855.0,\n  13882.0,\n  14041.0,\n  14050.0,\n  14141.0,\n  14289.0,\n  14320.0,\n  14338.0,\n  14343.0,\n  14387.0,\n  14468.0,\n  14511.0,\n  14532.0,\n  14566.0,\n  14568.0,\n  14610.0,\n  14612.0,\n  14642.0,\n  14721.0,\n  14870.0,\n  14931.0,\n  14976.0,\n  14988.0,\n  15010.0,\n  15037.0,\n  15047.0,\n  15078.0,\n  15087.0,\n  15090.0,\n  15103.0,\n  15131.0,\n  15172.0,\n  15330.0,\n  15342.0,\n  15385.0,\n  15450.0,\n  15505.0,\n  15548.0,\n  15562.0,\n  15637.0,\n  15643.0,\n  15649.0,\n  15683.0,\n  15696.0,\n  15863.0,\n  15953.0,\n  16009.0,\n  16070.0,\n  16144.0,\n  16183.0,\n  16485.0,\n  16526.0,\n  16609.0,\n  16719.0,\n  16773.0,\n  16856.0,\n  16971.0,\n  16979.0,\n  17048.0,\n  17171.0,\n  17236.0,\n  17249.0,\n  17427.0,\n  17601.0,\n  17631.0,\n  17645.0,\n  17648.0,\n  17664.0,\n  17667.0,\n  17700.0,\n  17787.0,\n  17789.0,\n  17828.0,\n  17829.0,\n  17841.0,\n  17862.0,\n  17935.0,\n  17992.0,\n  18123.0,\n  18149.0,\n  18262.0,\n  18330.0,\n  18348.0,\n  18363.0,\n  18375.0,\n  18449.0,\n  18573.0,\n  18595.0,\n  18600.0,\n  18616.0,\n  18623.0,\n  18638.0,\n  18683.0,\n  18861.0,\n  18900.0,\n  18945.0,\n  19091.0,\n  19154.0,\n  19195.0,\n  19256.0,\n  19283.0,\n  19288.0,\n  19294.0,\n  19306.0,\n  19480.0,\n  19518.0,\n  19602.0,\n  19625.0,\n  19661.0,\n  19695.0,\n  19738.0,\n  19779.0,\n  19883.0,\n  19967.0,\n  20061.0,\n  20108.0,\n  20157.0,\n  20198.0,\n  20199.0,\n  20235.0,\n  20252.0,\n  20352.0,\n  20363.0,\n  20440.0,\n  20441.0,\n  20466.0,\n  20565.0,\n  20672.0,\n  20681.0,\n  20697.0,\n  20773.0,\n  20797.0,\n  20818.0,\n  20839.0,\n  20904.0,\n  20907.0,\n  20964.0,\n  21136.0,\n  21300.0,\n  21333.0,\n  21361.0,\n  21398.0,\n  21448.0,\n  21574.0,\n  21622.0,\n  21636.0,\n  21656.0,\n  21697.0,\n  21699.0,\n  21784.0,\n  21795.0,\n  21797.0,\n  21822.0,\n  21854.0,\n  21948.0,\n  21995.0,\n  22047.0,\n  22111.0,\n  22171.0,\n  22256.0,\n  22302.0,\n  22328.0,\n  22407.0,\n  22467.0,\n  22531.0,\n  22541.0,\n  22595.0,\n  22643.0,\n  22651.0,\n  22655.0,\n  22702.0,\n  22703.0,\n  22705.0,\n  22713.0,\n  22827.0,\n  22873.0,\n  22881.0,\n  22929.0,\n  22977.0,\n  23004.0,\n  23048.0,\n  23103.0,\n  23135.0,\n  23173.0,\n  23323.0,\n  23460.0,\n  23640.0,\n  23653.0,\n  23707.0,\n  23743.0,\n  23902.0,\n  23973.0,\n  24046.0,\n  24136.0,\n  24147.0,\n  24239.0,\n  24288.0,\n  24332.0,\n  24384.0,\n  24397.0,\n  24597.0,\n  24609.0,\n  24642.0,\n  24682.0,\n  24702.0,\n  24724.0,\n  24727.0,\n  24878.0,\n  24890.0,\n  24906.0,\n  24916.0,\n  24947.0,\n  25021.0,\n  25057.0,\n  25104.0,\n  25205.0,\n  25212.0,\n  25277.0,\n  25324.0,\n  25372.0,\n  25468.0,\n  25510.0,\n  25545.0,\n  25865.0,\n  25902.0,\n  25953.0,\n  25974.0,\n  26144.0,\n  26161.0,\n  26186.0,\n  26213.0,\n  26219.0,\n  26296.0,\n  26304.0,\n  26340.0,\n  26400.0,\n  26471.0,\n  26623.0,\n  26738.0,\n  26979.0,\n  26986.0,\n  27084.0,\n  27106.0,\n  27122.0,\n  27170.0,\n  27195.0,\n  27231.0,\n  27255.0,\n  27331.0,\n  27366.0,\n  27420.0,\n  27436.0,\n  27468.0,\n  27469.0,\n  27591.0,\n  27637.0,\n  27692.0,\n  27733.0,\n  27768.0},\n 13.0: {337.0,\n  804.0,\n  7230.0,\n  9214.0,\n  15406.0,\n  18025.0,\n  18591.0,\n  22372.0,\n  23264.0,\n  24585.0,\n  26103.0,\n  26526.0},\n 14.0: {103.0,\n  337.0,\n  490.0,\n  557.0,\n  945.0,\n  973.0,\n  1011.0,\n  1151.0,\n  1202.0,\n  1296.0,\n  1428.0,\n  2404.0,\n  2497.0,\n  2949.0,\n  3217.0,\n  3346.0,\n  3795.0,\n  3914.0,\n  4097.0,\n  4141.0,\n  4539.0,\n  4582.0,\n  4619.0,\n  5970.0,\n  6029.0,\n  6962.0,\n  7073.0,\n  7336.0,\n  7544.0,\n  7600.0,\n  7635.0,\n  7736.0,\n  7948.0,\n  8366.0,\n  8791.0,\n  8809.0,\n  8884.0,\n  9306.0,\n  9552.0,\n  9721.0,\n  9769.0,\n  10212.0,\n  10376.0,\n  10435.0,\n  10839.0,\n  10967.0,\n  10973.0,\n  11432.0,\n  11502.0,\n  11856.0,\n  12125.0,\n  12222.0,\n  12306.0,\n  12351.0,\n  12778.0,\n  12867.0,\n  13777.0,\n  13859.0,\n  13957.0,\n  14331.0,\n  14556.0,\n  14850.0,\n  14914.0,\n  15060.0,\n  15254.0,\n  15519.0,\n  15599.0,\n  15637.0,\n  15926.0,\n  16042.0,\n  16268.0,\n  16340.0,\n  16665.0,\n  16981.0,\n  17013.0,\n  17327.0,\n  17947.0,\n  18215.0,\n  18283.0,\n  19163.0,\n  19229.0,\n  19246.0,\n  19269.0,\n  19393.0,\n  20370.0,\n  20492.0,\n  21104.0,\n  21167.0,\n  21224.0,\n  21272.0,\n  21457.0,\n  21602.0,\n  21802.0,\n  21942.0,\n  21961.0,\n  22261.0,\n  22302.0,\n  22714.0,\n  22831.0,\n  23277.0,\n  23819.0,\n  23835.0,\n  23863.0,\n  23878.0,\n  23903.0,\n  24045.0,\n  24061.0,\n  24152.0,\n  24786.0,\n  25198.0,\n  25537.0,\n  25574.0,\n  25680.0,\n  25998.0,\n  25999.0,\n  26351.0,\n  26389.0,\n  26414.0,\n  26491.0,\n  26501.0,\n  26861.0,\n  26886.0,\n  26888.0,\n  27148.0,\n  27353.0,\n  27684.0,\n  27704.0},\n 15.0: {321.0,\n  535.0,\n  2797.0,\n  3336.0,\n  4503.0,\n  4584.0,\n  6074.0,\n  6226.0,\n  6304.0,\n  7068.0,\n  7150.0,\n  9035.0,\n  10000.0,\n  13183.0,\n  13212.0,\n  15199.0,\n  15628.0,\n  15970.0,\n  16784.0,\n  18007.0,\n  18207.0,\n  18525.0,\n  19815.0,\n  19827.0,\n  20050.0,\n  20176.0,\n  20446.0,\n  21121.0,\n  21745.0,\n  22799.0,\n  24037.0,\n  25316.0,\n  25815.0},\n 16.0: {12.0,\n  330.0,\n  372.0,\n  408.0,\n  624.0,\n  645.0,\n  663.0,\n  684.0,\n  813.0,\n  838.0,\n  861.0,\n  870.0,\n  878.0,\n  879.0,\n  904.0,\n  908.0,\n  1249.0,\n  1343.0,\n  1668.0,\n  1854.0,\n  1857.0,\n  1889.0,\n  1917.0,\n  1980.0,\n  1981.0,\n  2029.0,\n  2034.0,\n  2074.0,\n  2122.0,\n  2132.0,\n  2252.0,\n  2284.0,\n  2345.0,\n  2409.0,\n  2533.0,\n  2680.0,\n  2708.0,\n  2762.0,\n  2834.0,\n  2835.0,\n  2936.0,\n  2975.0,\n  3032.0,\n  3087.0,\n  3191.0,\n  3238.0,\n  3265.0,\n  3316.0,\n  3327.0,\n  3577.0,\n  3618.0,\n  3620.0,\n  3703.0,\n  3724.0,\n  3754.0,\n  3761.0,\n  3841.0,\n  3911.0,\n  3951.0,\n  4034.0,\n  4089.0,\n  4097.0,\n  4166.0,\n  4168.0,\n  4199.0,\n  4272.0,\n  4315.0,\n  4333.0,\n  4376.0,\n  4528.0,\n  4538.0,\n  4591.0,\n  4621.0,\n  4762.0,\n  4865.0,\n  4922.0,\n  4957.0,\n  4987.0,\n  5094.0,\n  5104.0,\n  5107.0,\n  5128.0,\n  5166.0,\n  5189.0,\n  5217.0,\n  5321.0,\n  5384.0,\n  5468.0,\n  5485.0,\n  5531.0,\n  5601.0,\n  5724.0,\n  5892.0,\n  5919.0,\n  5943.0,\n  5976.0,\n  6060.0,\n  6065.0,\n  6257.0,\n  6329.0,\n  6563.0,\n  6603.0,\n  6701.0,\n  6725.0,\n  6759.0,\n  6780.0,\n  6905.0,\n  6907.0,\n  6908.0,\n  6930.0,\n  6942.0,\n  7075.0,\n  7100.0,\n  7104.0,\n  7162.0,\n  7266.0,\n  7279.0,\n  7426.0,\n  7474.0,\n  7548.0,\n  7554.0,\n  7561.0,\n  7592.0,\n  7599.0,\n  7692.0,\n  7703.0,\n  7744.0,\n  7765.0,\n  7801.0,\n  7861.0,\n  8013.0,\n  8151.0,\n  8159.0,\n  8264.0,\n  8438.0,\n  8664.0,\n  8788.0,\n  8885.0,\n  8923.0,\n  8946.0,\n  9062.0,\n  9082.0,\n  9144.0,\n  9169.0,\n  9335.0,\n  9339.0,\n  9466.0,\n  9528.0,\n  9654.0,\n  10074.0,\n  10086.0,\n  10192.0,\n  10196.0,\n  10203.0,\n  10279.0,\n  10421.0,\n  10587.0,\n  10760.0,\n  10889.0,\n  10948.0,\n  11142.0,\n  11145.0,\n  11212.0,\n  11252.0,\n  11351.0,\n  11401.0,\n  11459.0,\n  11462.0,\n  11610.0,\n  11848.0,\n  11927.0,\n  11953.0,\n  11985.0,\n  12074.0,\n  12152.0,\n  12275.0,\n  12294.0,\n  12341.0,\n  12532.0,\n  12652.0,\n  12797.0,\n  12887.0,\n  12988.0,\n  12991.0,\n  13023.0,\n  13053.0,\n  13121.0,\n  13187.0,\n  13248.0,\n  13287.0,\n  13352.0,\n  13403.0,\n  13404.0,\n  13486.0,\n  13607.0,\n  13717.0,\n  13754.0,\n  13949.0,\n  14080.0,\n  14081.0,\n  14108.0,\n  14122.0,\n  14137.0,\n  14306.0,\n  14320.0,\n  14338.0,\n  14357.0,\n  14444.0,\n  14463.0,\n  14496.0,\n  14532.0,\n  14568.0,\n  14573.0,\n  14579.0,\n  14594.0,\n  14640.0,\n  14714.0,\n  14715.0,\n  14721.0,\n  14737.0,\n  14754.0,\n  14772.0,\n  14852.0,\n  14931.0,\n  14957.0,\n  14994.0,\n  15000.0,\n  15160.0,\n  15172.0,\n  15330.0,\n  15385.0,\n  15475.0,\n  15486.0,\n  15490.0,\n  15535.0,\n  15609.0,\n  15647.0,\n  15732.0,\n  15923.0,\n  16126.0,\n  16130.0,\n  16144.0,\n  16485.0,\n  16643.0,\n  16718.0,\n  16807.0,\n  16841.0,\n  16877.0,\n  17025.0,\n  17036.0,\n  17079.0,\n  17186.0,\n  17206.0,\n  17373.0,\n  17443.0,\n  17496.0,\n  17612.0,\n  17785.0,\n  17805.0,\n  18016.0,\n  18234.0,\n  18442.0,\n  18499.0,\n  18535.0,\n  18595.0,\n  18602.0,\n  18620.0,\n  18648.0,\n  18655.0,\n  18776.0,\n  18861.0,\n  18889.0,\n  18894.0,\n  18977.0,\n  19004.0,\n  19027.0,\n  19087.0,\n  19108.0,\n  19156.0,\n  19225.0,\n  19359.0,\n  19678.0,\n  19781.0,\n  19867.0,\n  20148.0,\n  20150.0,\n  20161.0,\n  20228.0,\n  20235.0,\n  20289.0,\n  20317.0,\n  20363.0,\n  20378.0,\n  20466.0,\n  20519.0,\n  20531.0,\n  20569.0,\n  20818.0,\n  20959.0,\n  20961.0,\n  20962.0,\n  21012.0,\n  21097.0,\n  21110.0,\n  21227.0,\n  21381.0,\n  21448.0,\n  21457.0,\n  21531.0,\n  21829.0,\n  21838.0,\n  21932.0,\n  22126.0,\n  22171.0,\n  22201.0,\n  22270.0,\n  22547.0,\n  22641.0,\n  22680.0,\n  22846.0,\n  22860.0,\n  22930.0,\n  23167.0,\n  23184.0,\n  23222.0,\n  23375.0,\n  23545.0,\n  23652.0,\n  23720.0,\n  23741.0,\n  23797.0,\n  23856.0,\n  23990.0,\n  24043.0,\n  24108.0,\n  24135.0,\n  24136.0,\n  24161.0,\n  24414.0,\n  24485.0,\n  24617.0,\n  24704.0,\n  24749.0,\n  24837.0,\n  24986.0,\n  25144.0,\n  25274.0,\n  25373.0,\n  25382.0,\n  25546.0,\n  25609.0,\n  25620.0,\n  25726.0,\n  25854.0,\n  25875.0,\n  25912.0,\n  25960.0,\n  25967.0,\n  25970.0,\n  26032.0,\n  26150.0,\n  26213.0,\n  26254.0,\n  26277.0,\n  26304.0,\n  26379.0,\n  26383.0,\n  26497.0,\n  26516.0,\n  26653.0,\n  26660.0,\n  26775.0,\n  26879.0,\n  27064.0,\n  27195.0,\n  27539.0,\n  27637.0,\n  27639.0,\n  27645.0},\n 17.0: {151.0,\n  235.0,\n  308.0,\n  440.0,\n  657.0,\n  676.0,\n  1100.0,\n  1292.0,\n  1389.0,\n  1713.0,\n  1864.0,\n  1895.0,\n  2126.0,\n  2136.0,\n  2198.0,\n  2441.0,\n  2598.0,\n  2830.0,\n  3208.0,\n  3371.0,\n  3882.0,\n  4083.0,\n  4214.0,\n  4225.0,\n  4238.0,\n  4393.0,\n  4560.0,\n  4761.0,\n  4833.0,\n  4976.0,\n  5123.0,\n  5671.0,\n  5731.0,\n  6021.0,\n  6336.0,\n  6683.0,\n  6697.0,\n  7507.0,\n  7704.0,\n  7748.0,\n  7894.0,\n  8027.0,\n  8210.0,\n  9203.0,\n  9222.0,\n  9452.0,\n  9522.0,\n  9608.0,\n  10243.0,\n  11744.0,\n  11774.0,\n  11839.0,\n  12183.0,\n  12269.0,\n  12423.0,\n  13094.0,\n  13181.0,\n  13251.0,\n  13253.0,\n  14239.0,\n  14484.0,\n  14646.0,\n  15220.0,\n  15474.0,\n  16324.0,\n  16447.0,\n  16692.0,\n  17036.0,\n  17700.0,\n  17968.0,\n  18395.0,\n  18830.0,\n  19047.0,\n  19931.0,\n  20253.0,\n  20274.0,\n  20638.0,\n  20732.0,\n  21066.0,\n  21101.0,\n  21917.0,\n  22276.0,\n  22338.0,\n  22351.0,\n  22572.0,\n  22767.0,\n  22898.0,\n  23741.0,\n  23883.0,\n  24200.0,\n  24335.0,\n  24422.0,\n  24622.0,\n  24791.0,\n  24940.0,\n  25028.0,\n  25237.0,\n  25274.0,\n  25647.0,\n  25827.0,\n  26038.0,\n  26563.0,\n  26861.0,\n  27152.0,\n  27351.0},\n 18.0: {698.0,\n  813.0,\n  2441.0,\n  2876.0,\n  4166.0,\n  4330.0,\n  4520.0,\n  4833.0,\n  7570.0,\n  8027.0,\n  8753.0,\n  9222.0,\n  9538.0,\n  9678.0,\n  10135.0,\n  10224.0,\n  10410.0,\n  10809.0,\n  11040.0,\n  11420.0,\n  12578.0,\n  13744.0,\n  14252.0,\n  14561.0,\n  16736.0,\n  16861.0,\n  16934.0,\n  17733.0,\n  18180.0,\n  18336.0,\n  22383.0,\n  22535.0,\n  22670.0,\n  23135.0,\n  23186.0,\n  24335.0,\n  24731.0,\n  26831.0,\n  27226.0,\n  27418.0},\n 19.0: {21.0,\n  223.0,\n  547.0,\n  867.0,\n  1301.0,\n  1642.0,\n  1896.0,\n  2983.0,\n  4622.0,\n  4648.0,\n  4832.0,\n  5534.0,\n  5807.0,\n  7030.0,\n  7683.0,\n  7716.0,\n  7918.0,\n  9433.0,\n  9910.0,\n  9926.0,\n  10405.0,\n  10488.0,\n  11483.0,\n  12120.0,\n  12208.0,\n  13172.0,\n  13346.0,\n  13389.0,\n  13705.0,\n  14754.0,\n  15774.0,\n  15975.0,\n  17064.0,\n  17305.0,\n  19018.0,\n  19224.0,\n  19566.0,\n  21034.0,\n  21794.0,\n  22518.0,\n  23358.0,\n  25561.0,\n  27683.0},\n 21.0: {3496.0, 14982.0},\n 20.0: {1258.0,\n  2217.0,\n  3281.0,\n  3835.0,\n  4099.0,\n  5380.0,\n  7489.0,\n  8239.0,\n  8473.0,\n  11536.0,\n  12233.0,\n  12334.0,\n  13511.0,\n  14812.0,\n  16352.0,\n  16755.0,\n  17334.0,\n  17788.0,\n  18351.0,\n  19766.0,\n  22369.0,\n  22577.0,\n  25672.0}}"
     },
     "execution_count": 141,
     "metadata": {},
     "output_type": "execute_result"
    }
   ],
   "source": [
    "h"
   ],
   "metadata": {
    "collapsed": false,
    "pycharm": {
     "name": "#%%\n"
    }
   }
  },
  {
   "cell_type": "code",
   "execution_count": 142,
   "outputs": [
    {
     "data": {
      "text/plain": "  0%|          | 0/1008 [00:00<?, ?it/s]",
      "application/vnd.jupyter.widget-view+json": {
       "version_major": 2,
       "version_minor": 0,
       "model_id": "c6315ae3aa8d40a3ba08f657d11a8ca2"
      }
     },
     "metadata": {},
     "output_type": "display_data"
    }
   ],
   "source": [
    "dim1, dim2 = ads.shape\n",
    "\n",
    "ads['active_users_per_pub'] = np.zeros_like(dim1)\n",
    "\n",
    "for j in tqdm(list(range(dim1))):\n",
    "    split = [int(i) for i in ads.loc[j]['publishers'].split(',')]\n",
    "    cnt = 0\n",
    "    for cur in split:\n",
    "        cnt = cnt + len(h[cur])\n",
    "    ads.loc[j, 'active_users_per_pub'] = cnt\n"
   ],
   "metadata": {
    "collapsed": false,
    "pycharm": {
     "name": "#%%\n"
    }
   }
  },
  {
   "cell_type": "code",
   "execution_count": 143,
   "metadata": {},
   "outputs": [],
   "source": [
    "ads.to_csv('new_ads.csv', index=False)"
   ]
  },
  {
   "cell_type": "code",
   "execution_count": 175,
   "metadata": {
    "pycharm": {
     "name": "#%%\n"
    }
   },
   "outputs": [],
   "source": [
    "ads = pd.read_csv('new_ads.csv')"
   ]
  },
  {
   "cell_type": "code",
   "execution_count": 176,
   "metadata": {
    "pycharm": {
     "name": "#%%\n"
    }
   },
   "outputs": [],
   "source": [
    "ads = ads.drop(['mode_city', 'mode_sex', 'dur_x_audience', 'cpm_x_audience', 'log_dur_x_audience', 'publishers', 'cpm_x_publishers'], axis=1)"
   ]
  },
  {
   "cell_type": "code",
   "execution_count": 177,
   "metadata": {
    "pycharm": {
     "name": "#%%\n"
    }
   },
   "outputs": [],
   "source": [
    "ads = ads.assign(\n",
    "    cpm_dur=ads.duration*ads.cpm/ads.audience_size,\n",
    "    # cpm_x_duration_per_pub=ads.cpm * ads.duration / ads.n_publishers,\n",
    "    dur_x_audience_per_pub=ads.duration * ads.audience_size / ads.n_publishers,\n",
    "    cpm_dur_npublishers=ads.duration * ads.cpm / ads.audience_size * ads.n_publishers,\n",
    "    prikol2 = ads.cpm * ads.peek_hours\n",
    ")"
   ]
  },
  {
   "cell_type": "code",
   "execution_count": 178,
   "outputs": [],
   "source": [
    "ads = ads.drop(['n_publishers'], axis=1)"
   ],
   "metadata": {
    "collapsed": false,
    "pycharm": {
     "name": "#%%\n"
    }
   }
  },
  {
   "cell_type": "code",
   "execution_count": 179,
   "metadata": {
    "pycharm": {
     "name": "#%%\n"
    }
   },
   "outputs": [
    {
     "data": {
      "text/plain": "     cpm  audience_size  ad_id  duration  cpm_x_duration  peek_hours  \\\n0  220.0           1906      0        95         20900.0        56.0   \n1  312.0           1380      1         6          1872.0         0.0   \n2   70.0            888      2        20          1400.0        14.0   \n3  240.0            440      3        82         19680.0        43.0   \n4  262.0           1476      4       238         62356.0       140.0   \n\n    mean_age  mean_unique  mean_better_cpm_count  mean_better_cpm_count_ratio  \\\n0  30.728484    47.302204              11.479538                     0.241818   \n1  30.111252    44.267391               6.147826                     0.138094   \n2  31.385729    40.564189              30.418919                     0.748228   \n3  29.972843    49.163636              10.884091                     0.220159   \n4  44.760840    47.792005               8.650407                     0.178759   \n\n   active_users_per_pub    cpm_dur  dur_x_audience_per_pub  \\\n0                  5695  10.965373                 90535.0   \n1                  3051   1.356522                  4140.0   \n2                 26709   1.576577                  2960.0   \n3                 15553  44.727273                 18040.0   \n4                 24648  42.246612                 87822.0   \n\n   cpm_dur_npublishers  prikol2  at_least_one  \n0            21.930745  12320.0        0.0430  \n1             2.713043      0.0        0.0130  \n2             9.459459    980.0        0.0878  \n3            89.454545  10320.0        0.2295  \n4           168.986450  36680.0        0.3963  ",
      "text/html": "<div>\n<style scoped>\n    .dataframe tbody tr th:only-of-type {\n        vertical-align: middle;\n    }\n\n    .dataframe tbody tr th {\n        vertical-align: top;\n    }\n\n    .dataframe thead th {\n        text-align: right;\n    }\n</style>\n<table border=\"1\" class=\"dataframe\">\n  <thead>\n    <tr style=\"text-align: right;\">\n      <th></th>\n      <th>cpm</th>\n      <th>audience_size</th>\n      <th>ad_id</th>\n      <th>duration</th>\n      <th>cpm_x_duration</th>\n      <th>peek_hours</th>\n      <th>mean_age</th>\n      <th>mean_unique</th>\n      <th>mean_better_cpm_count</th>\n      <th>mean_better_cpm_count_ratio</th>\n      <th>active_users_per_pub</th>\n      <th>cpm_dur</th>\n      <th>dur_x_audience_per_pub</th>\n      <th>cpm_dur_npublishers</th>\n      <th>prikol2</th>\n      <th>at_least_one</th>\n    </tr>\n  </thead>\n  <tbody>\n    <tr>\n      <th>0</th>\n      <td>220.0</td>\n      <td>1906</td>\n      <td>0</td>\n      <td>95</td>\n      <td>20900.0</td>\n      <td>56.0</td>\n      <td>30.728484</td>\n      <td>47.302204</td>\n      <td>11.479538</td>\n      <td>0.241818</td>\n      <td>5695</td>\n      <td>10.965373</td>\n      <td>90535.0</td>\n      <td>21.930745</td>\n      <td>12320.0</td>\n      <td>0.0430</td>\n    </tr>\n    <tr>\n      <th>1</th>\n      <td>312.0</td>\n      <td>1380</td>\n      <td>1</td>\n      <td>6</td>\n      <td>1872.0</td>\n      <td>0.0</td>\n      <td>30.111252</td>\n      <td>44.267391</td>\n      <td>6.147826</td>\n      <td>0.138094</td>\n      <td>3051</td>\n      <td>1.356522</td>\n      <td>4140.0</td>\n      <td>2.713043</td>\n      <td>0.0</td>\n      <td>0.0130</td>\n    </tr>\n    <tr>\n      <th>2</th>\n      <td>70.0</td>\n      <td>888</td>\n      <td>2</td>\n      <td>20</td>\n      <td>1400.0</td>\n      <td>14.0</td>\n      <td>31.385729</td>\n      <td>40.564189</td>\n      <td>30.418919</td>\n      <td>0.748228</td>\n      <td>26709</td>\n      <td>1.576577</td>\n      <td>2960.0</td>\n      <td>9.459459</td>\n      <td>980.0</td>\n      <td>0.0878</td>\n    </tr>\n    <tr>\n      <th>3</th>\n      <td>240.0</td>\n      <td>440</td>\n      <td>3</td>\n      <td>82</td>\n      <td>19680.0</td>\n      <td>43.0</td>\n      <td>29.972843</td>\n      <td>49.163636</td>\n      <td>10.884091</td>\n      <td>0.220159</td>\n      <td>15553</td>\n      <td>44.727273</td>\n      <td>18040.0</td>\n      <td>89.454545</td>\n      <td>10320.0</td>\n      <td>0.2295</td>\n    </tr>\n    <tr>\n      <th>4</th>\n      <td>262.0</td>\n      <td>1476</td>\n      <td>4</td>\n      <td>238</td>\n      <td>62356.0</td>\n      <td>140.0</td>\n      <td>44.760840</td>\n      <td>47.792005</td>\n      <td>8.650407</td>\n      <td>0.178759</td>\n      <td>24648</td>\n      <td>42.246612</td>\n      <td>87822.0</td>\n      <td>168.986450</td>\n      <td>36680.0</td>\n      <td>0.3963</td>\n    </tr>\n  </tbody>\n</table>\n</div>"
     },
     "execution_count": 179,
     "metadata": {},
     "output_type": "execute_result"
    }
   ],
   "source": [
    "train = pd.merge(ads, target, on='ad_id')\n",
    "train = train.drop(['user_ids'], axis=1)\n",
    "train.head()"
   ]
  },
  {
   "cell_type": "code",
   "execution_count": 180,
   "metadata": {
    "pycharm": {
     "name": "#%%\n"
    }
   },
   "outputs": [
    {
     "data": {
      "text/plain": "(700, 16)"
     },
     "execution_count": 180,
     "metadata": {},
     "output_type": "execute_result"
    }
   ],
   "source": [
    "train.shape"
   ]
  },
  {
   "cell_type": "code",
   "execution_count": 181,
   "metadata": {
    "pycharm": {
     "name": "#%%\n"
    }
   },
   "outputs": [],
   "source": [
    "# from matplotlib import pyplot as plt\n",
    "\n",
    "# def heatmap(data: pd.DataFrame):\n",
    "#     plt.figure(figsize=(13, 12))\n",
    "#     sns.heatmap(data.corr(), square=True, linecolor='white', annot=True)\n",
    "#     plt.yticks(rotation=0)\n",
    "#     plt.xticks(rotation=90)\n",
    "#     plt.show()"
   ]
  },
  {
   "cell_type": "code",
   "execution_count": 182,
   "metadata": {
    "pycharm": {
     "name": "#%%\n"
    }
   },
   "outputs": [],
   "source": [
    "# heatmap(train)"
   ]
  },
  {
   "cell_type": "code",
   "execution_count": 183,
   "metadata": {
    "pycharm": {
     "name": "#%%\n"
    }
   },
   "outputs": [],
   "source": [
    "X = train.drop(['ad_id', 'at_least_one'], axis=1)\n",
    "y = train['at_least_one']\n",
    "\n",
    "X_train = X\n",
    "y_train = y"
   ]
  },
  {
   "cell_type": "code",
   "execution_count": 184,
   "metadata": {},
   "outputs": [
    {
     "data": {
      "text/plain": "Index(['cpm', 'audience_size', 'duration', 'cpm_x_duration', 'peek_hours',\n       'mean_age', 'mean_unique', 'mean_better_cpm_count',\n       'mean_better_cpm_count_ratio', 'active_users_per_pub', 'cpm_dur',\n       'dur_x_audience_per_pub', 'cpm_dur_npublishers', 'prikol2'],\n      dtype='object')"
     },
     "execution_count": 184,
     "metadata": {},
     "output_type": "execute_result"
    }
   ],
   "source": [
    "X.columns"
   ]
  },
  {
   "cell_type": "code",
   "execution_count": 185,
   "metadata": {
    "pycharm": {
     "name": "#%%\n"
    },
    "scrolled": true
   },
   "outputs": [
    {
     "name": "stdout",
     "output_type": "stream",
     "text": [
      "Learning rate set to 0.036629\n",
      "0:\tlearn: 0.1430834\ttotal: 12.8ms\tremaining: 12.8s\n",
      "1:\tlearn: 0.1399530\ttotal: 16.2ms\tremaining: 8.09s\n",
      "2:\tlearn: 0.1370876\ttotal: 19.2ms\tremaining: 6.39s\n",
      "3:\tlearn: 0.1341926\ttotal: 26.1ms\tremaining: 6.49s\n",
      "4:\tlearn: 0.1313202\ttotal: 30.6ms\tremaining: 6.08s\n",
      "5:\tlearn: 0.1289504\ttotal: 40.4ms\tremaining: 6.7s\n",
      "6:\tlearn: 0.1264354\ttotal: 42.8ms\tremaining: 6.08s\n",
      "7:\tlearn: 0.1239254\ttotal: 45.7ms\tremaining: 5.67s\n",
      "8:\tlearn: 0.1217943\ttotal: 49ms\tremaining: 5.39s\n",
      "9:\tlearn: 0.1195500\ttotal: 51.6ms\tremaining: 5.11s\n",
      "10:\tlearn: 0.1172919\ttotal: 53.7ms\tremaining: 4.83s\n",
      "11:\tlearn: 0.1153492\ttotal: 57ms\tremaining: 4.69s\n",
      "12:\tlearn: 0.1132501\ttotal: 60.2ms\tremaining: 4.57s\n",
      "13:\tlearn: 0.1112199\ttotal: 63ms\tremaining: 4.44s\n",
      "14:\tlearn: 0.1091368\ttotal: 65.9ms\tremaining: 4.33s\n",
      "15:\tlearn: 0.1072628\ttotal: 68.7ms\tremaining: 4.22s\n",
      "16:\tlearn: 0.1054366\ttotal: 72ms\tremaining: 4.16s\n",
      "17:\tlearn: 0.1036327\ttotal: 75.1ms\tremaining: 4.1s\n",
      "18:\tlearn: 0.1022294\ttotal: 77.7ms\tremaining: 4.01s\n",
      "19:\tlearn: 0.1004024\ttotal: 80.3ms\tremaining: 3.93s\n",
      "20:\tlearn: 0.0989562\ttotal: 82.5ms\tremaining: 3.84s\n",
      "21:\tlearn: 0.0975140\ttotal: 85.6ms\tremaining: 3.81s\n",
      "22:\tlearn: 0.0961152\ttotal: 89ms\tremaining: 3.78s\n",
      "23:\tlearn: 0.0948263\ttotal: 92.3ms\tremaining: 3.75s\n",
      "24:\tlearn: 0.0933508\ttotal: 94.8ms\tremaining: 3.7s\n",
      "25:\tlearn: 0.0918773\ttotal: 97.7ms\tremaining: 3.66s\n",
      "26:\tlearn: 0.0905887\ttotal: 100ms\tremaining: 3.61s\n",
      "27:\tlearn: 0.0894270\ttotal: 104ms\tremaining: 3.6s\n",
      "28:\tlearn: 0.0883656\ttotal: 106ms\tremaining: 3.56s\n",
      "29:\tlearn: 0.0872203\ttotal: 109ms\tremaining: 3.51s\n",
      "30:\tlearn: 0.0860672\ttotal: 111ms\tremaining: 3.47s\n",
      "31:\tlearn: 0.0849059\ttotal: 114ms\tremaining: 3.45s\n",
      "32:\tlearn: 0.0838514\ttotal: 117ms\tremaining: 3.41s\n",
      "33:\tlearn: 0.0830010\ttotal: 119ms\tremaining: 3.39s\n",
      "34:\tlearn: 0.0819958\ttotal: 122ms\tremaining: 3.37s\n",
      "35:\tlearn: 0.0811320\ttotal: 124ms\tremaining: 3.33s\n",
      "36:\tlearn: 0.0802170\ttotal: 127ms\tremaining: 3.3s\n",
      "37:\tlearn: 0.0794203\ttotal: 129ms\tremaining: 3.27s\n",
      "38:\tlearn: 0.0787414\ttotal: 132ms\tremaining: 3.26s\n",
      "39:\tlearn: 0.0780279\ttotal: 135ms\tremaining: 3.24s\n",
      "40:\tlearn: 0.0770483\ttotal: 138ms\tremaining: 3.23s\n",
      "41:\tlearn: 0.0761789\ttotal: 141ms\tremaining: 3.21s\n",
      "42:\tlearn: 0.0753786\ttotal: 143ms\tremaining: 3.18s\n",
      "43:\tlearn: 0.0747346\ttotal: 146ms\tremaining: 3.16s\n",
      "44:\tlearn: 0.0741007\ttotal: 149ms\tremaining: 3.17s\n",
      "45:\tlearn: 0.0735093\ttotal: 152ms\tremaining: 3.16s\n",
      "46:\tlearn: 0.0729047\ttotal: 156ms\tremaining: 3.17s\n",
      "47:\tlearn: 0.0722759\ttotal: 160ms\tremaining: 3.17s\n",
      "48:\tlearn: 0.0717045\ttotal: 163ms\tremaining: 3.17s\n",
      "49:\tlearn: 0.0711336\ttotal: 168ms\tremaining: 3.19s\n",
      "50:\tlearn: 0.0705065\ttotal: 172ms\tremaining: 3.2s\n",
      "51:\tlearn: 0.0699555\ttotal: 176ms\tremaining: 3.21s\n",
      "52:\tlearn: 0.0694537\ttotal: 180ms\tremaining: 3.22s\n",
      "53:\tlearn: 0.0689204\ttotal: 184ms\tremaining: 3.22s\n",
      "54:\tlearn: 0.0683605\ttotal: 187ms\tremaining: 3.22s\n",
      "55:\tlearn: 0.0678240\ttotal: 192ms\tremaining: 3.23s\n",
      "56:\tlearn: 0.0673912\ttotal: 195ms\tremaining: 3.23s\n",
      "57:\tlearn: 0.0670641\ttotal: 199ms\tremaining: 3.23s\n",
      "58:\tlearn: 0.0667150\ttotal: 202ms\tremaining: 3.23s\n",
      "59:\tlearn: 0.0661654\ttotal: 205ms\tremaining: 3.22s\n",
      "60:\tlearn: 0.0658513\ttotal: 208ms\tremaining: 3.2s\n",
      "61:\tlearn: 0.0651199\ttotal: 211ms\tremaining: 3.19s\n",
      "62:\tlearn: 0.0646185\ttotal: 214ms\tremaining: 3.18s\n",
      "63:\tlearn: 0.0640652\ttotal: 217ms\tremaining: 3.17s\n",
      "64:\tlearn: 0.0636695\ttotal: 219ms\tremaining: 3.15s\n",
      "65:\tlearn: 0.0632934\ttotal: 222ms\tremaining: 3.14s\n",
      "66:\tlearn: 0.0628385\ttotal: 225ms\tremaining: 3.13s\n",
      "67:\tlearn: 0.0624034\ttotal: 229ms\tremaining: 3.13s\n",
      "68:\tlearn: 0.0621057\ttotal: 232ms\tremaining: 3.13s\n",
      "69:\tlearn: 0.0618166\ttotal: 235ms\tremaining: 3.12s\n",
      "70:\tlearn: 0.0615403\ttotal: 241ms\tremaining: 3.15s\n",
      "71:\tlearn: 0.0611059\ttotal: 243ms\tremaining: 3.13s\n",
      "72:\tlearn: 0.0609045\ttotal: 247ms\tremaining: 3.13s\n",
      "73:\tlearn: 0.0605955\ttotal: 250ms\tremaining: 3.13s\n",
      "74:\tlearn: 0.0603298\ttotal: 253ms\tremaining: 3.12s\n",
      "75:\tlearn: 0.0598853\ttotal: 256ms\tremaining: 3.11s\n",
      "76:\tlearn: 0.0596304\ttotal: 259ms\tremaining: 3.1s\n",
      "77:\tlearn: 0.0594276\ttotal: 264ms\tremaining: 3.12s\n",
      "78:\tlearn: 0.0591284\ttotal: 267ms\tremaining: 3.11s\n",
      "79:\tlearn: 0.0586304\ttotal: 270ms\tremaining: 3.1s\n",
      "80:\tlearn: 0.0583821\ttotal: 272ms\tremaining: 3.09s\n",
      "81:\tlearn: 0.0581839\ttotal: 277ms\tremaining: 3.1s\n",
      "82:\tlearn: 0.0579473\ttotal: 283ms\tremaining: 3.13s\n",
      "83:\tlearn: 0.0576235\ttotal: 288ms\tremaining: 3.14s\n",
      "84:\tlearn: 0.0573803\ttotal: 292ms\tremaining: 3.14s\n",
      "85:\tlearn: 0.0571987\ttotal: 296ms\tremaining: 3.15s\n",
      "86:\tlearn: 0.0570082\ttotal: 299ms\tremaining: 3.14s\n",
      "87:\tlearn: 0.0567367\ttotal: 302ms\tremaining: 3.13s\n",
      "88:\tlearn: 0.0564515\ttotal: 305ms\tremaining: 3.12s\n",
      "89:\tlearn: 0.0561385\ttotal: 308ms\tremaining: 3.11s\n",
      "90:\tlearn: 0.0559334\ttotal: 312ms\tremaining: 3.11s\n",
      "91:\tlearn: 0.0557200\ttotal: 316ms\tremaining: 3.12s\n",
      "92:\tlearn: 0.0555625\ttotal: 319ms\tremaining: 3.11s\n",
      "93:\tlearn: 0.0552533\ttotal: 321ms\tremaining: 3.1s\n",
      "94:\tlearn: 0.0550117\ttotal: 324ms\tremaining: 3.09s\n",
      "95:\tlearn: 0.0546131\ttotal: 327ms\tremaining: 3.08s\n",
      "96:\tlearn: 0.0544279\ttotal: 330ms\tremaining: 3.07s\n",
      "97:\tlearn: 0.0542986\ttotal: 334ms\tremaining: 3.08s\n",
      "98:\tlearn: 0.0541197\ttotal: 338ms\tremaining: 3.08s\n",
      "99:\tlearn: 0.0539617\ttotal: 343ms\tremaining: 3.08s\n",
      "100:\tlearn: 0.0535467\ttotal: 351ms\tremaining: 3.13s\n",
      "101:\tlearn: 0.0533813\ttotal: 355ms\tremaining: 3.13s\n",
      "102:\tlearn: 0.0531532\ttotal: 358ms\tremaining: 3.12s\n",
      "103:\tlearn: 0.0530052\ttotal: 360ms\tremaining: 3.1s\n",
      "104:\tlearn: 0.0528328\ttotal: 363ms\tremaining: 3.09s\n",
      "105:\tlearn: 0.0526481\ttotal: 367ms\tremaining: 3.09s\n",
      "106:\tlearn: 0.0524858\ttotal: 370ms\tremaining: 3.08s\n",
      "107:\tlearn: 0.0522844\ttotal: 372ms\tremaining: 3.08s\n",
      "108:\tlearn: 0.0521437\ttotal: 375ms\tremaining: 3.07s\n",
      "109:\tlearn: 0.0520327\ttotal: 382ms\tremaining: 3.09s\n",
      "110:\tlearn: 0.0518216\ttotal: 384ms\tremaining: 3.07s\n",
      "111:\tlearn: 0.0516302\ttotal: 386ms\tremaining: 3.06s\n",
      "112:\tlearn: 0.0515814\ttotal: 390ms\tremaining: 3.06s\n",
      "113:\tlearn: 0.0514374\ttotal: 393ms\tremaining: 3.06s\n",
      "114:\tlearn: 0.0512914\ttotal: 397ms\tremaining: 3.05s\n",
      "115:\tlearn: 0.0510897\ttotal: 400ms\tremaining: 3.05s\n",
      "116:\tlearn: 0.0509802\ttotal: 404ms\tremaining: 3.04s\n",
      "117:\tlearn: 0.0507740\ttotal: 410ms\tremaining: 3.06s\n",
      "118:\tlearn: 0.0506229\ttotal: 415ms\tremaining: 3.07s\n",
      "119:\tlearn: 0.0504340\ttotal: 421ms\tremaining: 3.08s\n",
      "120:\tlearn: 0.0503588\ttotal: 424ms\tremaining: 3.08s\n",
      "121:\tlearn: 0.0502130\ttotal: 429ms\tremaining: 3.08s\n",
      "122:\tlearn: 0.0500655\ttotal: 434ms\tremaining: 3.09s\n",
      "123:\tlearn: 0.0499046\ttotal: 438ms\tremaining: 3.09s\n",
      "124:\tlearn: 0.0497513\ttotal: 442ms\tremaining: 3.09s\n",
      "125:\tlearn: 0.0495023\ttotal: 446ms\tremaining: 3.09s\n",
      "126:\tlearn: 0.0493980\ttotal: 451ms\tremaining: 3.1s\n",
      "127:\tlearn: 0.0493218\ttotal: 454ms\tremaining: 3.1s\n",
      "128:\tlearn: 0.0491850\ttotal: 458ms\tremaining: 3.09s\n",
      "129:\tlearn: 0.0488850\ttotal: 467ms\tremaining: 3.13s\n",
      "130:\tlearn: 0.0486707\ttotal: 471ms\tremaining: 3.12s\n",
      "131:\tlearn: 0.0483918\ttotal: 474ms\tremaining: 3.12s\n",
      "132:\tlearn: 0.0482542\ttotal: 477ms\tremaining: 3.11s\n",
      "133:\tlearn: 0.0479601\ttotal: 482ms\tremaining: 3.11s\n",
      "134:\tlearn: 0.0479049\ttotal: 486ms\tremaining: 3.12s\n",
      "135:\tlearn: 0.0477729\ttotal: 489ms\tremaining: 3.11s\n",
      "136:\tlearn: 0.0476950\ttotal: 492ms\tremaining: 3.1s\n",
      "137:\tlearn: 0.0475882\ttotal: 496ms\tremaining: 3.1s\n",
      "138:\tlearn: 0.0474651\ttotal: 505ms\tremaining: 3.13s\n",
      "139:\tlearn: 0.0473464\ttotal: 511ms\tremaining: 3.14s\n",
      "140:\tlearn: 0.0471984\ttotal: 519ms\tremaining: 3.16s\n",
      "141:\tlearn: 0.0469943\ttotal: 523ms\tremaining: 3.16s\n",
      "142:\tlearn: 0.0469399\ttotal: 526ms\tremaining: 3.15s\n",
      "143:\tlearn: 0.0468538\ttotal: 537ms\tremaining: 3.19s\n",
      "144:\tlearn: 0.0467490\ttotal: 539ms\tremaining: 3.18s\n",
      "145:\tlearn: 0.0467000\ttotal: 542ms\tremaining: 3.17s\n",
      "146:\tlearn: 0.0465816\ttotal: 545ms\tremaining: 3.16s\n",
      "147:\tlearn: 0.0464399\ttotal: 553ms\tremaining: 3.18s\n",
      "148:\tlearn: 0.0462846\ttotal: 560ms\tremaining: 3.2s\n",
      "149:\tlearn: 0.0462036\ttotal: 569ms\tremaining: 3.22s\n",
      "150:\tlearn: 0.0460159\ttotal: 571ms\tremaining: 3.21s\n",
      "151:\tlearn: 0.0459099\ttotal: 573ms\tremaining: 3.2s\n",
      "152:\tlearn: 0.0458600\ttotal: 576ms\tremaining: 3.19s\n",
      "153:\tlearn: 0.0457420\ttotal: 584ms\tremaining: 3.21s\n",
      "154:\tlearn: 0.0456498\ttotal: 586ms\tremaining: 3.19s\n",
      "155:\tlearn: 0.0455695\ttotal: 588ms\tremaining: 3.18s\n",
      "156:\tlearn: 0.0454386\ttotal: 592ms\tremaining: 3.18s\n",
      "157:\tlearn: 0.0453502\ttotal: 594ms\tremaining: 3.17s\n",
      "158:\tlearn: 0.0452287\ttotal: 598ms\tremaining: 3.16s\n",
      "159:\tlearn: 0.0449647\ttotal: 603ms\tremaining: 3.16s\n",
      "160:\tlearn: 0.0447657\ttotal: 605ms\tremaining: 3.15s\n",
      "161:\tlearn: 0.0445511\ttotal: 608ms\tremaining: 3.15s\n",
      "162:\tlearn: 0.0444536\ttotal: 612ms\tremaining: 3.14s\n",
      "163:\tlearn: 0.0444164\ttotal: 614ms\tremaining: 3.13s\n",
      "164:\tlearn: 0.0443645\ttotal: 617ms\tremaining: 3.12s\n",
      "165:\tlearn: 0.0443161\ttotal: 619ms\tremaining: 3.11s\n",
      "166:\tlearn: 0.0442887\ttotal: 621ms\tremaining: 3.1s\n",
      "167:\tlearn: 0.0441574\ttotal: 622ms\tremaining: 3.08s\n",
      "168:\tlearn: 0.0438260\ttotal: 624ms\tremaining: 3.07s\n",
      "169:\tlearn: 0.0436477\ttotal: 627ms\tremaining: 3.06s\n",
      "170:\tlearn: 0.0435887\ttotal: 629ms\tremaining: 3.05s\n",
      "171:\tlearn: 0.0433940\ttotal: 630ms\tremaining: 3.03s\n",
      "172:\tlearn: 0.0431917\ttotal: 632ms\tremaining: 3.02s\n",
      "173:\tlearn: 0.0431189\ttotal: 634ms\tremaining: 3.01s\n",
      "174:\tlearn: 0.0429755\ttotal: 638ms\tremaining: 3.01s\n",
      "175:\tlearn: 0.0429279\ttotal: 640ms\tremaining: 3s\n",
      "176:\tlearn: 0.0428677\ttotal: 642ms\tremaining: 2.98s\n",
      "177:\tlearn: 0.0427912\ttotal: 644ms\tremaining: 2.97s\n",
      "178:\tlearn: 0.0426450\ttotal: 646ms\tremaining: 2.96s\n",
      "179:\tlearn: 0.0425603\ttotal: 648ms\tremaining: 2.95s\n",
      "180:\tlearn: 0.0423856\ttotal: 650ms\tremaining: 2.94s\n",
      "181:\tlearn: 0.0421743\ttotal: 653ms\tremaining: 2.94s\n",
      "182:\tlearn: 0.0420867\ttotal: 656ms\tremaining: 2.93s\n",
      "183:\tlearn: 0.0419729\ttotal: 659ms\tremaining: 2.92s\n",
      "184:\tlearn: 0.0417215\ttotal: 662ms\tremaining: 2.92s\n",
      "185:\tlearn: 0.0417054\ttotal: 665ms\tremaining: 2.91s\n",
      "186:\tlearn: 0.0416059\ttotal: 667ms\tremaining: 2.9s\n",
      "187:\tlearn: 0.0415238\ttotal: 670ms\tremaining: 2.89s\n",
      "188:\tlearn: 0.0414899\ttotal: 672ms\tremaining: 2.88s\n",
      "189:\tlearn: 0.0412752\ttotal: 674ms\tremaining: 2.87s\n",
      "190:\tlearn: 0.0412260\ttotal: 676ms\tremaining: 2.86s\n",
      "191:\tlearn: 0.0411158\ttotal: 678ms\tremaining: 2.85s\n",
      "192:\tlearn: 0.0410271\ttotal: 680ms\tremaining: 2.84s\n",
      "193:\tlearn: 0.0409780\ttotal: 682ms\tremaining: 2.83s\n",
      "194:\tlearn: 0.0408073\ttotal: 685ms\tremaining: 2.83s\n",
      "195:\tlearn: 0.0405052\ttotal: 687ms\tremaining: 2.82s\n",
      "196:\tlearn: 0.0404224\ttotal: 689ms\tremaining: 2.81s\n",
      "197:\tlearn: 0.0403045\ttotal: 691ms\tremaining: 2.8s\n",
      "198:\tlearn: 0.0402770\ttotal: 694ms\tremaining: 2.79s\n",
      "199:\tlearn: 0.0401538\ttotal: 697ms\tremaining: 2.79s\n",
      "200:\tlearn: 0.0400656\ttotal: 700ms\tremaining: 2.78s\n",
      "201:\tlearn: 0.0399853\ttotal: 702ms\tremaining: 2.77s\n",
      "202:\tlearn: 0.0399274\ttotal: 705ms\tremaining: 2.77s\n",
      "203:\tlearn: 0.0398724\ttotal: 707ms\tremaining: 2.76s\n",
      "204:\tlearn: 0.0398392\ttotal: 708ms\tremaining: 2.75s\n",
      "205:\tlearn: 0.0396968\ttotal: 710ms\tremaining: 2.73s\n",
      "206:\tlearn: 0.0396370\ttotal: 711ms\tremaining: 2.72s\n",
      "207:\tlearn: 0.0395461\ttotal: 713ms\tremaining: 2.71s\n",
      "208:\tlearn: 0.0394174\ttotal: 715ms\tremaining: 2.71s\n",
      "209:\tlearn: 0.0393417\ttotal: 717ms\tremaining: 2.7s\n",
      "210:\tlearn: 0.0392477\ttotal: 719ms\tremaining: 2.69s\n",
      "211:\tlearn: 0.0392136\ttotal: 721ms\tremaining: 2.68s\n",
      "212:\tlearn: 0.0391792\ttotal: 722ms\tremaining: 2.67s\n",
      "213:\tlearn: 0.0391526\ttotal: 724ms\tremaining: 2.66s\n",
      "214:\tlearn: 0.0390040\ttotal: 725ms\tremaining: 2.65s\n",
      "215:\tlearn: 0.0388884\ttotal: 727ms\tremaining: 2.64s\n",
      "216:\tlearn: 0.0388502\ttotal: 729ms\tremaining: 2.63s\n",
      "217:\tlearn: 0.0387927\ttotal: 731ms\tremaining: 2.62s\n",
      "218:\tlearn: 0.0387201\ttotal: 732ms\tremaining: 2.61s\n",
      "219:\tlearn: 0.0386822\ttotal: 734ms\tremaining: 2.6s\n",
      "220:\tlearn: 0.0385908\ttotal: 735ms\tremaining: 2.59s\n",
      "221:\tlearn: 0.0385130\ttotal: 737ms\tremaining: 2.58s\n",
      "222:\tlearn: 0.0384068\ttotal: 739ms\tremaining: 2.58s\n",
      "223:\tlearn: 0.0382231\ttotal: 741ms\tremaining: 2.56s\n",
      "224:\tlearn: 0.0380059\ttotal: 742ms\tremaining: 2.56s\n",
      "225:\tlearn: 0.0379177\ttotal: 744ms\tremaining: 2.55s\n",
      "226:\tlearn: 0.0378019\ttotal: 746ms\tremaining: 2.54s\n",
      "227:\tlearn: 0.0376079\ttotal: 748ms\tremaining: 2.53s\n",
      "228:\tlearn: 0.0374309\ttotal: 749ms\tremaining: 2.52s\n",
      "229:\tlearn: 0.0372330\ttotal: 751ms\tremaining: 2.51s\n",
      "230:\tlearn: 0.0370524\ttotal: 760ms\tremaining: 2.53s\n",
      "231:\tlearn: 0.0369624\ttotal: 762ms\tremaining: 2.52s\n",
      "232:\tlearn: 0.0368035\ttotal: 763ms\tremaining: 2.51s\n",
      "233:\tlearn: 0.0367187\ttotal: 767ms\tremaining: 2.51s\n",
      "234:\tlearn: 0.0366810\ttotal: 769ms\tremaining: 2.5s\n",
      "235:\tlearn: 0.0366583\ttotal: 770ms\tremaining: 2.49s\n",
      "236:\tlearn: 0.0364683\ttotal: 772ms\tremaining: 2.48s\n",
      "237:\tlearn: 0.0363789\ttotal: 773ms\tremaining: 2.48s\n",
      "238:\tlearn: 0.0363108\ttotal: 775ms\tremaining: 2.47s\n",
      "239:\tlearn: 0.0361677\ttotal: 777ms\tremaining: 2.46s\n",
      "240:\tlearn: 0.0359624\ttotal: 779ms\tremaining: 2.45s\n",
      "241:\tlearn: 0.0359400\ttotal: 781ms\tremaining: 2.44s\n",
      "242:\tlearn: 0.0358453\ttotal: 782ms\tremaining: 2.44s\n",
      "243:\tlearn: 0.0357609\ttotal: 784ms\tremaining: 2.43s\n",
      "244:\tlearn: 0.0356946\ttotal: 792ms\tremaining: 2.44s\n",
      "245:\tlearn: 0.0355303\ttotal: 794ms\tremaining: 2.44s\n",
      "246:\tlearn: 0.0354147\ttotal: 796ms\tremaining: 2.43s\n",
      "247:\tlearn: 0.0353412\ttotal: 799ms\tremaining: 2.42s\n",
      "248:\tlearn: 0.0351901\ttotal: 802ms\tremaining: 2.42s\n",
      "249:\tlearn: 0.0349831\ttotal: 804ms\tremaining: 2.41s\n",
      "250:\tlearn: 0.0349382\ttotal: 805ms\tremaining: 2.4s\n",
      "251:\tlearn: 0.0348148\ttotal: 807ms\tremaining: 2.4s\n",
      "252:\tlearn: 0.0346815\ttotal: 809ms\tremaining: 2.39s\n",
      "253:\tlearn: 0.0346285\ttotal: 810ms\tremaining: 2.38s\n",
      "254:\tlearn: 0.0345567\ttotal: 812ms\tremaining: 2.37s\n",
      "255:\tlearn: 0.0344637\ttotal: 813ms\tremaining: 2.36s\n",
      "256:\tlearn: 0.0343998\ttotal: 815ms\tremaining: 2.35s\n",
      "257:\tlearn: 0.0342492\ttotal: 816ms\tremaining: 2.35s\n",
      "258:\tlearn: 0.0341008\ttotal: 818ms\tremaining: 2.34s\n",
      "259:\tlearn: 0.0339283\ttotal: 820ms\tremaining: 2.33s\n",
      "260:\tlearn: 0.0338379\ttotal: 821ms\tremaining: 2.33s\n",
      "261:\tlearn: 0.0337654\ttotal: 823ms\tremaining: 2.32s\n",
      "262:\tlearn: 0.0336404\ttotal: 826ms\tremaining: 2.31s\n",
      "263:\tlearn: 0.0336296\ttotal: 828ms\tremaining: 2.31s\n",
      "264:\tlearn: 0.0335653\ttotal: 829ms\tremaining: 2.3s\n",
      "265:\tlearn: 0.0334966\ttotal: 831ms\tremaining: 2.29s\n",
      "266:\tlearn: 0.0332755\ttotal: 836ms\tremaining: 2.29s\n",
      "267:\tlearn: 0.0332367\ttotal: 837ms\tremaining: 2.29s\n",
      "268:\tlearn: 0.0331345\ttotal: 840ms\tremaining: 2.28s\n",
      "269:\tlearn: 0.0329904\ttotal: 842ms\tremaining: 2.28s\n",
      "270:\tlearn: 0.0329308\ttotal: 844ms\tremaining: 2.27s\n",
      "271:\tlearn: 0.0328951\ttotal: 845ms\tremaining: 2.26s\n",
      "272:\tlearn: 0.0328360\ttotal: 847ms\tremaining: 2.26s\n",
      "273:\tlearn: 0.0326808\ttotal: 849ms\tremaining: 2.25s\n",
      "274:\tlearn: 0.0325748\ttotal: 850ms\tremaining: 2.24s\n",
      "275:\tlearn: 0.0325589\ttotal: 852ms\tremaining: 2.23s\n",
      "276:\tlearn: 0.0325469\ttotal: 854ms\tremaining: 2.23s\n",
      "277:\tlearn: 0.0324854\ttotal: 856ms\tremaining: 2.22s\n",
      "278:\tlearn: 0.0324474\ttotal: 858ms\tremaining: 2.22s\n",
      "279:\tlearn: 0.0324010\ttotal: 860ms\tremaining: 2.21s\n",
      "280:\tlearn: 0.0323435\ttotal: 861ms\tremaining: 2.2s\n",
      "281:\tlearn: 0.0322750\ttotal: 863ms\tremaining: 2.2s\n",
      "282:\tlearn: 0.0322433\ttotal: 864ms\tremaining: 2.19s\n",
      "283:\tlearn: 0.0322036\ttotal: 865ms\tremaining: 2.18s\n",
      "284:\tlearn: 0.0320945\ttotal: 867ms\tremaining: 2.17s\n",
      "285:\tlearn: 0.0319782\ttotal: 868ms\tremaining: 2.17s\n",
      "286:\tlearn: 0.0318970\ttotal: 870ms\tremaining: 2.16s\n",
      "287:\tlearn: 0.0318095\ttotal: 872ms\tremaining: 2.15s\n",
      "288:\tlearn: 0.0317584\ttotal: 874ms\tremaining: 2.15s\n",
      "289:\tlearn: 0.0316926\ttotal: 875ms\tremaining: 2.14s\n",
      "290:\tlearn: 0.0316243\ttotal: 877ms\tremaining: 2.13s\n",
      "291:\tlearn: 0.0315608\ttotal: 879ms\tremaining: 2.13s\n",
      "292:\tlearn: 0.0315501\ttotal: 881ms\tremaining: 2.13s\n",
      "293:\tlearn: 0.0314300\ttotal: 882ms\tremaining: 2.12s\n",
      "294:\tlearn: 0.0312721\ttotal: 884ms\tremaining: 2.11s\n",
      "295:\tlearn: 0.0311979\ttotal: 886ms\tremaining: 2.11s\n",
      "296:\tlearn: 0.0311530\ttotal: 888ms\tremaining: 2.1s\n",
      "297:\tlearn: 0.0310669\ttotal: 890ms\tremaining: 2.1s\n",
      "298:\tlearn: 0.0309872\ttotal: 891ms\tremaining: 2.09s\n",
      "299:\tlearn: 0.0309772\ttotal: 893ms\tremaining: 2.08s\n",
      "300:\tlearn: 0.0308923\ttotal: 895ms\tremaining: 2.08s\n",
      "301:\tlearn: 0.0308825\ttotal: 897ms\tremaining: 2.07s\n",
      "302:\tlearn: 0.0308523\ttotal: 898ms\tremaining: 2.07s\n",
      "303:\tlearn: 0.0307783\ttotal: 901ms\tremaining: 2.06s\n",
      "304:\tlearn: 0.0307116\ttotal: 904ms\tremaining: 2.06s\n",
      "305:\tlearn: 0.0306668\ttotal: 907ms\tremaining: 2.06s\n",
      "306:\tlearn: 0.0305990\ttotal: 911ms\tremaining: 2.06s\n",
      "307:\tlearn: 0.0305575\ttotal: 913ms\tremaining: 2.05s\n",
      "308:\tlearn: 0.0305231\ttotal: 915ms\tremaining: 2.04s\n",
      "309:\tlearn: 0.0304853\ttotal: 916ms\tremaining: 2.04s\n",
      "310:\tlearn: 0.0304294\ttotal: 919ms\tremaining: 2.04s\n",
      "311:\tlearn: 0.0303658\ttotal: 920ms\tremaining: 2.03s\n",
      "312:\tlearn: 0.0302935\ttotal: 922ms\tremaining: 2.02s\n",
      "313:\tlearn: 0.0302468\ttotal: 923ms\tremaining: 2.02s\n",
      "314:\tlearn: 0.0302197\ttotal: 925ms\tremaining: 2.01s\n",
      "315:\tlearn: 0.0301301\ttotal: 928ms\tremaining: 2.01s\n",
      "316:\tlearn: 0.0301208\ttotal: 930ms\tremaining: 2s\n",
      "317:\tlearn: 0.0300518\ttotal: 933ms\tremaining: 2s\n",
      "318:\tlearn: 0.0300235\ttotal: 935ms\tremaining: 2s\n",
      "319:\tlearn: 0.0299742\ttotal: 937ms\tremaining: 1.99s\n",
      "320:\tlearn: 0.0299290\ttotal: 939ms\tremaining: 1.99s\n",
      "321:\tlearn: 0.0298488\ttotal: 941ms\tremaining: 1.98s\n",
      "322:\tlearn: 0.0297854\ttotal: 943ms\tremaining: 1.98s\n",
      "323:\tlearn: 0.0296767\ttotal: 945ms\tremaining: 1.97s\n",
      "324:\tlearn: 0.0295459\ttotal: 947ms\tremaining: 1.97s\n",
      "325:\tlearn: 0.0294648\ttotal: 949ms\tremaining: 1.96s\n",
      "326:\tlearn: 0.0294312\ttotal: 951ms\tremaining: 1.96s\n",
      "327:\tlearn: 0.0293532\ttotal: 953ms\tremaining: 1.95s\n",
      "328:\tlearn: 0.0292801\ttotal: 955ms\tremaining: 1.95s\n",
      "329:\tlearn: 0.0291687\ttotal: 958ms\tremaining: 1.95s\n",
      "330:\tlearn: 0.0290321\ttotal: 960ms\tremaining: 1.94s\n",
      "331:\tlearn: 0.0289739\ttotal: 962ms\tremaining: 1.94s\n",
      "332:\tlearn: 0.0289120\ttotal: 965ms\tremaining: 1.93s\n",
      "333:\tlearn: 0.0288769\ttotal: 967ms\tremaining: 1.93s\n",
      "334:\tlearn: 0.0287902\ttotal: 969ms\tremaining: 1.92s\n",
      "335:\tlearn: 0.0287320\ttotal: 971ms\tremaining: 1.92s\n",
      "336:\tlearn: 0.0286965\ttotal: 972ms\tremaining: 1.91s\n",
      "337:\tlearn: 0.0286160\ttotal: 974ms\tremaining: 1.91s\n",
      "338:\tlearn: 0.0284701\ttotal: 978ms\tremaining: 1.91s\n",
      "339:\tlearn: 0.0284009\ttotal: 981ms\tremaining: 1.9s\n",
      "340:\tlearn: 0.0283608\ttotal: 985ms\tremaining: 1.9s\n",
      "341:\tlearn: 0.0283009\ttotal: 987ms\tremaining: 1.9s\n",
      "342:\tlearn: 0.0281886\ttotal: 989ms\tremaining: 1.89s\n",
      "343:\tlearn: 0.0281297\ttotal: 991ms\tremaining: 1.89s\n",
      "344:\tlearn: 0.0280625\ttotal: 993ms\tremaining: 1.88s\n",
      "345:\tlearn: 0.0280012\ttotal: 994ms\tremaining: 1.88s\n",
      "346:\tlearn: 0.0279780\ttotal: 996ms\tremaining: 1.87s\n",
      "347:\tlearn: 0.0279223\ttotal: 998ms\tremaining: 1.87s\n",
      "348:\tlearn: 0.0278742\ttotal: 999ms\tremaining: 1.86s\n",
      "349:\tlearn: 0.0277930\ttotal: 1s\tremaining: 1.86s\n",
      "350:\tlearn: 0.0277498\ttotal: 1s\tremaining: 1.85s\n",
      "351:\tlearn: 0.0277369\ttotal: 1s\tremaining: 1.85s\n",
      "352:\tlearn: 0.0276949\ttotal: 1.01s\tremaining: 1.84s\n",
      "353:\tlearn: 0.0276600\ttotal: 1.01s\tremaining: 1.84s\n",
      "354:\tlearn: 0.0276052\ttotal: 1.01s\tremaining: 1.83s\n",
      "355:\tlearn: 0.0275374\ttotal: 1.01s\tremaining: 1.83s\n",
      "356:\tlearn: 0.0275112\ttotal: 1.01s\tremaining: 1.83s\n",
      "357:\tlearn: 0.0274151\ttotal: 1.01s\tremaining: 1.82s\n",
      "358:\tlearn: 0.0273424\ttotal: 1.02s\tremaining: 1.82s\n",
      "359:\tlearn: 0.0272947\ttotal: 1.02s\tremaining: 1.81s\n",
      "360:\tlearn: 0.0272175\ttotal: 1.02s\tremaining: 1.81s\n",
      "361:\tlearn: 0.0271325\ttotal: 1.02s\tremaining: 1.8s\n",
      "362:\tlearn: 0.0270896\ttotal: 1.02s\tremaining: 1.8s\n",
      "363:\tlearn: 0.0270638\ttotal: 1.02s\tremaining: 1.79s\n",
      "364:\tlearn: 0.0270281\ttotal: 1.03s\tremaining: 1.79s\n",
      "365:\tlearn: 0.0269190\ttotal: 1.03s\tremaining: 1.78s\n",
      "366:\tlearn: 0.0268679\ttotal: 1.03s\tremaining: 1.78s\n",
      "367:\tlearn: 0.0268069\ttotal: 1.03s\tremaining: 1.77s\n",
      "368:\tlearn: 0.0267522\ttotal: 1.03s\tremaining: 1.77s\n",
      "369:\tlearn: 0.0267000\ttotal: 1.04s\tremaining: 1.76s\n",
      "370:\tlearn: 0.0266760\ttotal: 1.04s\tremaining: 1.76s\n",
      "371:\tlearn: 0.0266258\ttotal: 1.04s\tremaining: 1.76s\n",
      "372:\tlearn: 0.0265952\ttotal: 1.04s\tremaining: 1.75s\n",
      "373:\tlearn: 0.0264915\ttotal: 1.04s\tremaining: 1.75s\n",
      "374:\tlearn: 0.0264819\ttotal: 1.05s\tremaining: 1.74s\n",
      "375:\tlearn: 0.0264245\ttotal: 1.05s\tremaining: 1.74s\n",
      "376:\tlearn: 0.0263434\ttotal: 1.05s\tremaining: 1.73s\n",
      "377:\tlearn: 0.0262960\ttotal: 1.05s\tremaining: 1.73s\n",
      "378:\tlearn: 0.0262745\ttotal: 1.05s\tremaining: 1.73s\n",
      "379:\tlearn: 0.0261869\ttotal: 1.05s\tremaining: 1.72s\n",
      "380:\tlearn: 0.0261215\ttotal: 1.06s\tremaining: 1.72s\n",
      "381:\tlearn: 0.0260894\ttotal: 1.06s\tremaining: 1.71s\n",
      "382:\tlearn: 0.0260382\ttotal: 1.06s\tremaining: 1.71s\n",
      "383:\tlearn: 0.0259931\ttotal: 1.06s\tremaining: 1.7s\n",
      "384:\tlearn: 0.0259680\ttotal: 1.06s\tremaining: 1.7s\n",
      "385:\tlearn: 0.0259413\ttotal: 1.06s\tremaining: 1.69s\n",
      "386:\tlearn: 0.0259134\ttotal: 1.07s\tremaining: 1.69s\n",
      "387:\tlearn: 0.0258555\ttotal: 1.07s\tremaining: 1.69s\n",
      "388:\tlearn: 0.0258144\ttotal: 1.07s\tremaining: 1.68s\n",
      "389:\tlearn: 0.0257443\ttotal: 1.07s\tremaining: 1.68s\n",
      "390:\tlearn: 0.0257239\ttotal: 1.07s\tremaining: 1.67s\n",
      "391:\tlearn: 0.0256683\ttotal: 1.07s\tremaining: 1.67s\n",
      "392:\tlearn: 0.0256238\ttotal: 1.08s\tremaining: 1.66s\n",
      "393:\tlearn: 0.0255728\ttotal: 1.08s\tremaining: 1.66s\n",
      "394:\tlearn: 0.0255565\ttotal: 1.08s\tremaining: 1.65s\n",
      "395:\tlearn: 0.0255053\ttotal: 1.08s\tremaining: 1.65s\n",
      "396:\tlearn: 0.0253808\ttotal: 1.08s\tremaining: 1.65s\n",
      "397:\tlearn: 0.0252890\ttotal: 1.09s\tremaining: 1.64s\n",
      "398:\tlearn: 0.0252628\ttotal: 1.09s\tremaining: 1.64s\n",
      "399:\tlearn: 0.0252482\ttotal: 1.09s\tremaining: 1.64s\n",
      "400:\tlearn: 0.0251869\ttotal: 1.09s\tremaining: 1.63s\n",
      "401:\tlearn: 0.0250979\ttotal: 1.09s\tremaining: 1.63s\n",
      "402:\tlearn: 0.0250848\ttotal: 1.09s\tremaining: 1.62s\n",
      "403:\tlearn: 0.0250496\ttotal: 1.1s\tremaining: 1.62s\n",
      "404:\tlearn: 0.0250263\ttotal: 1.1s\tremaining: 1.61s\n",
      "405:\tlearn: 0.0250148\ttotal: 1.1s\tremaining: 1.61s\n",
      "406:\tlearn: 0.0249680\ttotal: 1.1s\tremaining: 1.6s\n",
      "407:\tlearn: 0.0249309\ttotal: 1.1s\tremaining: 1.6s\n",
      "408:\tlearn: 0.0248999\ttotal: 1.1s\tremaining: 1.6s\n",
      "409:\tlearn: 0.0248500\ttotal: 1.11s\tremaining: 1.59s\n",
      "410:\tlearn: 0.0247856\ttotal: 1.11s\tremaining: 1.59s\n",
      "411:\tlearn: 0.0247512\ttotal: 1.11s\tremaining: 1.58s\n",
      "412:\tlearn: 0.0247096\ttotal: 1.11s\tremaining: 1.58s\n",
      "413:\tlearn: 0.0246623\ttotal: 1.11s\tremaining: 1.57s\n",
      "414:\tlearn: 0.0246471\ttotal: 1.11s\tremaining: 1.57s\n",
      "415:\tlearn: 0.0246034\ttotal: 1.12s\tremaining: 1.57s\n",
      "416:\tlearn: 0.0245772\ttotal: 1.12s\tremaining: 1.56s\n",
      "417:\tlearn: 0.0245663\ttotal: 1.12s\tremaining: 1.56s\n",
      "418:\tlearn: 0.0245001\ttotal: 1.12s\tremaining: 1.55s\n",
      "419:\tlearn: 0.0244852\ttotal: 1.12s\tremaining: 1.55s\n",
      "420:\tlearn: 0.0244431\ttotal: 1.13s\tremaining: 1.55s\n",
      "421:\tlearn: 0.0243948\ttotal: 1.13s\tremaining: 1.54s\n",
      "422:\tlearn: 0.0243855\ttotal: 1.13s\tremaining: 1.54s\n",
      "423:\tlearn: 0.0243479\ttotal: 1.13s\tremaining: 1.53s\n",
      "424:\tlearn: 0.0242855\ttotal: 1.13s\tremaining: 1.53s\n",
      "425:\tlearn: 0.0242498\ttotal: 1.13s\tremaining: 1.53s\n",
      "426:\tlearn: 0.0242415\ttotal: 1.14s\tremaining: 1.52s\n",
      "427:\tlearn: 0.0241855\ttotal: 1.14s\tremaining: 1.52s\n",
      "428:\tlearn: 0.0241347\ttotal: 1.14s\tremaining: 1.52s\n",
      "429:\tlearn: 0.0240931\ttotal: 1.14s\tremaining: 1.51s\n",
      "430:\tlearn: 0.0240087\ttotal: 1.14s\tremaining: 1.51s\n",
      "431:\tlearn: 0.0239732\ttotal: 1.15s\tremaining: 1.51s\n",
      "432:\tlearn: 0.0239220\ttotal: 1.15s\tremaining: 1.5s\n",
      "433:\tlearn: 0.0238893\ttotal: 1.15s\tremaining: 1.5s\n",
      "434:\tlearn: 0.0238408\ttotal: 1.15s\tremaining: 1.5s\n",
      "435:\tlearn: 0.0238135\ttotal: 1.15s\tremaining: 1.49s\n",
      "436:\tlearn: 0.0237721\ttotal: 1.15s\tremaining: 1.49s\n",
      "437:\tlearn: 0.0237237\ttotal: 1.16s\tremaining: 1.48s\n",
      "438:\tlearn: 0.0237047\ttotal: 1.16s\tremaining: 1.48s\n",
      "439:\tlearn: 0.0236663\ttotal: 1.16s\tremaining: 1.48s\n",
      "440:\tlearn: 0.0236529\ttotal: 1.16s\tremaining: 1.47s\n",
      "441:\tlearn: 0.0236136\ttotal: 1.16s\tremaining: 1.47s\n",
      "442:\tlearn: 0.0235831\ttotal: 1.17s\tremaining: 1.47s\n",
      "443:\tlearn: 0.0234919\ttotal: 1.17s\tremaining: 1.47s\n",
      "444:\tlearn: 0.0234158\ttotal: 1.17s\tremaining: 1.46s\n",
      "445:\tlearn: 0.0233286\ttotal: 1.17s\tremaining: 1.46s\n",
      "446:\tlearn: 0.0232919\ttotal: 1.18s\tremaining: 1.46s\n",
      "447:\tlearn: 0.0232156\ttotal: 1.18s\tremaining: 1.45s\n",
      "448:\tlearn: 0.0232099\ttotal: 1.18s\tremaining: 1.45s\n",
      "449:\tlearn: 0.0231744\ttotal: 1.18s\tremaining: 1.45s\n",
      "450:\tlearn: 0.0231415\ttotal: 1.18s\tremaining: 1.44s\n",
      "451:\tlearn: 0.0231082\ttotal: 1.19s\tremaining: 1.44s\n",
      "452:\tlearn: 0.0230986\ttotal: 1.19s\tremaining: 1.43s\n",
      "453:\tlearn: 0.0230885\ttotal: 1.19s\tremaining: 1.43s\n",
      "454:\tlearn: 0.0230343\ttotal: 1.19s\tremaining: 1.43s\n",
      "455:\tlearn: 0.0230219\ttotal: 1.19s\tremaining: 1.42s\n",
      "456:\tlearn: 0.0230087\ttotal: 1.19s\tremaining: 1.42s\n",
      "457:\tlearn: 0.0229786\ttotal: 1.2s\tremaining: 1.41s\n",
      "458:\tlearn: 0.0229420\ttotal: 1.2s\tremaining: 1.41s\n",
      "459:\tlearn: 0.0229030\ttotal: 1.2s\tremaining: 1.41s\n",
      "460:\tlearn: 0.0228303\ttotal: 1.2s\tremaining: 1.4s\n",
      "461:\tlearn: 0.0227682\ttotal: 1.2s\tremaining: 1.4s\n",
      "462:\tlearn: 0.0227511\ttotal: 1.2s\tremaining: 1.4s\n",
      "463:\tlearn: 0.0227329\ttotal: 1.21s\tremaining: 1.39s\n",
      "464:\tlearn: 0.0227059\ttotal: 1.21s\tremaining: 1.39s\n",
      "465:\tlearn: 0.0226937\ttotal: 1.21s\tremaining: 1.39s\n",
      "466:\tlearn: 0.0226815\ttotal: 1.21s\tremaining: 1.38s\n",
      "467:\tlearn: 0.0226597\ttotal: 1.21s\tremaining: 1.38s\n",
      "468:\tlearn: 0.0226319\ttotal: 1.21s\tremaining: 1.38s\n",
      "469:\tlearn: 0.0225995\ttotal: 1.22s\tremaining: 1.37s\n",
      "470:\tlearn: 0.0225390\ttotal: 1.22s\tremaining: 1.37s\n",
      "471:\tlearn: 0.0224547\ttotal: 1.22s\tremaining: 1.36s\n",
      "472:\tlearn: 0.0224035\ttotal: 1.22s\tremaining: 1.36s\n",
      "473:\tlearn: 0.0223914\ttotal: 1.22s\tremaining: 1.36s\n",
      "474:\tlearn: 0.0223796\ttotal: 1.22s\tremaining: 1.35s\n",
      "475:\tlearn: 0.0223238\ttotal: 1.23s\tremaining: 1.35s\n",
      "476:\tlearn: 0.0222760\ttotal: 1.23s\tremaining: 1.35s\n",
      "477:\tlearn: 0.0222365\ttotal: 1.23s\tremaining: 1.34s\n",
      "478:\tlearn: 0.0221845\ttotal: 1.23s\tremaining: 1.34s\n",
      "479:\tlearn: 0.0221472\ttotal: 1.23s\tremaining: 1.34s\n",
      "480:\tlearn: 0.0221340\ttotal: 1.24s\tremaining: 1.33s\n",
      "481:\tlearn: 0.0220849\ttotal: 1.24s\tremaining: 1.33s\n",
      "482:\tlearn: 0.0220157\ttotal: 1.24s\tremaining: 1.33s\n",
      "483:\tlearn: 0.0219934\ttotal: 1.24s\tremaining: 1.32s\n",
      "484:\tlearn: 0.0219592\ttotal: 1.24s\tremaining: 1.32s\n",
      "485:\tlearn: 0.0219322\ttotal: 1.24s\tremaining: 1.32s\n",
      "486:\tlearn: 0.0219120\ttotal: 1.25s\tremaining: 1.31s\n",
      "487:\tlearn: 0.0218760\ttotal: 1.25s\tremaining: 1.31s\n",
      "488:\tlearn: 0.0218697\ttotal: 1.25s\tremaining: 1.31s\n",
      "489:\tlearn: 0.0218306\ttotal: 1.25s\tremaining: 1.3s\n",
      "490:\tlearn: 0.0218219\ttotal: 1.25s\tremaining: 1.3s\n",
      "491:\tlearn: 0.0217963\ttotal: 1.25s\tremaining: 1.3s\n",
      "492:\tlearn: 0.0217750\ttotal: 1.26s\tremaining: 1.29s\n",
      "493:\tlearn: 0.0217434\ttotal: 1.26s\tremaining: 1.29s\n",
      "494:\tlearn: 0.0217199\ttotal: 1.26s\tremaining: 1.29s\n",
      "495:\tlearn: 0.0216843\ttotal: 1.26s\tremaining: 1.28s\n",
      "496:\tlearn: 0.0216461\ttotal: 1.26s\tremaining: 1.28s\n",
      "497:\tlearn: 0.0216209\ttotal: 1.27s\tremaining: 1.28s\n",
      "498:\tlearn: 0.0215271\ttotal: 1.27s\tremaining: 1.27s\n",
      "499:\tlearn: 0.0215007\ttotal: 1.27s\tremaining: 1.27s\n",
      "500:\tlearn: 0.0214543\ttotal: 1.27s\tremaining: 1.27s\n",
      "501:\tlearn: 0.0214308\ttotal: 1.27s\tremaining: 1.26s\n",
      "502:\tlearn: 0.0214248\ttotal: 1.27s\tremaining: 1.26s\n",
      "503:\tlearn: 0.0213874\ttotal: 1.28s\tremaining: 1.26s\n",
      "504:\tlearn: 0.0213780\ttotal: 1.28s\tremaining: 1.25s\n",
      "505:\tlearn: 0.0213172\ttotal: 1.28s\tremaining: 1.25s\n",
      "506:\tlearn: 0.0212488\ttotal: 1.28s\tremaining: 1.25s\n",
      "507:\tlearn: 0.0211809\ttotal: 1.28s\tremaining: 1.24s\n",
      "508:\tlearn: 0.0211462\ttotal: 1.28s\tremaining: 1.24s\n",
      "509:\tlearn: 0.0211219\ttotal: 1.29s\tremaining: 1.24s\n",
      "510:\tlearn: 0.0210980\ttotal: 1.29s\tremaining: 1.23s\n",
      "511:\tlearn: 0.0210554\ttotal: 1.29s\tremaining: 1.23s\n",
      "512:\tlearn: 0.0210487\ttotal: 1.29s\tremaining: 1.23s\n",
      "513:\tlearn: 0.0210165\ttotal: 1.29s\tremaining: 1.22s\n",
      "514:\tlearn: 0.0209826\ttotal: 1.3s\tremaining: 1.22s\n",
      "515:\tlearn: 0.0209545\ttotal: 1.3s\tremaining: 1.22s\n",
      "516:\tlearn: 0.0208662\ttotal: 1.3s\tremaining: 1.22s\n",
      "517:\tlearn: 0.0208421\ttotal: 1.3s\tremaining: 1.21s\n",
      "518:\tlearn: 0.0208372\ttotal: 1.3s\tremaining: 1.21s\n",
      "519:\tlearn: 0.0208318\ttotal: 1.31s\tremaining: 1.21s\n",
      "520:\tlearn: 0.0208223\ttotal: 1.31s\tremaining: 1.2s\n",
      "521:\tlearn: 0.0207913\ttotal: 1.31s\tremaining: 1.2s\n",
      "522:\tlearn: 0.0207098\ttotal: 1.31s\tremaining: 1.2s\n",
      "523:\tlearn: 0.0206586\ttotal: 1.32s\tremaining: 1.2s\n",
      "524:\tlearn: 0.0206128\ttotal: 1.32s\tremaining: 1.19s\n",
      "525:\tlearn: 0.0206028\ttotal: 1.32s\tremaining: 1.19s\n",
      "526:\tlearn: 0.0205651\ttotal: 1.32s\tremaining: 1.19s\n",
      "527:\tlearn: 0.0205339\ttotal: 1.32s\tremaining: 1.18s\n",
      "528:\tlearn: 0.0205028\ttotal: 1.32s\tremaining: 1.18s\n",
      "529:\tlearn: 0.0204729\ttotal: 1.33s\tremaining: 1.18s\n",
      "530:\tlearn: 0.0204648\ttotal: 1.33s\tremaining: 1.17s\n",
      "531:\tlearn: 0.0204306\ttotal: 1.33s\tremaining: 1.17s\n",
      "532:\tlearn: 0.0203818\ttotal: 1.33s\tremaining: 1.17s\n",
      "533:\tlearn: 0.0203478\ttotal: 1.33s\tremaining: 1.16s\n",
      "534:\tlearn: 0.0203226\ttotal: 1.34s\tremaining: 1.16s\n",
      "535:\tlearn: 0.0202711\ttotal: 1.34s\tremaining: 1.16s\n",
      "536:\tlearn: 0.0202476\ttotal: 1.34s\tremaining: 1.16s\n",
      "537:\tlearn: 0.0202061\ttotal: 1.34s\tremaining: 1.15s\n",
      "538:\tlearn: 0.0201633\ttotal: 1.34s\tremaining: 1.15s\n",
      "539:\tlearn: 0.0201554\ttotal: 1.34s\tremaining: 1.15s\n",
      "540:\tlearn: 0.0201335\ttotal: 1.35s\tremaining: 1.14s\n",
      "541:\tlearn: 0.0201009\ttotal: 1.35s\tremaining: 1.14s\n",
      "542:\tlearn: 0.0200626\ttotal: 1.35s\tremaining: 1.14s\n",
      "543:\tlearn: 0.0200419\ttotal: 1.36s\tremaining: 1.14s\n",
      "544:\tlearn: 0.0200102\ttotal: 1.36s\tremaining: 1.14s\n",
      "545:\tlearn: 0.0199687\ttotal: 1.36s\tremaining: 1.13s\n",
      "546:\tlearn: 0.0199297\ttotal: 1.36s\tremaining: 1.13s\n",
      "547:\tlearn: 0.0198687\ttotal: 1.37s\tremaining: 1.13s\n",
      "548:\tlearn: 0.0198445\ttotal: 1.37s\tremaining: 1.13s\n",
      "549:\tlearn: 0.0198167\ttotal: 1.37s\tremaining: 1.12s\n",
      "550:\tlearn: 0.0198114\ttotal: 1.38s\tremaining: 1.12s\n",
      "551:\tlearn: 0.0197510\ttotal: 1.38s\tremaining: 1.12s\n",
      "552:\tlearn: 0.0197013\ttotal: 1.38s\tremaining: 1.11s\n",
      "553:\tlearn: 0.0196956\ttotal: 1.38s\tremaining: 1.11s\n",
      "554:\tlearn: 0.0196350\ttotal: 1.38s\tremaining: 1.11s\n",
      "555:\tlearn: 0.0196295\ttotal: 1.39s\tremaining: 1.11s\n",
      "556:\tlearn: 0.0196047\ttotal: 1.39s\tremaining: 1.1s\n",
      "557:\tlearn: 0.0195753\ttotal: 1.39s\tremaining: 1.1s\n",
      "558:\tlearn: 0.0195285\ttotal: 1.39s\tremaining: 1.1s\n",
      "559:\tlearn: 0.0195034\ttotal: 1.4s\tremaining: 1.1s\n",
      "560:\tlearn: 0.0194842\ttotal: 1.4s\tremaining: 1.09s\n",
      "561:\tlearn: 0.0194709\ttotal: 1.4s\tremaining: 1.09s\n",
      "562:\tlearn: 0.0194398\ttotal: 1.4s\tremaining: 1.09s\n",
      "563:\tlearn: 0.0194315\ttotal: 1.4s\tremaining: 1.08s\n",
      "564:\tlearn: 0.0194037\ttotal: 1.41s\tremaining: 1.08s\n",
      "565:\tlearn: 0.0193651\ttotal: 1.41s\tremaining: 1.08s\n",
      "566:\tlearn: 0.0193508\ttotal: 1.41s\tremaining: 1.07s\n",
      "567:\tlearn: 0.0193428\ttotal: 1.41s\tremaining: 1.07s\n",
      "568:\tlearn: 0.0192869\ttotal: 1.41s\tremaining: 1.07s\n",
      "569:\tlearn: 0.0192748\ttotal: 1.41s\tremaining: 1.07s\n",
      "570:\tlearn: 0.0192560\ttotal: 1.42s\tremaining: 1.06s\n",
      "571:\tlearn: 0.0192250\ttotal: 1.42s\tremaining: 1.06s\n",
      "572:\tlearn: 0.0191912\ttotal: 1.42s\tremaining: 1.06s\n",
      "573:\tlearn: 0.0191343\ttotal: 1.42s\tremaining: 1.05s\n",
      "574:\tlearn: 0.0191146\ttotal: 1.42s\tremaining: 1.05s\n",
      "575:\tlearn: 0.0191038\ttotal: 1.42s\tremaining: 1.05s\n",
      "576:\tlearn: 0.0190993\ttotal: 1.43s\tremaining: 1.04s\n",
      "577:\tlearn: 0.0190886\ttotal: 1.43s\tremaining: 1.04s\n",
      "578:\tlearn: 0.0190603\ttotal: 1.43s\tremaining: 1.04s\n",
      "579:\tlearn: 0.0190309\ttotal: 1.43s\tremaining: 1.04s\n",
      "580:\tlearn: 0.0190229\ttotal: 1.43s\tremaining: 1.03s\n",
      "581:\tlearn: 0.0190019\ttotal: 1.44s\tremaining: 1.03s\n",
      "582:\tlearn: 0.0189867\ttotal: 1.44s\tremaining: 1.03s\n",
      "583:\tlearn: 0.0189511\ttotal: 1.44s\tremaining: 1.02s\n",
      "584:\tlearn: 0.0189216\ttotal: 1.44s\tremaining: 1.02s\n",
      "585:\tlearn: 0.0189066\ttotal: 1.44s\tremaining: 1.02s\n",
      "586:\tlearn: 0.0188242\ttotal: 1.45s\tremaining: 1.02s\n",
      "587:\tlearn: 0.0187772\ttotal: 1.45s\tremaining: 1.01s\n",
      "588:\tlearn: 0.0187579\ttotal: 1.45s\tremaining: 1.01s\n",
      "589:\tlearn: 0.0187472\ttotal: 1.45s\tremaining: 1.01s\n",
      "590:\tlearn: 0.0187050\ttotal: 1.45s\tremaining: 1.01s\n",
      "591:\tlearn: 0.0186982\ttotal: 1.46s\tremaining: 1s\n",
      "592:\tlearn: 0.0186310\ttotal: 1.46s\tremaining: 1s\n",
      "593:\tlearn: 0.0186063\ttotal: 1.46s\tremaining: 998ms\n",
      "594:\tlearn: 0.0185797\ttotal: 1.46s\tremaining: 995ms\n",
      "595:\tlearn: 0.0185693\ttotal: 1.46s\tremaining: 992ms\n",
      "596:\tlearn: 0.0185379\ttotal: 1.47s\tremaining: 989ms\n",
      "597:\tlearn: 0.0185160\ttotal: 1.47s\tremaining: 986ms\n",
      "598:\tlearn: 0.0184601\ttotal: 1.47s\tremaining: 983ms\n",
      "599:\tlearn: 0.0184306\ttotal: 1.47s\tremaining: 980ms\n",
      "600:\tlearn: 0.0183995\ttotal: 1.47s\tremaining: 977ms\n",
      "601:\tlearn: 0.0183756\ttotal: 1.47s\tremaining: 974ms\n",
      "602:\tlearn: 0.0183560\ttotal: 1.48s\tremaining: 972ms\n",
      "603:\tlearn: 0.0183254\ttotal: 1.48s\tremaining: 969ms\n",
      "604:\tlearn: 0.0182863\ttotal: 1.48s\tremaining: 966ms\n",
      "605:\tlearn: 0.0182195\ttotal: 1.48s\tremaining: 963ms\n",
      "606:\tlearn: 0.0182148\ttotal: 1.48s\tremaining: 960ms\n",
      "607:\tlearn: 0.0181961\ttotal: 1.48s\tremaining: 957ms\n",
      "608:\tlearn: 0.0181631\ttotal: 1.49s\tremaining: 955ms\n",
      "609:\tlearn: 0.0181314\ttotal: 1.49s\tremaining: 952ms\n",
      "610:\tlearn: 0.0181007\ttotal: 1.49s\tremaining: 949ms\n",
      "611:\tlearn: 0.0180767\ttotal: 1.49s\tremaining: 946ms\n",
      "612:\tlearn: 0.0180741\ttotal: 1.49s\tremaining: 943ms\n",
      "613:\tlearn: 0.0180465\ttotal: 1.5s\tremaining: 941ms\n",
      "614:\tlearn: 0.0180381\ttotal: 1.5s\tremaining: 938ms\n",
      "615:\tlearn: 0.0179950\ttotal: 1.5s\tremaining: 935ms\n",
      "616:\tlearn: 0.0179914\ttotal: 1.5s\tremaining: 932ms\n",
      "617:\tlearn: 0.0179509\ttotal: 1.5s\tremaining: 929ms\n",
      "618:\tlearn: 0.0179482\ttotal: 1.51s\tremaining: 928ms\n",
      "619:\tlearn: 0.0179125\ttotal: 1.51s\tremaining: 926ms\n",
      "620:\tlearn: 0.0178508\ttotal: 1.51s\tremaining: 925ms\n",
      "621:\tlearn: 0.0178309\ttotal: 1.52s\tremaining: 923ms\n",
      "622:\tlearn: 0.0178201\ttotal: 1.52s\tremaining: 921ms\n",
      "623:\tlearn: 0.0178139\ttotal: 1.52s\tremaining: 919ms\n",
      "624:\tlearn: 0.0177835\ttotal: 1.53s\tremaining: 917ms\n",
      "625:\tlearn: 0.0177746\ttotal: 1.53s\tremaining: 914ms\n",
      "626:\tlearn: 0.0177464\ttotal: 1.53s\tremaining: 912ms\n",
      "627:\tlearn: 0.0177294\ttotal: 1.54s\tremaining: 910ms\n",
      "628:\tlearn: 0.0177267\ttotal: 1.54s\tremaining: 909ms\n",
      "629:\tlearn: 0.0177213\ttotal: 1.54s\tremaining: 907ms\n",
      "630:\tlearn: 0.0177153\ttotal: 1.55s\tremaining: 905ms\n",
      "631:\tlearn: 0.0177028\ttotal: 1.55s\tremaining: 903ms\n",
      "632:\tlearn: 0.0176653\ttotal: 1.55s\tremaining: 900ms\n",
      "633:\tlearn: 0.0176376\ttotal: 1.55s\tremaining: 898ms\n",
      "634:\tlearn: 0.0176039\ttotal: 1.56s\tremaining: 895ms\n",
      "635:\tlearn: 0.0175823\ttotal: 1.56s\tremaining: 893ms\n",
      "636:\tlearn: 0.0175527\ttotal: 1.56s\tremaining: 891ms\n",
      "637:\tlearn: 0.0175506\ttotal: 1.56s\tremaining: 888ms\n",
      "638:\tlearn: 0.0175355\ttotal: 1.57s\tremaining: 886ms\n",
      "639:\tlearn: 0.0175045\ttotal: 1.57s\tremaining: 885ms\n",
      "640:\tlearn: 0.0174590\ttotal: 1.58s\tremaining: 886ms\n",
      "641:\tlearn: 0.0174557\ttotal: 1.58s\tremaining: 884ms\n",
      "642:\tlearn: 0.0174345\ttotal: 1.59s\tremaining: 881ms\n",
      "643:\tlearn: 0.0173717\ttotal: 1.59s\tremaining: 879ms\n",
      "644:\tlearn: 0.0173189\ttotal: 1.59s\tremaining: 876ms\n",
      "645:\tlearn: 0.0173002\ttotal: 1.59s\tremaining: 874ms\n",
      "646:\tlearn: 0.0172714\ttotal: 1.6s\tremaining: 872ms\n",
      "647:\tlearn: 0.0172647\ttotal: 1.6s\tremaining: 870ms\n",
      "648:\tlearn: 0.0172416\ttotal: 1.6s\tremaining: 868ms\n",
      "649:\tlearn: 0.0172017\ttotal: 1.61s\tremaining: 867ms\n",
      "650:\tlearn: 0.0171691\ttotal: 1.61s\tremaining: 865ms\n",
      "651:\tlearn: 0.0171629\ttotal: 1.62s\tremaining: 866ms\n",
      "652:\tlearn: 0.0171389\ttotal: 1.63s\tremaining: 864ms\n",
      "653:\tlearn: 0.0171337\ttotal: 1.63s\tremaining: 862ms\n",
      "654:\tlearn: 0.0171138\ttotal: 1.63s\tremaining: 860ms\n",
      "655:\tlearn: 0.0171028\ttotal: 1.64s\tremaining: 858ms\n",
      "656:\tlearn: 0.0170912\ttotal: 1.64s\tremaining: 856ms\n",
      "657:\tlearn: 0.0170588\ttotal: 1.64s\tremaining: 855ms\n",
      "658:\tlearn: 0.0170470\ttotal: 1.65s\tremaining: 854ms\n",
      "659:\tlearn: 0.0170384\ttotal: 1.65s\tremaining: 853ms\n",
      "660:\tlearn: 0.0170245\ttotal: 1.66s\tremaining: 851ms\n",
      "661:\tlearn: 0.0170126\ttotal: 1.66s\tremaining: 849ms\n",
      "662:\tlearn: 0.0169801\ttotal: 1.67s\tremaining: 847ms\n",
      "663:\tlearn: 0.0169553\ttotal: 1.67s\tremaining: 844ms\n",
      "664:\tlearn: 0.0169217\ttotal: 1.67s\tremaining: 842ms\n",
      "665:\tlearn: 0.0168901\ttotal: 1.68s\tremaining: 840ms\n",
      "666:\tlearn: 0.0168842\ttotal: 1.68s\tremaining: 838ms\n",
      "667:\tlearn: 0.0168662\ttotal: 1.68s\tremaining: 836ms\n",
      "668:\tlearn: 0.0168542\ttotal: 1.69s\tremaining: 834ms\n",
      "669:\tlearn: 0.0168515\ttotal: 1.69s\tremaining: 833ms\n",
      "670:\tlearn: 0.0168215\ttotal: 1.69s\tremaining: 831ms\n",
      "671:\tlearn: 0.0167853\ttotal: 1.7s\tremaining: 829ms\n",
      "672:\tlearn: 0.0167663\ttotal: 1.7s\tremaining: 827ms\n",
      "673:\tlearn: 0.0167628\ttotal: 1.7s\tremaining: 824ms\n",
      "674:\tlearn: 0.0167532\ttotal: 1.71s\tremaining: 822ms\n",
      "675:\tlearn: 0.0167172\ttotal: 1.71s\tremaining: 820ms\n",
      "676:\tlearn: 0.0166626\ttotal: 1.71s\tremaining: 818ms\n",
      "677:\tlearn: 0.0166266\ttotal: 1.72s\tremaining: 817ms\n",
      "678:\tlearn: 0.0165931\ttotal: 1.72s\tremaining: 815ms\n",
      "679:\tlearn: 0.0165808\ttotal: 1.73s\tremaining: 813ms\n",
      "680:\tlearn: 0.0165496\ttotal: 1.73s\tremaining: 811ms\n",
      "681:\tlearn: 0.0165390\ttotal: 1.73s\tremaining: 809ms\n",
      "682:\tlearn: 0.0164717\ttotal: 1.74s\tremaining: 807ms\n",
      "683:\tlearn: 0.0164700\ttotal: 1.74s\tremaining: 804ms\n",
      "684:\tlearn: 0.0164551\ttotal: 1.74s\tremaining: 802ms\n",
      "685:\tlearn: 0.0164363\ttotal: 1.76s\tremaining: 806ms\n",
      "686:\tlearn: 0.0164141\ttotal: 1.76s\tremaining: 804ms\n",
      "687:\tlearn: 0.0164077\ttotal: 1.77s\tremaining: 803ms\n",
      "688:\tlearn: 0.0163765\ttotal: 1.77s\tremaining: 800ms\n",
      "689:\tlearn: 0.0163430\ttotal: 1.77s\tremaining: 798ms\n",
      "690:\tlearn: 0.0163277\ttotal: 1.78s\tremaining: 796ms\n",
      "691:\tlearn: 0.0163063\ttotal: 1.78s\tremaining: 793ms\n",
      "692:\tlearn: 0.0162818\ttotal: 1.78s\tremaining: 791ms\n",
      "693:\tlearn: 0.0162493\ttotal: 1.79s\tremaining: 788ms\n",
      "694:\tlearn: 0.0162105\ttotal: 1.79s\tremaining: 786ms\n",
      "695:\tlearn: 0.0161805\ttotal: 1.79s\tremaining: 783ms\n",
      "696:\tlearn: 0.0161352\ttotal: 1.79s\tremaining: 781ms\n",
      "697:\tlearn: 0.0161197\ttotal: 1.8s\tremaining: 778ms\n",
      "698:\tlearn: 0.0160939\ttotal: 1.8s\tremaining: 776ms\n",
      "699:\tlearn: 0.0160580\ttotal: 1.8s\tremaining: 773ms\n",
      "700:\tlearn: 0.0160235\ttotal: 1.81s\tremaining: 771ms\n",
      "701:\tlearn: 0.0160105\ttotal: 1.81s\tremaining: 769ms\n",
      "702:\tlearn: 0.0159769\ttotal: 1.81s\tremaining: 767ms\n",
      "703:\tlearn: 0.0159550\ttotal: 1.82s\tremaining: 765ms\n",
      "704:\tlearn: 0.0159211\ttotal: 1.82s\tremaining: 762ms\n",
      "705:\tlearn: 0.0158969\ttotal: 1.82s\tremaining: 760ms\n",
      "706:\tlearn: 0.0158917\ttotal: 1.83s\tremaining: 757ms\n",
      "707:\tlearn: 0.0158631\ttotal: 1.83s\tremaining: 754ms\n",
      "708:\tlearn: 0.0158178\ttotal: 1.83s\tremaining: 752ms\n",
      "709:\tlearn: 0.0157926\ttotal: 1.83s\tremaining: 749ms\n",
      "710:\tlearn: 0.0157526\ttotal: 1.84s\tremaining: 747ms\n",
      "711:\tlearn: 0.0157207\ttotal: 1.84s\tremaining: 746ms\n",
      "712:\tlearn: 0.0157006\ttotal: 1.85s\tremaining: 744ms\n",
      "713:\tlearn: 0.0156718\ttotal: 1.85s\tremaining: 742ms\n",
      "714:\tlearn: 0.0156659\ttotal: 1.85s\tremaining: 739ms\n",
      "715:\tlearn: 0.0156537\ttotal: 1.86s\tremaining: 739ms\n",
      "716:\tlearn: 0.0156483\ttotal: 1.87s\tremaining: 737ms\n",
      "717:\tlearn: 0.0156145\ttotal: 1.87s\tremaining: 735ms\n",
      "718:\tlearn: 0.0155899\ttotal: 1.87s\tremaining: 732ms\n",
      "719:\tlearn: 0.0155533\ttotal: 1.88s\tremaining: 730ms\n",
      "720:\tlearn: 0.0155234\ttotal: 1.88s\tremaining: 727ms\n",
      "721:\tlearn: 0.0155092\ttotal: 1.88s\tremaining: 725ms\n",
      "722:\tlearn: 0.0154960\ttotal: 1.89s\tremaining: 722ms\n",
      "723:\tlearn: 0.0154547\ttotal: 1.89s\tremaining: 720ms\n",
      "724:\tlearn: 0.0154484\ttotal: 1.89s\tremaining: 718ms\n",
      "725:\tlearn: 0.0154134\ttotal: 1.9s\tremaining: 715ms\n",
      "726:\tlearn: 0.0153951\ttotal: 1.9s\tremaining: 713ms\n",
      "727:\tlearn: 0.0153707\ttotal: 1.9s\tremaining: 711ms\n",
      "728:\tlearn: 0.0153422\ttotal: 1.91s\tremaining: 709ms\n",
      "729:\tlearn: 0.0153231\ttotal: 1.91s\tremaining: 707ms\n",
      "730:\tlearn: 0.0152789\ttotal: 1.91s\tremaining: 705ms\n",
      "731:\tlearn: 0.0152631\ttotal: 1.92s\tremaining: 702ms\n",
      "732:\tlearn: 0.0152178\ttotal: 1.92s\tremaining: 699ms\n",
      "733:\tlearn: 0.0152097\ttotal: 1.92s\tremaining: 697ms\n",
      "734:\tlearn: 0.0151731\ttotal: 1.93s\tremaining: 695ms\n",
      "735:\tlearn: 0.0151342\ttotal: 1.93s\tremaining: 693ms\n",
      "736:\tlearn: 0.0151261\ttotal: 1.94s\tremaining: 691ms\n",
      "737:\tlearn: 0.0150832\ttotal: 1.94s\tremaining: 689ms\n",
      "738:\tlearn: 0.0150793\ttotal: 1.94s\tremaining: 687ms\n",
      "739:\tlearn: 0.0150571\ttotal: 1.95s\tremaining: 684ms\n",
      "740:\tlearn: 0.0150416\ttotal: 1.95s\tremaining: 682ms\n",
      "741:\tlearn: 0.0150370\ttotal: 1.96s\tremaining: 682ms\n",
      "742:\tlearn: 0.0150156\ttotal: 1.96s\tremaining: 679ms\n",
      "743:\tlearn: 0.0149989\ttotal: 1.97s\tremaining: 677ms\n",
      "744:\tlearn: 0.0149907\ttotal: 1.97s\tremaining: 674ms\n",
      "745:\tlearn: 0.0149848\ttotal: 1.97s\tremaining: 672ms\n",
      "746:\tlearn: 0.0149674\ttotal: 1.98s\tremaining: 669ms\n",
      "747:\tlearn: 0.0149500\ttotal: 1.98s\tremaining: 667ms\n",
      "748:\tlearn: 0.0149282\ttotal: 1.98s\tremaining: 664ms\n",
      "749:\tlearn: 0.0149086\ttotal: 1.98s\tremaining: 662ms\n",
      "750:\tlearn: 0.0148929\ttotal: 1.99s\tremaining: 659ms\n",
      "751:\tlearn: 0.0148863\ttotal: 1.99s\tremaining: 656ms\n",
      "752:\tlearn: 0.0148767\ttotal: 1.99s\tremaining: 654ms\n",
      "753:\tlearn: 0.0148730\ttotal: 2s\tremaining: 652ms\n",
      "754:\tlearn: 0.0148261\ttotal: 2s\tremaining: 649ms\n",
      "755:\tlearn: 0.0147857\ttotal: 2s\tremaining: 647ms\n",
      "756:\tlearn: 0.0147754\ttotal: 2.01s\tremaining: 644ms\n",
      "757:\tlearn: 0.0147482\ttotal: 2.01s\tremaining: 642ms\n",
      "758:\tlearn: 0.0147236\ttotal: 2.01s\tremaining: 639ms\n",
      "759:\tlearn: 0.0147074\ttotal: 2.02s\tremaining: 637ms\n",
      "760:\tlearn: 0.0146967\ttotal: 2.02s\tremaining: 634ms\n",
      "761:\tlearn: 0.0146432\ttotal: 2.02s\tremaining: 631ms\n",
      "762:\tlearn: 0.0146225\ttotal: 2.02s\tremaining: 629ms\n",
      "763:\tlearn: 0.0146145\ttotal: 2.03s\tremaining: 626ms\n",
      "764:\tlearn: 0.0145989\ttotal: 2.03s\tremaining: 624ms\n",
      "765:\tlearn: 0.0145577\ttotal: 2.03s\tremaining: 621ms\n",
      "766:\tlearn: 0.0145408\ttotal: 2.04s\tremaining: 619ms\n",
      "767:\tlearn: 0.0145185\ttotal: 2.04s\tremaining: 618ms\n",
      "768:\tlearn: 0.0144860\ttotal: 2.05s\tremaining: 615ms\n",
      "769:\tlearn: 0.0144586\ttotal: 2.05s\tremaining: 613ms\n",
      "770:\tlearn: 0.0144488\ttotal: 2.05s\tremaining: 610ms\n",
      "771:\tlearn: 0.0144301\ttotal: 2.06s\tremaining: 607ms\n",
      "772:\tlearn: 0.0144235\ttotal: 2.06s\tremaining: 605ms\n",
      "773:\tlearn: 0.0144072\ttotal: 2.06s\tremaining: 603ms\n",
      "774:\tlearn: 0.0143986\ttotal: 2.07s\tremaining: 600ms\n",
      "775:\tlearn: 0.0143926\ttotal: 2.07s\tremaining: 597ms\n",
      "776:\tlearn: 0.0143875\ttotal: 2.07s\tremaining: 595ms\n",
      "777:\tlearn: 0.0143799\ttotal: 2.07s\tremaining: 592ms\n",
      "778:\tlearn: 0.0143672\ttotal: 2.08s\tremaining: 590ms\n",
      "779:\tlearn: 0.0143569\ttotal: 2.08s\tremaining: 587ms\n",
      "780:\tlearn: 0.0143279\ttotal: 2.08s\tremaining: 585ms\n",
      "781:\tlearn: 0.0143141\ttotal: 2.09s\tremaining: 582ms\n",
      "782:\tlearn: 0.0142944\ttotal: 2.09s\tremaining: 580ms\n",
      "783:\tlearn: 0.0142656\ttotal: 2.1s\tremaining: 577ms\n",
      "784:\tlearn: 0.0142252\ttotal: 2.1s\tremaining: 575ms\n",
      "785:\tlearn: 0.0142022\ttotal: 2.1s\tremaining: 573ms\n",
      "786:\tlearn: 0.0141784\ttotal: 2.11s\tremaining: 570ms\n",
      "787:\tlearn: 0.0141582\ttotal: 2.11s\tremaining: 568ms\n",
      "788:\tlearn: 0.0141507\ttotal: 2.11s\tremaining: 565ms\n",
      "789:\tlearn: 0.0141327\ttotal: 2.12s\tremaining: 562ms\n",
      "790:\tlearn: 0.0141317\ttotal: 2.12s\tremaining: 560ms\n",
      "791:\tlearn: 0.0141058\ttotal: 2.12s\tremaining: 557ms\n",
      "792:\tlearn: 0.0140846\ttotal: 2.12s\tremaining: 555ms\n",
      "793:\tlearn: 0.0140685\ttotal: 2.13s\tremaining: 552ms\n",
      "794:\tlearn: 0.0140412\ttotal: 2.13s\tremaining: 551ms\n",
      "795:\tlearn: 0.0140312\ttotal: 2.14s\tremaining: 548ms\n",
      "796:\tlearn: 0.0140113\ttotal: 2.14s\tremaining: 546ms\n",
      "797:\tlearn: 0.0139898\ttotal: 2.15s\tremaining: 544ms\n",
      "798:\tlearn: 0.0139532\ttotal: 2.15s\tremaining: 541ms\n",
      "799:\tlearn: 0.0139310\ttotal: 2.15s\tremaining: 539ms\n",
      "800:\tlearn: 0.0139032\ttotal: 2.16s\tremaining: 536ms\n",
      "801:\tlearn: 0.0138872\ttotal: 2.16s\tremaining: 533ms\n",
      "802:\tlearn: 0.0138685\ttotal: 2.16s\tremaining: 530ms\n",
      "803:\tlearn: 0.0138409\ttotal: 2.16s\tremaining: 528ms\n",
      "804:\tlearn: 0.0138318\ttotal: 2.17s\tremaining: 525ms\n",
      "805:\tlearn: 0.0138110\ttotal: 2.17s\tremaining: 522ms\n",
      "806:\tlearn: 0.0138031\ttotal: 2.17s\tremaining: 520ms\n",
      "807:\tlearn: 0.0137728\ttotal: 2.18s\tremaining: 517ms\n",
      "808:\tlearn: 0.0137535\ttotal: 2.18s\tremaining: 515ms\n",
      "809:\tlearn: 0.0137378\ttotal: 2.18s\tremaining: 512ms\n",
      "810:\tlearn: 0.0137366\ttotal: 2.19s\tremaining: 509ms\n",
      "811:\tlearn: 0.0137007\ttotal: 2.19s\tremaining: 507ms\n",
      "812:\tlearn: 0.0136753\ttotal: 2.19s\tremaining: 504ms\n",
      "813:\tlearn: 0.0136487\ttotal: 2.2s\tremaining: 502ms\n",
      "814:\tlearn: 0.0136024\ttotal: 2.2s\tremaining: 499ms\n",
      "815:\tlearn: 0.0135936\ttotal: 2.2s\tremaining: 496ms\n",
      "816:\tlearn: 0.0135872\ttotal: 2.2s\tremaining: 494ms\n",
      "817:\tlearn: 0.0135779\ttotal: 2.21s\tremaining: 491ms\n",
      "818:\tlearn: 0.0135684\ttotal: 2.21s\tremaining: 488ms\n",
      "819:\tlearn: 0.0135476\ttotal: 2.21s\tremaining: 486ms\n",
      "820:\tlearn: 0.0135311\ttotal: 2.21s\tremaining: 483ms\n",
      "821:\tlearn: 0.0135145\ttotal: 2.22s\tremaining: 480ms\n",
      "822:\tlearn: 0.0135081\ttotal: 2.22s\tremaining: 478ms\n",
      "823:\tlearn: 0.0134769\ttotal: 2.22s\tremaining: 475ms\n",
      "824:\tlearn: 0.0134690\ttotal: 2.23s\tremaining: 472ms\n",
      "825:\tlearn: 0.0134521\ttotal: 2.23s\tremaining: 469ms\n",
      "826:\tlearn: 0.0134173\ttotal: 2.23s\tremaining: 467ms\n",
      "827:\tlearn: 0.0134154\ttotal: 2.24s\tremaining: 465ms\n",
      "828:\tlearn: 0.0133936\ttotal: 2.24s\tremaining: 462ms\n",
      "829:\tlearn: 0.0133649\ttotal: 2.24s\tremaining: 459ms\n",
      "830:\tlearn: 0.0133359\ttotal: 2.25s\tremaining: 457ms\n",
      "831:\tlearn: 0.0132973\ttotal: 2.25s\tremaining: 454ms\n",
      "832:\tlearn: 0.0132769\ttotal: 2.25s\tremaining: 451ms\n",
      "833:\tlearn: 0.0132635\ttotal: 2.25s\tremaining: 448ms\n",
      "834:\tlearn: 0.0132203\ttotal: 2.25s\tremaining: 446ms\n",
      "835:\tlearn: 0.0131890\ttotal: 2.26s\tremaining: 443ms\n",
      "836:\tlearn: 0.0131814\ttotal: 2.26s\tremaining: 440ms\n",
      "837:\tlearn: 0.0131679\ttotal: 2.26s\tremaining: 437ms\n",
      "838:\tlearn: 0.0131516\ttotal: 2.26s\tremaining: 435ms\n",
      "839:\tlearn: 0.0131271\ttotal: 2.27s\tremaining: 433ms\n",
      "840:\tlearn: 0.0131167\ttotal: 2.27s\tremaining: 430ms\n",
      "841:\tlearn: 0.0131004\ttotal: 2.28s\tremaining: 428ms\n",
      "842:\tlearn: 0.0130621\ttotal: 2.28s\tremaining: 425ms\n",
      "843:\tlearn: 0.0130421\ttotal: 2.29s\tremaining: 423ms\n",
      "844:\tlearn: 0.0130234\ttotal: 2.29s\tremaining: 420ms\n",
      "845:\tlearn: 0.0130042\ttotal: 2.29s\tremaining: 418ms\n",
      "846:\tlearn: 0.0129751\ttotal: 2.3s\tremaining: 415ms\n",
      "847:\tlearn: 0.0129590\ttotal: 2.3s\tremaining: 413ms\n",
      "848:\tlearn: 0.0129361\ttotal: 2.31s\tremaining: 411ms\n",
      "849:\tlearn: 0.0129081\ttotal: 2.31s\tremaining: 408ms\n",
      "850:\tlearn: 0.0128813\ttotal: 2.32s\tremaining: 406ms\n",
      "851:\tlearn: 0.0128704\ttotal: 2.32s\tremaining: 403ms\n",
      "852:\tlearn: 0.0128308\ttotal: 2.32s\tremaining: 400ms\n",
      "853:\tlearn: 0.0128182\ttotal: 2.33s\tremaining: 398ms\n",
      "854:\tlearn: 0.0128057\ttotal: 2.33s\tremaining: 395ms\n",
      "855:\tlearn: 0.0127763\ttotal: 2.33s\tremaining: 392ms\n",
      "856:\tlearn: 0.0127493\ttotal: 2.34s\tremaining: 390ms\n",
      "857:\tlearn: 0.0127097\ttotal: 2.34s\tremaining: 387ms\n",
      "858:\tlearn: 0.0126926\ttotal: 2.34s\tremaining: 385ms\n",
      "859:\tlearn: 0.0126607\ttotal: 2.35s\tremaining: 382ms\n",
      "860:\tlearn: 0.0126458\ttotal: 2.35s\tremaining: 380ms\n",
      "861:\tlearn: 0.0126258\ttotal: 2.35s\tremaining: 377ms\n",
      "862:\tlearn: 0.0126096\ttotal: 2.36s\tremaining: 375ms\n",
      "863:\tlearn: 0.0125838\ttotal: 2.36s\tremaining: 372ms\n",
      "864:\tlearn: 0.0125601\ttotal: 2.37s\tremaining: 369ms\n",
      "865:\tlearn: 0.0125260\ttotal: 2.37s\tremaining: 366ms\n",
      "866:\tlearn: 0.0125034\ttotal: 2.37s\tremaining: 364ms\n",
      "867:\tlearn: 0.0125016\ttotal: 2.37s\tremaining: 361ms\n",
      "868:\tlearn: 0.0124778\ttotal: 2.38s\tremaining: 358ms\n",
      "869:\tlearn: 0.0124604\ttotal: 2.38s\tremaining: 356ms\n",
      "870:\tlearn: 0.0124469\ttotal: 2.38s\tremaining: 353ms\n",
      "871:\tlearn: 0.0124384\ttotal: 2.38s\tremaining: 350ms\n",
      "872:\tlearn: 0.0124210\ttotal: 2.39s\tremaining: 347ms\n",
      "873:\tlearn: 0.0124151\ttotal: 2.39s\tremaining: 345ms\n",
      "874:\tlearn: 0.0123910\ttotal: 2.39s\tremaining: 342ms\n",
      "875:\tlearn: 0.0123784\ttotal: 2.4s\tremaining: 339ms\n",
      "876:\tlearn: 0.0123631\ttotal: 2.4s\tremaining: 337ms\n",
      "877:\tlearn: 0.0123405\ttotal: 2.4s\tremaining: 334ms\n",
      "878:\tlearn: 0.0123297\ttotal: 2.41s\tremaining: 331ms\n",
      "879:\tlearn: 0.0123110\ttotal: 2.41s\tremaining: 329ms\n",
      "880:\tlearn: 0.0123016\ttotal: 2.41s\tremaining: 326ms\n",
      "881:\tlearn: 0.0122909\ttotal: 2.42s\tremaining: 324ms\n",
      "882:\tlearn: 0.0122730\ttotal: 2.42s\tremaining: 321ms\n",
      "883:\tlearn: 0.0122636\ttotal: 2.43s\tremaining: 318ms\n",
      "884:\tlearn: 0.0122374\ttotal: 2.43s\tremaining: 316ms\n",
      "885:\tlearn: 0.0122200\ttotal: 2.43s\tremaining: 313ms\n",
      "886:\tlearn: 0.0121844\ttotal: 2.43s\tremaining: 310ms\n",
      "887:\tlearn: 0.0121777\ttotal: 2.44s\tremaining: 308ms\n",
      "888:\tlearn: 0.0121680\ttotal: 2.44s\tremaining: 305ms\n",
      "889:\tlearn: 0.0121576\ttotal: 2.44s\tremaining: 302ms\n",
      "890:\tlearn: 0.0121433\ttotal: 2.45s\tremaining: 299ms\n",
      "891:\tlearn: 0.0121194\ttotal: 2.45s\tremaining: 297ms\n",
      "892:\tlearn: 0.0121085\ttotal: 2.45s\tremaining: 294ms\n",
      "893:\tlearn: 0.0120899\ttotal: 2.46s\tremaining: 291ms\n",
      "894:\tlearn: 0.0120694\ttotal: 2.46s\tremaining: 288ms\n",
      "895:\tlearn: 0.0120502\ttotal: 2.46s\tremaining: 286ms\n",
      "896:\tlearn: 0.0120393\ttotal: 2.46s\tremaining: 283ms\n",
      "897:\tlearn: 0.0120264\ttotal: 2.47s\tremaining: 280ms\n",
      "898:\tlearn: 0.0120019\ttotal: 2.47s\tremaining: 278ms\n",
      "899:\tlearn: 0.0119777\ttotal: 2.47s\tremaining: 275ms\n",
      "900:\tlearn: 0.0119655\ttotal: 2.48s\tremaining: 272ms\n",
      "901:\tlearn: 0.0119611\ttotal: 2.48s\tremaining: 269ms\n",
      "902:\tlearn: 0.0119429\ttotal: 2.48s\tremaining: 267ms\n",
      "903:\tlearn: 0.0119313\ttotal: 2.48s\tremaining: 264ms\n",
      "904:\tlearn: 0.0119102\ttotal: 2.49s\tremaining: 261ms\n",
      "905:\tlearn: 0.0118873\ttotal: 2.49s\tremaining: 258ms\n",
      "906:\tlearn: 0.0118766\ttotal: 2.49s\tremaining: 256ms\n",
      "907:\tlearn: 0.0118621\ttotal: 2.5s\tremaining: 253ms\n",
      "908:\tlearn: 0.0118524\ttotal: 2.5s\tremaining: 250ms\n",
      "909:\tlearn: 0.0118273\ttotal: 2.5s\tremaining: 247ms\n",
      "910:\tlearn: 0.0118057\ttotal: 2.5s\tremaining: 245ms\n",
      "911:\tlearn: 0.0117974\ttotal: 2.51s\tremaining: 242ms\n",
      "912:\tlearn: 0.0117859\ttotal: 2.52s\tremaining: 240ms\n",
      "913:\tlearn: 0.0117769\ttotal: 2.52s\tremaining: 238ms\n",
      "914:\tlearn: 0.0117498\ttotal: 2.53s\tremaining: 235ms\n",
      "915:\tlearn: 0.0117334\ttotal: 2.53s\tremaining: 232ms\n",
      "916:\tlearn: 0.0117268\ttotal: 2.53s\tremaining: 229ms\n",
      "917:\tlearn: 0.0117178\ttotal: 2.54s\tremaining: 227ms\n",
      "918:\tlearn: 0.0117072\ttotal: 2.54s\tremaining: 224ms\n",
      "919:\tlearn: 0.0116966\ttotal: 2.55s\tremaining: 221ms\n",
      "920:\tlearn: 0.0116864\ttotal: 2.55s\tremaining: 219ms\n",
      "921:\tlearn: 0.0116697\ttotal: 2.55s\tremaining: 216ms\n",
      "922:\tlearn: 0.0116580\ttotal: 2.56s\tremaining: 213ms\n",
      "923:\tlearn: 0.0116385\ttotal: 2.56s\tremaining: 210ms\n",
      "924:\tlearn: 0.0116288\ttotal: 2.56s\tremaining: 208ms\n",
      "925:\tlearn: 0.0116157\ttotal: 2.56s\tremaining: 205ms\n",
      "926:\tlearn: 0.0116063\ttotal: 2.56s\tremaining: 202ms\n",
      "927:\tlearn: 0.0115886\ttotal: 2.57s\tremaining: 199ms\n",
      "928:\tlearn: 0.0115687\ttotal: 2.57s\tremaining: 196ms\n",
      "929:\tlearn: 0.0115513\ttotal: 2.57s\tremaining: 194ms\n",
      "930:\tlearn: 0.0115345\ttotal: 2.57s\tremaining: 191ms\n",
      "931:\tlearn: 0.0115240\ttotal: 2.58s\tremaining: 188ms\n",
      "932:\tlearn: 0.0115145\ttotal: 2.58s\tremaining: 185ms\n",
      "933:\tlearn: 0.0114912\ttotal: 2.58s\tremaining: 182ms\n",
      "934:\tlearn: 0.0114863\ttotal: 2.58s\tremaining: 179ms\n",
      "935:\tlearn: 0.0114844\ttotal: 2.58s\tremaining: 177ms\n",
      "936:\tlearn: 0.0114699\ttotal: 2.58s\tremaining: 174ms\n",
      "937:\tlearn: 0.0114600\ttotal: 2.59s\tremaining: 171ms\n",
      "938:\tlearn: 0.0114431\ttotal: 2.59s\tremaining: 168ms\n",
      "939:\tlearn: 0.0114289\ttotal: 2.59s\tremaining: 165ms\n",
      "940:\tlearn: 0.0114228\ttotal: 2.59s\tremaining: 163ms\n",
      "941:\tlearn: 0.0114103\ttotal: 2.6s\tremaining: 160ms\n",
      "942:\tlearn: 0.0113789\ttotal: 2.6s\tremaining: 157ms\n",
      "943:\tlearn: 0.0113729\ttotal: 2.6s\tremaining: 154ms\n",
      "944:\tlearn: 0.0113580\ttotal: 2.6s\tremaining: 152ms\n",
      "945:\tlearn: 0.0113460\ttotal: 2.61s\tremaining: 149ms\n",
      "946:\tlearn: 0.0113389\ttotal: 2.61s\tremaining: 146ms\n",
      "947:\tlearn: 0.0113254\ttotal: 2.61s\tremaining: 143ms\n",
      "948:\tlearn: 0.0113136\ttotal: 2.61s\tremaining: 140ms\n",
      "949:\tlearn: 0.0112924\ttotal: 2.62s\tremaining: 138ms\n",
      "950:\tlearn: 0.0112819\ttotal: 2.62s\tremaining: 135ms\n",
      "951:\tlearn: 0.0112694\ttotal: 2.62s\tremaining: 132ms\n",
      "952:\tlearn: 0.0112461\ttotal: 2.62s\tremaining: 129ms\n",
      "953:\tlearn: 0.0112271\ttotal: 2.62s\tremaining: 127ms\n",
      "954:\tlearn: 0.0112181\ttotal: 2.63s\tremaining: 124ms\n",
      "955:\tlearn: 0.0112120\ttotal: 2.63s\tremaining: 121ms\n",
      "956:\tlearn: 0.0112062\ttotal: 2.63s\tremaining: 118ms\n",
      "957:\tlearn: 0.0111927\ttotal: 2.63s\tremaining: 115ms\n",
      "958:\tlearn: 0.0111810\ttotal: 2.63s\tremaining: 113ms\n",
      "959:\tlearn: 0.0111506\ttotal: 2.63s\tremaining: 110ms\n",
      "960:\tlearn: 0.0111292\ttotal: 2.64s\tremaining: 107ms\n",
      "961:\tlearn: 0.0111110\ttotal: 2.64s\tremaining: 104ms\n",
      "962:\tlearn: 0.0110914\ttotal: 2.64s\tremaining: 101ms\n",
      "963:\tlearn: 0.0110670\ttotal: 2.64s\tremaining: 98.7ms\n",
      "964:\tlearn: 0.0110644\ttotal: 2.65s\tremaining: 95.9ms\n",
      "965:\tlearn: 0.0110482\ttotal: 2.65s\tremaining: 93.2ms\n",
      "966:\tlearn: 0.0110189\ttotal: 2.65s\tremaining: 90.4ms\n",
      "967:\tlearn: 0.0110145\ttotal: 2.65s\tremaining: 87.7ms\n",
      "968:\tlearn: 0.0109926\ttotal: 2.65s\tremaining: 84.9ms\n",
      "969:\tlearn: 0.0109867\ttotal: 2.66s\tremaining: 82.2ms\n",
      "970:\tlearn: 0.0109713\ttotal: 2.66s\tremaining: 79.5ms\n",
      "971:\tlearn: 0.0109495\ttotal: 2.66s\tremaining: 76.7ms\n",
      "972:\tlearn: 0.0109300\ttotal: 2.67s\tremaining: 74ms\n",
      "973:\tlearn: 0.0109189\ttotal: 2.67s\tremaining: 71.2ms\n",
      "974:\tlearn: 0.0109051\ttotal: 2.67s\tremaining: 68.5ms\n",
      "975:\tlearn: 0.0108892\ttotal: 2.67s\tremaining: 65.8ms\n",
      "976:\tlearn: 0.0108785\ttotal: 2.68s\tremaining: 63ms\n",
      "977:\tlearn: 0.0108622\ttotal: 2.68s\tremaining: 60.3ms\n",
      "978:\tlearn: 0.0108497\ttotal: 2.68s\tremaining: 57.5ms\n",
      "979:\tlearn: 0.0108290\ttotal: 2.68s\tremaining: 54.7ms\n",
      "980:\tlearn: 0.0108154\ttotal: 2.68s\tremaining: 52ms\n",
      "981:\tlearn: 0.0107957\ttotal: 2.69s\tremaining: 49.2ms\n",
      "982:\tlearn: 0.0107931\ttotal: 2.69s\tremaining: 46.5ms\n",
      "983:\tlearn: 0.0107742\ttotal: 2.69s\tremaining: 43.7ms\n",
      "984:\tlearn: 0.0107689\ttotal: 2.69s\tremaining: 41ms\n",
      "985:\tlearn: 0.0107483\ttotal: 2.69s\tremaining: 38.3ms\n",
      "986:\tlearn: 0.0107280\ttotal: 2.7s\tremaining: 35.5ms\n",
      "987:\tlearn: 0.0107016\ttotal: 2.7s\tremaining: 32.8ms\n",
      "988:\tlearn: 0.0106837\ttotal: 2.7s\tremaining: 30ms\n",
      "989:\tlearn: 0.0106676\ttotal: 2.71s\tremaining: 27.3ms\n",
      "990:\tlearn: 0.0106382\ttotal: 2.71s\tremaining: 24.6ms\n",
      "991:\tlearn: 0.0106261\ttotal: 2.71s\tremaining: 21.9ms\n",
      "992:\tlearn: 0.0106130\ttotal: 2.71s\tremaining: 19.1ms\n",
      "993:\tlearn: 0.0106097\ttotal: 2.72s\tremaining: 16.4ms\n",
      "994:\tlearn: 0.0106021\ttotal: 2.72s\tremaining: 13.7ms\n",
      "995:\tlearn: 0.0105894\ttotal: 2.72s\tremaining: 10.9ms\n",
      "996:\tlearn: 0.0105825\ttotal: 2.73s\tremaining: 8.2ms\n",
      "997:\tlearn: 0.0105666\ttotal: 2.73s\tremaining: 5.46ms\n",
      "998:\tlearn: 0.0105481\ttotal: 2.73s\tremaining: 2.73ms\n",
      "999:\tlearn: 0.0105219\ttotal: 2.73s\tremaining: 0us\n"
     ]
    },
    {
     "data": {
      "text/plain": "<catboost.core.CatBoostRegressor at 0x7ff262dc2f10>"
     },
     "execution_count": 185,
     "metadata": {},
     "output_type": "execute_result"
    }
   ],
   "source": [
    "from catboost import CatBoostRegressor\n",
    "classy = CatBoostRegressor()\n",
    "classy.fit(X_train, y_train)"
   ]
  },
  {
   "cell_type": "code",
   "execution_count": 186,
   "metadata": {
    "pycharm": {
     "name": "#%%\n"
    }
   },
   "outputs": [
    {
     "data": {
      "text/plain": "       cpm  audience_size  ad_id  duration  cpm_x_duration  peek_hours  \\\n700  330.0            344    700         5          1650.0         5.0   \n701   79.0           1960    701       151         11929.0        86.0   \n702  130.0           2400    702         5           650.0         5.0   \n703  134.0           1960    703         3           402.0         0.0   \n704   50.0           1428    704        30          1500.0        14.0   \n\n      mean_age  mean_unique  mean_better_cpm_count  \\\n700  30.780685    39.781977               4.299419   \n701  31.759283    51.877041              38.253061   \n702  30.944892    40.684583              19.192500   \n703  31.393400    39.993367              18.633673   \n704  33.966036    42.533613              35.936975   \n\n     mean_better_cpm_count_ratio  active_users_per_pub   cpm_dur  \\\n700                     0.109192                  9663  4.796512   \n701                     0.737065                  5757  6.086224   \n702                     0.469317                 17757  0.270833   \n703                     0.464087                 12758  0.205102   \n704                     0.844513                 21438  1.050420   \n\n     dur_x_audience_per_pub  cpm_dur_npublishers  prikol2  \n700              430.000000            19.186047   1650.0  \n701            98653.333333            18.258673   6794.0  \n702             4000.000000             0.812500    650.0  \n703             1176.000000             1.025510      0.0  \n704            10710.000000             4.201681    700.0  ",
      "text/html": "<div>\n<style scoped>\n    .dataframe tbody tr th:only-of-type {\n        vertical-align: middle;\n    }\n\n    .dataframe tbody tr th {\n        vertical-align: top;\n    }\n\n    .dataframe thead th {\n        text-align: right;\n    }\n</style>\n<table border=\"1\" class=\"dataframe\">\n  <thead>\n    <tr style=\"text-align: right;\">\n      <th></th>\n      <th>cpm</th>\n      <th>audience_size</th>\n      <th>ad_id</th>\n      <th>duration</th>\n      <th>cpm_x_duration</th>\n      <th>peek_hours</th>\n      <th>mean_age</th>\n      <th>mean_unique</th>\n      <th>mean_better_cpm_count</th>\n      <th>mean_better_cpm_count_ratio</th>\n      <th>active_users_per_pub</th>\n      <th>cpm_dur</th>\n      <th>dur_x_audience_per_pub</th>\n      <th>cpm_dur_npublishers</th>\n      <th>prikol2</th>\n    </tr>\n  </thead>\n  <tbody>\n    <tr>\n      <th>700</th>\n      <td>330.0</td>\n      <td>344</td>\n      <td>700</td>\n      <td>5</td>\n      <td>1650.0</td>\n      <td>5.0</td>\n      <td>30.780685</td>\n      <td>39.781977</td>\n      <td>4.299419</td>\n      <td>0.109192</td>\n      <td>9663</td>\n      <td>4.796512</td>\n      <td>430.000000</td>\n      <td>19.186047</td>\n      <td>1650.0</td>\n    </tr>\n    <tr>\n      <th>701</th>\n      <td>79.0</td>\n      <td>1960</td>\n      <td>701</td>\n      <td>151</td>\n      <td>11929.0</td>\n      <td>86.0</td>\n      <td>31.759283</td>\n      <td>51.877041</td>\n      <td>38.253061</td>\n      <td>0.737065</td>\n      <td>5757</td>\n      <td>6.086224</td>\n      <td>98653.333333</td>\n      <td>18.258673</td>\n      <td>6794.0</td>\n    </tr>\n    <tr>\n      <th>702</th>\n      <td>130.0</td>\n      <td>2400</td>\n      <td>702</td>\n      <td>5</td>\n      <td>650.0</td>\n      <td>5.0</td>\n      <td>30.944892</td>\n      <td>40.684583</td>\n      <td>19.192500</td>\n      <td>0.469317</td>\n      <td>17757</td>\n      <td>0.270833</td>\n      <td>4000.000000</td>\n      <td>0.812500</td>\n      <td>650.0</td>\n    </tr>\n    <tr>\n      <th>703</th>\n      <td>134.0</td>\n      <td>1960</td>\n      <td>703</td>\n      <td>3</td>\n      <td>402.0</td>\n      <td>0.0</td>\n      <td>31.393400</td>\n      <td>39.993367</td>\n      <td>18.633673</td>\n      <td>0.464087</td>\n      <td>12758</td>\n      <td>0.205102</td>\n      <td>1176.000000</td>\n      <td>1.025510</td>\n      <td>0.0</td>\n    </tr>\n    <tr>\n      <th>704</th>\n      <td>50.0</td>\n      <td>1428</td>\n      <td>704</td>\n      <td>30</td>\n      <td>1500.0</td>\n      <td>14.0</td>\n      <td>33.966036</td>\n      <td>42.533613</td>\n      <td>35.936975</td>\n      <td>0.844513</td>\n      <td>21438</td>\n      <td>1.050420</td>\n      <td>10710.000000</td>\n      <td>4.201681</td>\n      <td>700.0</td>\n    </tr>\n  </tbody>\n</table>\n</div>"
     },
     "execution_count": 186,
     "metadata": {},
     "output_type": "execute_result"
    }
   ],
   "source": [
    "X_test = ads.loc[ads['ad_id'] >= 700].drop(['user_ids'], axis=1)\n",
    "X_test.head()"
   ]
  },
  {
   "cell_type": "code",
   "execution_count": 187,
   "metadata": {
    "pycharm": {
     "name": "#%%\n"
    }
   },
   "outputs": [
    {
     "data": {
      "text/plain": "   ad_id  at_least_one\n0    700      0.017845\n1    701      0.004981\n2    702      0.040052\n3    703      0.010660\n4    704      0.021443",
      "text/html": "<div>\n<style scoped>\n    .dataframe tbody tr th:only-of-type {\n        vertical-align: middle;\n    }\n\n    .dataframe tbody tr th {\n        vertical-align: top;\n    }\n\n    .dataframe thead th {\n        text-align: right;\n    }\n</style>\n<table border=\"1\" class=\"dataframe\">\n  <thead>\n    <tr style=\"text-align: right;\">\n      <th></th>\n      <th>ad_id</th>\n      <th>at_least_one</th>\n    </tr>\n  </thead>\n  <tbody>\n    <tr>\n      <th>0</th>\n      <td>700</td>\n      <td>0.017845</td>\n    </tr>\n    <tr>\n      <th>1</th>\n      <td>701</td>\n      <td>0.004981</td>\n    </tr>\n    <tr>\n      <th>2</th>\n      <td>702</td>\n      <td>0.040052</td>\n    </tr>\n    <tr>\n      <th>3</th>\n      <td>703</td>\n      <td>0.010660</td>\n    </tr>\n    <tr>\n      <th>4</th>\n      <td>704</td>\n      <td>0.021443</td>\n    </tr>\n  </tbody>\n</table>\n</div>"
     },
     "execution_count": 187,
     "metadata": {},
     "output_type": "execute_result"
    }
   ],
   "source": [
    "sample['at_least_one'] = classy.predict(X_test.drop('ad_id',axis=1, inplace=False))\n",
    "sample.head()"
   ]
  },
  {
   "cell_type": "code",
   "execution_count": 188,
   "metadata": {
    "pycharm": {
     "name": "#%%\n"
    }
   },
   "outputs": [],
   "source": [
    "sample.to_csv('submission.csv', index=False)"
   ]
  },
  {
   "cell_type": "code",
   "execution_count": 189,
   "metadata": {
    "pycharm": {
     "name": "#%%\n"
    }
   },
   "outputs": [
    {
     "data": {
      "text/plain": "<Figure size 936x864 with 1 Axes>",
      "image/png": "[encoded data removed]"
     },
     "metadata": {
      "needs_background": "light"
     },
     "output_type": "display_data"
    }
   ],
   "source": [
    "import seaborn as sns\n",
    "from matplotlib import pyplot as plt\n",
    "\n",
    "feats = {}\n",
    "for feature, importance in zip(X_train.columns, classy.feature_importances_):\n",
    "    feats[feature] = importance\n",
    "importances = pd.DataFrame.from_dict(feats, orient='index').rename(columns={0: 'Importance'})\n",
    "importances = importances.sort_values(by='Importance', ascending=False)\n",
    "importances = importances.reset_index()\n",
    "importances = importances.rename(columns={'index': 'Features'})\n",
    "plt.figure(figsize=(13, 12))\n",
    "plt.grid(True)\n",
    "sns.barplot(x=importances['Importance'], y=importances['Features'], data=importances, color='skyblue')\n",
    "plt.title('Значимость фичей в модели')\n",
    "plt.show()"
   ]
  },
  {
   "cell_type": "code",
   "execution_count": null,
   "metadata": {
    "pycharm": {
     "name": "#%%\n"
    }
   },
   "outputs": [],
   "source": []
  }
 ],
 "metadata": {
  "kernelspec": {
   "display_name": "Python 3 (ipykernel)",
   "language": "python",
   "name": "python3"
  },
  "language_info": {
   "codemirror_mode": {
    "name": "ipython",
    "version": 3
   },
   "file_extension": ".py",
   "mimetype": "text/x-python",
   "name": "python",
   "nbconvert_exporter": "python",
   "pygments_lexer": "ipython3",
   "version": "3.8.5"
  }
 },
 "nbformat": 4,
 "nbformat_minor": 1
}
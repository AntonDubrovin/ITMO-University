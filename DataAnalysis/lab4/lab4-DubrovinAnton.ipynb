{
 "cells": [
  {
   "cell_type": "code",
   "execution_count": 1,
   "metadata": {
    "collapsed": true
   },
   "outputs": [],
   "source": [
    "import pandas as pd\n",
    "from sklearn.model_selection import train_test_split\n",
    "from sklearn.neighbors import KNeighborsClassifier\n",
    "from sklearn.svm import SVC\n",
    "from sklearn.ensemble import RandomForestClassifier\n",
    "from sklearn.metrics import accuracy_score\n",
    "from copy import copy\n",
    "from scipy import stats\n",
    "from sklearn.metrics import precision_recall_curve, recall_score, precision_score, f1_score"
   ]
  },
  {
   "cell_type": "markdown",
   "source": [
    "Преобразуем некоторые данные для дальнейшей работы с ними. У колонки с зарплатами уберем доллар, преобразуем в число. Рост возьмем в метрах, вес в килограммах, всё преобразовываем в числа. Создадим одну новую колонку для возраста игроков. Также создадим колонку разбиения зарплат по группам. Все эти данные понадобятся нам для предсказания."
   ],
   "metadata": {
    "collapsed": false
   }
  },
  {
   "cell_type": "code",
   "execution_count": 2,
   "outputs": [
    {
     "data": {
      "text/plain": "                 full_name  rating jersey                  team position  \\\n0             LeBron James      97    #23    Los Angeles Lakers        F   \n1            Kawhi Leonard      97     #2  Los Angeles Clippers        F   \n2    Giannis Antetokounmpo      96    #34       Milwaukee Bucks      F-G   \n3             Kevin Durant      96     #7         Brooklyn Nets        F   \n4             James Harden      96    #13       Houston Rockets        G   \n..                     ...     ...    ...                   ...      ...   \n424        Brandon Goodwin      68     #0         Atlanta Hawks        G   \n425        Michael Frazier      68    #21       Houston Rockets        G   \n426   Kostas Antetokounmpo      68    #37    Los Angeles Lakers        F   \n427           Jalen Lecque      68     #0          Phoenix Suns        G   \n428        Duncan Robinson      67    #55            Miami Heat        F   \n\n        b_day  height  weight    salary country  draft_year draft_round  \\\n0    12/30/84    2.06   113.4  37436858     USA        2003           1   \n1    06/29/91    2.01   102.1  32742000     USA        2011           1   \n2    12/06/94    2.11   109.8  25842697  Greece        2013           1   \n3    09/29/88    2.08   104.3  37199000     USA        2007           1   \n4    08/26/89    1.96    99.8  38199000     USA        2009           1   \n..        ...     ...     ...       ...     ...         ...         ...   \n424  10/02/95    1.83    81.6    522738     USA        2018   Undrafted   \n425  03/08/94    1.91    90.7     79568     USA        2015           2   \n426  11/20/97    2.08    90.7     79568  Greece        2018   Undrafted   \n427  06/13/00    1.91    86.2    898310     USA        2019   Undrafted   \n428  04/22/94    2.01    97.5   1416852     USA        2018   Undrafted   \n\n    draft_peak             college  salaryGroup  years  \n0            1                 NaN            1     36  \n1           15     San Diego State            1     29  \n2           15                 NaN            1     26  \n3            2               Texas            1     32  \n4            3       Arizona State            1     31  \n..         ...                 ...          ...    ...  \n424  Undrafted  Florida Gulf Coast            4     25  \n425         60             Florida            4     26  \n426  Undrafted              Dayton            4     23  \n427  Undrafted                 NaN            4     20  \n428  Undrafted            Michigan            4     26  \n\n[429 rows x 16 columns]",
      "text/html": "<div>\n<style scoped>\n    .dataframe tbody tr th:only-of-type {\n        vertical-align: middle;\n    }\n\n    .dataframe tbody tr th {\n        vertical-align: top;\n    }\n\n    .dataframe thead th {\n        text-align: right;\n    }\n</style>\n<table border=\"1\" class=\"dataframe\">\n  <thead>\n    <tr style=\"text-align: right;\">\n      <th></th>\n      <th>full_name</th>\n      <th>rating</th>\n      <th>jersey</th>\n      <th>team</th>\n      <th>position</th>\n      <th>b_day</th>\n      <th>height</th>\n      <th>weight</th>\n      <th>salary</th>\n      <th>country</th>\n      <th>draft_year</th>\n      <th>draft_round</th>\n      <th>draft_peak</th>\n      <th>college</th>\n      <th>salaryGroup</th>\n      <th>years</th>\n    </tr>\n  </thead>\n  <tbody>\n    <tr>\n      <th>0</th>\n      <td>LeBron James</td>\n      <td>97</td>\n      <td>#23</td>\n      <td>Los Angeles Lakers</td>\n      <td>F</td>\n      <td>12/30/84</td>\n      <td>2.06</td>\n      <td>113.4</td>\n      <td>37436858</td>\n      <td>USA</td>\n      <td>2003</td>\n      <td>1</td>\n      <td>1</td>\n      <td>NaN</td>\n      <td>1</td>\n      <td>36</td>\n    </tr>\n    <tr>\n      <th>1</th>\n      <td>Kawhi Leonard</td>\n      <td>97</td>\n      <td>#2</td>\n      <td>Los Angeles Clippers</td>\n      <td>F</td>\n      <td>06/29/91</td>\n      <td>2.01</td>\n      <td>102.1</td>\n      <td>32742000</td>\n      <td>USA</td>\n      <td>2011</td>\n      <td>1</td>\n      <td>15</td>\n      <td>San Diego State</td>\n      <td>1</td>\n      <td>29</td>\n    </tr>\n    <tr>\n      <th>2</th>\n      <td>Giannis Antetokounmpo</td>\n      <td>96</td>\n      <td>#34</td>\n      <td>Milwaukee Bucks</td>\n      <td>F-G</td>\n      <td>12/06/94</td>\n      <td>2.11</td>\n      <td>109.8</td>\n      <td>25842697</td>\n      <td>Greece</td>\n      <td>2013</td>\n      <td>1</td>\n      <td>15</td>\n      <td>NaN</td>\n      <td>1</td>\n      <td>26</td>\n    </tr>\n    <tr>\n      <th>3</th>\n      <td>Kevin Durant</td>\n      <td>96</td>\n      <td>#7</td>\n      <td>Brooklyn Nets</td>\n      <td>F</td>\n      <td>09/29/88</td>\n      <td>2.08</td>\n      <td>104.3</td>\n      <td>37199000</td>\n      <td>USA</td>\n      <td>2007</td>\n      <td>1</td>\n      <td>2</td>\n      <td>Texas</td>\n      <td>1</td>\n      <td>32</td>\n    </tr>\n    <tr>\n      <th>4</th>\n      <td>James Harden</td>\n      <td>96</td>\n      <td>#13</td>\n      <td>Houston Rockets</td>\n      <td>G</td>\n      <td>08/26/89</td>\n      <td>1.96</td>\n      <td>99.8</td>\n      <td>38199000</td>\n      <td>USA</td>\n      <td>2009</td>\n      <td>1</td>\n      <td>3</td>\n      <td>Arizona State</td>\n      <td>1</td>\n      <td>31</td>\n    </tr>\n    <tr>\n      <th>...</th>\n      <td>...</td>\n      <td>...</td>\n      <td>...</td>\n      <td>...</td>\n      <td>...</td>\n      <td>...</td>\n      <td>...</td>\n      <td>...</td>\n      <td>...</td>\n      <td>...</td>\n      <td>...</td>\n      <td>...</td>\n      <td>...</td>\n      <td>...</td>\n      <td>...</td>\n      <td>...</td>\n    </tr>\n    <tr>\n      <th>424</th>\n      <td>Brandon Goodwin</td>\n      <td>68</td>\n      <td>#0</td>\n      <td>Atlanta Hawks</td>\n      <td>G</td>\n      <td>10/02/95</td>\n      <td>1.83</td>\n      <td>81.6</td>\n      <td>522738</td>\n      <td>USA</td>\n      <td>2018</td>\n      <td>Undrafted</td>\n      <td>Undrafted</td>\n      <td>Florida Gulf Coast</td>\n      <td>4</td>\n      <td>25</td>\n    </tr>\n    <tr>\n      <th>425</th>\n      <td>Michael Frazier</td>\n      <td>68</td>\n      <td>#21</td>\n      <td>Houston Rockets</td>\n      <td>G</td>\n      <td>03/08/94</td>\n      <td>1.91</td>\n      <td>90.7</td>\n      <td>79568</td>\n      <td>USA</td>\n      <td>2015</td>\n      <td>2</td>\n      <td>60</td>\n      <td>Florida</td>\n      <td>4</td>\n      <td>26</td>\n    </tr>\n    <tr>\n      <th>426</th>\n      <td>Kostas Antetokounmpo</td>\n      <td>68</td>\n      <td>#37</td>\n      <td>Los Angeles Lakers</td>\n      <td>F</td>\n      <td>11/20/97</td>\n      <td>2.08</td>\n      <td>90.7</td>\n      <td>79568</td>\n      <td>Greece</td>\n      <td>2018</td>\n      <td>Undrafted</td>\n      <td>Undrafted</td>\n      <td>Dayton</td>\n      <td>4</td>\n      <td>23</td>\n    </tr>\n    <tr>\n      <th>427</th>\n      <td>Jalen Lecque</td>\n      <td>68</td>\n      <td>#0</td>\n      <td>Phoenix Suns</td>\n      <td>G</td>\n      <td>06/13/00</td>\n      <td>1.91</td>\n      <td>86.2</td>\n      <td>898310</td>\n      <td>USA</td>\n      <td>2019</td>\n      <td>Undrafted</td>\n      <td>Undrafted</td>\n      <td>NaN</td>\n      <td>4</td>\n      <td>20</td>\n    </tr>\n    <tr>\n      <th>428</th>\n      <td>Duncan Robinson</td>\n      <td>67</td>\n      <td>#55</td>\n      <td>Miami Heat</td>\n      <td>F</td>\n      <td>04/22/94</td>\n      <td>2.01</td>\n      <td>97.5</td>\n      <td>1416852</td>\n      <td>USA</td>\n      <td>2018</td>\n      <td>Undrafted</td>\n      <td>Undrafted</td>\n      <td>Michigan</td>\n      <td>4</td>\n      <td>26</td>\n    </tr>\n  </tbody>\n</table>\n<p>429 rows × 16 columns</p>\n</div>"
     },
     "execution_count": 2,
     "metadata": {},
     "output_type": "execute_result"
    }
   ],
   "source": [
    "nbaDataFrame = pd.read_csv('nba2k20-full.csv')\n",
    "nbaDataFrame.salary = nbaDataFrame.salary.apply(lambda x: int(x[1:]))\n",
    "nbaDataFrame.height = nbaDataFrame.height.apply(lambda x: float(x.split('/')[1]))\n",
    "nbaDataFrame.weight = nbaDataFrame.weight.apply(lambda x: float(x.split('/')[1][:-3]))\n",
    "\n",
    "birthdays = nbaDataFrame.b_day.apply(lambda x: int(x.split('/')[2]))\n",
    "\n",
    "current_year = 2020\n",
    "years = []\n",
    "for birthday in birthdays:\n",
    "    if 0 <= birthday <= 50:\n",
    "        years.append(current_year - (2000 + birthday))\n",
    "    else :\n",
    "        years.append(current_year - (1900 + birthday))\n",
    "\n",
    "def createSalaryGroup(currentSalary):\n",
    "    if currentSalary >= 25000000:\n",
    "        return 1\n",
    "    if 15000000 <= currentSalary < 25000000:\n",
    "        return 2\n",
    "    if 5000000 <= currentSalary < 15000000:\n",
    "        return 3\n",
    "    return 4\n",
    "\n",
    "nbaDataFrame = nbaDataFrame.assign(salaryGroup=nbaDataFrame.salary.apply(lambda x: createSalaryGroup(x)))\n",
    "nbaDataFrame = nbaDataFrame.assign(years=years)\n",
    "nbaDataFrame"
   ],
   "metadata": {
    "collapsed": false,
    "pycharm": {
     "name": "#%%\n"
    }
   }
  },
  {
   "cell_type": "code",
   "execution_count": 3,
   "outputs": [
    {
     "name": "stdout",
     "output_type": "stream",
     "text": [
      "0      1\n",
      "1      1\n",
      "2      1\n",
      "3      1\n",
      "4      1\n",
      "      ..\n",
      "424    4\n",
      "425    4\n",
      "426    4\n",
      "427    4\n",
      "428    4\n",
      "Name: salaryGroup, Length: 429, dtype: int64\n"
     ]
    }
   ],
   "source": [
    "rating = nbaDataFrame.rating\n",
    "draftYear = nbaDataFrame.draft_year\n",
    "salary = nbaDataFrame.salary\n",
    "salaryGroup = nbaDataFrame.salaryGroup\n",
    "print(salaryGroup)"
   ],
   "metadata": {
    "collapsed": false,
    "pycharm": {
     "name": "#%%\n"
    }
   }
  },
  {
   "cell_type": "markdown",
   "source": [
    "Массив Х, по которому будем предсказывать, будет состоять из 5 данных - рейтинг, рост, вес, год драфта, и возраст.\n",
    "Массив y - группа зарплаты, её будем предсказывать"
   ],
   "metadata": {
    "collapsed": false
   }
  },
  {
   "cell_type": "code",
   "execution_count": 4,
   "outputs": [
    {
     "name": "stdout",
     "output_type": "stream",
     "text": [
      "[97.0, 2.06, 113.4, 2003.0, 36.0]\n",
      "[1, 1, 1, 1, 1, 1, 1, 1, 1, 1, 1, 1, 1, 1, 1, 1, 1, 1, 4, 1, 3, 1, 1, 1, 1, 1, 2, 1, 1, 4, 3, 3, 1, 4, 1, 2, 1, 1, 1, 3, 3, 2, 2, 1, 1, 2, 1, 1, 1, 4, 4, 4, 4, 3, 3, 2, 2, 2, 3, 1, 3, 3, 2, 1, 1, 3, 3, 3, 1, 3, 2, 2, 3, 3, 2, 3, 3, 4, 2, 1, 3, 3, 2, 1, 2, 4, 1, 3, 3, 3, 3, 4, 4, 3, 2, 3, 3, 4, 2, 4, 2, 3, 3, 3, 4, 4, 3, 2, 3, 3, 1, 3, 3, 2, 3, 3, 3, 3, 3, 2, 3, 4, 3, 2, 4, 2, 4, 3, 3, 2, 3, 2, 2, 2, 2, 4, 3, 3, 3, 3, 3, 1, 4, 3, 3, 4, 3, 3, 3, 2, 4, 4, 4, 4, 3, 4, 3, 4, 4, 4, 4, 3, 3, 3, 4, 3, 3, 4, 4, 3, 3, 4, 4, 3, 3, 3, 2, 4, 4, 3, 4, 3, 3, 3, 4, 3, 4, 3, 4, 4, 4, 3, 4, 4, 3, 4, 4, 3, 4, 3, 3, 3, 3, 3, 3, 2, 3, 2, 4, 4, 4, 3, 3, 4, 4, 3, 4, 3, 4, 4, 2, 4, 3, 4, 4, 4, 3, 4, 4, 3, 4, 4, 4, 4, 3, 4, 4, 4, 4, 3, 4, 4, 4, 4, 4, 4, 4, 4, 3, 4, 4, 3, 4, 3, 4, 2, 4, 3, 3, 4, 3, 3, 3, 4, 1, 3, 4, 4, 4, 4, 4, 4, 4, 4, 4, 4, 4, 4, 4, 4, 4, 4, 4, 2, 3, 4, 4, 4, 4, 4, 4, 3, 4, 2, 3, 4, 4, 4, 4, 4, 4, 4, 3, 3, 4, 4, 2, 4, 4, 4, 4, 4, 4, 4, 4, 4, 4, 4, 4, 4, 4, 4, 3, 4, 3, 4, 4, 4, 2, 3, 4, 4, 4, 3, 4, 4, 4, 4, 4, 4, 4, 4, 4, 4, 4, 4, 4, 4, 4, 4, 4, 4, 4, 4, 4, 4, 4, 4, 4, 4, 4, 4, 4, 4, 4, 4, 4, 4, 4, 4, 4, 4, 4, 4, 4, 4, 4, 4, 4, 4, 4, 4, 4, 4, 4, 4, 4, 4, 4, 4, 4, 3, 4, 4, 4, 4, 4, 4, 3, 4, 4, 4, 4, 4, 4, 4, 4, 4, 4, 4, 4, 4, 4, 4, 4, 4, 4, 4, 4, 4, 4, 4, 4, 4, 4, 4, 4, 4, 4]\n"
     ]
    }
   ],
   "source": [
    "X = copy(nbaDataFrame).drop(['full_name', 'jersey', 'team', 'position', 'b_day',\n",
    "                            'salary', 'country', 'draft_round', 'draft_peak', 'college', 'salaryGroup'], axis=1).values.tolist()\n",
    "print(X[0])\n",
    "y = salaryGroup.values.tolist()\n",
    "print(y)\n",
    "X_train, X_test, y_train, y_test = train_test_split(X, y, shuffle=True, stratify=y, test_size=0.3)"
   ],
   "metadata": {
    "collapsed": false,
    "pycharm": {
     "name": "#%%\n"
    }
   }
  },
  {
   "cell_type": "markdown",
   "source": [
    "Для предсказания будем использовать алгоритм Forest. Посмотрим его работу, используя метрики accuracy, precision и f1."
   ],
   "metadata": {
    "collapsed": false
   }
  },
  {
   "cell_type": "code",
   "execution_count": 15,
   "outputs": [
    {
     "name": "stdout",
     "output_type": "stream",
     "text": [
      "Leaderboard:\n",
      "1. Forest_accuracy: 0.7286821705426356\n",
      "2. Forest_f1: 0.7116417512982312\n",
      "3. Forest_precision: 0.7040415568567343\n"
     ]
    }
   ],
   "source": [
    "knn_clf = KNeighborsClassifier()\n",
    "svm_clf = SVC()\n",
    "forest_clf = RandomForestClassifier()\n",
    "\n",
    "# Обучим классификаторы на тренировочных данных\n",
    "for clf in [knn_clf, svm_clf, forest_clf]:\n",
    "    clf.fit(X_train, y_train)\n",
    "\n",
    "# Получим значение метки для тестового набора\n",
    "knn_pred = knn_clf.predict(X_test)\n",
    "svm_pred = svm_clf.predict(X_test)\n",
    "forest_pred = forest_clf.predict(X_test)\n",
    "\n",
    "# Посчитаем метрику качества\n",
    "forest_acc_score = accuracy_score(y_test, forest_pred)\n",
    "\n",
    "forest_precision = precision_score(y_test, forest_pred, average=\"weighted\")\n",
    "\n",
    "forest_f1 = f1_score(y_test, forest_pred, average='weighted')\n",
    "\n",
    "# Выведем алгоритмы по убыванию качества их работы\n",
    "leaderboard = sorted([\n",
    "    ('Forest_accuracy', forest_acc_score),\n",
    "    ('Forest_precision', forest_precision),\n",
    "    ('Forest_f1', forest_f1)\n",
    "], key=lambda pair: pair[1], reverse=True)\n",
    "\n",
    "print('Leaderboard:')\n",
    "for idx, (leader_name, leader_score) in enumerate(leaderboard):\n",
    "    print(f'{idx + 1}. {leader_name}: {leader_score}')"
   ],
   "metadata": {
    "collapsed": false,
    "pycharm": {
     "name": "#%%\n"
    }
   }
  },
  {
   "cell_type": "markdown",
   "source": [
    "Попробуем найти нормальный признак. Самый близкий получился рост. Известно, что в любой группе людей их рост должен быть нормальным. Проверим через stats.normaltest - выдаёт 0.08, что мало. Однако на гистограмме видим, что распределение нормальное"
   ],
   "metadata": {
    "collapsed": false
   }
  },
  {
   "cell_type": "code",
   "execution_count": 6,
   "outputs": [
    {
     "data": {
      "text/plain": "NormaltestResult(statistic=4.846177468074185, pvalue=0.08864738596500196)"
     },
     "execution_count": 6,
     "metadata": {},
     "output_type": "execute_result"
    }
   ],
   "source": [
    "stats.normaltest(nbaDataFrame.height)"
   ],
   "metadata": {
    "collapsed": false,
    "pycharm": {
     "name": "#%%\n"
    }
   }
  },
  {
   "cell_type": "code",
   "execution_count": 7,
   "outputs": [
    {
     "data": {
      "text/plain": "(array([ 2., 12., 31., 73., 95., 91., 70., 49.,  4.,  2.]),\n array([1.75 , 1.799, 1.848, 1.897, 1.946, 1.995, 2.044, 2.093, 2.142,\n        2.191, 2.24 ]),\n <BarContainer object of 10 artists>)"
     },
     "execution_count": 7,
     "metadata": {},
     "output_type": "execute_result"
    },
    {
     "data": {
      "text/plain": "<Figure size 432x288 with 1 Axes>",
      "image/png": "[encoded data removed]"
     },
     "metadata": {
      "needs_background": "light"
     },
     "output_type": "display_data"
    }
   ],
   "source": [
    "import matplotlib.pyplot as plt\n",
    "plt.hist(nbaDataFrame.height)"
   ],
   "metadata": {
    "collapsed": false,
    "pycharm": {
     "name": "#%%\n"
    }
   }
  }
 ],
 "metadata": {
  "kernelspec": {
   "display_name": "Python 3",
   "language": "python",
   "name": "python3"
  },
  "language_info": {
   "codemirror_mode": {
    "name": "ipython",
    "version": 2
   },
   "file_extension": ".py",
   "mimetype": "text/x-python",
   "name": "python",
   "nbconvert_exporter": "python",
   "pygments_lexer": "ipython2",
   "version": "2.7.6"
  }
 },
 "nbformat": 4,
 "nbformat_minor": 0
}
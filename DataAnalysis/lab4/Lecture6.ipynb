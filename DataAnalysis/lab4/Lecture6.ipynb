{
 "cells": [
  {
   "cell_type": "markdown",
   "id": "a4948a6d",
   "metadata": {},
   "source": [
    "# Лекция 6. Базовые модели обучения с учителем"
   ]
  },
  {
   "cell_type": "markdown",
   "id": "1a4ce38e",
   "metadata": {},
   "source": [
    "# Введение"
   ]
  },
  {
   "cell_type": "markdown",
   "id": "78f59349",
   "metadata": {},
   "source": [
    "**Обучение с учителем (*Supervised learning*)** — один из разделов машинного обучения, посвященный решению следующей задачи:"
   ]
  },
  {
   "cell_type": "markdown",
   "id": "739b02cd",
   "metadata": {},
   "source": [
    "$X$ — множество объектов\n",
    "\n",
    "$Y$ — множество меток\n",
    "\n",
    "$f : X \\rightarrow Y$ — зависимость метки от объекта (именно её и надо определить)\n",
    "\n",
    "Зависимость $f$ неизвестна\n",
    "\n",
    "$\\{s_1, s_2, \\cdots, s_n \\mid, s_i = (x_i, y_i)\\} \\subset X \\times Y$ — обучающая выборка\n",
    "\n",
    "$\\{x_1, x_2, \\cdots, x_n \\mid x_i \\in X \\}$ — множество объектов\n",
    "\n",
    "$\\{y_1, y_2, \\cdots, y_n \\mid y_i = f(x_i) \\in Y \\}$ — метки, соответствующие ранее описанным объектам\n",
    "\n",
    "Необходимо найти алгоритм $a : X \\rightarrow Y$, который как можно лучше аппроксимирует $f$"
   ]
  },
  {
   "cell_type": "markdown",
   "id": "f2fb3c93",
   "metadata": {},
   "source": [
    "# Вопросы:\n",
    "\n",
    "- в каком виде могут быть представлены множества $X$ и $Y$?\n",
    "- чем $a$ отличается от $f$?\n",
    "- как можно построить алгоритм $a$?\n",
    "- что значит \"как можно лучше аппроксимирует\"?"
   ]
  },
  {
   "cell_type": "markdown",
   "id": "58b57521",
   "metadata": {},
   "source": [
    "## Что есть объект и что есть метка?"
   ]
  },
  {
   "cell_type": "markdown",
   "id": "de666068",
   "metadata": {},
   "source": [
    "В большинстве случаев, $x_i$ может быть описан упорядоченным набором признаков:\n",
    "\n",
    "$x_i = (f_1, f_2, \\cdots, f_m)$, где $f_i \\in F_i$"
   ]
  },
  {
   "cell_type": "markdown",
   "id": "d6f428b4",
   "metadata": {},
   "source": [
    "Вопрос:\n",
    "- что такое $F_i$?"
   ]
  },
  {
   "cell_type": "markdown",
   "id": "1d52fcd7",
   "metadata": {},
   "source": [
    "Множество $F_i$ может быть:\n",
    "- бинарным, $F_i = \\{0, 1\\}$. Пример: наличие у человека законченного высшего образования;\n",
    "- номинальным, $\\mid F_i \\mid < \\infty$, множество не упорядочено. Пример: любимый день недели;\n",
    "- порядковым, $\\mid F_i \\mid < \\infty$, множество упорядочено. Пример: рейтинг среди студентов по успеваемости;\n",
    "- вещественным, $F_i = \\mathbb{R}$. Пример: температура."
   ]
  },
  {
   "cell_type": "markdown",
   "id": "ea3870a0",
   "metadata": {},
   "source": [
    "Обычно мы будет работать с матрицей \"объекты-признаки\":\n",
    "\n",
    "$$F = \\mid\\mid f_{ij} \\mid\\mid_{n\\times m}$$\n",
    "\n",
    "$f_{ij}$ -- j-ый признак i-ого объекта"
   ]
  },
  {
   "cell_type": "markdown",
   "id": "e6295487",
   "metadata": {},
   "source": [
    "## Типы задач обучения с учителем"
   ]
  },
  {
   "cell_type": "code",
   "execution_count": 1,
   "id": "a35f4292",
   "metadata": {},
   "outputs": [],
   "source": [
    "from IPython.display import Image"
   ]
  },
  {
   "cell_type": "code",
   "execution_count": 2,
   "id": "f1225cff",
   "metadata": {
    "scrolled": false
   },
   "outputs": [
    {
     "ename": "FileNotFoundError",
     "evalue": "No such file or directory: './machine_learning_areas.png'",
     "output_type": "error",
     "traceback": [
      "\u001B[0;31m---------------------------------------------------------------------------\u001B[0m",
      "\u001B[0;31mTypeError\u001B[0m                                 Traceback (most recent call last)",
      "\u001B[0;32m~/anaconda3/lib/python3.8/site-packages/IPython/core/display.py\u001B[0m in \u001B[0;36m_data_and_metadata\u001B[0;34m(self, always_both)\u001B[0m\n\u001B[1;32m   1292\u001B[0m         \u001B[0;32mtry\u001B[0m\u001B[0;34m:\u001B[0m\u001B[0;34m\u001B[0m\u001B[0;34m\u001B[0m\u001B[0m\n\u001B[0;32m-> 1293\u001B[0;31m             \u001B[0mb64_data\u001B[0m \u001B[0;34m=\u001B[0m \u001B[0mb2a_base64\u001B[0m\u001B[0;34m(\u001B[0m\u001B[0mself\u001B[0m\u001B[0;34m.\u001B[0m\u001B[0mdata\u001B[0m\u001B[0;34m)\u001B[0m\u001B[0;34m.\u001B[0m\u001B[0mdecode\u001B[0m\u001B[0;34m(\u001B[0m\u001B[0;34m'ascii'\u001B[0m\u001B[0;34m)\u001B[0m\u001B[0;34m\u001B[0m\u001B[0;34m\u001B[0m\u001B[0m\n\u001B[0m\u001B[1;32m   1294\u001B[0m         \u001B[0;32mexcept\u001B[0m \u001B[0mTypeError\u001B[0m\u001B[0;34m:\u001B[0m\u001B[0;34m\u001B[0m\u001B[0;34m\u001B[0m\u001B[0m\n",
      "\u001B[0;31mTypeError\u001B[0m: a bytes-like object is required, not 'str'",
      "\nDuring handling of the above exception, another exception occurred:\n",
      "\u001B[0;31mFileNotFoundError\u001B[0m                         Traceback (most recent call last)",
      "\u001B[0;32m~/anaconda3/lib/python3.8/site-packages/IPython/core/formatters.py\u001B[0m in \u001B[0;36m__call__\u001B[0;34m(self, obj, include, exclude)\u001B[0m\n\u001B[1;32m    968\u001B[0m \u001B[0;34m\u001B[0m\u001B[0m\n\u001B[1;32m    969\u001B[0m             \u001B[0;32mif\u001B[0m \u001B[0mmethod\u001B[0m \u001B[0;32mis\u001B[0m \u001B[0;32mnot\u001B[0m \u001B[0;32mNone\u001B[0m\u001B[0;34m:\u001B[0m\u001B[0;34m\u001B[0m\u001B[0;34m\u001B[0m\u001B[0m\n\u001B[0;32m--> 970\u001B[0;31m                 \u001B[0;32mreturn\u001B[0m \u001B[0mmethod\u001B[0m\u001B[0;34m(\u001B[0m\u001B[0minclude\u001B[0m\u001B[0;34m=\u001B[0m\u001B[0minclude\u001B[0m\u001B[0;34m,\u001B[0m \u001B[0mexclude\u001B[0m\u001B[0;34m=\u001B[0m\u001B[0mexclude\u001B[0m\u001B[0;34m)\u001B[0m\u001B[0;34m\u001B[0m\u001B[0;34m\u001B[0m\u001B[0m\n\u001B[0m\u001B[1;32m    971\u001B[0m             \u001B[0;32mreturn\u001B[0m \u001B[0;32mNone\u001B[0m\u001B[0;34m\u001B[0m\u001B[0;34m\u001B[0m\u001B[0m\n\u001B[1;32m    972\u001B[0m         \u001B[0;32melse\u001B[0m\u001B[0;34m:\u001B[0m\u001B[0;34m\u001B[0m\u001B[0;34m\u001B[0m\u001B[0m\n",
      "\u001B[0;32m~/anaconda3/lib/python3.8/site-packages/IPython/core/display.py\u001B[0m in \u001B[0;36m_repr_mimebundle_\u001B[0;34m(self, include, exclude)\u001B[0m\n\u001B[1;32m   1281\u001B[0m         \u001B[0;32mif\u001B[0m \u001B[0mself\u001B[0m\u001B[0;34m.\u001B[0m\u001B[0membed\u001B[0m\u001B[0;34m:\u001B[0m\u001B[0;34m\u001B[0m\u001B[0;34m\u001B[0m\u001B[0m\n\u001B[1;32m   1282\u001B[0m             \u001B[0mmimetype\u001B[0m \u001B[0;34m=\u001B[0m \u001B[0mself\u001B[0m\u001B[0;34m.\u001B[0m\u001B[0m_mimetype\u001B[0m\u001B[0;34m\u001B[0m\u001B[0;34m\u001B[0m\u001B[0m\n\u001B[0;32m-> 1283\u001B[0;31m             \u001B[0mdata\u001B[0m\u001B[0;34m,\u001B[0m \u001B[0mmetadata\u001B[0m \u001B[0;34m=\u001B[0m \u001B[0mself\u001B[0m\u001B[0;34m.\u001B[0m\u001B[0m_data_and_metadata\u001B[0m\u001B[0;34m(\u001B[0m\u001B[0malways_both\u001B[0m\u001B[0;34m=\u001B[0m\u001B[0;32mTrue\u001B[0m\u001B[0;34m)\u001B[0m\u001B[0;34m\u001B[0m\u001B[0;34m\u001B[0m\u001B[0m\n\u001B[0m\u001B[1;32m   1284\u001B[0m             \u001B[0;32mif\u001B[0m \u001B[0mmetadata\u001B[0m\u001B[0;34m:\u001B[0m\u001B[0;34m\u001B[0m\u001B[0;34m\u001B[0m\u001B[0m\n\u001B[1;32m   1285\u001B[0m                 \u001B[0mmetadata\u001B[0m \u001B[0;34m=\u001B[0m \u001B[0;34m{\u001B[0m\u001B[0mmimetype\u001B[0m\u001B[0;34m:\u001B[0m \u001B[0mmetadata\u001B[0m\u001B[0;34m}\u001B[0m\u001B[0;34m\u001B[0m\u001B[0;34m\u001B[0m\u001B[0m\n",
      "\u001B[0;32m~/anaconda3/lib/python3.8/site-packages/IPython/core/display.py\u001B[0m in \u001B[0;36m_data_and_metadata\u001B[0;34m(self, always_both)\u001B[0m\n\u001B[1;32m   1293\u001B[0m             \u001B[0mb64_data\u001B[0m \u001B[0;34m=\u001B[0m \u001B[0mb2a_base64\u001B[0m\u001B[0;34m(\u001B[0m\u001B[0mself\u001B[0m\u001B[0;34m.\u001B[0m\u001B[0mdata\u001B[0m\u001B[0;34m)\u001B[0m\u001B[0;34m.\u001B[0m\u001B[0mdecode\u001B[0m\u001B[0;34m(\u001B[0m\u001B[0;34m'ascii'\u001B[0m\u001B[0;34m)\u001B[0m\u001B[0;34m\u001B[0m\u001B[0;34m\u001B[0m\u001B[0m\n\u001B[1;32m   1294\u001B[0m         \u001B[0;32mexcept\u001B[0m \u001B[0mTypeError\u001B[0m\u001B[0;34m:\u001B[0m\u001B[0;34m\u001B[0m\u001B[0;34m\u001B[0m\u001B[0m\n\u001B[0;32m-> 1295\u001B[0;31m             raise FileNotFoundError(\n\u001B[0m\u001B[1;32m   1296\u001B[0m                 \"No such file or directory: '%s'\" % (self.data))\n\u001B[1;32m   1297\u001B[0m         \u001B[0mmd\u001B[0m \u001B[0;34m=\u001B[0m \u001B[0;34m{\u001B[0m\u001B[0;34m}\u001B[0m\u001B[0;34m\u001B[0m\u001B[0;34m\u001B[0m\u001B[0m\n",
      "\u001B[0;31mFileNotFoundError\u001B[0m: No such file or directory: './machine_learning_areas.png'"
     ]
    },
    {
     "ename": "FileNotFoundError",
     "evalue": "No such file or directory: './machine_learning_areas.png'",
     "output_type": "error",
     "traceback": [
      "\u001B[0;31m---------------------------------------------------------------------------\u001B[0m",
      "\u001B[0;31mTypeError\u001B[0m                                 Traceback (most recent call last)",
      "\u001B[0;32m~/anaconda3/lib/python3.8/site-packages/IPython/core/display.py\u001B[0m in \u001B[0;36m_data_and_metadata\u001B[0;34m(self, always_both)\u001B[0m\n\u001B[1;32m   1292\u001B[0m         \u001B[0;32mtry\u001B[0m\u001B[0;34m:\u001B[0m\u001B[0;34m\u001B[0m\u001B[0;34m\u001B[0m\u001B[0m\n\u001B[0;32m-> 1293\u001B[0;31m             \u001B[0mb64_data\u001B[0m \u001B[0;34m=\u001B[0m \u001B[0mb2a_base64\u001B[0m\u001B[0;34m(\u001B[0m\u001B[0mself\u001B[0m\u001B[0;34m.\u001B[0m\u001B[0mdata\u001B[0m\u001B[0;34m)\u001B[0m\u001B[0;34m.\u001B[0m\u001B[0mdecode\u001B[0m\u001B[0;34m(\u001B[0m\u001B[0;34m'ascii'\u001B[0m\u001B[0;34m)\u001B[0m\u001B[0;34m\u001B[0m\u001B[0;34m\u001B[0m\u001B[0m\n\u001B[0m\u001B[1;32m   1294\u001B[0m         \u001B[0;32mexcept\u001B[0m \u001B[0mTypeError\u001B[0m\u001B[0;34m:\u001B[0m\u001B[0;34m\u001B[0m\u001B[0;34m\u001B[0m\u001B[0m\n",
      "\u001B[0;31mTypeError\u001B[0m: a bytes-like object is required, not 'str'",
      "\nDuring handling of the above exception, another exception occurred:\n",
      "\u001B[0;31mFileNotFoundError\u001B[0m                         Traceback (most recent call last)",
      "\u001B[0;32m~/anaconda3/lib/python3.8/site-packages/IPython/core/formatters.py\u001B[0m in \u001B[0;36m__call__\u001B[0;34m(self, obj)\u001B[0m\n\u001B[1;32m    343\u001B[0m             \u001B[0mmethod\u001B[0m \u001B[0;34m=\u001B[0m \u001B[0mget_real_method\u001B[0m\u001B[0;34m(\u001B[0m\u001B[0mobj\u001B[0m\u001B[0;34m,\u001B[0m \u001B[0mself\u001B[0m\u001B[0;34m.\u001B[0m\u001B[0mprint_method\u001B[0m\u001B[0;34m)\u001B[0m\u001B[0;34m\u001B[0m\u001B[0;34m\u001B[0m\u001B[0m\n\u001B[1;32m    344\u001B[0m             \u001B[0;32mif\u001B[0m \u001B[0mmethod\u001B[0m \u001B[0;32mis\u001B[0m \u001B[0;32mnot\u001B[0m \u001B[0;32mNone\u001B[0m\u001B[0;34m:\u001B[0m\u001B[0;34m\u001B[0m\u001B[0;34m\u001B[0m\u001B[0m\n\u001B[0;32m--> 345\u001B[0;31m                 \u001B[0;32mreturn\u001B[0m \u001B[0mmethod\u001B[0m\u001B[0;34m(\u001B[0m\u001B[0;34m)\u001B[0m\u001B[0;34m\u001B[0m\u001B[0;34m\u001B[0m\u001B[0m\n\u001B[0m\u001B[1;32m    346\u001B[0m             \u001B[0;32mreturn\u001B[0m \u001B[0;32mNone\u001B[0m\u001B[0;34m\u001B[0m\u001B[0;34m\u001B[0m\u001B[0m\n\u001B[1;32m    347\u001B[0m         \u001B[0;32melse\u001B[0m\u001B[0;34m:\u001B[0m\u001B[0;34m\u001B[0m\u001B[0;34m\u001B[0m\u001B[0m\n",
      "\u001B[0;32m~/anaconda3/lib/python3.8/site-packages/IPython/core/display.py\u001B[0m in \u001B[0;36m_repr_png_\u001B[0;34m(self)\u001B[0m\n\u001B[1;32m   1311\u001B[0m     \u001B[0;32mdef\u001B[0m \u001B[0m_repr_png_\u001B[0m\u001B[0;34m(\u001B[0m\u001B[0mself\u001B[0m\u001B[0;34m)\u001B[0m\u001B[0;34m:\u001B[0m\u001B[0;34m\u001B[0m\u001B[0;34m\u001B[0m\u001B[0m\n\u001B[1;32m   1312\u001B[0m         \u001B[0;32mif\u001B[0m \u001B[0mself\u001B[0m\u001B[0;34m.\u001B[0m\u001B[0membed\u001B[0m \u001B[0;32mand\u001B[0m \u001B[0mself\u001B[0m\u001B[0;34m.\u001B[0m\u001B[0mformat\u001B[0m \u001B[0;34m==\u001B[0m \u001B[0mself\u001B[0m\u001B[0;34m.\u001B[0m\u001B[0m_FMT_PNG\u001B[0m\u001B[0;34m:\u001B[0m\u001B[0;34m\u001B[0m\u001B[0;34m\u001B[0m\u001B[0m\n\u001B[0;32m-> 1313\u001B[0;31m             \u001B[0;32mreturn\u001B[0m \u001B[0mself\u001B[0m\u001B[0;34m.\u001B[0m\u001B[0m_data_and_metadata\u001B[0m\u001B[0;34m(\u001B[0m\u001B[0;34m)\u001B[0m\u001B[0;34m\u001B[0m\u001B[0;34m\u001B[0m\u001B[0m\n\u001B[0m\u001B[1;32m   1314\u001B[0m \u001B[0;34m\u001B[0m\u001B[0m\n\u001B[1;32m   1315\u001B[0m     \u001B[0;32mdef\u001B[0m \u001B[0m_repr_jpeg_\u001B[0m\u001B[0;34m(\u001B[0m\u001B[0mself\u001B[0m\u001B[0;34m)\u001B[0m\u001B[0;34m:\u001B[0m\u001B[0;34m\u001B[0m\u001B[0;34m\u001B[0m\u001B[0m\n",
      "\u001B[0;32m~/anaconda3/lib/python3.8/site-packages/IPython/core/display.py\u001B[0m in \u001B[0;36m_data_and_metadata\u001B[0;34m(self, always_both)\u001B[0m\n\u001B[1;32m   1293\u001B[0m             \u001B[0mb64_data\u001B[0m \u001B[0;34m=\u001B[0m \u001B[0mb2a_base64\u001B[0m\u001B[0;34m(\u001B[0m\u001B[0mself\u001B[0m\u001B[0;34m.\u001B[0m\u001B[0mdata\u001B[0m\u001B[0;34m)\u001B[0m\u001B[0;34m.\u001B[0m\u001B[0mdecode\u001B[0m\u001B[0;34m(\u001B[0m\u001B[0;34m'ascii'\u001B[0m\u001B[0;34m)\u001B[0m\u001B[0;34m\u001B[0m\u001B[0;34m\u001B[0m\u001B[0m\n\u001B[1;32m   1294\u001B[0m         \u001B[0;32mexcept\u001B[0m \u001B[0mTypeError\u001B[0m\u001B[0;34m:\u001B[0m\u001B[0;34m\u001B[0m\u001B[0;34m\u001B[0m\u001B[0m\n\u001B[0;32m-> 1295\u001B[0;31m             raise FileNotFoundError(\n\u001B[0m\u001B[1;32m   1296\u001B[0m                 \"No such file or directory: '%s'\" % (self.data))\n\u001B[1;32m   1297\u001B[0m         \u001B[0mmd\u001B[0m \u001B[0;34m=\u001B[0m \u001B[0;34m{\u001B[0m\u001B[0;34m}\u001B[0m\u001B[0;34m\u001B[0m\u001B[0;34m\u001B[0m\u001B[0m\n",
      "\u001B[0;31mFileNotFoundError\u001B[0m: No such file or directory: './machine_learning_areas.png'"
     ]
    },
    {
     "data": {
      "text/plain": "<IPython.core.display.Image object>"
     },
     "execution_count": 2,
     "metadata": {},
     "output_type": "execute_result"
    }
   ],
   "source": [
    "# Source: https://www.pngfind.com/mpng/owmimi_machine-learning-areas-hd-png-download/\n",
    "Image('./machine_learning_areas.png')"
   ]
  },
  {
   "cell_type": "markdown",
   "id": "7367fd23",
   "metadata": {},
   "source": [
    "## Задача классификации"
   ]
  },
  {
   "cell_type": "markdown",
   "id": "5043fcb0",
   "metadata": {},
   "source": [
    "Различные постановки задачи классификации:\n",
    "- $Y = \\{0, 1\\}$, бинарная классификация. Пример: есть ли на картинке кошка?\n",
    "- $Y = \\{0, 1, \\cdots, M\\}$, многоклассовая классификация (классы не пересекаются). Пример: сколько на картинке кошек (макс. 10)?\n",
    "- $Y = \\{0, 1\\}^{M}$, многоклассовая классификация (классы могут пересекаться). Пример: какие породы кошек есть на картинке?"
   ]
  },
  {
   "cell_type": "markdown",
   "id": "e9a5534c",
   "metadata": {},
   "source": [
    "## Задача регрессии"
   ]
  },
  {
   "cell_type": "markdown",
   "id": "2763d3fb",
   "metadata": {},
   "source": [
    "Различные постановки задачи регрессии:\n",
    "- $Y = \\mathbb{R}$, одномерная регрессия. Пример: предсказание роста человека;\n",
    "- $Y = \\mathbb{R}^{\\mathbb{m}}$, многомерная регрессия. Пример: предсказание курсов нескольких валют."
   ]
  },
  {
   "cell_type": "markdown",
   "id": "39249690",
   "metadata": {},
   "source": [
    "# Чем отличается $a$ от $f$?"
   ]
  },
  {
   "cell_type": "markdown",
   "id": "dd37af21",
   "metadata": {},
   "source": [
    "$f$ -- неизвестная зависимость, которая зачастую не может быть представлена в аналитическом виде\n",
    "\n",
    "$a$ -- алгоритм, который в идеале должен как можно лучше аппроксимовать зависимость $f$"
   ]
  },
  {
   "cell_type": "markdown",
   "id": "d34778f5",
   "metadata": {},
   "source": [
    "# Как можно построить алгоритм $a$?"
   ]
  },
  {
   "cell_type": "markdown",
   "id": "77770bfc",
   "metadata": {},
   "source": [
    "В настоящий момент существует множество библиотек, в которых реализованы различные алгоритмы машинного обучения.\n",
    "\n",
    "Большинство из них можно найти в библиотеке **scikit-learn (sklearn)**"
   ]
  },
  {
   "cell_type": "markdown",
   "id": "f1e26d6a",
   "metadata": {},
   "source": [
    "В качестве отправной точки по выбору алгоритмов для решения той или иной задачи существует рекоммендация от вышеупомянутой библиотеки (при переходе по ссылке снизу все алгоритмы в схеме станут кликабельны):"
   ]
  },
  {
   "cell_type": "code",
   "execution_count": 3,
   "id": "89733369",
   "metadata": {},
   "outputs": [
    {
     "ename": "FileNotFoundError",
     "evalue": "No such file or directory: './ml_map.png'",
     "output_type": "error",
     "traceback": [
      "\u001B[0;31m---------------------------------------------------------------------------\u001B[0m",
      "\u001B[0;31mTypeError\u001B[0m                                 Traceback (most recent call last)",
      "\u001B[0;32m~/anaconda3/lib/python3.8/site-packages/IPython/core/display.py\u001B[0m in \u001B[0;36m_data_and_metadata\u001B[0;34m(self, always_both)\u001B[0m\n\u001B[1;32m   1292\u001B[0m         \u001B[0;32mtry\u001B[0m\u001B[0;34m:\u001B[0m\u001B[0;34m\u001B[0m\u001B[0;34m\u001B[0m\u001B[0m\n\u001B[0;32m-> 1293\u001B[0;31m             \u001B[0mb64_data\u001B[0m \u001B[0;34m=\u001B[0m \u001B[0mb2a_base64\u001B[0m\u001B[0;34m(\u001B[0m\u001B[0mself\u001B[0m\u001B[0;34m.\u001B[0m\u001B[0mdata\u001B[0m\u001B[0;34m)\u001B[0m\u001B[0;34m.\u001B[0m\u001B[0mdecode\u001B[0m\u001B[0;34m(\u001B[0m\u001B[0;34m'ascii'\u001B[0m\u001B[0;34m)\u001B[0m\u001B[0;34m\u001B[0m\u001B[0;34m\u001B[0m\u001B[0m\n\u001B[0m\u001B[1;32m   1294\u001B[0m         \u001B[0;32mexcept\u001B[0m \u001B[0mTypeError\u001B[0m\u001B[0;34m:\u001B[0m\u001B[0;34m\u001B[0m\u001B[0;34m\u001B[0m\u001B[0m\n",
      "\u001B[0;31mTypeError\u001B[0m: a bytes-like object is required, not 'str'",
      "\nDuring handling of the above exception, another exception occurred:\n",
      "\u001B[0;31mFileNotFoundError\u001B[0m                         Traceback (most recent call last)",
      "\u001B[0;32m~/anaconda3/lib/python3.8/site-packages/IPython/core/formatters.py\u001B[0m in \u001B[0;36m__call__\u001B[0;34m(self, obj, include, exclude)\u001B[0m\n\u001B[1;32m    968\u001B[0m \u001B[0;34m\u001B[0m\u001B[0m\n\u001B[1;32m    969\u001B[0m             \u001B[0;32mif\u001B[0m \u001B[0mmethod\u001B[0m \u001B[0;32mis\u001B[0m \u001B[0;32mnot\u001B[0m \u001B[0;32mNone\u001B[0m\u001B[0;34m:\u001B[0m\u001B[0;34m\u001B[0m\u001B[0;34m\u001B[0m\u001B[0m\n\u001B[0;32m--> 970\u001B[0;31m                 \u001B[0;32mreturn\u001B[0m \u001B[0mmethod\u001B[0m\u001B[0;34m(\u001B[0m\u001B[0minclude\u001B[0m\u001B[0;34m=\u001B[0m\u001B[0minclude\u001B[0m\u001B[0;34m,\u001B[0m \u001B[0mexclude\u001B[0m\u001B[0;34m=\u001B[0m\u001B[0mexclude\u001B[0m\u001B[0;34m)\u001B[0m\u001B[0;34m\u001B[0m\u001B[0;34m\u001B[0m\u001B[0m\n\u001B[0m\u001B[1;32m    971\u001B[0m             \u001B[0;32mreturn\u001B[0m \u001B[0;32mNone\u001B[0m\u001B[0;34m\u001B[0m\u001B[0;34m\u001B[0m\u001B[0m\n\u001B[1;32m    972\u001B[0m         \u001B[0;32melse\u001B[0m\u001B[0;34m:\u001B[0m\u001B[0;34m\u001B[0m\u001B[0;34m\u001B[0m\u001B[0m\n",
      "\u001B[0;32m~/anaconda3/lib/python3.8/site-packages/IPython/core/display.py\u001B[0m in \u001B[0;36m_repr_mimebundle_\u001B[0;34m(self, include, exclude)\u001B[0m\n\u001B[1;32m   1281\u001B[0m         \u001B[0;32mif\u001B[0m \u001B[0mself\u001B[0m\u001B[0;34m.\u001B[0m\u001B[0membed\u001B[0m\u001B[0;34m:\u001B[0m\u001B[0;34m\u001B[0m\u001B[0;34m\u001B[0m\u001B[0m\n\u001B[1;32m   1282\u001B[0m             \u001B[0mmimetype\u001B[0m \u001B[0;34m=\u001B[0m \u001B[0mself\u001B[0m\u001B[0;34m.\u001B[0m\u001B[0m_mimetype\u001B[0m\u001B[0;34m\u001B[0m\u001B[0;34m\u001B[0m\u001B[0m\n\u001B[0;32m-> 1283\u001B[0;31m             \u001B[0mdata\u001B[0m\u001B[0;34m,\u001B[0m \u001B[0mmetadata\u001B[0m \u001B[0;34m=\u001B[0m \u001B[0mself\u001B[0m\u001B[0;34m.\u001B[0m\u001B[0m_data_and_metadata\u001B[0m\u001B[0;34m(\u001B[0m\u001B[0malways_both\u001B[0m\u001B[0;34m=\u001B[0m\u001B[0;32mTrue\u001B[0m\u001B[0;34m)\u001B[0m\u001B[0;34m\u001B[0m\u001B[0;34m\u001B[0m\u001B[0m\n\u001B[0m\u001B[1;32m   1284\u001B[0m             \u001B[0;32mif\u001B[0m \u001B[0mmetadata\u001B[0m\u001B[0;34m:\u001B[0m\u001B[0;34m\u001B[0m\u001B[0;34m\u001B[0m\u001B[0m\n\u001B[1;32m   1285\u001B[0m                 \u001B[0mmetadata\u001B[0m \u001B[0;34m=\u001B[0m \u001B[0;34m{\u001B[0m\u001B[0mmimetype\u001B[0m\u001B[0;34m:\u001B[0m \u001B[0mmetadata\u001B[0m\u001B[0;34m}\u001B[0m\u001B[0;34m\u001B[0m\u001B[0;34m\u001B[0m\u001B[0m\n",
      "\u001B[0;32m~/anaconda3/lib/python3.8/site-packages/IPython/core/display.py\u001B[0m in \u001B[0;36m_data_and_metadata\u001B[0;34m(self, always_both)\u001B[0m\n\u001B[1;32m   1293\u001B[0m             \u001B[0mb64_data\u001B[0m \u001B[0;34m=\u001B[0m \u001B[0mb2a_base64\u001B[0m\u001B[0;34m(\u001B[0m\u001B[0mself\u001B[0m\u001B[0;34m.\u001B[0m\u001B[0mdata\u001B[0m\u001B[0;34m)\u001B[0m\u001B[0;34m.\u001B[0m\u001B[0mdecode\u001B[0m\u001B[0;34m(\u001B[0m\u001B[0;34m'ascii'\u001B[0m\u001B[0;34m)\u001B[0m\u001B[0;34m\u001B[0m\u001B[0;34m\u001B[0m\u001B[0m\n\u001B[1;32m   1294\u001B[0m         \u001B[0;32mexcept\u001B[0m \u001B[0mTypeError\u001B[0m\u001B[0;34m:\u001B[0m\u001B[0;34m\u001B[0m\u001B[0;34m\u001B[0m\u001B[0m\n\u001B[0;32m-> 1295\u001B[0;31m             raise FileNotFoundError(\n\u001B[0m\u001B[1;32m   1296\u001B[0m                 \"No such file or directory: '%s'\" % (self.data))\n\u001B[1;32m   1297\u001B[0m         \u001B[0mmd\u001B[0m \u001B[0;34m=\u001B[0m \u001B[0;34m{\u001B[0m\u001B[0;34m}\u001B[0m\u001B[0;34m\u001B[0m\u001B[0;34m\u001B[0m\u001B[0m\n",
      "\u001B[0;31mFileNotFoundError\u001B[0m: No such file or directory: './ml_map.png'"
     ]
    },
    {
     "ename": "FileNotFoundError",
     "evalue": "No such file or directory: './ml_map.png'",
     "output_type": "error",
     "traceback": [
      "\u001B[0;31m---------------------------------------------------------------------------\u001B[0m",
      "\u001B[0;31mTypeError\u001B[0m                                 Traceback (most recent call last)",
      "\u001B[0;32m~/anaconda3/lib/python3.8/site-packages/IPython/core/display.py\u001B[0m in \u001B[0;36m_data_and_metadata\u001B[0;34m(self, always_both)\u001B[0m\n\u001B[1;32m   1292\u001B[0m         \u001B[0;32mtry\u001B[0m\u001B[0;34m:\u001B[0m\u001B[0;34m\u001B[0m\u001B[0;34m\u001B[0m\u001B[0m\n\u001B[0;32m-> 1293\u001B[0;31m             \u001B[0mb64_data\u001B[0m \u001B[0;34m=\u001B[0m \u001B[0mb2a_base64\u001B[0m\u001B[0;34m(\u001B[0m\u001B[0mself\u001B[0m\u001B[0;34m.\u001B[0m\u001B[0mdata\u001B[0m\u001B[0;34m)\u001B[0m\u001B[0;34m.\u001B[0m\u001B[0mdecode\u001B[0m\u001B[0;34m(\u001B[0m\u001B[0;34m'ascii'\u001B[0m\u001B[0;34m)\u001B[0m\u001B[0;34m\u001B[0m\u001B[0;34m\u001B[0m\u001B[0m\n\u001B[0m\u001B[1;32m   1294\u001B[0m         \u001B[0;32mexcept\u001B[0m \u001B[0mTypeError\u001B[0m\u001B[0;34m:\u001B[0m\u001B[0;34m\u001B[0m\u001B[0;34m\u001B[0m\u001B[0m\n",
      "\u001B[0;31mTypeError\u001B[0m: a bytes-like object is required, not 'str'",
      "\nDuring handling of the above exception, another exception occurred:\n",
      "\u001B[0;31mFileNotFoundError\u001B[0m                         Traceback (most recent call last)",
      "\u001B[0;32m~/anaconda3/lib/python3.8/site-packages/IPython/core/formatters.py\u001B[0m in \u001B[0;36m__call__\u001B[0;34m(self, obj)\u001B[0m\n\u001B[1;32m    343\u001B[0m             \u001B[0mmethod\u001B[0m \u001B[0;34m=\u001B[0m \u001B[0mget_real_method\u001B[0m\u001B[0;34m(\u001B[0m\u001B[0mobj\u001B[0m\u001B[0;34m,\u001B[0m \u001B[0mself\u001B[0m\u001B[0;34m.\u001B[0m\u001B[0mprint_method\u001B[0m\u001B[0;34m)\u001B[0m\u001B[0;34m\u001B[0m\u001B[0;34m\u001B[0m\u001B[0m\n\u001B[1;32m    344\u001B[0m             \u001B[0;32mif\u001B[0m \u001B[0mmethod\u001B[0m \u001B[0;32mis\u001B[0m \u001B[0;32mnot\u001B[0m \u001B[0;32mNone\u001B[0m\u001B[0;34m:\u001B[0m\u001B[0;34m\u001B[0m\u001B[0;34m\u001B[0m\u001B[0m\n\u001B[0;32m--> 345\u001B[0;31m                 \u001B[0;32mreturn\u001B[0m \u001B[0mmethod\u001B[0m\u001B[0;34m(\u001B[0m\u001B[0;34m)\u001B[0m\u001B[0;34m\u001B[0m\u001B[0;34m\u001B[0m\u001B[0m\n\u001B[0m\u001B[1;32m    346\u001B[0m             \u001B[0;32mreturn\u001B[0m \u001B[0;32mNone\u001B[0m\u001B[0;34m\u001B[0m\u001B[0;34m\u001B[0m\u001B[0m\n\u001B[1;32m    347\u001B[0m         \u001B[0;32melse\u001B[0m\u001B[0;34m:\u001B[0m\u001B[0;34m\u001B[0m\u001B[0;34m\u001B[0m\u001B[0m\n",
      "\u001B[0;32m~/anaconda3/lib/python3.8/site-packages/IPython/core/display.py\u001B[0m in \u001B[0;36m_repr_png_\u001B[0;34m(self)\u001B[0m\n\u001B[1;32m   1311\u001B[0m     \u001B[0;32mdef\u001B[0m \u001B[0m_repr_png_\u001B[0m\u001B[0;34m(\u001B[0m\u001B[0mself\u001B[0m\u001B[0;34m)\u001B[0m\u001B[0;34m:\u001B[0m\u001B[0;34m\u001B[0m\u001B[0;34m\u001B[0m\u001B[0m\n\u001B[1;32m   1312\u001B[0m         \u001B[0;32mif\u001B[0m \u001B[0mself\u001B[0m\u001B[0;34m.\u001B[0m\u001B[0membed\u001B[0m \u001B[0;32mand\u001B[0m \u001B[0mself\u001B[0m\u001B[0;34m.\u001B[0m\u001B[0mformat\u001B[0m \u001B[0;34m==\u001B[0m \u001B[0mself\u001B[0m\u001B[0;34m.\u001B[0m\u001B[0m_FMT_PNG\u001B[0m\u001B[0;34m:\u001B[0m\u001B[0;34m\u001B[0m\u001B[0;34m\u001B[0m\u001B[0m\n\u001B[0;32m-> 1313\u001B[0;31m             \u001B[0;32mreturn\u001B[0m \u001B[0mself\u001B[0m\u001B[0;34m.\u001B[0m\u001B[0m_data_and_metadata\u001B[0m\u001B[0;34m(\u001B[0m\u001B[0;34m)\u001B[0m\u001B[0;34m\u001B[0m\u001B[0;34m\u001B[0m\u001B[0m\n\u001B[0m\u001B[1;32m   1314\u001B[0m \u001B[0;34m\u001B[0m\u001B[0m\n\u001B[1;32m   1315\u001B[0m     \u001B[0;32mdef\u001B[0m \u001B[0m_repr_jpeg_\u001B[0m\u001B[0;34m(\u001B[0m\u001B[0mself\u001B[0m\u001B[0;34m)\u001B[0m\u001B[0;34m:\u001B[0m\u001B[0;34m\u001B[0m\u001B[0;34m\u001B[0m\u001B[0m\n",
      "\u001B[0;32m~/anaconda3/lib/python3.8/site-packages/IPython/core/display.py\u001B[0m in \u001B[0;36m_data_and_metadata\u001B[0;34m(self, always_both)\u001B[0m\n\u001B[1;32m   1293\u001B[0m             \u001B[0mb64_data\u001B[0m \u001B[0;34m=\u001B[0m \u001B[0mb2a_base64\u001B[0m\u001B[0;34m(\u001B[0m\u001B[0mself\u001B[0m\u001B[0;34m.\u001B[0m\u001B[0mdata\u001B[0m\u001B[0;34m)\u001B[0m\u001B[0;34m.\u001B[0m\u001B[0mdecode\u001B[0m\u001B[0;34m(\u001B[0m\u001B[0;34m'ascii'\u001B[0m\u001B[0;34m)\u001B[0m\u001B[0;34m\u001B[0m\u001B[0;34m\u001B[0m\u001B[0m\n\u001B[1;32m   1294\u001B[0m         \u001B[0;32mexcept\u001B[0m \u001B[0mTypeError\u001B[0m\u001B[0;34m:\u001B[0m\u001B[0;34m\u001B[0m\u001B[0;34m\u001B[0m\u001B[0m\n\u001B[0;32m-> 1295\u001B[0;31m             raise FileNotFoundError(\n\u001B[0m\u001B[1;32m   1296\u001B[0m                 \"No such file or directory: '%s'\" % (self.data))\n\u001B[1;32m   1297\u001B[0m         \u001B[0mmd\u001B[0m \u001B[0;34m=\u001B[0m \u001B[0;34m{\u001B[0m\u001B[0;34m}\u001B[0m\u001B[0;34m\u001B[0m\u001B[0;34m\u001B[0m\u001B[0m\n",
      "\u001B[0;31mFileNotFoundError\u001B[0m: No such file or directory: './ml_map.png'"
     ]
    },
    {
     "data": {
      "text/plain": "<IPython.core.display.Image object>"
     },
     "execution_count": 3,
     "metadata": {},
     "output_type": "execute_result"
    }
   ],
   "source": [
    "# Source: https://scikit-learn.org/stable/tutorial/machine_learning_map/index.html\n",
    "Image('./ml_map.png')"
   ]
  },
  {
   "cell_type": "markdown",
   "id": "caa74713",
   "metadata": {},
   "source": [
    "Стоит сказать, что данная таблица служит скорее в качестве базовой рекоммендации и не гарантирует идеального решения Вашей задачи."
   ]
  },
  {
   "cell_type": "markdown",
   "id": "c9cdd057",
   "metadata": {},
   "source": [
    "# Что значит \"как можно лучше аппроксимирует\"?"
   ]
  },
  {
   "cell_type": "markdown",
   "id": "f53f99c9",
   "metadata": {},
   "source": [
    "После того, как алгоритм выбран и обучен на тренировочных данных, необходимо понять, насколько \"хорошо\" он работает на новых данных."
   ]
  },
  {
   "cell_type": "markdown",
   "id": "eb8e8a16",
   "metadata": {},
   "source": [
    "Вопрос:\n",
    "- Зачем это делать?\n",
    "\n",
    "Чтобы понять, как этот алгоритм будет вести себя в боевых условиях. Грубо говоря, необходимо проверить адекватность обощающей способности полученного решения"
   ]
  },
  {
   "cell_type": "markdown",
   "id": "545dbae2",
   "metadata": {},
   "source": [
    "## Недообучение и переобучение"
   ]
  },
  {
   "cell_type": "markdown",
   "id": "4d5e4f02",
   "metadata": {},
   "source": [
    "Рассмотрим простой пример: попробуем аппроксимировать некую заданую заранее функцию $f$ полиномами различного порядка."
   ]
  },
  {
   "cell_type": "code",
   "execution_count": 4,
   "id": "d4d708b0",
   "metadata": {},
   "outputs": [],
   "source": [
    "import numpy as np\n",
    "\n",
    "def f(x):\n",
    "    \"\"\"\n",
    "    Функция, которую необходимо аппроксимировать алгоритмом (допустим, мы её не знаем)\n",
    "    \"\"\"\n",
    "    return x ** 3 + 2 * (x + 4) ** 2 + 7 * (x - 5)\n",
    "\n",
    "# Генерируем данные и делим их на тренировочные и валидационные\n",
    "X = np.linspace(-10, 10, 30)\n",
    "np.random.shuffle(X)\n",
    "\n",
    "# Делим на тренировочные и тестовые данные\n",
    "# В реальности для этого есть ряд других способов по разделению данных\n",
    "# Но для базового примера я решил не усложнять\n",
    "\n",
    "X_train = X[:-15]\n",
    "y_train = f(X_train)\n",
    "\n",
    "X_test = X[-15:]\n",
    "y_test = f(X_test)"
   ]
  },
  {
   "cell_type": "markdown",
   "id": "a7eea5ce",
   "metadata": {},
   "source": [
    "Взглянем на исходные данные"
   ]
  },
  {
   "cell_type": "code",
   "execution_count": 5,
   "id": "28a44b9c",
   "metadata": {},
   "outputs": [
    {
     "data": {
      "text/plain": "<Figure size 432x288 with 1 Axes>",
      "image/png": "[encoded data removed]"
     },
     "metadata": {
      "needs_background": "light"
     },
     "output_type": "display_data"
    }
   ],
   "source": [
    "import matplotlib.pyplot as plt\n",
    "\n",
    "plt.scatter(X_train, y_train, label='train')\n",
    "plt.scatter(X_test, y_test, label='test')\n",
    "plt.legend();"
   ]
  },
  {
   "cell_type": "code",
   "execution_count": 6,
   "id": "bb9f734b",
   "metadata": {},
   "outputs": [],
   "source": [
    "def get_results(x, a):\n",
    "    \"\"\"\n",
    "    Вычисление значения метки для объектов на основе алгоритма\n",
    "    \"\"\"\n",
    "    result = a[-1]\n",
    "    for idx in range(len(a) - 1):\n",
    "        result += x ** (len(a) - 1 - idx) * a[idx]\n",
    "    return result\n",
    "\n",
    "# Обучаем три различные модели: полиномы различной степени \n",
    "# Чем выше степень полинома, тем мощнее с предсказательно точки зрения считается модель\n",
    "\n",
    "small_model = np.polyfit(X_train, y_train, 1)\n",
    "medium_model = np.polyfit(X_train, y_train, 3)\n",
    "large_model = np.polyfit(X_train, y_train, 14)"
   ]
  },
  {
   "cell_type": "markdown",
   "id": "e65bb23a",
   "metadata": {},
   "source": [
    "Рассмотрим поведение алгоритмов на тренировочных данных"
   ]
  },
  {
   "cell_type": "code",
   "execution_count": 7,
   "id": "4b239a64",
   "metadata": {},
   "outputs": [
    {
     "data": {
      "text/plain": "<matplotlib.legend.Legend at 0x7fc58a997b20>"
     },
     "execution_count": 7,
     "metadata": {},
     "output_type": "execute_result"
    },
    {
     "data": {
      "text/plain": "<Figure size 1008x432 with 3 Axes>",
      "image/png": "[encoded data removed]"
     },
     "metadata": {
      "needs_background": "light"
     },
     "output_type": "display_data"
    }
   ],
   "source": [
    "plt.figure(figsize=(14, 6))\n",
    "\n",
    "ax = plt.subplot(131)\n",
    "ax.set_title('Small')\n",
    "ax.scatter(X_train, y_train, label='real', s=100)\n",
    "ax.scatter(X_train, get_results(X_train, small_model), label='small', s=40)\n",
    "ax.legend()\n",
    "\n",
    "ax = plt.subplot(132)\n",
    "ax.set_title('Medium')\n",
    "ax.scatter(X_train, y_train, label='real', s=100)\n",
    "ax.scatter(X_train, get_results(X_train, medium_model), label='medium', s=40)\n",
    "ax.legend()\n",
    "\n",
    "ax = plt.subplot(133)\n",
    "ax.set_title('Large')\n",
    "ax.scatter(X_train, y_train, label='real', s=100)\n",
    "ax.scatter(X_train, get_results(X_train, large_model), label='large', s=40)\n",
    "ax.legend()"
   ]
  },
  {
   "cell_type": "code",
   "execution_count": 8,
   "id": "be1ca249",
   "metadata": {},
   "outputs": [
    {
     "name": "stdout",
     "output_type": "stream",
     "text": [
      "Leaderboard:\n",
      "1. Large: 4.0454470122997955e-26\n",
      "2. Medium: 2.4485232756101524e-25\n",
      "3. Small: 20426.498168114584\n"
     ]
    }
   ],
   "source": [
    "def compute_mse(X, y, a):\n",
    "    \"\"\"\n",
    "    Вычисление MeanSquaredError\n",
    "    X - данные\n",
    "    y - соответствующая им метка\n",
    "    a - алгоритм\n",
    "    \"\"\"\n",
    "    y_pred = get_results(X, a)\n",
    "    return np.mean((y - y_pred) ** 2)\n",
    "\n",
    "small_score = compute_mse(X_train, y_train, small_model)\n",
    "medium_score = compute_mse(X_train, y_train, medium_model)\n",
    "large_score = compute_mse(X_train, y_train, large_model)\n",
    "\n",
    "# Выведем алгоритмы по убыванию качества их работы\n",
    "leaderboard = sorted([\n",
    "    ('Small', small_score),\n",
    "    ('Medium', medium_score),\n",
    "    ('Large', large_score)\n",
    "], key=lambda pair: pair[1])\n",
    "\n",
    "print('Leaderboard:')\n",
    "for idx, (leader_name, leader_score) in enumerate(leaderboard):\n",
    "    print(f'{idx + 1}. {leader_name}: {leader_score}')"
   ]
  },
  {
   "cell_type": "markdown",
   "id": "5a33f089",
   "metadata": {},
   "source": [
    "На тренировочных данных самая мощная и средняя модели показывает наименьшую ошибку. Проверим теперь те же алгоритмы на валидационных (тестовых) данных."
   ]
  },
  {
   "cell_type": "markdown",
   "id": "acd84d43",
   "metadata": {},
   "source": [
    "Мы ожидаем получить такое же качество алгоритма, что и на тренировочном множестве. Именно результат работы на тестовом/валидационном множестве будут говорит нам, насколько \"хорошо\" обученный алгоритм аппроксимирует зависимость $f$"
   ]
  },
  {
   "cell_type": "code",
   "execution_count": 9,
   "id": "062ea4c6",
   "metadata": {},
   "outputs": [
    {
     "data": {
      "text/plain": "<matplotlib.legend.Legend at 0x7fc58a88b430>"
     },
     "execution_count": 9,
     "metadata": {},
     "output_type": "execute_result"
    },
    {
     "data": {
      "text/plain": "<Figure size 1008x432 with 3 Axes>",
      "image/png": "[encoded data removed]"
     },
     "metadata": {
      "needs_background": "light"
     },
     "output_type": "display_data"
    }
   ],
   "source": [
    "plt.figure(figsize=(14, 6))\n",
    "\n",
    "ax = plt.subplot(131)\n",
    "ax.set_title('Small')\n",
    "ax.scatter(X_test, y_test, label='real', s=100)\n",
    "ax.scatter(X_test, get_results(X_test, small_model), label='small', s=40)\n",
    "ax.legend()\n",
    "\n",
    "ax = plt.subplot(132)\n",
    "ax.set_title('Medium')\n",
    "ax.scatter(X_test, y_test, label='real', s=100)\n",
    "ax.scatter(X_test, get_results(X_test, medium_model), label='medium', s=40)\n",
    "ax.legend()\n",
    "\n",
    "ax = plt.subplot(133)\n",
    "ax.set_title('Large')\n",
    "ax.scatter(X_test, y_test, label='real', s=100)\n",
    "ax.scatter(X_test, get_results(X_test, large_model), label='large', s=40)\n",
    "ax.legend()"
   ]
  },
  {
   "cell_type": "code",
   "execution_count": 10,
   "id": "e9d0540f",
   "metadata": {},
   "outputs": [
    {
     "name": "stdout",
     "output_type": "stream",
     "text": [
      "Leaderboard:\n",
      "1. Medium: 2.724083959763795e-25\n",
      "2. Large: 5.3615630593921805e-21\n",
      "3. Small: 46275.978853037006\n"
     ]
    }
   ],
   "source": [
    "small_score = compute_mse(X_test, y_test, small_model)\n",
    "medium_score = compute_mse(X_test, y_test, medium_model)\n",
    "large_score = compute_mse(X_test, y_test, large_model)\n",
    "\n",
    "# Выведем алгоритмы по убыванию качества их работы\n",
    "leaderboard = sorted([\n",
    "    ('Small', small_score),\n",
    "    ('Medium', medium_score),\n",
    "    ('Large', large_score)\n",
    "], key=lambda pair: pair[1])\n",
    "\n",
    "print('Leaderboard:')\n",
    "for idx, (leader_name, leader_score) in enumerate(leaderboard):\n",
    "    print(f'{idx + 1}. {leader_name}: {leader_score}')"
   ]
  },
  {
   "cell_type": "markdown",
   "id": "98437ba3",
   "metadata": {},
   "source": [
    "Заметим, что теперь самая мощная модель имеет ошибку, большу чем более простая модель. Хоть в данном примере полученная разница и незначительна, но на основе этого можно сделать следующие выводы:\n",
    "\n",
    "- чем мощнее модель, тем больше она подвержена переобучению\n",
    "- в некоторых случаях, задачу можно решить не прибегая к использованию нейронных сетей и бустингов (об этом далее в курсе)\n",
    "- необходимо сохранять баланс между вычислительной мощностью и сложностью модели"
   ]
  },
  {
   "cell_type": "markdown",
   "id": "83cc36bf",
   "metadata": {},
   "source": [
    "# Практическая  часть\n",
    "\n",
    "Рассмотрим решения двух задач обучения с учителем: классификации и регрессии "
   ]
  },
  {
   "cell_type": "code",
   "execution_count": 11,
   "id": "cd7766e3",
   "metadata": {},
   "outputs": [],
   "source": [
    "# Импорт базовых библиотек\n",
    "import numpy as np\n",
    "import pandas as pd\n",
    "\n",
    "# Визуализация\n",
    "\n",
    "import seaborn as sns\n",
    "import matplotlib.pyplot as plt\n",
    "\n",
    "# Датасеты\n",
    "from sklearn.datasets import load_iris  # для классификации\n",
    "from sklearn.datasets import load_boston  # для регрессии\n",
    "\n",
    "# Utils\n",
    "from sklearn.model_selection import train_test_split, cross_val_score\n",
    "\n",
    "# Модели (классификация)\n",
    "from sklearn.neighbors import KNeighborsClassifier\n",
    "from sklearn.ensemble import RandomForestClassifier\n",
    "from sklearn.svm import SVC\n",
    "\n",
    "# Модели (регрессия)\n",
    "from sklearn.linear_model import LinearRegression, Ridge\n",
    "from sklearn.ensemble import RandomForestRegressor\n",
    "from sklearn.svm import SVR\n",
    "\n",
    "# Метрики\n",
    "from sklearn.metrics import accuracy_score, precision_score, recall_score, f1_score, roc_auc_score  # для классификации\n",
    "from sklearn.metrics import mean_absolute_error, mean_squared_error  # для регрессии\n",
    "\n",
    "# Misc\n",
    "from sklearn.manifold import TSNE\n",
    "\n",
    "%matplotlib inline"
   ]
  },
  {
   "cell_type": "markdown",
   "id": "74305a64",
   "metadata": {},
   "source": [
    "# Классификация"
   ]
  },
  {
   "cell_type": "code",
   "execution_count": 12,
   "id": "fe89e279",
   "metadata": {},
   "outputs": [
    {
     "data": {
      "text/plain": "['DESCR',\n 'data',\n 'feature_names',\n 'filename',\n 'frame',\n 'target',\n 'target_names']"
     },
     "execution_count": 12,
     "metadata": {},
     "output_type": "execute_result"
    }
   ],
   "source": [
    "# Загрузим данные\n",
    "from sklearn.datasets import load_iris\n",
    "data = load_iris()\n",
    "dir(data)"
   ]
  },
  {
   "cell_type": "code",
   "execution_count": 13,
   "id": "1b8e83c3",
   "metadata": {},
   "outputs": [
    {
     "data": {
      "text/plain": "sklearn.utils.Bunch"
     },
     "execution_count": 13,
     "metadata": {},
     "output_type": "execute_result"
    }
   ],
   "source": [
    "type(data)"
   ]
  },
  {
   "cell_type": "code",
   "execution_count": 14,
   "id": "c3ac7b44",
   "metadata": {},
   "outputs": [
    {
     "name": "stdout",
     "output_type": "stream",
     "text": [
      "Type X: <class 'numpy.ndarray'>, X shape: (150, 4)\n",
      "Type y: <class 'numpy.ndarray'>, y shape: (150,)\n",
      "['sepal length (cm)', 'sepal width (cm)', 'petal length (cm)', 'petal width (cm)']\n"
     ]
    }
   ],
   "source": [
    "# Явно \"достанем\" из данных объекты и метки\n",
    "\n",
    "X = data.data\n",
    "y = data.target\n",
    "\n",
    "print(f'Type X: {type(X)}, X shape: {X.shape}')\n",
    "print(f'Type y: {type(y)}, y shape: {y.shape}')\n",
    "print(data.feature_names)"
   ]
  },
  {
   "cell_type": "code",
   "execution_count": 15,
   "id": "adf40045",
   "metadata": {
    "scrolled": true
   },
   "outputs": [
    {
     "data": {
      "text/plain": "   sepal length (cm)  sepal width (cm)  petal length (cm)  petal width (cm)  \\\n0                5.1               3.5                1.4               0.2   \n1                4.9               3.0                1.4               0.2   \n2                4.7               3.2                1.3               0.2   \n3                4.6               3.1                1.5               0.2   \n4                5.0               3.6                1.4               0.2   \n\n   target  \n0     0.0  \n1     0.0  \n2     0.0  \n3     0.0  \n4     0.0  ",
      "text/html": "<div>\n<style scoped>\n    .dataframe tbody tr th:only-of-type {\n        vertical-align: middle;\n    }\n\n    .dataframe tbody tr th {\n        vertical-align: top;\n    }\n\n    .dataframe thead th {\n        text-align: right;\n    }\n</style>\n<table border=\"1\" class=\"dataframe\">\n  <thead>\n    <tr style=\"text-align: right;\">\n      <th></th>\n      <th>sepal length (cm)</th>\n      <th>sepal width (cm)</th>\n      <th>petal length (cm)</th>\n      <th>petal width (cm)</th>\n      <th>target</th>\n    </tr>\n  </thead>\n  <tbody>\n    <tr>\n      <th>0</th>\n      <td>5.1</td>\n      <td>3.5</td>\n      <td>1.4</td>\n      <td>0.2</td>\n      <td>0.0</td>\n    </tr>\n    <tr>\n      <th>1</th>\n      <td>4.9</td>\n      <td>3.0</td>\n      <td>1.4</td>\n      <td>0.2</td>\n      <td>0.0</td>\n    </tr>\n    <tr>\n      <th>2</th>\n      <td>4.7</td>\n      <td>3.2</td>\n      <td>1.3</td>\n      <td>0.2</td>\n      <td>0.0</td>\n    </tr>\n    <tr>\n      <th>3</th>\n      <td>4.6</td>\n      <td>3.1</td>\n      <td>1.5</td>\n      <td>0.2</td>\n      <td>0.0</td>\n    </tr>\n    <tr>\n      <th>4</th>\n      <td>5.0</td>\n      <td>3.6</td>\n      <td>1.4</td>\n      <td>0.2</td>\n      <td>0.0</td>\n    </tr>\n  </tbody>\n</table>\n</div>"
     },
     "execution_count": 15,
     "metadata": {},
     "output_type": "execute_result"
    }
   ],
   "source": [
    "# Создадим pd.DataFrame из данных для дальнейшего анализа\n",
    "import pandas as pd\n",
    "full_data = np.concatenate([X, np.reshape(y, (y.shape[0], 1))], axis=1)\n",
    "\n",
    "df = pd.DataFrame(full_data, columns=data.feature_names + ['target'])\n",
    "df.head()"
   ]
  },
  {
   "cell_type": "code",
   "execution_count": 16,
   "id": "be810c3a",
   "metadata": {},
   "outputs": [
    {
     "ename": "TypeError",
     "evalue": "Cannot interpret '<attribute 'dtype' of 'numpy.generic' objects>' as a data type",
     "output_type": "error",
     "traceback": [
      "\u001B[0;31m---------------------------------------------------------------------------\u001B[0m",
      "\u001B[0;31mTypeError\u001B[0m                                 Traceback (most recent call last)",
      "\u001B[0;32m<ipython-input-16-ead876af8069>\u001B[0m in \u001B[0;36m<module>\u001B[0;34m\u001B[0m\n\u001B[1;32m      1\u001B[0m \u001B[0;31m# Получим информацию о типах данных и наличии/отсутствии пропусков\u001B[0m\u001B[0;34m\u001B[0m\u001B[0;34m\u001B[0m\u001B[0;34m\u001B[0m\u001B[0m\n\u001B[1;32m      2\u001B[0m \u001B[0;34m\u001B[0m\u001B[0m\n\u001B[0;32m----> 3\u001B[0;31m \u001B[0mdf\u001B[0m\u001B[0;34m.\u001B[0m\u001B[0minfo\u001B[0m\u001B[0;34m(\u001B[0m\u001B[0;34m)\u001B[0m\u001B[0;34m\u001B[0m\u001B[0;34m\u001B[0m\u001B[0m\n\u001B[0m",
      "\u001B[0;32m~/anaconda3/lib/python3.8/site-packages/pandas/core/frame.py\u001B[0m in \u001B[0;36minfo\u001B[0;34m(self, verbose, buf, max_cols, memory_usage, null_counts)\u001B[0m\n\u001B[1;32m   2570\u001B[0m                 \u001B[0;32mif\u001B[0m \u001B[0;34m\"object\"\u001B[0m \u001B[0;32min\u001B[0m \u001B[0mcounts\u001B[0m \u001B[0;32mor\u001B[0m \u001B[0mself\u001B[0m\u001B[0;34m.\u001B[0m\u001B[0mindex\u001B[0m\u001B[0;34m.\u001B[0m\u001B[0m_is_memory_usage_qualified\u001B[0m\u001B[0;34m(\u001B[0m\u001B[0;34m)\u001B[0m\u001B[0;34m:\u001B[0m\u001B[0;34m\u001B[0m\u001B[0;34m\u001B[0m\u001B[0m\n\u001B[1;32m   2571\u001B[0m                     \u001B[0msize_qualifier\u001B[0m \u001B[0;34m=\u001B[0m \u001B[0;34m\"+\"\u001B[0m\u001B[0;34m\u001B[0m\u001B[0;34m\u001B[0m\u001B[0m\n\u001B[0;32m-> 2572\u001B[0;31m             \u001B[0mmem_usage\u001B[0m \u001B[0;34m=\u001B[0m \u001B[0mself\u001B[0m\u001B[0;34m.\u001B[0m\u001B[0mmemory_usage\u001B[0m\u001B[0;34m(\u001B[0m\u001B[0mindex\u001B[0m\u001B[0;34m=\u001B[0m\u001B[0;32mTrue\u001B[0m\u001B[0;34m,\u001B[0m \u001B[0mdeep\u001B[0m\u001B[0;34m=\u001B[0m\u001B[0mdeep\u001B[0m\u001B[0;34m)\u001B[0m\u001B[0;34m.\u001B[0m\u001B[0msum\u001B[0m\u001B[0;34m(\u001B[0m\u001B[0;34m)\u001B[0m\u001B[0;34m\u001B[0m\u001B[0;34m\u001B[0m\u001B[0m\n\u001B[0m\u001B[1;32m   2573\u001B[0m             lines.append(\n\u001B[1;32m   2574\u001B[0m                 \"memory usage: {mem}\\n\".format(\n",
      "\u001B[0;32m~/anaconda3/lib/python3.8/site-packages/pandas/core/frame.py\u001B[0m in \u001B[0;36mmemory_usage\u001B[0;34m(self, index, deep)\u001B[0m\n\u001B[1;32m   2668\u001B[0m         )\n\u001B[1;32m   2669\u001B[0m         \u001B[0;32mif\u001B[0m \u001B[0mindex\u001B[0m\u001B[0;34m:\u001B[0m\u001B[0;34m\u001B[0m\u001B[0;34m\u001B[0m\u001B[0m\n\u001B[0;32m-> 2670\u001B[0;31m             result = Series(self.index.memory_usage(deep=deep), index=[\"Index\"]).append(\n\u001B[0m\u001B[1;32m   2671\u001B[0m                 \u001B[0mresult\u001B[0m\u001B[0;34m\u001B[0m\u001B[0;34m\u001B[0m\u001B[0m\n\u001B[1;32m   2672\u001B[0m             )\n",
      "\u001B[0;32m~/anaconda3/lib/python3.8/site-packages/pandas/core/series.py\u001B[0m in \u001B[0;36m__init__\u001B[0;34m(self, data, index, dtype, name, copy, fastpath)\u001B[0m\n\u001B[1;32m    312\u001B[0m                     \u001B[0mdata\u001B[0m \u001B[0;34m=\u001B[0m \u001B[0mdata\u001B[0m\u001B[0;34m.\u001B[0m\u001B[0mcopy\u001B[0m\u001B[0;34m(\u001B[0m\u001B[0;34m)\u001B[0m\u001B[0;34m\u001B[0m\u001B[0;34m\u001B[0m\u001B[0m\n\u001B[1;32m    313\u001B[0m             \u001B[0;32melse\u001B[0m\u001B[0;34m:\u001B[0m\u001B[0;34m\u001B[0m\u001B[0;34m\u001B[0m\u001B[0m\n\u001B[0;32m--> 314\u001B[0;31m                 \u001B[0mdata\u001B[0m \u001B[0;34m=\u001B[0m \u001B[0msanitize_array\u001B[0m\u001B[0;34m(\u001B[0m\u001B[0mdata\u001B[0m\u001B[0;34m,\u001B[0m \u001B[0mindex\u001B[0m\u001B[0;34m,\u001B[0m \u001B[0mdtype\u001B[0m\u001B[0;34m,\u001B[0m \u001B[0mcopy\u001B[0m\u001B[0;34m,\u001B[0m \u001B[0mraise_cast_failure\u001B[0m\u001B[0;34m=\u001B[0m\u001B[0;32mTrue\u001B[0m\u001B[0;34m)\u001B[0m\u001B[0;34m\u001B[0m\u001B[0;34m\u001B[0m\u001B[0m\n\u001B[0m\u001B[1;32m    315\u001B[0m \u001B[0;34m\u001B[0m\u001B[0m\n\u001B[1;32m    316\u001B[0m                 \u001B[0mdata\u001B[0m \u001B[0;34m=\u001B[0m \u001B[0mSingleBlockManager\u001B[0m\u001B[0;34m(\u001B[0m\u001B[0mdata\u001B[0m\u001B[0;34m,\u001B[0m \u001B[0mindex\u001B[0m\u001B[0;34m,\u001B[0m \u001B[0mfastpath\u001B[0m\u001B[0;34m=\u001B[0m\u001B[0;32mTrue\u001B[0m\u001B[0;34m)\u001B[0m\u001B[0;34m\u001B[0m\u001B[0;34m\u001B[0m\u001B[0m\n",
      "\u001B[0;32m~/anaconda3/lib/python3.8/site-packages/pandas/core/internals/construction.py\u001B[0m in \u001B[0;36msanitize_array\u001B[0;34m(data, index, dtype, copy, raise_cast_failure)\u001B[0m\n\u001B[1;32m    710\u001B[0m                 \u001B[0mvalue\u001B[0m \u001B[0;34m=\u001B[0m \u001B[0mmaybe_cast_to_datetime\u001B[0m\u001B[0;34m(\u001B[0m\u001B[0mvalue\u001B[0m\u001B[0;34m,\u001B[0m \u001B[0mdtype\u001B[0m\u001B[0;34m)\u001B[0m\u001B[0;34m\u001B[0m\u001B[0;34m\u001B[0m\u001B[0m\n\u001B[1;32m    711\u001B[0m \u001B[0;34m\u001B[0m\u001B[0m\n\u001B[0;32m--> 712\u001B[0;31m             \u001B[0msubarr\u001B[0m \u001B[0;34m=\u001B[0m \u001B[0mconstruct_1d_arraylike_from_scalar\u001B[0m\u001B[0;34m(\u001B[0m\u001B[0mvalue\u001B[0m\u001B[0;34m,\u001B[0m \u001B[0mlen\u001B[0m\u001B[0;34m(\u001B[0m\u001B[0mindex\u001B[0m\u001B[0;34m)\u001B[0m\u001B[0;34m,\u001B[0m \u001B[0mdtype\u001B[0m\u001B[0;34m)\u001B[0m\u001B[0;34m\u001B[0m\u001B[0;34m\u001B[0m\u001B[0m\n\u001B[0m\u001B[1;32m    713\u001B[0m \u001B[0;34m\u001B[0m\u001B[0m\n\u001B[1;32m    714\u001B[0m         \u001B[0;32melse\u001B[0m\u001B[0;34m:\u001B[0m\u001B[0;34m\u001B[0m\u001B[0;34m\u001B[0m\u001B[0m\n",
      "\u001B[0;32m~/anaconda3/lib/python3.8/site-packages/pandas/core/dtypes/cast.py\u001B[0m in \u001B[0;36mconstruct_1d_arraylike_from_scalar\u001B[0;34m(value, length, dtype)\u001B[0m\n\u001B[1;32m   1231\u001B[0m                 \u001B[0mvalue\u001B[0m \u001B[0;34m=\u001B[0m \u001B[0mensure_str\u001B[0m\u001B[0;34m(\u001B[0m\u001B[0mvalue\u001B[0m\u001B[0;34m)\u001B[0m\u001B[0;34m\u001B[0m\u001B[0;34m\u001B[0m\u001B[0m\n\u001B[1;32m   1232\u001B[0m \u001B[0;34m\u001B[0m\u001B[0m\n\u001B[0;32m-> 1233\u001B[0;31m         \u001B[0msubarr\u001B[0m \u001B[0;34m=\u001B[0m \u001B[0mnp\u001B[0m\u001B[0;34m.\u001B[0m\u001B[0mempty\u001B[0m\u001B[0;34m(\u001B[0m\u001B[0mlength\u001B[0m\u001B[0;34m,\u001B[0m \u001B[0mdtype\u001B[0m\u001B[0;34m=\u001B[0m\u001B[0mdtype\u001B[0m\u001B[0;34m)\u001B[0m\u001B[0;34m\u001B[0m\u001B[0;34m\u001B[0m\u001B[0m\n\u001B[0m\u001B[1;32m   1234\u001B[0m         \u001B[0msubarr\u001B[0m\u001B[0;34m.\u001B[0m\u001B[0mfill\u001B[0m\u001B[0;34m(\u001B[0m\u001B[0mvalue\u001B[0m\u001B[0;34m)\u001B[0m\u001B[0;34m\u001B[0m\u001B[0;34m\u001B[0m\u001B[0m\n\u001B[1;32m   1235\u001B[0m \u001B[0;34m\u001B[0m\u001B[0m\n",
      "\u001B[0;31mTypeError\u001B[0m: Cannot interpret '<attribute 'dtype' of 'numpy.generic' objects>' as a data type"
     ]
    }
   ],
   "source": [
    "# Получим информацию о типах данных и наличии/отсутствии пропусков\n",
    "\n",
    "df.info()"
   ]
  },
  {
   "cell_type": "code",
   "execution_count": null,
   "id": "8db2957d",
   "metadata": {
    "scrolled": true
   },
   "outputs": [],
   "source": [
    "# Получим информацию по базовым статистикам для каждого признака\n",
    "\n",
    "df.describe()"
   ]
  },
  {
   "cell_type": "code",
   "execution_count": null,
   "id": "1be5b1d9",
   "metadata": {
    "scrolled": true
   },
   "outputs": [],
   "source": [
    "# Взглянем на распределение метки в данных\n",
    "import seaborn as sns\n",
    "print(np.unique(df.target, return_counts=True))\n",
    "sns.countplot(x='target', data=df);"
   ]
  },
  {
   "cell_type": "code",
   "execution_count": null,
   "id": "010cdd54",
   "metadata": {},
   "outputs": [],
   "source": [
    "# Проверим признаки на их попарную корреляцию\n",
    "\n",
    "sns.heatmap(df.corr(), vmin=-1, vmax=1, annot=True);"
   ]
  },
  {
   "cell_type": "code",
   "execution_count": null,
   "id": "30dc66ba",
   "metadata": {
    "scrolled": false
   },
   "outputs": [],
   "source": [
    "# Попробуем описать имеющиеся данные в пространстве меньшей размерности\n",
    "from sklearn.manifold import TSNE\n",
    "\n",
    "X_embedded = TSNE(n_components=2, random_state=993).fit_transform(X)\n",
    "# Тут можно взять ещё LDA или PCA (так как TSNE не умеет в простой transform)\n",
    "\n",
    "def target_to_label(target_val):\n",
    "    return data.target_names[int(target_val)]\n",
    "\n",
    "fig, ax = plt.subplots(nrows=1, ncols=1, figsize=(14, 6))\n",
    "\n",
    "ax.set_title('Dataset representation', fontsize=15)\n",
    "ax.set_xlabel('Feature 1', fontsize=15)\n",
    "ax.set_ylabel('Feature 2', rotation=0, labelpad=30, fontsize=15)\n",
    "ax.grid()\n",
    "\n",
    "sns.scatterplot(\n",
    "    x=X_embedded[:, 0], \n",
    "    y=X_embedded[:, 1], \n",
    "    hue=df.target,\n",
    "    ax=ax\n",
    ");"
   ]
  },
  {
   "cell_type": "code",
   "execution_count": null,
   "id": "4e65898d",
   "metadata": {},
   "outputs": [],
   "source": [
    "# Рассмотрим попарные представления данных и гистограммы для одиночных признаков\n",
    "\n",
    "sns.pairplot(df, hue='target');"
   ]
  },
  {
   "cell_type": "code",
   "execution_count": null,
   "id": "9123b12a",
   "metadata": {},
   "outputs": [],
   "source": [
    "from sklearn.model_selection import train_test_split\n",
    "from sklearn.neighbors import KNeighborsClassifier\n",
    "from sklearn.svm import SVC\n",
    "from sklearn.ensemble import RandomForestClassifier\n",
    "from sklearn.metrics import accuracy_score\n",
    "\n",
    "X_train, X_test, y_train, y_test = train_test_split(X, y, shuffle=True, stratify=y, test_size=0.2)\n",
    "\n",
    "# Так как у нас только 150 объектов в общей выборке и исходные данные имеют природу отличную от текстов,\n",
    "# то имеет смысл обучить такие алгоритмы, как:\n",
    "# 1) KNeighborsClassifier;\n",
    "# 2) SVC;\n",
    "# 3) RandomForestClassifier (один из представителей ансамблевых методов).\n",
    "\n",
    "# Инициализируем алгоритмы с параметрами по-умолчанию\n",
    "knn_clf = KNeighborsClassifier()\n",
    "svm_clf = SVC()\n",
    "forest_clf = RandomForestClassifier()\n",
    "\n",
    "# Обучим классификаторы на тренировочных данных\n",
    "for clf in [knn_clf, svm_clf, forest_clf]:\n",
    "    clf.fit(X_train, y_train)\n",
    "\n",
    "# Получим значение метки для тестового набора\n",
    "knn_pred = knn_clf.predict(X_test)\n",
    "svm_pred = svm_clf.predict(X_test)\n",
    "forest_pred = forest_clf.predict(X_test)\n",
    "\n",
    "# Посчитаем метрику качества\n",
    "knn_acc_score = accuracy_score(y_test, knn_pred)\n",
    "svm_acc_score = accuracy_score(y_test, svm_pred)\n",
    "forest_acc_score = accuracy_score(y_test, forest_pred)\n",
    "\n",
    "# Выведем алгоритмы по убыванию качества их работы\n",
    "leaderboard = sorted([\n",
    "    ('KNN', knn_acc_score),\n",
    "    ('SVC', svm_acc_score),\n",
    "    ('Forest', forest_acc_score)\n",
    "], key=lambda pair: pair[1], reverse=True)\n",
    "\n",
    "print('Leaderboard:')\n",
    "for idx, (leader_name, leader_score) in enumerate(leaderboard):\n",
    "    print(f'{idx + 1}. {leader_name}: {leader_score}')"
   ]
  },
  {
   "cell_type": "markdown",
   "id": "8cc81638",
   "metadata": {},
   "source": [
    "### При многочисленном запуске предыдущей ячейки, мы можем получать различные результаты!\n",
    "\n",
    "Как итог, мы не можем в полной мере доверять полученным результатам\n",
    "\n",
    "Вопрос:\n",
    "- как получать более стабильную информацию о качестве алгоритмов?\n",
    "\n",
    "Ответ: использовать различные методы разбиения данных для проведения большего числа экспериментов\n",
    "\n",
    "Примерами могут служить кросс-валидация или метод Leave-One-Out"
   ]
  },
  {
   "cell_type": "code",
   "execution_count": null,
   "id": "ee96c088",
   "metadata": {},
   "outputs": [],
   "source": [
    "from sklearn.model_selection import cross_val_score\n",
    "\n",
    "#X_train, X_test, y_train, y_test = train_test_split(X, y, shuffle=True, stratify=y, test_size=0.2)\n",
    "\n",
    "# Инициализируем алгоритмы с параметрами по-умолчанию\n",
    "knn_clf = KNeighborsClassifier()\n",
    "svm_clf = SVC()\n",
    "forest_clf = RandomForestClassifier()\n",
    "\n",
    "# Посчитаем метрику качества используя кросс-валидацию\n",
    "knn_acc_score = cross_val_score(knn_clf, X, y, cv=7).mean()\n",
    "svm_acc_score = cross_val_score(svm_clf, X, y, cv=7).mean()\n",
    "forest_acc_score = cross_val_score(forest_clf, X, y, cv=7).mean()\n",
    "\n",
    "# Выведем алгоритмы по убыванию качества их работы\n",
    "leaderboard = sorted([\n",
    "    ('KNN', knn_acc_score),\n",
    "    ('SVC', svm_acc_score),\n",
    "    ('Forest', forest_acc_score)\n",
    "], key=lambda pair: pair[1], reverse=True)\n",
    "\n",
    "print('Leaderboard:')\n",
    "for idx, (leader_name, leader_score) in enumerate(leaderboard):\n",
    "    print(f'{idx + 1}. {leader_name}: {leader_score}')"
   ]
  },
  {
   "cell_type": "markdown",
   "id": "b849c262",
   "metadata": {},
   "source": [
    "Теперь при повторных запусках предыдущей ячейки, оценки качества алгоритмов не будут менять свои значения так сильно"
   ]
  }
 ],
 "metadata": {
  "kernelspec": {
   "display_name": "Python 3",
   "language": "python",
   "name": "python3"
  },
  "language_info": {
   "codemirror_mode": {
    "name": "ipython",
    "version": 3
   },
   "file_extension": ".py",
   "mimetype": "text/x-python",
   "name": "python",
   "nbconvert_exporter": "python",
   "pygments_lexer": "ipython3",
   "version": "3.8.8"
  }
 },
 "nbformat": 4,
 "nbformat_minor": 5
}
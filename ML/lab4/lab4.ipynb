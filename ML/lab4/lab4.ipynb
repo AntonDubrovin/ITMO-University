{
 "cells": [
  {
   "cell_type": "code",
   "execution_count": 9,
   "outputs": [],
   "source": [
    "import math\n",
    "import os\n",
    "from collections import defaultdict\n",
    "from sklearn.metrics import accuracy_score\n",
    "import numpy as np\n",
    "import matplotlib.pyplot as plt\n",
    "from sklearn.metrics import roc_curve\n",
    "\n",
    "from nltk import ngrams"
   ],
   "metadata": {
    "collapsed": false,
    "pycharm": {
     "name": "#%%\n"
    }
   }
  },
  {
   "cell_type": "code",
   "execution_count": 10,
   "outputs": [],
   "source": [
    "dir_path = '/home/anton/Университет/МЛ/lab4/messages/'\n",
    "\n",
    "\n",
    "def generate_ngrams(text, n):\n",
    "    tokens = [token for token in text.split(' ') if token != '']\n",
    "    return list(ngrams(tokens, n))\n",
    "\n",
    "\n",
    "def read_parts(n):\n",
    "    X = []\n",
    "    Y = []\n",
    "    for i in range(10):\n",
    "        cur_X = []\n",
    "        cur_Y = []\n",
    "        cur_dir = dir_path + 'part' + str(i + 1)\n",
    "        for filename in os.listdir(cur_dir):\n",
    "            file = open(cur_dir + '/' + filename, 'r')\n",
    "            subject = list(map(int, file.readline().split()[1:]))\n",
    "            file.readline()\n",
    "            text = list(map(int, file.readline().split()))\n",
    "            all = subject\n",
    "            all.extend(text)\n",
    "            ngram = generate_ngrams(' '.join(str(x) for x in all), n)\n",
    "            cur_X.append(ngram)\n",
    "            if 'legit' in filename:\n",
    "                cur_Y.append(0)\n",
    "            else:\n",
    "                cur_Y.append(1)\n",
    "        X.append(cur_X)\n",
    "        Y.append(cur_Y)\n",
    "    return X, Y"
   ],
   "metadata": {
    "collapsed": false,
    "pycharm": {
     "name": "#%%\n"
    }
   }
  },
  {
   "cell_type": "code",
   "execution_count": 11,
   "outputs": [],
   "source": [
    "def class_probability(X, classes_count, class_type):\n",
    "    return classes_count.get(class_type) / len(X)\n",
    "\n",
    "\n",
    "def init_Bayes(X, Y):\n",
    "    words = set()\n",
    "    classes_count = defaultdict(lambda: 0)\n",
    "    frequency = defaultdict(lambda: 0)\n",
    "\n",
    "    for i in range(len(X)):\n",
    "        message = X[i]\n",
    "        message_type = Y[i]\n",
    "\n",
    "        classes_count[message_type] += 1\n",
    "        for word in message:\n",
    "            words.add(word)\n",
    "            frequency[message_type, word] += 1\n",
    "\n",
    "    return classes_count, frequency\n",
    "\n",
    "\n",
    "def predict(X, test, lambdas, alpha, classes_count, frequency):\n",
    "    Q = 2\n",
    "    probability_legit = math.log(lambdas[0] * class_probability(X, classes_count, 0))\n",
    "    probability_spam = math.log(lambdas[1] * class_probability(X, classes_count, 1))\n",
    "\n",
    "    for word in test:\n",
    "        cur_probability_legit = math.log((frequency.get((0, word), 0) + alpha) / (classes_count[0] + Q * alpha))\n",
    "        cur_probability_spam = math.log((frequency.get((1, word), 0) + alpha) / (classes_count[1] + Q * alpha))\n",
    "\n",
    "        probability_legit += cur_probability_legit\n",
    "        probability_spam += cur_probability_spam\n",
    "\n",
    "    if probability_legit > probability_spam:\n",
    "        return 0\n",
    "    else:\n",
    "        return 1"
   ],
   "metadata": {
    "collapsed": false,
    "pycharm": {
     "name": "#%%\n"
    }
   }
  },
  {
   "cell_type": "code",
   "execution_count": 12,
   "outputs": [],
   "source": [
    "def train_tests_x_y(X, Y):\n",
    "    x_y = []\n",
    "    for i in range(len(X)):\n",
    "        X_test, Y_test = X[i], Y[i]\n",
    "\n",
    "        X_copy, Y_copy = X.copy(), Y.copy()\n",
    "        X_copy.pop(i)\n",
    "        Y_copy.pop(i)\n",
    "\n",
    "        X_train = [item for sublist in X_copy for item in sublist]\n",
    "        Y_train = [item for sublist in Y_copy for item in sublist]\n",
    "\n",
    "        x_y.append((X_train, Y_train, X_test, Y_test))\n",
    "    return x_y"
   ],
   "metadata": {
    "collapsed": false,
    "pycharm": {
     "name": "#%%\n"
    }
   }
  },
  {
   "cell_type": "code",
   "execution_count": 13,
   "outputs": [],
   "source": [
    "def cross_validation(X, Y, x_y, alpha, legit_lambda):\n",
    "    accuracy = []\n",
    "    legit_wrong_counter = 0\n",
    "    for X_train, Y_train, X_test, Y_test in x_y:\n",
    "        Y_predicts = []\n",
    "        for i in range(len(X_test)):\n",
    "            cur_elem = X_test[i]\n",
    "            classes_count, frequency = init_Bayes(X_train, Y_train)\n",
    "            Y_predict = predict(X, cur_elem, [legit_lambda, 1], alpha, classes_count, frequency)\n",
    "            Y_predicts.append(Y_predict)\n",
    "            if Y_test[i] == 0 and Y_predict == 1:\n",
    "                legit_wrong_counter += 1\n",
    "        accuracy.append(accuracy_score(Y_test, Y_predicts))\n",
    "    return np.average(np.array(accuracy)), legit_wrong_counter"
   ],
   "metadata": {
    "collapsed": false,
    "pycharm": {
     "name": "#%%\n"
    }
   }
  },
  {
   "cell_type": "code",
   "execution_count": 23,
   "outputs": [],
   "source": [
    "alphas = [10 ** i for i in range(-10, -3)]\n",
    "\n",
    "\n",
    "def alpha_optimization(X, Y, x_y):\n",
    "    alpha_best = -1\n",
    "    accuracy_best = -1\n",
    "\n",
    "    for alpha in alphas:\n",
    "        accuracy, _ = cross_validation(X, Y, x_y, alpha, 1)\n",
    "        if accuracy > accuracy_best:\n",
    "            accuracy_best = accuracy\n",
    "            alpha_best = alpha\n",
    "        print('----------')\n",
    "        print(f'Alpha is {alpha}')\n",
    "        print(f'Accuracy is {accuracy}')\n",
    "    return accuracy_best, alpha_best"
   ],
   "metadata": {
    "collapsed": false,
    "pycharm": {
     "name": "#%%\n"
    }
   }
  },
  {
   "cell_type": "code",
   "execution_count": 28,
   "outputs": [],
   "source": [
    "def lambda_optimization(X, Y, x_y, alpha, beg, end):\n",
    "    legit_lambdas = [10 ** i for i in range(beg, end)]\n",
    "    legit_lambda_best = 0\n",
    "    accuracy_best = -1\n",
    "    for legit_lambda in legit_lambdas:\n",
    "        accuracy, legit_wrong_count = cross_validation(X, Y, x_y, alpha, legit_lambda)\n",
    "        if accuracy > accuracy_best and legit_wrong_count == 0:\n",
    "            accuracy_best = accuracy\n",
    "            legit_lambda_best = legit_lambda\n",
    "        print('----------')\n",
    "        print('Legit lambda is 1e{}'.format(math.log10(legit_lambda)))\n",
    "        print(f'Legit wrong count is {legit_wrong_count}')\n",
    "        print(f'Accuracy is {accuracy}')\n",
    "    return accuracy_best, legit_lambda_best"
   ],
   "metadata": {
    "collapsed": false,
    "pycharm": {
     "name": "#%%\n"
    }
   }
  },
  {
   "cell_type": "code",
   "execution_count": 24,
   "outputs": [
    {
     "name": "stdout",
     "output_type": "stream",
     "text": [
      "----------\n",
      "Alpha is 1e-10\n",
      "Accuracy is 0.9761467889908257\n",
      "----------\n",
      "Alpha is 1e-09\n",
      "Accuracy is 0.9770642201834863\n",
      "----------\n",
      "Alpha is 1e-08\n",
      "Accuracy is 0.9761467889908257\n",
      "----------\n",
      "Alpha is 1e-07\n",
      "Accuracy is 0.9752293577981652\n",
      "----------\n",
      "Alpha is 1e-06\n",
      "Accuracy is 0.9761467889908257\n",
      "----------\n",
      "Alpha is 1e-05\n",
      "Accuracy is 0.9715596330275229\n",
      "----------\n",
      "Alpha is 0.0001\n",
      "Accuracy is 0.9669724770642203\n",
      "Accuracy best is 0.9770642201834863\n",
      "Alpha best is 1e-09\n"
     ]
    },
    {
     "data": {
      "text/plain": "<Figure size 432x288 with 1 Axes>",
      "image/png": "[encoded data removed]"
     },
     "metadata": {
      "needs_background": "light"
     },
     "output_type": "display_data"
    }
   ],
   "source": [
    "X, Y = read_parts(1)  # n = 1\n",
    "x_y = train_tests_x_y(X, Y)\n",
    "accuracy_best, alpha_best = alpha_optimization(X, Y, x_y)\n",
    "print(f'Accuracy best is {accuracy_best}')\n",
    "print(f'Alpha best is {alpha_best}')\n",
    "X_all = [item for sublist in X for item in sublist]\n",
    "Y_all = [item for sublist in Y for item in sublist]\n",
    "y_pred = []\n",
    "\n",
    "for x in X_all:\n",
    "    classes_count, frequency = init_Bayes(X_all, Y_all)\n",
    "    pred = predict(X_all, x, [1, 1], alpha_best, classes_count, frequency)\n",
    "    y_pred.append(pred)\n",
    "\n",
    "FPR, TPR, _ = roc_curve(Y_all, y_pred)\n",
    "plt.plot(FPR, TPR)\n",
    "plt.ylabel('True Positive Rate')\n",
    "plt.xlabel('False Positive Rate')\n",
    "plt.show()"
   ],
   "metadata": {
    "collapsed": false,
    "pycharm": {
     "name": "#%%\n"
    }
   }
  },
  {
   "cell_type": "code",
   "execution_count": 29,
   "outputs": [
    {
     "name": "stdout",
     "output_type": "stream",
     "text": [
      "----------\n",
      "Legit lambda is 1e290.0\n",
      "Legit wrong count is 1\n",
      "Accuracy is 0.7651376146788992\n",
      "----------\n",
      "Legit lambda is 1e291.0\n",
      "Legit wrong count is 1\n",
      "Accuracy is 0.7651376146788992\n",
      "----------\n",
      "Legit lambda is 1e292.0\n",
      "Legit wrong count is 0\n",
      "Accuracy is 0.7651376146788992\n",
      "----------\n",
      "Legit lambda is 1e293.0\n",
      "Legit wrong count is 0\n",
      "Accuracy is 0.7651376146788992\n",
      "----------\n",
      "Legit lambda is 1e294.0\n",
      "Legit wrong count is 0\n",
      "Accuracy is 0.7651376146788992\n",
      "----------\n",
      "Legit lambda is 1e295.0\n",
      "Legit wrong count is 0\n",
      "Accuracy is 0.7651376146788992\n",
      "----------\n",
      "Legit lambda is 1e296.0\n",
      "Legit wrong count is 0\n",
      "Accuracy is 0.7642201834862385\n",
      "----------\n",
      "Legit lambda is 1e297.0\n",
      "Legit wrong count is 0\n",
      "Accuracy is 0.7642201834862385\n",
      "----------\n",
      "Legit lambda is 1e298.0\n",
      "Legit wrong count is 0\n",
      "Accuracy is 0.763302752293578\n",
      "----------\n",
      "Legit lambda is 1e299.0\n",
      "Legit wrong count is 0\n",
      "Accuracy is 0.763302752293578\n",
      "----------\n",
      "Accuracy lambda best is 0.7651376146788992\n",
      "Legit lambda best is 10000000000000000000000000000000000000000000000000000000000000000000000000000000000000000000000000000000000000000000000000000000000000000000000000000000000000000000000000000000000000000000000000000000000000000000000000000000000000000000000000000000000000000000000000000000000000000000000000000\n"
     ]
    }
   ],
   "source": [
    "accuracy_lambda_best, legit_lambda_best = lambda_optimization(X, Y, x_y, alpha_best, 290, 300)\n",
    "print('----------')\n",
    "print(f'Accuracy lambda best is {accuracy_lambda_best}')\n",
    "print(f'Legit lambda best is {legit_lambda_best}')"
   ],
   "metadata": {
    "collapsed": false,
    "pycharm": {
     "name": "#%%\n"
    }
   }
  },
  {
   "cell_type": "markdown",
   "source": [
    "Лучшая лямбда - 10e292"
   ],
   "metadata": {
    "collapsed": false,
    "pycharm": {
     "name": "#%% md\n"
    }
   }
  },
  {
   "cell_type": "code",
   "execution_count": 30,
   "outputs": [
    {
     "name": "stdout",
     "output_type": "stream",
     "text": [
      "Current legit lambda is 1e1.0\n",
      "Current accuracy is 0.9990825688073395\n",
      "Current legit lambda is 1e41.0\n",
      "Current accuracy is 0.9908256880733946\n",
      "Current legit lambda is 1e81.0\n",
      "Current accuracy is 0.963302752293578\n",
      "Current legit lambda is 1e121.0\n",
      "Current accuracy is 0.9174311926605505\n",
      "Current legit lambda is 1e161.0\n",
      "Current accuracy is 0.8871559633027523\n",
      "Current legit lambda is 1e201.0\n",
      "Current accuracy is 0.865137614678899\n",
      "Current legit lambda is 1e241.0\n",
      "Current accuracy is 0.8412844036697248\n",
      "Current legit lambda is 1e281.0\n",
      "Current accuracy is 0.8192660550458716\n"
     ]
    }
   ],
   "source": [
    "legit_lambdas = [10 ** i for i in range(1, 292, 40)]\n",
    "accuracys = []\n",
    "for legit_lambda in legit_lambdas:\n",
    "    y_predicts = []\n",
    "    for i in range(len(X_all)):\n",
    "        elem = X_all[i]\n",
    "        classes_count, frequency = init_Bayes(X_all, Y_all)\n",
    "        pred = predict(X_all, elem, [legit_lambda, 1], alpha_best, classes_count, frequency)\n",
    "        y_predicts.append(pred)\n",
    "    accuracy = accuracy_score(Y_all, y_predicts)\n",
    "    accuracys.append(accuracy)\n",
    "    print('Current legit lambda is 1e{}'.format(math.log10(legit_lambda)))\n",
    "    print(f'Current accuracy is {accuracy}')"
   ],
   "metadata": {
    "collapsed": false,
    "pycharm": {
     "name": "#%%\n"
    }
   }
  },
  {
   "cell_type": "code",
   "execution_count": 31,
   "outputs": [
    {
     "data": {
      "text/plain": "<Figure size 1080x720 with 1 Axes>",
      "image/png": "[encoded data removed]"
     },
     "metadata": {
      "needs_background": "light"
     },
     "output_type": "display_data"
    }
   ],
   "source": [
    "plt.figure(figsize=(15, 10))\n",
    "plt.plot(legit_lambdas, accuracys, linestyle='-', marker='.')\n",
    "plt.xlabel('legit lambda')\n",
    "plt.ylabel('accuracy')\n",
    "plt.show()"
   ],
   "metadata": {
    "collapsed": false,
    "pycharm": {
     "name": "#%%\n"
    }
   }
  },
  {
   "cell_type": "code",
   "execution_count": 33,
   "outputs": [
    {
     "name": "stdout",
     "output_type": "stream",
     "text": [
      "----------\n",
      "Alpha is 1e-10\n",
      "Accuracy is 0.9807339449541285\n",
      "----------\n",
      "Alpha is 1e-09\n",
      "Accuracy is 0.9807339449541285\n",
      "----------\n",
      "Alpha is 1e-08\n",
      "Accuracy is 0.9807339449541285\n",
      "----------\n",
      "Alpha is 1e-07\n",
      "Accuracy is 0.9807339449541285\n",
      "----------\n",
      "Alpha is 1e-06\n",
      "Accuracy is 0.9798165137614679\n",
      "----------\n",
      "Alpha is 1e-05\n",
      "Accuracy is 0.9779816513761469\n",
      "----------\n",
      "Alpha is 0.0001\n",
      "Accuracy is 0.9770642201834863\n",
      "Accuracy best is 0.9807339449541285\n",
      "Alpha best is 1e-10\n"
     ]
    },
    {
     "data": {
      "text/plain": "<Figure size 432x288 with 1 Axes>",
      "image/png": "[encoded data removed]"
     },
     "metadata": {
      "needs_background": "light"
     },
     "output_type": "display_data"
    }
   ],
   "source": [
    "X, Y = read_parts(2)  # n = 2\n",
    "x_y = train_tests_x_y(X, Y)\n",
    "accuracy_best, alpha_best = alpha_optimization(X, Y, x_y)\n",
    "print(f'Accuracy best is {accuracy_best}')\n",
    "print(f'Alpha best is {alpha_best}')\n",
    "X_all = [item for sublist in X for item in sublist]\n",
    "Y_all = [item for sublist in Y for item in sublist]\n",
    "y_pred = []\n",
    "\n",
    "for x in X_all:\n",
    "    classes_count, frequency = init_Bayes(X_all, Y_all)\n",
    "    pred = predict(X_all, x, [1, 1], alpha_best, classes_count, frequency)\n",
    "    y_pred.append(pred)\n",
    "\n",
    "FPR, TPR, _ = roc_curve(Y_all, y_pred)\n",
    "plt.plot(FPR, TPR)\n",
    "plt.ylabel('True Positive Rate')\n",
    "plt.xlabel('False Positive Rate')\n",
    "plt.show()"
   ],
   "metadata": {
    "collapsed": false,
    "pycharm": {
     "name": "#%%\n"
    }
   }
  },
  {
   "cell_type": "code",
   "execution_count": 34,
   "outputs": [
    {
     "name": "stdout",
     "output_type": "stream",
     "text": [
      "----------\n",
      "Legit lambda is 1e300.0\n",
      "Legit wrong count is 2\n",
      "Accuracy is 0.9009174311926605\n",
      "----------\n",
      "Legit lambda is 1e301.0\n",
      "Legit wrong count is 2\n",
      "Accuracy is 0.9\n",
      "----------\n",
      "Legit lambda is 1e302.0\n",
      "Legit wrong count is 2\n",
      "Accuracy is 0.9\n",
      "----------\n",
      "Legit lambda is 1e303.0\n",
      "Legit wrong count is 2\n",
      "Accuracy is 0.9\n",
      "----------\n",
      "Legit lambda is 1e304.0\n",
      "Legit wrong count is 2\n",
      "Accuracy is 0.9\n",
      "----------\n",
      "Legit lambda is 1e305.0\n",
      "Legit wrong count is 2\n",
      "Accuracy is 0.9\n",
      "----------\n",
      "Legit lambda is 1e306.0\n",
      "Legit wrong count is 2\n",
      "Accuracy is 0.9\n",
      "----------\n",
      "Legit lambda is 1e307.0\n",
      "Legit wrong count is 0\n",
      "Accuracy is 0.5596330275229358\n",
      "----------\n",
      "Legit lambda is 1e308.0\n",
      "Legit wrong count is 0\n",
      "Accuracy is 0.5596330275229358\n"
     ]
    },
    {
     "ename": "OverflowError",
     "evalue": "int too large to convert to float",
     "output_type": "error",
     "traceback": [
      "\u001B[0;31m---------------------------------------------------------------------------\u001B[0m",
      "\u001B[0;31mOverflowError\u001B[0m                             Traceback (most recent call last)",
      "\u001B[0;32m/tmp/ipykernel_24755/1293351688.py\u001B[0m in \u001B[0;36m<module>\u001B[0;34m\u001B[0m\n\u001B[0;32m----> 1\u001B[0;31m \u001B[0maccuracy_lambda_best\u001B[0m\u001B[0;34m,\u001B[0m \u001B[0mlegit_lambda_best\u001B[0m \u001B[0;34m=\u001B[0m \u001B[0mlambda_optimization\u001B[0m\u001B[0;34m(\u001B[0m\u001B[0mX\u001B[0m\u001B[0;34m,\u001B[0m \u001B[0mY\u001B[0m\u001B[0;34m,\u001B[0m \u001B[0mx_y\u001B[0m\u001B[0;34m,\u001B[0m \u001B[0malpha_best\u001B[0m\u001B[0;34m,\u001B[0m \u001B[0;36m300\u001B[0m\u001B[0;34m,\u001B[0m \u001B[0;36m310\u001B[0m\u001B[0;34m)\u001B[0m\u001B[0;34m\u001B[0m\u001B[0;34m\u001B[0m\u001B[0m\n\u001B[0m\u001B[1;32m      2\u001B[0m \u001B[0mprint\u001B[0m\u001B[0;34m(\u001B[0m\u001B[0;34m'----------'\u001B[0m\u001B[0;34m)\u001B[0m\u001B[0;34m\u001B[0m\u001B[0;34m\u001B[0m\u001B[0m\n\u001B[1;32m      3\u001B[0m \u001B[0mprint\u001B[0m\u001B[0;34m(\u001B[0m\u001B[0;34mf'Accuracy lambda best is {accuracy_lambda_best}'\u001B[0m\u001B[0;34m)\u001B[0m\u001B[0;34m\u001B[0m\u001B[0;34m\u001B[0m\u001B[0m\n\u001B[1;32m      4\u001B[0m \u001B[0mprint\u001B[0m\u001B[0;34m(\u001B[0m\u001B[0;34mf'Legit lambda best is {legit_lambda_best}'\u001B[0m\u001B[0;34m)\u001B[0m\u001B[0;34m\u001B[0m\u001B[0;34m\u001B[0m\u001B[0m\n",
      "\u001B[0;32m/tmp/ipykernel_24755/204778167.py\u001B[0m in \u001B[0;36mlambda_optimization\u001B[0;34m(X, Y, x_y, alpha, beg, end)\u001B[0m\n\u001B[1;32m      4\u001B[0m     \u001B[0maccuracy_best\u001B[0m \u001B[0;34m=\u001B[0m \u001B[0;34m-\u001B[0m\u001B[0;36m1\u001B[0m\u001B[0;34m\u001B[0m\u001B[0;34m\u001B[0m\u001B[0m\n\u001B[1;32m      5\u001B[0m     \u001B[0;32mfor\u001B[0m \u001B[0mlegit_lambda\u001B[0m \u001B[0;32min\u001B[0m \u001B[0mlegit_lambdas\u001B[0m\u001B[0;34m:\u001B[0m\u001B[0;34m\u001B[0m\u001B[0;34m\u001B[0m\u001B[0m\n\u001B[0;32m----> 6\u001B[0;31m         \u001B[0maccuracy\u001B[0m\u001B[0;34m,\u001B[0m \u001B[0mlegit_wrong_count\u001B[0m \u001B[0;34m=\u001B[0m \u001B[0mcross_validation\u001B[0m\u001B[0;34m(\u001B[0m\u001B[0mX\u001B[0m\u001B[0;34m,\u001B[0m \u001B[0mY\u001B[0m\u001B[0;34m,\u001B[0m \u001B[0mx_y\u001B[0m\u001B[0;34m,\u001B[0m \u001B[0malpha\u001B[0m\u001B[0;34m,\u001B[0m \u001B[0mlegit_lambda\u001B[0m\u001B[0;34m)\u001B[0m\u001B[0;34m\u001B[0m\u001B[0;34m\u001B[0m\u001B[0m\n\u001B[0m\u001B[1;32m      7\u001B[0m         \u001B[0;32mif\u001B[0m \u001B[0maccuracy\u001B[0m \u001B[0;34m>\u001B[0m \u001B[0maccuracy_best\u001B[0m \u001B[0;32mand\u001B[0m \u001B[0mlegit_wrong_count\u001B[0m \u001B[0;34m==\u001B[0m \u001B[0;36m0\u001B[0m\u001B[0;34m:\u001B[0m\u001B[0;34m\u001B[0m\u001B[0;34m\u001B[0m\u001B[0m\n\u001B[1;32m      8\u001B[0m             \u001B[0maccuracy_best\u001B[0m \u001B[0;34m=\u001B[0m \u001B[0maccuracy\u001B[0m\u001B[0;34m\u001B[0m\u001B[0;34m\u001B[0m\u001B[0m\n",
      "\u001B[0;32m/tmp/ipykernel_24755/399412112.py\u001B[0m in \u001B[0;36mcross_validation\u001B[0;34m(X, Y, x_y, alpha, legit_lambda)\u001B[0m\n\u001B[1;32m      7\u001B[0m             \u001B[0mcur_elem\u001B[0m \u001B[0;34m=\u001B[0m \u001B[0mX_test\u001B[0m\u001B[0;34m[\u001B[0m\u001B[0mi\u001B[0m\u001B[0;34m]\u001B[0m\u001B[0;34m\u001B[0m\u001B[0;34m\u001B[0m\u001B[0m\n\u001B[1;32m      8\u001B[0m             \u001B[0mclasses_count\u001B[0m\u001B[0;34m,\u001B[0m \u001B[0mfrequency\u001B[0m \u001B[0;34m=\u001B[0m \u001B[0minit_Bayes\u001B[0m\u001B[0;34m(\u001B[0m\u001B[0mX_train\u001B[0m\u001B[0;34m,\u001B[0m \u001B[0mY_train\u001B[0m\u001B[0;34m)\u001B[0m\u001B[0;34m\u001B[0m\u001B[0;34m\u001B[0m\u001B[0m\n\u001B[0;32m----> 9\u001B[0;31m             \u001B[0mY_predict\u001B[0m \u001B[0;34m=\u001B[0m \u001B[0mpredict\u001B[0m\u001B[0;34m(\u001B[0m\u001B[0mX\u001B[0m\u001B[0;34m,\u001B[0m \u001B[0mcur_elem\u001B[0m\u001B[0;34m,\u001B[0m \u001B[0;34m[\u001B[0m\u001B[0mlegit_lambda\u001B[0m\u001B[0;34m,\u001B[0m \u001B[0;36m1\u001B[0m\u001B[0;34m]\u001B[0m\u001B[0;34m,\u001B[0m \u001B[0malpha\u001B[0m\u001B[0;34m,\u001B[0m \u001B[0mclasses_count\u001B[0m\u001B[0;34m,\u001B[0m \u001B[0mfrequency\u001B[0m\u001B[0;34m)\u001B[0m\u001B[0;34m\u001B[0m\u001B[0;34m\u001B[0m\u001B[0m\n\u001B[0m\u001B[1;32m     10\u001B[0m             \u001B[0mY_predicts\u001B[0m\u001B[0;34m.\u001B[0m\u001B[0mappend\u001B[0m\u001B[0;34m(\u001B[0m\u001B[0mY_predict\u001B[0m\u001B[0;34m)\u001B[0m\u001B[0;34m\u001B[0m\u001B[0;34m\u001B[0m\u001B[0m\n\u001B[1;32m     11\u001B[0m             \u001B[0;32mif\u001B[0m \u001B[0mY_test\u001B[0m\u001B[0;34m[\u001B[0m\u001B[0mi\u001B[0m\u001B[0;34m]\u001B[0m \u001B[0;34m==\u001B[0m \u001B[0;36m0\u001B[0m \u001B[0;32mand\u001B[0m \u001B[0mY_predict\u001B[0m \u001B[0;34m==\u001B[0m \u001B[0;36m1\u001B[0m\u001B[0;34m:\u001B[0m\u001B[0;34m\u001B[0m\u001B[0;34m\u001B[0m\u001B[0m\n",
      "\u001B[0;32m/tmp/ipykernel_24755/2387486153.py\u001B[0m in \u001B[0;36mpredict\u001B[0;34m(X, test, lambdas, alpha, classes_count, frequency)\u001B[0m\n\u001B[1;32m     22\u001B[0m \u001B[0;32mdef\u001B[0m \u001B[0mpredict\u001B[0m\u001B[0;34m(\u001B[0m\u001B[0mX\u001B[0m\u001B[0;34m,\u001B[0m \u001B[0mtest\u001B[0m\u001B[0;34m,\u001B[0m \u001B[0mlambdas\u001B[0m\u001B[0;34m,\u001B[0m \u001B[0malpha\u001B[0m\u001B[0;34m,\u001B[0m \u001B[0mclasses_count\u001B[0m\u001B[0;34m,\u001B[0m \u001B[0mfrequency\u001B[0m\u001B[0;34m)\u001B[0m\u001B[0;34m:\u001B[0m\u001B[0;34m\u001B[0m\u001B[0;34m\u001B[0m\u001B[0m\n\u001B[1;32m     23\u001B[0m     \u001B[0mQ\u001B[0m \u001B[0;34m=\u001B[0m \u001B[0;36m2\u001B[0m\u001B[0;34m\u001B[0m\u001B[0;34m\u001B[0m\u001B[0m\n\u001B[0;32m---> 24\u001B[0;31m     \u001B[0mprobability_legit\u001B[0m \u001B[0;34m=\u001B[0m \u001B[0mmath\u001B[0m\u001B[0;34m.\u001B[0m\u001B[0mlog\u001B[0m\u001B[0;34m(\u001B[0m\u001B[0mlambdas\u001B[0m\u001B[0;34m[\u001B[0m\u001B[0;36m0\u001B[0m\u001B[0;34m]\u001B[0m \u001B[0;34m*\u001B[0m \u001B[0mclass_probability\u001B[0m\u001B[0;34m(\u001B[0m\u001B[0mX\u001B[0m\u001B[0;34m,\u001B[0m \u001B[0mclasses_count\u001B[0m\u001B[0;34m,\u001B[0m \u001B[0;36m0\u001B[0m\u001B[0;34m)\u001B[0m\u001B[0;34m)\u001B[0m\u001B[0;34m\u001B[0m\u001B[0;34m\u001B[0m\u001B[0m\n\u001B[0m\u001B[1;32m     25\u001B[0m     \u001B[0mprobability_spam\u001B[0m \u001B[0;34m=\u001B[0m \u001B[0mmath\u001B[0m\u001B[0;34m.\u001B[0m\u001B[0mlog\u001B[0m\u001B[0;34m(\u001B[0m\u001B[0mlambdas\u001B[0m\u001B[0;34m[\u001B[0m\u001B[0;36m1\u001B[0m\u001B[0;34m]\u001B[0m \u001B[0;34m*\u001B[0m \u001B[0mclass_probability\u001B[0m\u001B[0;34m(\u001B[0m\u001B[0mX\u001B[0m\u001B[0;34m,\u001B[0m \u001B[0mclasses_count\u001B[0m\u001B[0;34m,\u001B[0m \u001B[0;36m1\u001B[0m\u001B[0;34m)\u001B[0m\u001B[0;34m)\u001B[0m\u001B[0;34m\u001B[0m\u001B[0;34m\u001B[0m\u001B[0m\n\u001B[1;32m     26\u001B[0m \u001B[0;34m\u001B[0m\u001B[0m\n",
      "\u001B[0;31mOverflowError\u001B[0m: int too large to convert to float"
     ]
    }
   ],
   "source": [
    "accuracy_lambda_best, legit_lambda_best = lambda_optimization(X, Y, x_y, alpha_best, 300, 310)\n",
    "print('----------')\n",
    "print(f'Accuracy lambda best is {accuracy_lambda_best}')\n",
    "print(f'Legit lambda best is {legit_lambda_best}')"
   ],
   "metadata": {
    "collapsed": false,
    "pycharm": {
     "name": "#%%\n"
    }
   }
  },
  {
   "cell_type": "markdown",
   "source": [
    "Лучшая лямбда 1е307"
   ],
   "metadata": {
    "collapsed": false,
    "pycharm": {
     "name": "#%% md\n"
    }
   }
  },
  {
   "cell_type": "code",
   "execution_count": 35,
   "outputs": [
    {
     "name": "stdout",
     "output_type": "stream",
     "text": [
      "Current legit lambda is 1e1.0\n",
      "Current accuracy is 1.0\n",
      "Current legit lambda is 1e51.0\n",
      "Current accuracy is 1.0\n",
      "Current legit lambda is 1e101.0\n",
      "Current accuracy is 0.9990825688073395\n",
      "Current legit lambda is 1e151.0\n",
      "Current accuracy is 0.9954128440366973\n",
      "Current legit lambda is 1e201.0\n",
      "Current accuracy is 0.9935779816513761\n",
      "Current legit lambda is 1e251.0\n",
      "Current accuracy is 0.9853211009174312\n",
      "Current legit lambda is 1e301.0\n",
      "Current accuracy is 0.9807339449541285\n"
     ]
    }
   ],
   "source": [
    "legit_lambdas = [10 ** i for i in range(1, 307, 50)]\n",
    "accuracys = []\n",
    "for legit_lambda in legit_lambdas:\n",
    "    y_predicts = []\n",
    "    for i in range(len(X_all)):\n",
    "        elem = X_all[i]\n",
    "        classes_count, frequency = init_Bayes(X_all, Y_all)\n",
    "        pred = predict(X_all, elem, [legit_lambda, 1], alpha_best, classes_count, frequency)\n",
    "        y_predicts.append(pred)\n",
    "    accuracy = accuracy_score(Y_all, y_predicts)\n",
    "    accuracys.append(accuracy)\n",
    "    print('Current legit lambda is 1e{}'.format(math.log10(legit_lambda)))\n",
    "    print(f'Current accuracy is {accuracy}')"
   ],
   "metadata": {
    "collapsed": false,
    "pycharm": {
     "name": "#%%\n"
    }
   }
  },
  {
   "cell_type": "code",
   "execution_count": 36,
   "outputs": [
    {
     "data": {
      "text/plain": "<Figure size 1080x720 with 1 Axes>",
      "image/png": "[encoded data removed]"
     },
     "metadata": {
      "needs_background": "light"
     },
     "output_type": "display_data"
    }
   ],
   "source": [
    "plt.figure(figsize=(15, 10))\n",
    "plt.plot(legit_lambdas, accuracys, linestyle='-', marker='.')\n",
    "plt.xlabel('legit lambda')\n",
    "plt.ylabel('accuracy')\n",
    "plt.show()"
   ],
   "metadata": {
    "collapsed": false,
    "pycharm": {
     "name": "#%%\n"
    }
   }
  },
  {
   "cell_type": "code",
   "execution_count": 37,
   "outputs": [
    {
     "name": "stdout",
     "output_type": "stream",
     "text": [
      "----------\n",
      "Alpha is 1e-10\n",
      "Accuracy is 0.9761467889908257\n",
      "----------\n",
      "Alpha is 1e-09\n",
      "Accuracy is 0.9752293577981652\n",
      "----------\n",
      "Alpha is 1e-08\n",
      "Accuracy is 0.9752293577981652\n",
      "----------\n",
      "Alpha is 1e-07\n",
      "Accuracy is 0.9770642201834863\n",
      "----------\n",
      "Alpha is 1e-06\n",
      "Accuracy is 0.9752293577981652\n",
      "----------\n",
      "Alpha is 1e-05\n",
      "Accuracy is 0.9724770642201834\n",
      "----------\n",
      "Alpha is 0.0001\n",
      "Accuracy is 0.9706422018348624\n",
      "Accuracy best is 0.9770642201834863\n",
      "Alpha best is 1e-07\n"
     ]
    },
    {
     "data": {
      "text/plain": "<Figure size 432x288 with 1 Axes>",
      "image/png": "[encoded data removed]"
     },
     "metadata": {
      "needs_background": "light"
     },
     "output_type": "display_data"
    }
   ],
   "source": [
    "X, Y = read_parts(3)  # n = 3\n",
    "x_y = train_tests_x_y(X, Y)\n",
    "accuracy_best, alpha_best = alpha_optimization(X, Y, x_y)\n",
    "print(f'Accuracy best is {accuracy_best}')\n",
    "print(f'Alpha best is {alpha_best}')\n",
    "X_all = [item for sublist in X for item in sublist]\n",
    "Y_all = [item for sublist in Y for item in sublist]\n",
    "y_pred = []\n",
    "\n",
    "for x in X_all:\n",
    "    classes_count, frequency = init_Bayes(X_all, Y_all)\n",
    "    pred = predict(X_all, x, [1, 1], alpha_best, classes_count, frequency)\n",
    "    y_pred.append(pred)\n",
    "\n",
    "FPR, TPR, _ = roc_curve(Y_all, y_pred)\n",
    "plt.plot(FPR, TPR)\n",
    "plt.ylabel('True Positive Rate')\n",
    "plt.xlabel('False Positive Rate')\n",
    "plt.show()"
   ],
   "metadata": {
    "collapsed": false,
    "pycharm": {
     "name": "#%%\n"
    }
   }
  },
  {
   "cell_type": "code",
   "execution_count": 38,
   "outputs": [
    {
     "name": "stdout",
     "output_type": "stream",
     "text": [
      "----------\n",
      "Legit lambda is 1e300.0\n",
      "Legit wrong count is 4\n",
      "Accuracy is 0.8697247706422019\n",
      "----------\n",
      "Legit lambda is 1e301.0\n",
      "Legit wrong count is 4\n",
      "Accuracy is 0.8697247706422019\n",
      "----------\n",
      "Legit lambda is 1e302.0\n",
      "Legit wrong count is 4\n",
      "Accuracy is 0.8697247706422019\n",
      "----------\n",
      "Legit lambda is 1e303.0\n",
      "Legit wrong count is 4\n",
      "Accuracy is 0.8697247706422019\n",
      "----------\n",
      "Legit lambda is 1e304.0\n",
      "Legit wrong count is 4\n",
      "Accuracy is 0.8688073394495414\n",
      "----------\n",
      "Legit lambda is 1e305.0\n",
      "Legit wrong count is 4\n",
      "Accuracy is 0.8669724770642203\n",
      "----------\n",
      "Legit lambda is 1e306.0\n",
      "Legit wrong count is 4\n",
      "Accuracy is 0.8669724770642203\n",
      "----------\n",
      "Legit lambda is 1e307.0\n",
      "Legit wrong count is 0\n",
      "Accuracy is 0.5596330275229358\n"
     ]
    },
    {
     "ename": "KeyboardInterrupt",
     "evalue": "",
     "output_type": "error",
     "traceback": [
      "\u001B[0;31m---------------------------------------------------------------------------\u001B[0m",
      "\u001B[0;31mKeyboardInterrupt\u001B[0m                         Traceback (most recent call last)",
      "\u001B[0;32m/tmp/ipykernel_24755/1293351688.py\u001B[0m in \u001B[0;36m<module>\u001B[0;34m\u001B[0m\n\u001B[0;32m----> 1\u001B[0;31m \u001B[0maccuracy_lambda_best\u001B[0m\u001B[0;34m,\u001B[0m \u001B[0mlegit_lambda_best\u001B[0m \u001B[0;34m=\u001B[0m \u001B[0mlambda_optimization\u001B[0m\u001B[0;34m(\u001B[0m\u001B[0mX\u001B[0m\u001B[0;34m,\u001B[0m \u001B[0mY\u001B[0m\u001B[0;34m,\u001B[0m \u001B[0mx_y\u001B[0m\u001B[0;34m,\u001B[0m \u001B[0malpha_best\u001B[0m\u001B[0;34m,\u001B[0m \u001B[0;36m300\u001B[0m\u001B[0;34m,\u001B[0m \u001B[0;36m310\u001B[0m\u001B[0;34m)\u001B[0m\u001B[0;34m\u001B[0m\u001B[0;34m\u001B[0m\u001B[0m\n\u001B[0m\u001B[1;32m      2\u001B[0m \u001B[0mprint\u001B[0m\u001B[0;34m(\u001B[0m\u001B[0;34m'----------'\u001B[0m\u001B[0;34m)\u001B[0m\u001B[0;34m\u001B[0m\u001B[0;34m\u001B[0m\u001B[0m\n\u001B[1;32m      3\u001B[0m \u001B[0mprint\u001B[0m\u001B[0;34m(\u001B[0m\u001B[0;34mf'Accuracy lambda best is {accuracy_lambda_best}'\u001B[0m\u001B[0;34m)\u001B[0m\u001B[0;34m\u001B[0m\u001B[0;34m\u001B[0m\u001B[0m\n\u001B[1;32m      4\u001B[0m \u001B[0mprint\u001B[0m\u001B[0;34m(\u001B[0m\u001B[0;34mf'Legit lambda best is {legit_lambda_best}'\u001B[0m\u001B[0;34m)\u001B[0m\u001B[0;34m\u001B[0m\u001B[0;34m\u001B[0m\u001B[0m\n",
      "\u001B[0;32m/tmp/ipykernel_24755/204778167.py\u001B[0m in \u001B[0;36mlambda_optimization\u001B[0;34m(X, Y, x_y, alpha, beg, end)\u001B[0m\n\u001B[1;32m      4\u001B[0m     \u001B[0maccuracy_best\u001B[0m \u001B[0;34m=\u001B[0m \u001B[0;34m-\u001B[0m\u001B[0;36m1\u001B[0m\u001B[0;34m\u001B[0m\u001B[0;34m\u001B[0m\u001B[0m\n\u001B[1;32m      5\u001B[0m     \u001B[0;32mfor\u001B[0m \u001B[0mlegit_lambda\u001B[0m \u001B[0;32min\u001B[0m \u001B[0mlegit_lambdas\u001B[0m\u001B[0;34m:\u001B[0m\u001B[0;34m\u001B[0m\u001B[0;34m\u001B[0m\u001B[0m\n\u001B[0;32m----> 6\u001B[0;31m         \u001B[0maccuracy\u001B[0m\u001B[0;34m,\u001B[0m \u001B[0mlegit_wrong_count\u001B[0m \u001B[0;34m=\u001B[0m \u001B[0mcross_validation\u001B[0m\u001B[0;34m(\u001B[0m\u001B[0mX\u001B[0m\u001B[0;34m,\u001B[0m \u001B[0mY\u001B[0m\u001B[0;34m,\u001B[0m \u001B[0mx_y\u001B[0m\u001B[0;34m,\u001B[0m \u001B[0malpha\u001B[0m\u001B[0;34m,\u001B[0m \u001B[0mlegit_lambda\u001B[0m\u001B[0;34m)\u001B[0m\u001B[0;34m\u001B[0m\u001B[0;34m\u001B[0m\u001B[0m\n\u001B[0m\u001B[1;32m      7\u001B[0m         \u001B[0;32mif\u001B[0m \u001B[0maccuracy\u001B[0m \u001B[0;34m>\u001B[0m \u001B[0maccuracy_best\u001B[0m \u001B[0;32mand\u001B[0m \u001B[0mlegit_wrong_count\u001B[0m \u001B[0;34m==\u001B[0m \u001B[0;36m0\u001B[0m\u001B[0;34m:\u001B[0m\u001B[0;34m\u001B[0m\u001B[0;34m\u001B[0m\u001B[0m\n\u001B[1;32m      8\u001B[0m             \u001B[0maccuracy_best\u001B[0m \u001B[0;34m=\u001B[0m \u001B[0maccuracy\u001B[0m\u001B[0;34m\u001B[0m\u001B[0;34m\u001B[0m\u001B[0m\n",
      "\u001B[0;32m/tmp/ipykernel_24755/399412112.py\u001B[0m in \u001B[0;36mcross_validation\u001B[0;34m(X, Y, x_y, alpha, legit_lambda)\u001B[0m\n\u001B[1;32m      6\u001B[0m         \u001B[0;32mfor\u001B[0m \u001B[0mi\u001B[0m \u001B[0;32min\u001B[0m \u001B[0mrange\u001B[0m\u001B[0;34m(\u001B[0m\u001B[0mlen\u001B[0m\u001B[0;34m(\u001B[0m\u001B[0mX_test\u001B[0m\u001B[0;34m)\u001B[0m\u001B[0;34m)\u001B[0m\u001B[0;34m:\u001B[0m\u001B[0;34m\u001B[0m\u001B[0;34m\u001B[0m\u001B[0m\n\u001B[1;32m      7\u001B[0m             \u001B[0mcur_elem\u001B[0m \u001B[0;34m=\u001B[0m \u001B[0mX_test\u001B[0m\u001B[0;34m[\u001B[0m\u001B[0mi\u001B[0m\u001B[0;34m]\u001B[0m\u001B[0;34m\u001B[0m\u001B[0;34m\u001B[0m\u001B[0m\n\u001B[0;32m----> 8\u001B[0;31m             \u001B[0mclasses_count\u001B[0m\u001B[0;34m,\u001B[0m \u001B[0mfrequency\u001B[0m \u001B[0;34m=\u001B[0m \u001B[0minit_Bayes\u001B[0m\u001B[0;34m(\u001B[0m\u001B[0mX_train\u001B[0m\u001B[0;34m,\u001B[0m \u001B[0mY_train\u001B[0m\u001B[0;34m)\u001B[0m\u001B[0;34m\u001B[0m\u001B[0;34m\u001B[0m\u001B[0m\n\u001B[0m\u001B[1;32m      9\u001B[0m             \u001B[0mY_predict\u001B[0m \u001B[0;34m=\u001B[0m \u001B[0mpredict\u001B[0m\u001B[0;34m(\u001B[0m\u001B[0mX\u001B[0m\u001B[0;34m,\u001B[0m \u001B[0mcur_elem\u001B[0m\u001B[0;34m,\u001B[0m \u001B[0;34m[\u001B[0m\u001B[0mlegit_lambda\u001B[0m\u001B[0;34m,\u001B[0m \u001B[0;36m1\u001B[0m\u001B[0;34m]\u001B[0m\u001B[0;34m,\u001B[0m \u001B[0malpha\u001B[0m\u001B[0;34m,\u001B[0m \u001B[0mclasses_count\u001B[0m\u001B[0;34m,\u001B[0m \u001B[0mfrequency\u001B[0m\u001B[0;34m)\u001B[0m\u001B[0;34m\u001B[0m\u001B[0;34m\u001B[0m\u001B[0m\n\u001B[1;32m     10\u001B[0m             \u001B[0mY_predicts\u001B[0m\u001B[0;34m.\u001B[0m\u001B[0mappend\u001B[0m\u001B[0;34m(\u001B[0m\u001B[0mY_predict\u001B[0m\u001B[0;34m)\u001B[0m\u001B[0;34m\u001B[0m\u001B[0;34m\u001B[0m\u001B[0m\n",
      "\u001B[0;32m/tmp/ipykernel_24755/2387486153.py\u001B[0m in \u001B[0;36minit_Bayes\u001B[0;34m(X, Y)\u001B[0m\n\u001B[1;32m     15\u001B[0m         \u001B[0;32mfor\u001B[0m \u001B[0mword\u001B[0m \u001B[0;32min\u001B[0m \u001B[0mmessage\u001B[0m\u001B[0;34m:\u001B[0m\u001B[0;34m\u001B[0m\u001B[0;34m\u001B[0m\u001B[0m\n\u001B[1;32m     16\u001B[0m             \u001B[0mwords\u001B[0m\u001B[0;34m.\u001B[0m\u001B[0madd\u001B[0m\u001B[0;34m(\u001B[0m\u001B[0mword\u001B[0m\u001B[0;34m)\u001B[0m\u001B[0;34m\u001B[0m\u001B[0;34m\u001B[0m\u001B[0m\n\u001B[0;32m---> 17\u001B[0;31m             \u001B[0mfrequency\u001B[0m\u001B[0;34m[\u001B[0m\u001B[0mmessage_type\u001B[0m\u001B[0;34m,\u001B[0m \u001B[0mword\u001B[0m\u001B[0;34m]\u001B[0m \u001B[0;34m+=\u001B[0m \u001B[0;36m1\u001B[0m\u001B[0;34m\u001B[0m\u001B[0;34m\u001B[0m\u001B[0m\n\u001B[0m\u001B[1;32m     18\u001B[0m \u001B[0;34m\u001B[0m\u001B[0m\n\u001B[1;32m     19\u001B[0m     \u001B[0;32mreturn\u001B[0m \u001B[0mclasses_count\u001B[0m\u001B[0;34m,\u001B[0m \u001B[0mfrequency\u001B[0m\u001B[0;34m\u001B[0m\u001B[0;34m\u001B[0m\u001B[0m\n",
      "\u001B[0;31mKeyboardInterrupt\u001B[0m: "
     ]
    }
   ],
   "source": [
    "accuracy_lambda_best, legit_lambda_best = lambda_optimization(X, Y, x_y, alpha_best, 300, 310)\n",
    "print('----------')\n",
    "print(f'Accuracy lambda best is {accuracy_lambda_best}')\n",
    "print(f'Legit lambda best is {legit_lambda_best}')"
   ],
   "metadata": {
    "collapsed": false,
    "pycharm": {
     "name": "#%%\n"
    }
   }
  },
  {
   "cell_type": "markdown",
   "source": [
    "лучшая лямбда 1е307"
   ],
   "metadata": {
    "collapsed": false,
    "pycharm": {
     "name": "#%% md\n"
    }
   }
  },
  {
   "cell_type": "code",
   "execution_count": 39,
   "outputs": [
    {
     "name": "stdout",
     "output_type": "stream",
     "text": [
      "Current legit lambda is 1e1.0\n",
      "Current accuracy is 1.0\n",
      "Current legit lambda is 1e101.0\n",
      "Current accuracy is 0.9990825688073395\n",
      "Current legit lambda is 1e201.0\n",
      "Current accuracy is 0.9954128440366973\n",
      "Current legit lambda is 1e301.0\n",
      "Current accuracy is 0.9798165137614679\n"
     ]
    }
   ],
   "source": [
    "legit_lambdas = [10 ** i for i in range(1, 307, 100)]\n",
    "accuracys = []\n",
    "for legit_lambda in legit_lambdas:\n",
    "    y_predicts = []\n",
    "    for i in range(len(X_all)):\n",
    "        elem = X_all[i]\n",
    "        classes_count, frequency = init_Bayes(X_all, Y_all)\n",
    "        pred = predict(X_all, elem, [legit_lambda, 1], alpha_best, classes_count, frequency)\n",
    "        y_predicts.append(pred)\n",
    "    accuracy = accuracy_score(Y_all, y_predicts)\n",
    "    accuracys.append(accuracy)\n",
    "    print('Current legit lambda is 1e{}'.format(math.log10(legit_lambda)))\n",
    "    print(f'Current accuracy is {accuracy}')"
   ],
   "metadata": {
    "collapsed": false,
    "pycharm": {
     "name": "#%%\n"
    }
   }
  },
  {
   "cell_type": "code",
   "execution_count": 40,
   "outputs": [
    {
     "data": {
      "text/plain": "<Figure size 1080x720 with 1 Axes>",
      "image/png": "[encoded data removed]"
     },
     "metadata": {
      "needs_background": "light"
     },
     "output_type": "display_data"
    }
   ],
   "source": [
    "plt.figure(figsize=(15, 10))\n",
    "plt.plot(legit_lambdas, accuracys, linestyle='-', marker='.')\n",
    "plt.xlabel('legit lambda')\n",
    "plt.ylabel('accuracy')\n",
    "plt.show()"
   ],
   "metadata": {
    "collapsed": false,
    "pycharm": {
     "name": "#%%\n"
    }
   }
  }
 ],
 "metadata": {
  "kernelspec": {
   "display_name": "Python 3",
   "language": "python",
   "name": "python3"
  },
  "language_info": {
   "codemirror_mode": {
    "name": "ipython",
    "version": 2
   },
   "file_extension": ".py",
   "mimetype": "text/x-python",
   "name": "python",
   "nbconvert_exporter": "python",
   "pygments_lexer": "ipython2",
   "version": "2.7.6"
  }
 },
 "nbformat": 4,
 "nbformat_minor": 0
}
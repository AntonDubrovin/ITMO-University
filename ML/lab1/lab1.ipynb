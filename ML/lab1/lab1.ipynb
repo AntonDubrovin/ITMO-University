{
 "cells": [
  {
   "cell_type": "code",
   "execution_count": 45,
   "metadata": {
    "collapsed": true
   },
   "outputs": [],
   "source": [
    "import pandas as pd\n",
    "import numpy as np"
   ]
  },
  {
   "cell_type": "code",
   "execution_count": 46,
   "outputs": [
    {
     "data": {
      "text/plain": "   class  Alcohol  Malic_acid   Ash  Alcalinity_of_ash  Magnesium  \\\n0      1    14.23        1.71  2.43               15.6        127   \n1      1    13.20        1.78  2.14               11.2        100   \n2      1    13.16        2.36  2.67               18.6        101   \n3      1    14.37        1.95  2.50               16.8        113   \n4      1    13.24        2.59  2.87               21.0        118   \n\n   Total_phenols  Flavanoids  Nonflavanoid_phenols  Proanthocyanins  \\\n0           2.80        3.06                  0.28             2.29   \n1           2.65        2.76                  0.26             1.28   \n2           2.80        3.24                  0.30             2.81   \n3           3.85        3.49                  0.24             2.18   \n4           2.80        2.69                  0.39             1.82   \n\n   Color_intensity   Hue  OD280%2FOD315_of_diluted_wines  Proline  \n0             5.64  1.04                            3.92     1065  \n1             4.38  1.05                            3.40     1050  \n2             5.68  1.03                            3.17     1185  \n3             7.80  0.86                            3.45     1480  \n4             4.32  1.04                            2.93      735  ",
      "text/html": "<div>\n<style scoped>\n    .dataframe tbody tr th:only-of-type {\n        vertical-align: middle;\n    }\n\n    .dataframe tbody tr th {\n        vertical-align: top;\n    }\n\n    .dataframe thead th {\n        text-align: right;\n    }\n</style>\n<table border=\"1\" class=\"dataframe\">\n  <thead>\n    <tr style=\"text-align: right;\">\n      <th></th>\n      <th>class</th>\n      <th>Alcohol</th>\n      <th>Malic_acid</th>\n      <th>Ash</th>\n      <th>Alcalinity_of_ash</th>\n      <th>Magnesium</th>\n      <th>Total_phenols</th>\n      <th>Flavanoids</th>\n      <th>Nonflavanoid_phenols</th>\n      <th>Proanthocyanins</th>\n      <th>Color_intensity</th>\n      <th>Hue</th>\n      <th>OD280%2FOD315_of_diluted_wines</th>\n      <th>Proline</th>\n    </tr>\n  </thead>\n  <tbody>\n    <tr>\n      <th>0</th>\n      <td>1</td>\n      <td>14.23</td>\n      <td>1.71</td>\n      <td>2.43</td>\n      <td>15.6</td>\n      <td>127</td>\n      <td>2.80</td>\n      <td>3.06</td>\n      <td>0.28</td>\n      <td>2.29</td>\n      <td>5.64</td>\n      <td>1.04</td>\n      <td>3.92</td>\n      <td>1065</td>\n    </tr>\n    <tr>\n      <th>1</th>\n      <td>1</td>\n      <td>13.20</td>\n      <td>1.78</td>\n      <td>2.14</td>\n      <td>11.2</td>\n      <td>100</td>\n      <td>2.65</td>\n      <td>2.76</td>\n      <td>0.26</td>\n      <td>1.28</td>\n      <td>4.38</td>\n      <td>1.05</td>\n      <td>3.40</td>\n      <td>1050</td>\n    </tr>\n    <tr>\n      <th>2</th>\n      <td>1</td>\n      <td>13.16</td>\n      <td>2.36</td>\n      <td>2.67</td>\n      <td>18.6</td>\n      <td>101</td>\n      <td>2.80</td>\n      <td>3.24</td>\n      <td>0.30</td>\n      <td>2.81</td>\n      <td>5.68</td>\n      <td>1.03</td>\n      <td>3.17</td>\n      <td>1185</td>\n    </tr>\n    <tr>\n      <th>3</th>\n      <td>1</td>\n      <td>14.37</td>\n      <td>1.95</td>\n      <td>2.50</td>\n      <td>16.8</td>\n      <td>113</td>\n      <td>3.85</td>\n      <td>3.49</td>\n      <td>0.24</td>\n      <td>2.18</td>\n      <td>7.80</td>\n      <td>0.86</td>\n      <td>3.45</td>\n      <td>1480</td>\n    </tr>\n    <tr>\n      <th>4</th>\n      <td>1</td>\n      <td>13.24</td>\n      <td>2.59</td>\n      <td>2.87</td>\n      <td>21.0</td>\n      <td>118</td>\n      <td>2.80</td>\n      <td>2.69</td>\n      <td>0.39</td>\n      <td>1.82</td>\n      <td>4.32</td>\n      <td>1.04</td>\n      <td>2.93</td>\n      <td>735</td>\n    </tr>\n  </tbody>\n</table>\n</div>"
     },
     "execution_count": 46,
     "metadata": {},
     "output_type": "execute_result"
    }
   ],
   "source": [
    "wine = pd.read_csv('dataset_191_wine.csv')\n",
    "wine.head()"
   ],
   "metadata": {
    "collapsed": false,
    "pycharm": {
     "name": "#%%\n"
    }
   }
  },
  {
   "cell_type": "markdown",
   "source": [
    "Заметим, что в датасете всего 3 класса"
   ],
   "metadata": {
    "collapsed": false
   }
  },
  {
   "cell_type": "code",
   "execution_count": 47,
   "outputs": [
    {
     "data": {
      "text/plain": "     class  Alcohol  Malic_acid   Ash  Alcalinity_of_ash  Magnesium  \\\n173      3    13.71        5.65  2.45               20.5         95   \n174      3    13.40        3.91  2.48               23.0        102   \n175      3    13.27        4.28  2.26               20.0        120   \n176      3    13.17        2.59  2.37               20.0        120   \n177      3    14.13        4.10  2.74               24.5         96   \n\n     Total_phenols  Flavanoids  Nonflavanoid_phenols  Proanthocyanins  \\\n173           1.68        0.61                  0.52             1.06   \n174           1.80        0.75                  0.43             1.41   \n175           1.59        0.69                  0.43             1.35   \n176           1.65        0.68                  0.53             1.46   \n177           2.05        0.76                  0.56             1.35   \n\n     Color_intensity   Hue  OD280%2FOD315_of_diluted_wines  Proline  \n173              7.7  0.64                            1.74      740  \n174              7.3  0.70                            1.56      750  \n175             10.2  0.59                            1.56      835  \n176              9.3  0.60                            1.62      840  \n177              9.2  0.61                            1.60      560  ",
      "text/html": "<div>\n<style scoped>\n    .dataframe tbody tr th:only-of-type {\n        vertical-align: middle;\n    }\n\n    .dataframe tbody tr th {\n        vertical-align: top;\n    }\n\n    .dataframe thead th {\n        text-align: right;\n    }\n</style>\n<table border=\"1\" class=\"dataframe\">\n  <thead>\n    <tr style=\"text-align: right;\">\n      <th></th>\n      <th>class</th>\n      <th>Alcohol</th>\n      <th>Malic_acid</th>\n      <th>Ash</th>\n      <th>Alcalinity_of_ash</th>\n      <th>Magnesium</th>\n      <th>Total_phenols</th>\n      <th>Flavanoids</th>\n      <th>Nonflavanoid_phenols</th>\n      <th>Proanthocyanins</th>\n      <th>Color_intensity</th>\n      <th>Hue</th>\n      <th>OD280%2FOD315_of_diluted_wines</th>\n      <th>Proline</th>\n    </tr>\n  </thead>\n  <tbody>\n    <tr>\n      <th>173</th>\n      <td>3</td>\n      <td>13.71</td>\n      <td>5.65</td>\n      <td>2.45</td>\n      <td>20.5</td>\n      <td>95</td>\n      <td>1.68</td>\n      <td>0.61</td>\n      <td>0.52</td>\n      <td>1.06</td>\n      <td>7.7</td>\n      <td>0.64</td>\n      <td>1.74</td>\n      <td>740</td>\n    </tr>\n    <tr>\n      <th>174</th>\n      <td>3</td>\n      <td>13.40</td>\n      <td>3.91</td>\n      <td>2.48</td>\n      <td>23.0</td>\n      <td>102</td>\n      <td>1.80</td>\n      <td>0.75</td>\n      <td>0.43</td>\n      <td>1.41</td>\n      <td>7.3</td>\n      <td>0.70</td>\n      <td>1.56</td>\n      <td>750</td>\n    </tr>\n    <tr>\n      <th>175</th>\n      <td>3</td>\n      <td>13.27</td>\n      <td>4.28</td>\n      <td>2.26</td>\n      <td>20.0</td>\n      <td>120</td>\n      <td>1.59</td>\n      <td>0.69</td>\n      <td>0.43</td>\n      <td>1.35</td>\n      <td>10.2</td>\n      <td>0.59</td>\n      <td>1.56</td>\n      <td>835</td>\n    </tr>\n    <tr>\n      <th>176</th>\n      <td>3</td>\n      <td>13.17</td>\n      <td>2.59</td>\n      <td>2.37</td>\n      <td>20.0</td>\n      <td>120</td>\n      <td>1.65</td>\n      <td>0.68</td>\n      <td>0.53</td>\n      <td>1.46</td>\n      <td>9.3</td>\n      <td>0.60</td>\n      <td>1.62</td>\n      <td>840</td>\n    </tr>\n    <tr>\n      <th>177</th>\n      <td>3</td>\n      <td>14.13</td>\n      <td>4.10</td>\n      <td>2.74</td>\n      <td>24.5</td>\n      <td>96</td>\n      <td>2.05</td>\n      <td>0.76</td>\n      <td>0.56</td>\n      <td>1.35</td>\n      <td>9.2</td>\n      <td>0.61</td>\n      <td>1.60</td>\n      <td>560</td>\n    </tr>\n  </tbody>\n</table>\n</div>"
     },
     "execution_count": 47,
     "metadata": {},
     "output_type": "execute_result"
    }
   ],
   "source": [
    "wine.tail()"
   ],
   "metadata": {
    "collapsed": false,
    "pycharm": {
     "name": "#%%\n"
    }
   }
  },
  {
   "cell_type": "markdown",
   "source": [
    "# Сведение к задаче регрессии и обработка данных"
   ],
   "metadata": {
    "collapsed": false
   }
  },
  {
   "cell_type": "markdown",
   "source": [
    "Заменяем целевой признак(колонку класса) на n числовых колонок с помощью OneHot преобразования(n - кол-во классов)\n",
    "Также мы видим, что в датасете нет нечисловых признаков"
   ],
   "metadata": {
    "collapsed": false
   }
  },
  {
   "cell_type": "code",
   "execution_count": 48,
   "outputs": [
    {
     "name": "stdout",
     "output_type": "stream",
     "text": [
      "     1  2  3\n",
      "0    1  0  0\n",
      "1    1  0  0\n",
      "2    1  0  0\n",
      "3    1  0  0\n",
      "4    1  0  0\n",
      "..  .. .. ..\n",
      "173  0  0  1\n",
      "174  0  0  1\n",
      "175  0  0  1\n",
      "176  0  0  1\n",
      "177  0  0  1\n",
      "\n",
      "[178 rows x 3 columns]\n"
     ]
    },
    {
     "data": {
      "text/plain": "   Alcohol  Malic_acid   Ash  Alcalinity_of_ash  Magnesium  Total_phenols  \\\n0    14.23        1.71  2.43               15.6        127           2.80   \n1    13.20        1.78  2.14               11.2        100           2.65   \n2    13.16        2.36  2.67               18.6        101           2.80   \n3    14.37        1.95  2.50               16.8        113           3.85   \n4    13.24        2.59  2.87               21.0        118           2.80   \n\n   Flavanoids  Nonflavanoid_phenols  Proanthocyanins  Color_intensity   Hue  \\\n0        3.06                  0.28             2.29             5.64  1.04   \n1        2.76                  0.26             1.28             4.38  1.05   \n2        3.24                  0.30             2.81             5.68  1.03   \n3        3.49                  0.24             2.18             7.80  0.86   \n4        2.69                  0.39             1.82             4.32  1.04   \n\n   OD280%2FOD315_of_diluted_wines  Proline  \n0                            3.92     1065  \n1                            3.40     1050  \n2                            3.17     1185  \n3                            3.45     1480  \n4                            2.93      735  ",
      "text/html": "<div>\n<style scoped>\n    .dataframe tbody tr th:only-of-type {\n        vertical-align: middle;\n    }\n\n    .dataframe tbody tr th {\n        vertical-align: top;\n    }\n\n    .dataframe thead th {\n        text-align: right;\n    }\n</style>\n<table border=\"1\" class=\"dataframe\">\n  <thead>\n    <tr style=\"text-align: right;\">\n      <th></th>\n      <th>Alcohol</th>\n      <th>Malic_acid</th>\n      <th>Ash</th>\n      <th>Alcalinity_of_ash</th>\n      <th>Magnesium</th>\n      <th>Total_phenols</th>\n      <th>Flavanoids</th>\n      <th>Nonflavanoid_phenols</th>\n      <th>Proanthocyanins</th>\n      <th>Color_intensity</th>\n      <th>Hue</th>\n      <th>OD280%2FOD315_of_diluted_wines</th>\n      <th>Proline</th>\n    </tr>\n  </thead>\n  <tbody>\n    <tr>\n      <th>0</th>\n      <td>14.23</td>\n      <td>1.71</td>\n      <td>2.43</td>\n      <td>15.6</td>\n      <td>127</td>\n      <td>2.80</td>\n      <td>3.06</td>\n      <td>0.28</td>\n      <td>2.29</td>\n      <td>5.64</td>\n      <td>1.04</td>\n      <td>3.92</td>\n      <td>1065</td>\n    </tr>\n    <tr>\n      <th>1</th>\n      <td>13.20</td>\n      <td>1.78</td>\n      <td>2.14</td>\n      <td>11.2</td>\n      <td>100</td>\n      <td>2.65</td>\n      <td>2.76</td>\n      <td>0.26</td>\n      <td>1.28</td>\n      <td>4.38</td>\n      <td>1.05</td>\n      <td>3.40</td>\n      <td>1050</td>\n    </tr>\n    <tr>\n      <th>2</th>\n      <td>13.16</td>\n      <td>2.36</td>\n      <td>2.67</td>\n      <td>18.6</td>\n      <td>101</td>\n      <td>2.80</td>\n      <td>3.24</td>\n      <td>0.30</td>\n      <td>2.81</td>\n      <td>5.68</td>\n      <td>1.03</td>\n      <td>3.17</td>\n      <td>1185</td>\n    </tr>\n    <tr>\n      <th>3</th>\n      <td>14.37</td>\n      <td>1.95</td>\n      <td>2.50</td>\n      <td>16.8</td>\n      <td>113</td>\n      <td>3.85</td>\n      <td>3.49</td>\n      <td>0.24</td>\n      <td>2.18</td>\n      <td>7.80</td>\n      <td>0.86</td>\n      <td>3.45</td>\n      <td>1480</td>\n    </tr>\n    <tr>\n      <th>4</th>\n      <td>13.24</td>\n      <td>2.59</td>\n      <td>2.87</td>\n      <td>21.0</td>\n      <td>118</td>\n      <td>2.80</td>\n      <td>2.69</td>\n      <td>0.39</td>\n      <td>1.82</td>\n      <td>4.32</td>\n      <td>1.04</td>\n      <td>2.93</td>\n      <td>735</td>\n    </tr>\n  </tbody>\n</table>\n</div>"
     },
     "execution_count": 48,
     "metadata": {},
     "output_type": "execute_result"
    }
   ],
   "source": [
    "one_hot = pd.get_dummies(wine['class'])\n",
    "print(one_hot)\n",
    "\n",
    "wine = wine.drop(['class'], axis=1)\n",
    "wine.head()"
   ],
   "metadata": {
    "collapsed": false,
    "pycharm": {
     "name": "#%%\n"
    }
   }
  },
  {
   "cell_type": "markdown",
   "source": [
    "Нормализуем датасет (Z- нормализация)"
   ],
   "metadata": {
    "collapsed": false
   }
  },
  {
   "cell_type": "code",
   "execution_count": 49,
   "outputs": [
    {
     "data": {
      "text/plain": "    Alcohol  Malic_acid       Ash  Alcalinity_of_ash  Magnesium  \\\n0  1.514341   -0.560668  0.231400          -1.166303   1.908522   \n1  0.245597   -0.498009 -0.825667          -2.483841   0.018094   \n2  0.196325    0.021172  1.106214          -0.267982   0.088110   \n3  1.686791   -0.345835  0.486554          -0.806975   0.928300   \n4  0.294868    0.227053  1.835226           0.450674   1.278379   \n\n   Total_phenols  Flavanoids  Nonflavanoid_phenols  Proanthocyanins  \\\n0       0.806722    1.031908             -0.657708         1.221438   \n1       0.567048    0.731565             -0.818411        -0.543189   \n2       0.806722    1.212114             -0.497005         2.129959   \n3       2.484437    1.462399             -0.979113         1.029251   \n4       0.806722    0.661485              0.226158         0.400275   \n\n   Color_intensity       Hue  OD280%2FOD315_of_diluted_wines   Proline  \n0         0.251009  0.361158                        1.842721  1.010159  \n1        -0.292496  0.404908                        1.110317  0.962526  \n2         0.268263  0.317409                        0.786369  1.391224  \n3         1.182732 -0.426341                        1.180741  2.328007  \n4        -0.318377  0.361158                        0.448336 -0.037767  ",
      "text/html": "<div>\n<style scoped>\n    .dataframe tbody tr th:only-of-type {\n        vertical-align: middle;\n    }\n\n    .dataframe tbody tr th {\n        vertical-align: top;\n    }\n\n    .dataframe thead th {\n        text-align: right;\n    }\n</style>\n<table border=\"1\" class=\"dataframe\">\n  <thead>\n    <tr style=\"text-align: right;\">\n      <th></th>\n      <th>Alcohol</th>\n      <th>Malic_acid</th>\n      <th>Ash</th>\n      <th>Alcalinity_of_ash</th>\n      <th>Magnesium</th>\n      <th>Total_phenols</th>\n      <th>Flavanoids</th>\n      <th>Nonflavanoid_phenols</th>\n      <th>Proanthocyanins</th>\n      <th>Color_intensity</th>\n      <th>Hue</th>\n      <th>OD280%2FOD315_of_diluted_wines</th>\n      <th>Proline</th>\n    </tr>\n  </thead>\n  <tbody>\n    <tr>\n      <th>0</th>\n      <td>1.514341</td>\n      <td>-0.560668</td>\n      <td>0.231400</td>\n      <td>-1.166303</td>\n      <td>1.908522</td>\n      <td>0.806722</td>\n      <td>1.031908</td>\n      <td>-0.657708</td>\n      <td>1.221438</td>\n      <td>0.251009</td>\n      <td>0.361158</td>\n      <td>1.842721</td>\n      <td>1.010159</td>\n    </tr>\n    <tr>\n      <th>1</th>\n      <td>0.245597</td>\n      <td>-0.498009</td>\n      <td>-0.825667</td>\n      <td>-2.483841</td>\n      <td>0.018094</td>\n      <td>0.567048</td>\n      <td>0.731565</td>\n      <td>-0.818411</td>\n      <td>-0.543189</td>\n      <td>-0.292496</td>\n      <td>0.404908</td>\n      <td>1.110317</td>\n      <td>0.962526</td>\n    </tr>\n    <tr>\n      <th>2</th>\n      <td>0.196325</td>\n      <td>0.021172</td>\n      <td>1.106214</td>\n      <td>-0.267982</td>\n      <td>0.088110</td>\n      <td>0.806722</td>\n      <td>1.212114</td>\n      <td>-0.497005</td>\n      <td>2.129959</td>\n      <td>0.268263</td>\n      <td>0.317409</td>\n      <td>0.786369</td>\n      <td>1.391224</td>\n    </tr>\n    <tr>\n      <th>3</th>\n      <td>1.686791</td>\n      <td>-0.345835</td>\n      <td>0.486554</td>\n      <td>-0.806975</td>\n      <td>0.928300</td>\n      <td>2.484437</td>\n      <td>1.462399</td>\n      <td>-0.979113</td>\n      <td>1.029251</td>\n      <td>1.182732</td>\n      <td>-0.426341</td>\n      <td>1.180741</td>\n      <td>2.328007</td>\n    </tr>\n    <tr>\n      <th>4</th>\n      <td>0.294868</td>\n      <td>0.227053</td>\n      <td>1.835226</td>\n      <td>0.450674</td>\n      <td>1.278379</td>\n      <td>0.806722</td>\n      <td>0.661485</td>\n      <td>0.226158</td>\n      <td>0.400275</td>\n      <td>-0.318377</td>\n      <td>0.361158</td>\n      <td>0.448336</td>\n      <td>-0.037767</td>\n    </tr>\n  </tbody>\n</table>\n</div>"
     },
     "execution_count": 49,
     "metadata": {},
     "output_type": "execute_result"
    }
   ],
   "source": [
    "norm_col = (wine - wine.mean()) / wine.std()\n",
    "wine[wine.columns] = norm_col\n",
    "wine.head()"
   ],
   "metadata": {
    "collapsed": false,
    "pycharm": {
     "name": "#%%\n"
    }
   }
  },
  {
   "cell_type": "markdown",
   "source": [
    "# Реализация алгоритма и настройка гиперпараметров, анализ результатов"
   ],
   "metadata": {
    "collapsed": false
   }
  },
  {
   "cell_type": "markdown",
   "source": [
    "Реализуем функции расстояния(Евклида, Манхэтенна, Чебышева)"
   ],
   "metadata": {
    "collapsed": false
   }
  },
  {
   "cell_type": "code",
   "execution_count": 50,
   "outputs": [],
   "source": [
    "def euclidean(a, b):\n",
    "    return np.sqrt(np.sum(np.square(a - b)))\n",
    "\n",
    "def manhattan(a, b):\n",
    "    return np.sum(np.abs(a - b))\n",
    "\n",
    "def chebyshev(a, b):\n",
    "    return np.max(np.abs(a - b))\n",
    "\n",
    "metrics = (euclidean, manhattan, chebyshev)"
   ],
   "metadata": {
    "collapsed": false,
    "pycharm": {
     "name": "#%%\n"
    }
   }
  },
  {
   "cell_type": "code",
   "execution_count": 51,
   "outputs": [
    {
     "name": "stdout",
     "output_type": "stream",
     "text": [
      "Евклид: 10.0\n",
      "Манхэттен: 20\n",
      "Чебышев: 5\n"
     ]
    }
   ],
   "source": [
    "a = np.array([5, 5, 5, 5])\n",
    "b = np.array([10, 10, 10, 10])\n",
    "print(f'Евклид: {euclidean(a, b)}') # sqrt((10 - 5)^2 + (10 - 5)^2 + (10 - 5)^2 + (10 - 5)^2) = sqrt(100) = 10\n",
    "print(f'Манхэттен: {manhattan(a, b)}') # |10 - 5| + |10 - 5| + |10 - 5| + |10 - 5| = 20\n",
    "print(f'Чебышев: {chebyshev(a, b)}') # max(|10 - 5|, |10 - 5|, |10 - 5|, |10 - 5|) = 5"
   ],
   "metadata": {
    "collapsed": false,
    "pycharm": {
     "name": "#%%\n"
    }
   }
  },
  {
   "cell_type": "markdown",
   "source": [
    "Реализуем функции ядра"
   ],
   "metadata": {
    "collapsed": false
   }
  },
  {
   "cell_type": "code",
   "execution_count": 52,
   "outputs": [],
   "source": [
    "def check(u) :\n",
    "    if abs(u) <= 1:\n",
    "        return 1\n",
    "    else:\n",
    "        return 0\n",
    "\n",
    "def uniform(u):\n",
    "    return 0.5 * check(u)\n",
    "\n",
    "def triangular(u):\n",
    "    return (1 - abs(u)) * check(u)\n",
    "\n",
    "def epanechnikov(u):\n",
    "    return (3 / 4 * (1 - pow(u, 2))) * check(u)\n",
    "\n",
    "def quartic(u):\n",
    "    return (15 / 16 * pow((1 - pow(u, 2)), 2)) * check(u)\n",
    "\n",
    "kernels = (uniform, triangular, epanechnikov, quartic)"
   ],
   "metadata": {
    "collapsed": false,
    "pycharm": {
     "name": "#%%\n"
    }
   }
  },
  {
   "cell_type": "code",
   "execution_count": 53,
   "outputs": [
    {
     "name": "stdout",
     "output_type": "stream",
     "text": [
      "Uniform: 0.0\n",
      "Triangular: 0\n",
      "Epanechnikov: -0.0\n",
      "Quartic: 0.0\n"
     ]
    }
   ],
   "source": [
    "u = 5\n",
    "print(f'Uniform: {uniform(u)}') # 1/2\n",
    "print(f'Triangular: {triangular(u)}') # 1 - |5| = -4\n",
    "print(f'Epanechnikov: {epanechnikov(u)}') # 3/4 * (1 - 5^2) = -18\n",
    "print(f'Quartic: {quartic(u)}') # 15/16 * (1 - 5^2)^2 = 540"
   ],
   "metadata": {
    "collapsed": false,
    "pycharm": {
     "name": "#%%\n"
    }
   }
  },
  {
   "cell_type": "markdown",
   "source": [
    "Реализуем для окон нефиксированной ширины нахождение k ближайших соседей"
   ],
   "metadata": {
    "collapsed": false
   }
  },
  {
   "cell_type": "code",
   "execution_count": 54,
   "outputs": [],
   "source": [
    "def find_neighbours(x, xs, distance, k):\n",
    "    distances_all = []\n",
    "    for xv in xs.values:\n",
    "        distances_all.append(distance(x, xv))\n",
    "    neighbours = []\n",
    "    max_distance = np.argmax(distances_all)\n",
    "    for i in range(k):\n",
    "        index = np.argmin(distances_all)\n",
    "        neighbours.append(index)\n",
    "        distances_all[index] = distances_all[max_distance]\n",
    "    return neighbours"
   ],
   "metadata": {
    "collapsed": false,
    "pycharm": {
     "name": "#%%\n"
    }
   }
  },
  {
   "cell_type": "markdown",
   "source": [
    "Реализуем формулу Надарая-Ватсона."
   ],
   "metadata": {
    "collapsed": false
   }
  },
  {
   "cell_type": "code",
   "execution_count": 55,
   "outputs": [],
   "source": [
    "def nadaraya_watson(x, x_train, y_train, dist, ker, h):\n",
    "    numerator = sum(y_i * ker(dist(x, x_i) / h) for x_i, y_i in zip(x_train.values, y_train.values)) if h != 0 else sum(y_i * ker(0) for y_i in y_train.values)\n",
    "    denominator = sum(ker(dist(x, x_i) / h) for x_i in x_train.values) if h != 0 else sum(ker(0) for _ in x_train.values)\n",
    "\n",
    "    return numerator / denominator"
   ],
   "metadata": {
    "collapsed": false,
    "pycharm": {
     "name": "#%%\n"
    }
   }
  },
  {
   "cell_type": "markdown",
   "source": [
    "Реализуем подсчёт F-меры"
   ],
   "metadata": {
    "collapsed": false
   }
  },
  {
   "cell_type": "code",
   "execution_count": 56,
   "outputs": [],
   "source": [
    "def f_measure(matrix, w):\n",
    "    recall = []\n",
    "    recallWeight = 0\n",
    "\n",
    "    for i in range(len(matrix)):\n",
    "        if sum(matrix[i]) != 0:\n",
    "            recall.append(matrix[i][i] / sum(matrix[i]))\n",
    "        else:\n",
    "            recall.append(0)\n",
    "\n",
    "    for i in range(len(recall)):\n",
    "        recallWeight += sum(matrix[i]) * recall[i]\n",
    "    recallWeight /= w\n",
    "\n",
    "    precision = []\n",
    "    precisionWeight = 0\n",
    "\n",
    "    for i in range(len(matrix)):\n",
    "        if (sum(matrix[i])) != 0:\n",
    "            precision.append(matrix[i][i] / sum([row[i] for row in matrix]))\n",
    "        else:\n",
    "            precision.append(0)\n",
    "\n",
    "    for i in range(len(precision)):\n",
    "        precisionWeight += sum(matrix[i]) * precision[i]\n",
    "    precisionWeight /= w\n",
    "\n",
    "    if precisionWeight + recallWeight == 0:\n",
    "        return 0\n",
    "    else:\n",
    "        return (2 * precisionWeight * recallWeight) / (precisionWeight + recallWeight)"
   ],
   "metadata": {
    "collapsed": false,
    "pycharm": {
     "name": "#%%\n"
    }
   }
  },
  {
   "cell_type": "markdown",
   "source": [
    "И реализуем Leave-one-out"
   ],
   "metadata": {
    "collapsed": false
   }
  },
  {
   "cell_type": "code",
   "execution_count": 57,
   "outputs": [],
   "source": [
    "number_of_classes = 3\n",
    "\n",
    "def leave_one_out(dtrain, ys, distance, kernel, h):\n",
    "    confusion_matrix = []\n",
    "    for i in range(3):\n",
    "        confusion_matrix.append([0, 0, 0])\n",
    "\n",
    "    for i in range(len(dtrain)):\n",
    "        object_for_prediction = dtrain.iloc[i]\n",
    "        d_left = dtrain.drop(i)\n",
    "        d_left.index = range(len(d_left))\n",
    "\n",
    "        real_class = ys.iloc[i]\n",
    "\n",
    "        classes_left = ys.drop(i)\n",
    "        classes_left.index = range(len(classes_left))\n",
    "        prediction =  np.argmax(nadaraya_watson(object_for_prediction, d_left, classes_left, distance, kernel, h(i)))\n",
    "        correct = 0\n",
    "        for j in range(len(real_class)):\n",
    "            if real_class.iloc[j] == 1:\n",
    "                correct = j\n",
    "                break\n",
    "        confusion_matrix[prediction][correct] += 1\n",
    "    return f_measure(confusion_matrix, len(dtrain))"
   ],
   "metadata": {
    "collapsed": false,
    "pycharm": {
     "name": "#%%\n"
    }
   }
  },
  {
   "cell_type": "markdown",
   "source": [
    "Теперь переберём всё это, чтобы найти лучшие гиперпараметры"
   ],
   "metadata": {
    "collapsed": false
   }
  },
  {
   "cell_type": "code",
   "execution_count": 58,
   "outputs": [
    {
     "name": "stdout",
     "output_type": "stream",
     "text": [
      "--------------------\n",
      "DISTANCE: euclidean\n",
      "Max distance: 11.179958739325548\n",
      "----------\n",
      "KERNEL: uniform\n"
     ]
    },
    {
     "name": "stderr",
     "output_type": "stream",
     "text": [
      "/tmp/ipykernel_14810/1584757456.py:5: RuntimeWarning: invalid value encountered in true_divide\n",
      "  return numerator / denominator\n"
     ]
    },
    {
     "name": "stdout",
     "output_type": "stream",
     "text": [
      "h: 0.837973335679072, f: 0.49789029535864976\n",
      "h: 1.675946671358144, f: 0.6955367344527429\n",
      "h: 2.513920007037216, f: 0.8927118613694605\n",
      "h: 3.351893342716288, f: 0.9626088510565197\n",
      "h: 4.18986667839536, f: 0.9677143145883671\n",
      "h: 5.027840014074432, f: 0.844348961356555\n",
      "h: 5.865813349753504, f: 0.7230946640620032\n",
      "h: 6.703786685432576, f: 0.5650423323813007\n",
      "h: 7.541760021111648, f: 0.5741531572619096\n",
      "h: 8.37973335679072, f: 0.570281124497992\n",
      "h: 9.217706692469791, f: 0.570281124497992\n",
      "h: 10.055680028148863, f: 0.570281124497992\n",
      "h: 10.893653363827935, f: 0.570281124497992\n",
      "current f_best: 0.9677143145883671\n",
      "----------\n",
      "----------\n",
      "KERNEL: triangular\n",
      "h: 0.837973335679072, f: 0.49789029535864976\n",
      "h: 1.675946671358144, f: 0.6955367344527429\n",
      "h: 2.513920007037216, f: 0.9031885392864804\n",
      "h: 3.351893342716288, f: 0.9575815307712161\n",
      "h: 4.18986667839536, f: 0.9728981873792321\n",
      "h: 5.027840014074432, f: 0.9781606917901725\n",
      "h: 5.865813349753504, f: 0.9781606917901725\n",
      "h: 6.703786685432576, f: 0.9721457860629209\n",
      "h: 7.541760021111648, f: 0.9609633762664551\n",
      "h: 8.37973335679072, f: 0.915365287462021\n",
      "h: 9.217706692469791, f: 0.8544435624872898\n",
      "h: 10.055680028148863, f: 0.8248358005286339\n",
      "h: 10.893653363827935, f: 0.794289866323282\n",
      "current f_best: 0.9781606917901725\n",
      "----------\n",
      "----------\n",
      "KERNEL: epanechnikov\n",
      "h: 0.837973335679072, f: 0.49789029535864976\n",
      "h: 1.675946671358144, f: 0.6955367344527429\n",
      "h: 2.513920007037216, f: 0.9031885392864804\n",
      "h: 3.351893342716288, f: 0.9575815307712161\n",
      "h: 4.18986667839536, f: 0.9728981873792321\n",
      "h: 5.027840014074432, f: 0.9781606917901725\n",
      "h: 5.865813349753504, f: 0.9723846392270058\n",
      "h: 6.703786685432576, f: 0.9609633762664551\n",
      "h: 7.541760021111648, f: 0.8782196039266214\n",
      "h: 8.37973335679072, f: 0.8200947468451796\n",
      "h: 9.217706692469791, f: 0.7538268691991042\n",
      "h: 10.055680028148863, f: 0.7178420319310759\n",
      "h: 10.893653363827935, f: 0.658702001862856\n",
      "current f_best: 0.9781606917901725\n",
      "----------\n",
      "----------\n",
      "KERNEL: quartic\n",
      "h: 0.837973335679072, f: 0.49789029535864976\n",
      "h: 1.675946671358144, f: 0.6955367344527429\n",
      "h: 2.513920007037216, f: 0.9031885392864804\n",
      "h: 3.351893342716288, f: 0.9477600319687217\n",
      "h: 4.18986667839536, f: 0.9677143145883671\n",
      "h: 5.027840014074432, f: 0.9781606917901725\n",
      "h: 5.865813349753504, f: 0.9781606917901725\n",
      "h: 6.703786685432576, f: 0.9777654115894824\n",
      "h: 7.541760021111648, f: 0.9721457860629209\n",
      "h: 8.37973335679072, f: 0.9609633762664551\n",
      "h: 9.217706692469791, f: 0.9099982516420311\n",
      "h: 10.055680028148863, f: 0.8494209924010201\n",
      "h: 10.893653363827935, f: 0.8169050940048422\n",
      "current f_best: 0.9781606917901725\n",
      "----------\n",
      "--------------------\n",
      "DISTANCE: manhattan\n",
      "Max distance: 31.911152817374177\n",
      "----------\n",
      "KERNEL: uniform\n",
      "h: 2.3918420269011507, f: 0.49789029535864976\n",
      "h: 4.783684053802301, f: 0.7024722448863779\n",
      "h: 7.175526080703452, f: 0.9073159836224163\n",
      "h: 9.567368107604603, f: 0.9677143145883671\n",
      "h: 11.959210134505753, f: 0.9677143145883671\n",
      "h: 14.351052161406903, f: 0.9048269148939823\n",
      "h: 16.742894188308053, f: 0.7953885414100482\n",
      "h: 19.134736215209205, f: 0.6473915741528713\n",
      "h: 21.526578242110357, f: 0.5881967258371753\n",
      "h: 23.91842026901151, f: 0.570281124497992\n",
      "h: 26.31026229591266, f: 0.570281124497992\n",
      "h: 28.702104322813813, f: 0.570281124497992\n",
      "h: 31.093946349714965, f: 0.570281124497992\n",
      "current f_best: 0.9781606917901725\n",
      "----------\n",
      "----------\n",
      "KERNEL: triangular\n",
      "h: 2.3918420269011507, f: 0.49789029535864976\n",
      "h: 4.783684053802301, f: 0.7024722448863779\n",
      "h: 7.175526080703452, f: 0.9115146597910396\n",
      "h: 9.567368107604603, f: 0.9575815307712161\n",
      "h: 11.959210134505753, f: 0.9728981873792321\n",
      "h: 14.351052161406903, f: 0.9728981873792321\n",
      "h: 16.742894188308053, f: 0.9677143145883671\n",
      "h: 19.134736215209205, f: 0.9670827518620869\n",
      "h: 21.526578242110357, f: 0.9722627564242049\n",
      "h: 23.91842026901151, f: 0.9499229952120808\n",
      "h: 26.31026229591266, f: 0.9010357612652415\n",
      "h: 28.702104322813813, f: 0.8550735491369856\n",
      "h: 31.093946349714965, f: 0.8354030034372959\n",
      "current f_best: 0.9781606917901725\n",
      "----------\n",
      "----------\n",
      "KERNEL: epanechnikov\n",
      "h: 2.3918420269011507, f: 0.49789029535864976\n",
      "h: 4.783684053802301, f: 0.7024722448863779\n",
      "h: 7.175526080703452, f: 0.9073159836224163\n",
      "h: 9.567368107604603, f: 0.9575815307712161\n",
      "h: 11.959210134505753, f: 0.9728981873792321\n",
      "h: 14.351052161406903, f: 0.9728981873792321\n",
      "h: 16.742894188308053, f: 0.9728981873792321\n",
      "h: 19.134736215209205, f: 0.9668424094611068\n",
      "h: 21.526578242110357, f: 0.9174549702760717\n",
      "h: 23.91842026901151, f: 0.8576421165469417\n",
      "h: 26.31026229591266, f: 0.8091859653250049\n",
      "h: 28.702104322813813, f: 0.7487783681372688\n",
      "h: 31.093946349714965, f: 0.7126526414875035\n",
      "current f_best: 0.9781606917901725\n",
      "----------\n",
      "----------\n",
      "KERNEL: quartic\n",
      "h: 2.3918420269011507, f: 0.49789029535864976\n",
      "h: 4.783684053802301, f: 0.7024722448863779\n",
      "h: 7.175526080703452, f: 0.9115146597910396\n",
      "h: 9.567368107604603, f: 0.9575815307712161\n",
      "h: 11.959210134505753, f: 0.9781606917901725\n",
      "h: 14.351052161406903, f: 0.9728981873792321\n",
      "h: 16.742894188308053, f: 0.9677143145883671\n",
      "h: 19.134736215209205, f: 0.9728981873792321\n",
      "h: 21.526578242110357, f: 0.9670827518620869\n",
      "h: 23.91842026901151, f: 0.9722627564242049\n",
      "h: 26.31026229591266, f: 0.938735265370556\n",
      "h: 28.702104322813813, f: 0.8961263804516084\n",
      "h: 31.093946349714965, f: 0.8515617890904111\n",
      "current f_best: 0.9781606917901725\n",
      "----------\n",
      "--------------------\n",
      "DISTANCE: chebyshev\n",
      "Max distance: 6.816259652987249\n",
      "----------\n",
      "KERNEL: uniform\n",
      "h: 0.5109002610337877, f: 0.49789029535864976\n",
      "h: 1.0218005220675754, f: 0.7598996008194041\n",
      "h: 1.532700783101363, f: 0.9259557040682899\n",
      "h: 2.043601044135151, f: 0.9575815307712161\n",
      "h: 2.5545013051689387, f: 0.8933288879114912\n",
      "h: 3.0654015662027265, f: 0.6773271010686367\n",
      "h: 3.5763018272365144, f: 0.5335061568340003\n",
      "h: 4.087202088270302, f: 0.5326275473679642\n",
      "h: 4.59810234930409, f: 0.5563165310570641\n",
      "h: 5.109002610337877, f: 0.5613446901051106\n",
      "h: 5.619902871371665, f: 0.570281124497992\n",
      "h: 6.130803132405453, f: 0.570281124497992\n",
      "h: 6.641703393439241, f: 0.570281124497992\n",
      "current f_best: 0.9781606917901725\n",
      "----------\n",
      "----------\n",
      "KERNEL: triangular\n",
      "h: 0.5109002610337877, f: 0.49789029535864976\n",
      "h: 1.0218005220675754, f: 0.7598996008194041\n",
      "h: 1.532700783101363, f: 0.9117986211679092\n",
      "h: 2.043601044135151, f: 0.945482245081554\n",
      "h: 2.5545013051689387, f: 0.96174282264581\n",
      "h: 3.0654015662027265, f: 0.9451018141298496\n",
      "h: 3.5763018272365144, f: 0.9178470109182436\n",
      "h: 4.087202088270302, f: 0.8574144944774129\n",
      "h: 4.59810234930409, f: 0.8355351158451794\n",
      "h: 5.109002610337877, f: 0.8029099118365411\n",
      "h: 5.619902871371665, f: 0.774339434618296\n",
      "h: 6.130803132405453, f: 0.7480305002938201\n",
      "h: 6.641703393439241, f: 0.7304001148055926\n",
      "current f_best: 0.9781606917901725\n",
      "----------\n",
      "----------\n",
      "KERNEL: epanechnikov\n",
      "h: 0.5109002610337877, f: 0.49789029535864976\n",
      "h: 1.0218005220675754, f: 0.7598996008194041\n",
      "h: 1.532700783101363, f: 0.9117986211679092\n",
      "h: 2.043601044135151, f: 0.9565982998283733\n",
      "h: 2.5545013051689387, f: 0.9565982998283733\n",
      "h: 3.0654015662027265, f: 0.9394994436080536\n",
      "h: 3.5763018272365144, f: 0.8633893601702168\n",
      "h: 4.087202088270302, f: 0.8189499444589701\n",
      "h: 4.59810234930409, f: 0.7562442396374888\n",
      "h: 5.109002610337877, f: 0.7083918418420143\n",
      "h: 5.619902871371665, f: 0.6609442500300964\n",
      "h: 6.130803132405453, f: 0.6050983344580464\n",
      "h: 6.641703393439241, f: 0.5875370219328351\n",
      "current f_best: 0.9781606917901725\n",
      "----------\n",
      "----------\n",
      "KERNEL: quartic\n",
      "h: 0.5109002610337877, f: 0.49789029535864976\n",
      "h: 1.0218005220675754, f: 0.7598996008194041\n",
      "h: 1.532700783101363, f: 0.9071927408117917\n",
      "h: 2.043601044135151, f: 0.945482245081554\n",
      "h: 2.5545013051689387, f: 0.9723261722394847\n",
      "h: 3.0654015662027265, f: 0.961801209566707\n",
      "h: 3.5763018272365144, f: 0.9343152387367867\n",
      "h: 4.087202088270302, f: 0.8920560488030576\n",
      "h: 4.59810234930409, f: 0.8574144944774129\n",
      "h: 5.109002610337877, f: 0.8355351158451794\n",
      "h: 5.619902871371665, f: 0.7918043622640333\n",
      "h: 6.130803132405453, f: 0.7682534853473457\n",
      "h: 6.641703393439241, f: 0.7116621096301875\n",
      "current f_best: 0.9781606917901725\n",
      "----------\n",
      "--------------------\n",
      "Best f: 0.9781606917901725\n",
      "Parameters: [<function euclidean at 0x7ff9dfebb9d0>, <function triangular at 0x7ff9dfed7550>, 5.027840014074432]\n"
     ]
    }
   ],
   "source": [
    "def find_best_parameters_fix_window(x, y):\n",
    "    f_best = 0\n",
    "    param_best = []\n",
    "    for metric in metrics:\n",
    "        print('--------------------')\n",
    "        print(f'DISTANCE: {metric.__name__}')\n",
    "\n",
    "        max_dist = 0\n",
    "        for xi in x.values:\n",
    "            for xj in x.values:\n",
    "                max_dist = max(max_dist, metric(xi, xj))\n",
    "        print(f'Max distance: {max_dist}')\n",
    "        step = max_dist / np.sqrt(len(x))\n",
    "\n",
    "        for kernel in kernels:\n",
    "            print('----------')\n",
    "            print(f'KERNEL: {kernel.__name__}')\n",
    "            h = step\n",
    "            while h <= max_dist:\n",
    "                f = leave_one_out(x, y, metric, kernel, lambda _: h)\n",
    "                print(f'h: {h}, f: {f}')\n",
    "                if f > f_best:\n",
    "                    f_best = f\n",
    "                    param_best = [metric, kernel, h]\n",
    "                h += step\n",
    "            print(f'current f_best: {f_best}')\n",
    "            print('----------')\n",
    "    print('--------------------')\n",
    "    print(f'Best f: {f_best}')\n",
    "    print(f'Parameters: {param_best}')\n",
    "    return param_best\n",
    "\n",
    "parameters = find_best_parameters_fix_window(wine, one_hot)"
   ],
   "metadata": {
    "collapsed": false,
    "pycharm": {
     "name": "#%%\n"
    }
   }
  },
  {
   "cell_type": "markdown",
   "source": [
    "Построим график"
   ],
   "metadata": {
    "collapsed": false
   }
  },
  {
   "cell_type": "code",
   "execution_count": 59,
   "outputs": [
    {
     "name": "stderr",
     "output_type": "stream",
     "text": [
      "/tmp/ipykernel_14810/1584757456.py:5: RuntimeWarning: invalid value encountered in true_divide\n",
      "  return numerator / denominator\n"
     ]
    }
   ],
   "source": [
    "r = 0\n",
    "for xi in wine.values:\n",
    "    for xj in wine.values:\n",
    "        r = max(r, parameters[0](xi, xj))\n",
    "h_ = st = r / np.sqrt(len(wine))\n",
    "\n",
    "f_values = []\n",
    "while h_ <= r:\n",
    "    f_values.append(leave_one_out(wine, one_hot, parameters[0], parameters[1], lambda _: h_))\n",
    "    h_ += st"
   ],
   "metadata": {
    "collapsed": false,
    "pycharm": {
     "name": "#%%\n"
    }
   }
  },
  {
   "cell_type": "code",
   "execution_count": 60,
   "outputs": [
    {
     "data": {
      "text/plain": "<Figure size 432x288 with 1 Axes>",
      "image/png": "[encoded data removed]"
     },
     "metadata": {
      "needs_background": "light"
     },
     "output_type": "display_data"
    }
   ],
   "source": [
    "import matplotlib.pyplot as plt\n",
    "\n",
    "sqrt = np.sqrt(len(wine))\n",
    "hs = range (1, round(sqrt) + 1)\n",
    "hs = hs * r / sqrt\n",
    "\n",
    "plt.plot(hs, f_values)\n",
    "plt.ylabel(\"f-measure\")\n",
    "plt.xlabel(\"window\")\n",
    "plt.show()"
   ],
   "metadata": {
    "collapsed": false,
    "pycharm": {
     "name": "#%%\n"
    }
   }
  },
  {
   "cell_type": "code",
   "execution_count": 62,
   "outputs": [
    {
     "name": "stdout",
     "output_type": "stream",
     "text": [
      "--------------------\n",
      "DISTANCE: euclidean\n",
      "----------\n",
      "KERNEL: uniform\n",
      "f: 0.584511197737522\n"
     ]
    },
    {
     "name": "stderr",
     "output_type": "stream",
     "text": [
      "/tmp/ipykernel_14810/1584757456.py:5: RuntimeWarning: invalid value encountered in true_divide\n",
      "  return numerator / denominator\n"
     ]
    },
    {
     "name": "stdout",
     "output_type": "stream",
     "text": [
      "f: 0.5848187299151276\n",
      "f: 0.5893668555465058\n",
      "f: 0.570281124497992\n",
      "f: 0.5982804647582252\n",
      "f: 0.5937373064859466\n",
      "f: 0.5937373064859466\n",
      "f: 0.5798226867657348\n",
      "f: 0.584511197737522\n",
      "f: 0.5708592679418488\n",
      "f: 0.5982804647582252\n",
      "f: 0.5798226867657348\n",
      "f: 0.5750802240461063\n",
      "f: 0.5937373064859466\n",
      "----------\n",
      "current f_max: 0.5982804647582252\n",
      "----------\n",
      "KERNEL: triangular\n",
      "f: 0.6290441120873471\n",
      "f: 0.6158715077269912\n",
      "f: 0.6499474638923399\n",
      "f: 0.6116643391536372\n",
      "f: 0.63758696641266\n",
      "f: 0.6544951284983593\n",
      "f: 0.6290441120873471\n",
      "f: 0.6072411180365445\n",
      "f: 0.6027807845349351\n",
      "f: 0.6069656540809264\n",
      "f: 0.63758696641266\n",
      "f: 0.6247403081840319\n",
      "f: 0.6115326832340987\n",
      "f: 0.6333253581474826\n",
      "----------\n",
      "current f_max: 0.6544951284983593\n",
      "----------\n",
      "KERNEL: epanechnikov\n",
      "f: 0.5982804647582252\n",
      "f: 0.6115326832340987\n",
      "f: 0.6244785424175303\n",
      "f: 0.5891484831422474\n",
      "f: 0.6204110241620066\n",
      "f: 0.63758696641266\n",
      "f: 0.6160533394510327\n",
      "f: 0.6027807845349351\n",
      "f: 0.5982804647582252\n",
      "f: 0.5937416137314944\n",
      "f: 0.6247403081840319\n",
      "f: 0.5937373064859466\n",
      "f: 0.5893668555465058\n",
      "f: 0.6204110241620066\n",
      "----------\n",
      "current f_max: 0.6544951284983593\n",
      "----------\n",
      "KERNEL: quartic\n",
      "f: 0.6247403081840319\n",
      "f: 0.6158715077269912\n",
      "f: 0.633011196712432\n",
      "f: 0.6072411180365445\n",
      "f: 0.6333253581474826\n",
      "f: 0.6544951284983593\n",
      "f: 0.6247403081840319\n",
      "f: 0.6072411180365445\n",
      "f: 0.6027807845349351\n",
      "f: 0.6025929283051903\n",
      "f: 0.6333253581474826\n",
      "f: 0.6247403081840319\n",
      "f: 0.6115326832340987\n",
      "f: 0.6333253581474826\n",
      "----------\n",
      "current f_max: 0.6544951284983593\n",
      "--------------------\n",
      "DISTANCE: manhattan\n",
      "----------\n",
      "KERNEL: uniform\n",
      "f: 0.6544951284983593\n",
      "f: 0.6544951284983593\n",
      "f: 0.6244785424175303\n",
      "f: 0.6502830502830502\n",
      "f: 0.633011196712432\n",
      "f: 0.6204110241620066\n",
      "f: 0.6244785424175303\n",
      "f: 0.6544951284983593\n",
      "f: 0.658702001862856\n",
      "f: 0.6204110241620066\n",
      "f: 0.6072411180365445\n",
      "f: 0.6539654949860426\n",
      "f: 0.6418318508167059\n",
      "f: 0.6502830502830502\n",
      "----------\n",
      "current f_max: 0.658702001862856\n",
      "----------\n",
      "KERNEL: triangular\n",
      "f: 0.7320189737920999\n",
      "f: 0.742441224946486\n",
      "f: 0.744127558522989\n",
      "f: 0.752051024910793\n",
      "f: 0.742441224946486\n",
      "f: 0.7472215200355645\n",
      "f: 0.742441224946486\n",
      "f: 0.752051024910793\n",
      "f: 0.7668500300740761\n",
      "f: 0.7769887854241077\n",
      "f: 0.7237785373683655\n",
      "f: 0.7641733551724464\n",
      "f: 0.7377085115819672\n",
      "f: 0.7746691954863644\n",
      "----------\n",
      "current f_max: 0.7769887854241077\n",
      "----------\n",
      "KERNEL: epanechnikov\n",
      "f: 0.6797562070655347\n",
      "f: 0.6839412192715588\n",
      "f: 0.6499474638923399\n",
      "f: 0.6753727239694914\n",
      "f: 0.6969525094783366\n",
      "f: 0.6499474638923399\n",
      "f: 0.6753727239694914\n",
      "f: 0.6796480643025589\n",
      "f: 0.7057605168497261\n",
      "f: 0.6797562070655347\n",
      "f: 0.6457222516275618\n",
      "f: 0.6974021772203125\n",
      "f: 0.6583973442826938\n",
      "f: 0.6925022235936904\n",
      "----------\n",
      "current f_max: 0.7769887854241077\n",
      "----------\n",
      "KERNEL: quartic\n",
      "f: 0.7146968294086735\n",
      "f: 0.7237785373683655\n",
      "f: 0.7202227883847743\n",
      "f: 0.733021682153477\n"
     ]
    },
    {
     "ename": "KeyboardInterrupt",
     "evalue": "",
     "output_type": "error",
     "traceback": [
      "\u001B[0;31m---------------------------------------------------------------------------\u001B[0m",
      "\u001B[0;31mKeyboardInterrupt\u001B[0m                         Traceback (most recent call last)",
      "\u001B[0;32m/tmp/ipykernel_14810/4165028947.py\u001B[0m in \u001B[0;36m<module>\u001B[0;34m\u001B[0m\n\u001B[1;32m     30\u001B[0m     \u001B[0;32mreturn\u001B[0m \u001B[0mparam_max\u001B[0m\u001B[0;34m\u001B[0m\u001B[0;34m\u001B[0m\u001B[0m\n\u001B[1;32m     31\u001B[0m \u001B[0;34m\u001B[0m\u001B[0m\n\u001B[0;32m---> 32\u001B[0;31m \u001B[0mother_parameters\u001B[0m \u001B[0;34m=\u001B[0m \u001B[0mfind_best_parameters_unfix_window\u001B[0m\u001B[0;34m(\u001B[0m\u001B[0mwine\u001B[0m\u001B[0;34m,\u001B[0m \u001B[0mone_hot\u001B[0m\u001B[0;34m)\u001B[0m\u001B[0;34m\u001B[0m\u001B[0;34m\u001B[0m\u001B[0m\n\u001B[0m",
      "\u001B[0;32m/tmp/ipykernel_14810/4165028947.py\u001B[0m in \u001B[0;36mfind_best_parameters_unfix_window\u001B[0;34m(x, y)\u001B[0m\n\u001B[1;32m     17\u001B[0m             \u001B[0mprint\u001B[0m\u001B[0;34m(\u001B[0m\u001B[0;34mf'KERNEL: {kernel.__name__}'\u001B[0m\u001B[0;34m)\u001B[0m\u001B[0;34m\u001B[0m\u001B[0;34m\u001B[0m\u001B[0m\n\u001B[1;32m     18\u001B[0m             \u001B[0;32mfor\u001B[0m \u001B[0mi\u001B[0m \u001B[0;32min\u001B[0m \u001B[0mrange\u001B[0m\u001B[0;34m(\u001B[0m\u001B[0msqrt_d\u001B[0m\u001B[0;34m)\u001B[0m\u001B[0;34m:\u001B[0m\u001B[0;34m\u001B[0m\u001B[0;34m\u001B[0m\u001B[0m\n\u001B[0;32m---> 19\u001B[0;31m                 \u001B[0mf_cur\u001B[0m \u001B[0;34m=\u001B[0m \u001B[0mleave_one_out\u001B[0m\u001B[0;34m(\u001B[0m\u001B[0mx\u001B[0m\u001B[0;34m,\u001B[0m \u001B[0my\u001B[0m\u001B[0;34m,\u001B[0m \u001B[0mmetric\u001B[0m\u001B[0;34m,\u001B[0m \u001B[0mkernel\u001B[0m\u001B[0;34m,\u001B[0m \u001B[0;32mlambda\u001B[0m \u001B[0mj\u001B[0m\u001B[0;34m:\u001B[0m \u001B[0mneighbors\u001B[0m\u001B[0;34m[\u001B[0m\u001B[0mj\u001B[0m\u001B[0;34m]\u001B[0m\u001B[0;34m[\u001B[0m\u001B[0mi\u001B[0m\u001B[0;34m]\u001B[0m\u001B[0;34m)\u001B[0m\u001B[0;34m\u001B[0m\u001B[0;34m\u001B[0m\u001B[0m\n\u001B[0m\u001B[1;32m     20\u001B[0m                 \u001B[0;32mif\u001B[0m \u001B[0mf_cur\u001B[0m \u001B[0;34m>\u001B[0m \u001B[0mf_max\u001B[0m\u001B[0;34m:\u001B[0m\u001B[0;34m\u001B[0m\u001B[0;34m\u001B[0m\u001B[0m\n\u001B[1;32m     21\u001B[0m                     \u001B[0mf_max\u001B[0m \u001B[0;34m=\u001B[0m \u001B[0mf_cur\u001B[0m\u001B[0;34m\u001B[0m\u001B[0;34m\u001B[0m\u001B[0m\n",
      "\u001B[0;32m/tmp/ipykernel_14810/4155363019.py\u001B[0m in \u001B[0;36mleave_one_out\u001B[0;34m(dtrain, ys, distance, kernel, h)\u001B[0m\n\u001B[1;32m     15\u001B[0m         \u001B[0mclasses_left\u001B[0m \u001B[0;34m=\u001B[0m \u001B[0mys\u001B[0m\u001B[0;34m.\u001B[0m\u001B[0mdrop\u001B[0m\u001B[0;34m(\u001B[0m\u001B[0mi\u001B[0m\u001B[0;34m)\u001B[0m\u001B[0;34m\u001B[0m\u001B[0;34m\u001B[0m\u001B[0m\n\u001B[1;32m     16\u001B[0m         \u001B[0mclasses_left\u001B[0m\u001B[0;34m.\u001B[0m\u001B[0mindex\u001B[0m \u001B[0;34m=\u001B[0m \u001B[0mrange\u001B[0m\u001B[0;34m(\u001B[0m\u001B[0mlen\u001B[0m\u001B[0;34m(\u001B[0m\u001B[0mclasses_left\u001B[0m\u001B[0;34m)\u001B[0m\u001B[0;34m)\u001B[0m\u001B[0;34m\u001B[0m\u001B[0;34m\u001B[0m\u001B[0m\n\u001B[0;32m---> 17\u001B[0;31m         \u001B[0mprediction\u001B[0m \u001B[0;34m=\u001B[0m  \u001B[0mnp\u001B[0m\u001B[0;34m.\u001B[0m\u001B[0margmax\u001B[0m\u001B[0;34m(\u001B[0m\u001B[0mnadaraya_watson\u001B[0m\u001B[0;34m(\u001B[0m\u001B[0mobject_for_prediction\u001B[0m\u001B[0;34m,\u001B[0m \u001B[0md_left\u001B[0m\u001B[0;34m,\u001B[0m \u001B[0mclasses_left\u001B[0m\u001B[0;34m,\u001B[0m \u001B[0mdistance\u001B[0m\u001B[0;34m,\u001B[0m \u001B[0mkernel\u001B[0m\u001B[0;34m,\u001B[0m \u001B[0mh\u001B[0m\u001B[0;34m(\u001B[0m\u001B[0mi\u001B[0m\u001B[0;34m)\u001B[0m\u001B[0;34m)\u001B[0m\u001B[0;34m)\u001B[0m\u001B[0;34m\u001B[0m\u001B[0;34m\u001B[0m\u001B[0m\n\u001B[0m\u001B[1;32m     18\u001B[0m         \u001B[0mcorrect\u001B[0m \u001B[0;34m=\u001B[0m \u001B[0;36m0\u001B[0m\u001B[0;34m\u001B[0m\u001B[0;34m\u001B[0m\u001B[0m\n\u001B[1;32m     19\u001B[0m         \u001B[0;32mfor\u001B[0m \u001B[0mj\u001B[0m \u001B[0;32min\u001B[0m \u001B[0mrange\u001B[0m\u001B[0;34m(\u001B[0m\u001B[0mlen\u001B[0m\u001B[0;34m(\u001B[0m\u001B[0mreal_class\u001B[0m\u001B[0;34m)\u001B[0m\u001B[0;34m)\u001B[0m\u001B[0;34m:\u001B[0m\u001B[0;34m\u001B[0m\u001B[0;34m\u001B[0m\u001B[0m\n",
      "\u001B[0;32m/tmp/ipykernel_14810/1584757456.py\u001B[0m in \u001B[0;36mnadaraya_watson\u001B[0;34m(x, x_train, y_train, dist, ker, h)\u001B[0m\n\u001B[1;32m      1\u001B[0m \u001B[0;32mdef\u001B[0m \u001B[0mnadaraya_watson\u001B[0m\u001B[0;34m(\u001B[0m\u001B[0mx\u001B[0m\u001B[0;34m,\u001B[0m \u001B[0mx_train\u001B[0m\u001B[0;34m,\u001B[0m \u001B[0my_train\u001B[0m\u001B[0;34m,\u001B[0m \u001B[0mdist\u001B[0m\u001B[0;34m,\u001B[0m \u001B[0mker\u001B[0m\u001B[0;34m,\u001B[0m \u001B[0mh\u001B[0m\u001B[0;34m)\u001B[0m\u001B[0;34m:\u001B[0m\u001B[0;34m\u001B[0m\u001B[0;34m\u001B[0m\u001B[0m\n\u001B[1;32m      2\u001B[0m     \u001B[0mnumerator\u001B[0m \u001B[0;34m=\u001B[0m \u001B[0msum\u001B[0m\u001B[0;34m(\u001B[0m\u001B[0my_i\u001B[0m \u001B[0;34m*\u001B[0m \u001B[0mker\u001B[0m\u001B[0;34m(\u001B[0m\u001B[0mdist\u001B[0m\u001B[0;34m(\u001B[0m\u001B[0mx\u001B[0m\u001B[0;34m,\u001B[0m \u001B[0mx_i\u001B[0m\u001B[0;34m)\u001B[0m \u001B[0;34m/\u001B[0m \u001B[0mh\u001B[0m\u001B[0;34m)\u001B[0m \u001B[0;32mfor\u001B[0m \u001B[0mx_i\u001B[0m\u001B[0;34m,\u001B[0m \u001B[0my_i\u001B[0m \u001B[0;32min\u001B[0m \u001B[0mzip\u001B[0m\u001B[0;34m(\u001B[0m\u001B[0mx_train\u001B[0m\u001B[0;34m.\u001B[0m\u001B[0mvalues\u001B[0m\u001B[0;34m,\u001B[0m \u001B[0my_train\u001B[0m\u001B[0;34m.\u001B[0m\u001B[0mvalues\u001B[0m\u001B[0;34m)\u001B[0m\u001B[0;34m)\u001B[0m \u001B[0;32mif\u001B[0m \u001B[0mh\u001B[0m \u001B[0;34m!=\u001B[0m \u001B[0;36m0\u001B[0m \u001B[0;32melse\u001B[0m \u001B[0msum\u001B[0m\u001B[0;34m(\u001B[0m\u001B[0my_i\u001B[0m \u001B[0;34m*\u001B[0m \u001B[0mker\u001B[0m\u001B[0;34m(\u001B[0m\u001B[0;36m0\u001B[0m\u001B[0;34m)\u001B[0m \u001B[0;32mfor\u001B[0m \u001B[0my_i\u001B[0m \u001B[0;32min\u001B[0m \u001B[0my_train\u001B[0m\u001B[0;34m.\u001B[0m\u001B[0mvalues\u001B[0m\u001B[0;34m)\u001B[0m\u001B[0;34m\u001B[0m\u001B[0;34m\u001B[0m\u001B[0m\n\u001B[0;32m----> 3\u001B[0;31m     \u001B[0mdenominator\u001B[0m \u001B[0;34m=\u001B[0m \u001B[0msum\u001B[0m\u001B[0;34m(\u001B[0m\u001B[0mker\u001B[0m\u001B[0;34m(\u001B[0m\u001B[0mdist\u001B[0m\u001B[0;34m(\u001B[0m\u001B[0mx\u001B[0m\u001B[0;34m,\u001B[0m \u001B[0mx_i\u001B[0m\u001B[0;34m)\u001B[0m \u001B[0;34m/\u001B[0m \u001B[0mh\u001B[0m\u001B[0;34m)\u001B[0m \u001B[0;32mfor\u001B[0m \u001B[0mx_i\u001B[0m \u001B[0;32min\u001B[0m \u001B[0mx_train\u001B[0m\u001B[0;34m.\u001B[0m\u001B[0mvalues\u001B[0m\u001B[0;34m)\u001B[0m \u001B[0;32mif\u001B[0m \u001B[0mh\u001B[0m \u001B[0;34m!=\u001B[0m \u001B[0;36m0\u001B[0m \u001B[0;32melse\u001B[0m \u001B[0msum\u001B[0m\u001B[0;34m(\u001B[0m\u001B[0mker\u001B[0m\u001B[0;34m(\u001B[0m\u001B[0;36m0\u001B[0m\u001B[0;34m)\u001B[0m \u001B[0;32mfor\u001B[0m \u001B[0m_\u001B[0m \u001B[0;32min\u001B[0m \u001B[0mx_train\u001B[0m\u001B[0;34m.\u001B[0m\u001B[0mvalues\u001B[0m\u001B[0;34m)\u001B[0m\u001B[0;34m\u001B[0m\u001B[0;34m\u001B[0m\u001B[0m\n\u001B[0m\u001B[1;32m      4\u001B[0m \u001B[0;34m\u001B[0m\u001B[0m\n\u001B[1;32m      5\u001B[0m     \u001B[0;32mreturn\u001B[0m \u001B[0mnumerator\u001B[0m \u001B[0;34m/\u001B[0m \u001B[0mdenominator\u001B[0m\u001B[0;34m\u001B[0m\u001B[0;34m\u001B[0m\u001B[0m\n",
      "\u001B[0;32m/tmp/ipykernel_14810/1584757456.py\u001B[0m in \u001B[0;36m<genexpr>\u001B[0;34m(.0)\u001B[0m\n\u001B[1;32m      1\u001B[0m \u001B[0;32mdef\u001B[0m \u001B[0mnadaraya_watson\u001B[0m\u001B[0;34m(\u001B[0m\u001B[0mx\u001B[0m\u001B[0;34m,\u001B[0m \u001B[0mx_train\u001B[0m\u001B[0;34m,\u001B[0m \u001B[0my_train\u001B[0m\u001B[0;34m,\u001B[0m \u001B[0mdist\u001B[0m\u001B[0;34m,\u001B[0m \u001B[0mker\u001B[0m\u001B[0;34m,\u001B[0m \u001B[0mh\u001B[0m\u001B[0;34m)\u001B[0m\u001B[0;34m:\u001B[0m\u001B[0;34m\u001B[0m\u001B[0;34m\u001B[0m\u001B[0m\n\u001B[1;32m      2\u001B[0m     \u001B[0mnumerator\u001B[0m \u001B[0;34m=\u001B[0m \u001B[0msum\u001B[0m\u001B[0;34m(\u001B[0m\u001B[0my_i\u001B[0m \u001B[0;34m*\u001B[0m \u001B[0mker\u001B[0m\u001B[0;34m(\u001B[0m\u001B[0mdist\u001B[0m\u001B[0;34m(\u001B[0m\u001B[0mx\u001B[0m\u001B[0;34m,\u001B[0m \u001B[0mx_i\u001B[0m\u001B[0;34m)\u001B[0m \u001B[0;34m/\u001B[0m \u001B[0mh\u001B[0m\u001B[0;34m)\u001B[0m \u001B[0;32mfor\u001B[0m \u001B[0mx_i\u001B[0m\u001B[0;34m,\u001B[0m \u001B[0my_i\u001B[0m \u001B[0;32min\u001B[0m \u001B[0mzip\u001B[0m\u001B[0;34m(\u001B[0m\u001B[0mx_train\u001B[0m\u001B[0;34m.\u001B[0m\u001B[0mvalues\u001B[0m\u001B[0;34m,\u001B[0m \u001B[0my_train\u001B[0m\u001B[0;34m.\u001B[0m\u001B[0mvalues\u001B[0m\u001B[0;34m)\u001B[0m\u001B[0;34m)\u001B[0m \u001B[0;32mif\u001B[0m \u001B[0mh\u001B[0m \u001B[0;34m!=\u001B[0m \u001B[0;36m0\u001B[0m \u001B[0;32melse\u001B[0m \u001B[0msum\u001B[0m\u001B[0;34m(\u001B[0m\u001B[0my_i\u001B[0m \u001B[0;34m*\u001B[0m \u001B[0mker\u001B[0m\u001B[0;34m(\u001B[0m\u001B[0;36m0\u001B[0m\u001B[0;34m)\u001B[0m \u001B[0;32mfor\u001B[0m \u001B[0my_i\u001B[0m \u001B[0;32min\u001B[0m \u001B[0my_train\u001B[0m\u001B[0;34m.\u001B[0m\u001B[0mvalues\u001B[0m\u001B[0;34m)\u001B[0m\u001B[0;34m\u001B[0m\u001B[0;34m\u001B[0m\u001B[0m\n\u001B[0;32m----> 3\u001B[0;31m     \u001B[0mdenominator\u001B[0m \u001B[0;34m=\u001B[0m \u001B[0msum\u001B[0m\u001B[0;34m(\u001B[0m\u001B[0mker\u001B[0m\u001B[0;34m(\u001B[0m\u001B[0mdist\u001B[0m\u001B[0;34m(\u001B[0m\u001B[0mx\u001B[0m\u001B[0;34m,\u001B[0m \u001B[0mx_i\u001B[0m\u001B[0;34m)\u001B[0m \u001B[0;34m/\u001B[0m \u001B[0mh\u001B[0m\u001B[0;34m)\u001B[0m \u001B[0;32mfor\u001B[0m \u001B[0mx_i\u001B[0m \u001B[0;32min\u001B[0m \u001B[0mx_train\u001B[0m\u001B[0;34m.\u001B[0m\u001B[0mvalues\u001B[0m\u001B[0;34m)\u001B[0m \u001B[0;32mif\u001B[0m \u001B[0mh\u001B[0m \u001B[0;34m!=\u001B[0m \u001B[0;36m0\u001B[0m \u001B[0;32melse\u001B[0m \u001B[0msum\u001B[0m\u001B[0;34m(\u001B[0m\u001B[0mker\u001B[0m\u001B[0;34m(\u001B[0m\u001B[0;36m0\u001B[0m\u001B[0;34m)\u001B[0m \u001B[0;32mfor\u001B[0m \u001B[0m_\u001B[0m \u001B[0;32min\u001B[0m \u001B[0mx_train\u001B[0m\u001B[0;34m.\u001B[0m\u001B[0mvalues\u001B[0m\u001B[0;34m)\u001B[0m\u001B[0;34m\u001B[0m\u001B[0;34m\u001B[0m\u001B[0m\n\u001B[0m\u001B[1;32m      4\u001B[0m \u001B[0;34m\u001B[0m\u001B[0m\n\u001B[1;32m      5\u001B[0m     \u001B[0;32mreturn\u001B[0m \u001B[0mnumerator\u001B[0m \u001B[0;34m/\u001B[0m \u001B[0mdenominator\u001B[0m\u001B[0;34m\u001B[0m\u001B[0;34m\u001B[0m\u001B[0m\n",
      "\u001B[0;32m/tmp/ipykernel_14810/4157665619.py\u001B[0m in \u001B[0;36mmanhattan\u001B[0;34m(a, b)\u001B[0m\n\u001B[1;32m      3\u001B[0m \u001B[0;34m\u001B[0m\u001B[0m\n\u001B[1;32m      4\u001B[0m \u001B[0;32mdef\u001B[0m \u001B[0mmanhattan\u001B[0m\u001B[0;34m(\u001B[0m\u001B[0ma\u001B[0m\u001B[0;34m,\u001B[0m \u001B[0mb\u001B[0m\u001B[0;34m)\u001B[0m\u001B[0;34m:\u001B[0m\u001B[0;34m\u001B[0m\u001B[0;34m\u001B[0m\u001B[0m\n\u001B[0;32m----> 5\u001B[0;31m     \u001B[0;32mreturn\u001B[0m \u001B[0mnp\u001B[0m\u001B[0;34m.\u001B[0m\u001B[0msum\u001B[0m\u001B[0;34m(\u001B[0m\u001B[0mnp\u001B[0m\u001B[0;34m.\u001B[0m\u001B[0mabs\u001B[0m\u001B[0;34m(\u001B[0m\u001B[0ma\u001B[0m \u001B[0;34m-\u001B[0m \u001B[0mb\u001B[0m\u001B[0;34m)\u001B[0m\u001B[0;34m)\u001B[0m\u001B[0;34m\u001B[0m\u001B[0;34m\u001B[0m\u001B[0m\n\u001B[0m\u001B[1;32m      6\u001B[0m \u001B[0;34m\u001B[0m\u001B[0m\n\u001B[1;32m      7\u001B[0m \u001B[0;32mdef\u001B[0m \u001B[0mchebyshev\u001B[0m\u001B[0;34m(\u001B[0m\u001B[0ma\u001B[0m\u001B[0;34m,\u001B[0m \u001B[0mb\u001B[0m\u001B[0;34m)\u001B[0m\u001B[0;34m:\u001B[0m\u001B[0;34m\u001B[0m\u001B[0;34m\u001B[0m\u001B[0m\n",
      "\u001B[0;32m<__array_function__ internals>\u001B[0m in \u001B[0;36msum\u001B[0;34m(*args, **kwargs)\u001B[0m\n",
      "\u001B[0;32m~/anaconda3/lib/python3.9/site-packages/numpy/core/fromnumeric.py\u001B[0m in \u001B[0;36msum\u001B[0;34m(a, axis, dtype, out, keepdims, initial, where)\u001B[0m\n\u001B[1;32m   2245\u001B[0m         \u001B[0;32mreturn\u001B[0m \u001B[0mres\u001B[0m\u001B[0;34m\u001B[0m\u001B[0;34m\u001B[0m\u001B[0m\n\u001B[1;32m   2246\u001B[0m \u001B[0;34m\u001B[0m\u001B[0m\n\u001B[0;32m-> 2247\u001B[0;31m     return _wrapreduction(a, np.add, 'sum', axis, dtype, out, keepdims=keepdims,\n\u001B[0m\u001B[1;32m   2248\u001B[0m                           initial=initial, where=where)\n\u001B[1;32m   2249\u001B[0m \u001B[0;34m\u001B[0m\u001B[0m\n",
      "\u001B[0;32m~/anaconda3/lib/python3.9/site-packages/numpy/core/fromnumeric.py\u001B[0m in \u001B[0;36m_wrapreduction\u001B[0;34m(obj, ufunc, method, axis, dtype, out, **kwargs)\u001B[0m\n\u001B[1;32m     83\u001B[0m                 \u001B[0;32mreturn\u001B[0m \u001B[0mreduction\u001B[0m\u001B[0;34m(\u001B[0m\u001B[0maxis\u001B[0m\u001B[0;34m=\u001B[0m\u001B[0maxis\u001B[0m\u001B[0;34m,\u001B[0m \u001B[0mdtype\u001B[0m\u001B[0;34m=\u001B[0m\u001B[0mdtype\u001B[0m\u001B[0;34m,\u001B[0m \u001B[0mout\u001B[0m\u001B[0;34m=\u001B[0m\u001B[0mout\u001B[0m\u001B[0;34m,\u001B[0m \u001B[0;34m**\u001B[0m\u001B[0mpasskwargs\u001B[0m\u001B[0;34m)\u001B[0m\u001B[0;34m\u001B[0m\u001B[0;34m\u001B[0m\u001B[0m\n\u001B[1;32m     84\u001B[0m             \u001B[0;32melse\u001B[0m\u001B[0;34m:\u001B[0m\u001B[0;34m\u001B[0m\u001B[0;34m\u001B[0m\u001B[0m\n\u001B[0;32m---> 85\u001B[0;31m                 \u001B[0;32mreturn\u001B[0m \u001B[0mreduction\u001B[0m\u001B[0;34m(\u001B[0m\u001B[0maxis\u001B[0m\u001B[0;34m=\u001B[0m\u001B[0maxis\u001B[0m\u001B[0;34m,\u001B[0m \u001B[0mout\u001B[0m\u001B[0;34m=\u001B[0m\u001B[0mout\u001B[0m\u001B[0;34m,\u001B[0m \u001B[0;34m**\u001B[0m\u001B[0mpasskwargs\u001B[0m\u001B[0;34m)\u001B[0m\u001B[0;34m\u001B[0m\u001B[0;34m\u001B[0m\u001B[0m\n\u001B[0m\u001B[1;32m     86\u001B[0m \u001B[0;34m\u001B[0m\u001B[0m\n\u001B[1;32m     87\u001B[0m     \u001B[0;32mreturn\u001B[0m \u001B[0mufunc\u001B[0m\u001B[0;34m.\u001B[0m\u001B[0mreduce\u001B[0m\u001B[0;34m(\u001B[0m\u001B[0mobj\u001B[0m\u001B[0;34m,\u001B[0m \u001B[0maxis\u001B[0m\u001B[0;34m,\u001B[0m \u001B[0mdtype\u001B[0m\u001B[0;34m,\u001B[0m \u001B[0mout\u001B[0m\u001B[0;34m,\u001B[0m \u001B[0;34m**\u001B[0m\u001B[0mpasskwargs\u001B[0m\u001B[0;34m)\u001B[0m\u001B[0;34m\u001B[0m\u001B[0;34m\u001B[0m\u001B[0m\n",
      "\u001B[0;32m~/anaconda3/lib/python3.9/site-packages/pandas/core/generic.py\u001B[0m in \u001B[0;36msum\u001B[0;34m(self, axis, skipna, level, numeric_only, min_count, **kwargs)\u001B[0m\n\u001B[1;32m  10706\u001B[0m             \u001B[0;34m**\u001B[0m\u001B[0mkwargs\u001B[0m\u001B[0;34m,\u001B[0m\u001B[0;34m\u001B[0m\u001B[0;34m\u001B[0m\u001B[0m\n\u001B[1;32m  10707\u001B[0m         ):\n\u001B[0;32m> 10708\u001B[0;31m             return NDFrame.sum(\n\u001B[0m\u001B[1;32m  10709\u001B[0m                 \u001B[0mself\u001B[0m\u001B[0;34m,\u001B[0m \u001B[0maxis\u001B[0m\u001B[0;34m,\u001B[0m \u001B[0mskipna\u001B[0m\u001B[0;34m,\u001B[0m \u001B[0mlevel\u001B[0m\u001B[0;34m,\u001B[0m \u001B[0mnumeric_only\u001B[0m\u001B[0;34m,\u001B[0m \u001B[0mmin_count\u001B[0m\u001B[0;34m,\u001B[0m \u001B[0;34m**\u001B[0m\u001B[0mkwargs\u001B[0m\u001B[0;34m\u001B[0m\u001B[0;34m\u001B[0m\u001B[0m\n\u001B[1;32m  10710\u001B[0m             )\n",
      "\u001B[0;32m~/anaconda3/lib/python3.9/site-packages/pandas/core/generic.py\u001B[0m in \u001B[0;36msum\u001B[0;34m(self, axis, skipna, level, numeric_only, min_count, **kwargs)\u001B[0m\n\u001B[1;32m  10444\u001B[0m         \u001B[0;34m**\u001B[0m\u001B[0mkwargs\u001B[0m\u001B[0;34m,\u001B[0m\u001B[0;34m\u001B[0m\u001B[0;34m\u001B[0m\u001B[0m\n\u001B[1;32m  10445\u001B[0m     ):\n\u001B[0;32m> 10446\u001B[0;31m         return self._min_count_stat_function(\n\u001B[0m\u001B[1;32m  10447\u001B[0m             \u001B[0;34m\"sum\"\u001B[0m\u001B[0;34m,\u001B[0m \u001B[0mnanops\u001B[0m\u001B[0;34m.\u001B[0m\u001B[0mnansum\u001B[0m\u001B[0;34m,\u001B[0m \u001B[0maxis\u001B[0m\u001B[0;34m,\u001B[0m \u001B[0mskipna\u001B[0m\u001B[0;34m,\u001B[0m \u001B[0mlevel\u001B[0m\u001B[0;34m,\u001B[0m \u001B[0mnumeric_only\u001B[0m\u001B[0;34m,\u001B[0m \u001B[0mmin_count\u001B[0m\u001B[0;34m,\u001B[0m \u001B[0;34m**\u001B[0m\u001B[0mkwargs\u001B[0m\u001B[0;34m\u001B[0m\u001B[0;34m\u001B[0m\u001B[0m\n\u001B[1;32m  10448\u001B[0m         )\n",
      "\u001B[0;32m~/anaconda3/lib/python3.9/site-packages/pandas/core/generic.py\u001B[0m in \u001B[0;36m_min_count_stat_function\u001B[0;34m(self, name, func, axis, skipna, level, numeric_only, min_count, **kwargs)\u001B[0m\n\u001B[1;32m  10426\u001B[0m                 \u001B[0mnumeric_only\u001B[0m\u001B[0;34m=\u001B[0m\u001B[0mnumeric_only\u001B[0m\u001B[0;34m,\u001B[0m\u001B[0;34m\u001B[0m\u001B[0;34m\u001B[0m\u001B[0m\n\u001B[1;32m  10427\u001B[0m             )\n\u001B[0;32m> 10428\u001B[0;31m         return self._reduce(\n\u001B[0m\u001B[1;32m  10429\u001B[0m             \u001B[0mfunc\u001B[0m\u001B[0;34m,\u001B[0m\u001B[0;34m\u001B[0m\u001B[0;34m\u001B[0m\u001B[0m\n\u001B[1;32m  10430\u001B[0m             \u001B[0mname\u001B[0m\u001B[0;34m=\u001B[0m\u001B[0mname\u001B[0m\u001B[0;34m,\u001B[0m\u001B[0;34m\u001B[0m\u001B[0;34m\u001B[0m\u001B[0m\n",
      "\u001B[0;32m~/anaconda3/lib/python3.9/site-packages/pandas/core/series.py\u001B[0m in \u001B[0;36m_reduce\u001B[0;34m(self, op, name, axis, skipna, numeric_only, filter_type, **kwds)\u001B[0m\n\u001B[1;32m   4390\u001B[0m                 )\n\u001B[1;32m   4391\u001B[0m             \u001B[0;32mwith\u001B[0m \u001B[0mnp\u001B[0m\u001B[0;34m.\u001B[0m\u001B[0merrstate\u001B[0m\u001B[0;34m(\u001B[0m\u001B[0mall\u001B[0m\u001B[0;34m=\u001B[0m\u001B[0;34m\"ignore\"\u001B[0m\u001B[0;34m)\u001B[0m\u001B[0;34m:\u001B[0m\u001B[0;34m\u001B[0m\u001B[0;34m\u001B[0m\u001B[0m\n\u001B[0;32m-> 4392\u001B[0;31m                 \u001B[0;32mreturn\u001B[0m \u001B[0mop\u001B[0m\u001B[0;34m(\u001B[0m\u001B[0mdelegate\u001B[0m\u001B[0;34m,\u001B[0m \u001B[0mskipna\u001B[0m\u001B[0;34m=\u001B[0m\u001B[0mskipna\u001B[0m\u001B[0;34m,\u001B[0m \u001B[0;34m**\u001B[0m\u001B[0mkwds\u001B[0m\u001B[0;34m)\u001B[0m\u001B[0;34m\u001B[0m\u001B[0;34m\u001B[0m\u001B[0m\n\u001B[0m\u001B[1;32m   4393\u001B[0m \u001B[0;34m\u001B[0m\u001B[0m\n\u001B[1;32m   4394\u001B[0m     def _reindex_indexer(\n",
      "\u001B[0;32m~/anaconda3/lib/python3.9/site-packages/pandas/core/nanops.py\u001B[0m in \u001B[0;36m_f\u001B[0;34m(*args, **kwargs)\u001B[0m\n\u001B[1;32m     90\u001B[0m                 )\n\u001B[1;32m     91\u001B[0m             \u001B[0;32mtry\u001B[0m\u001B[0;34m:\u001B[0m\u001B[0;34m\u001B[0m\u001B[0;34m\u001B[0m\u001B[0m\n\u001B[0;32m---> 92\u001B[0;31m                 \u001B[0;32mwith\u001B[0m \u001B[0mnp\u001B[0m\u001B[0;34m.\u001B[0m\u001B[0merrstate\u001B[0m\u001B[0;34m(\u001B[0m\u001B[0minvalid\u001B[0m\u001B[0;34m=\u001B[0m\u001B[0;34m\"ignore\"\u001B[0m\u001B[0;34m)\u001B[0m\u001B[0;34m:\u001B[0m\u001B[0;34m\u001B[0m\u001B[0;34m\u001B[0m\u001B[0m\n\u001B[0m\u001B[1;32m     93\u001B[0m                     \u001B[0;32mreturn\u001B[0m \u001B[0mf\u001B[0m\u001B[0;34m(\u001B[0m\u001B[0;34m*\u001B[0m\u001B[0margs\u001B[0m\u001B[0;34m,\u001B[0m \u001B[0;34m**\u001B[0m\u001B[0mkwargs\u001B[0m\u001B[0;34m)\u001B[0m\u001B[0;34m\u001B[0m\u001B[0;34m\u001B[0m\u001B[0m\n\u001B[1;32m     94\u001B[0m             \u001B[0;32mexcept\u001B[0m \u001B[0mValueError\u001B[0m \u001B[0;32mas\u001B[0m \u001B[0me\u001B[0m\u001B[0;34m:\u001B[0m\u001B[0;34m\u001B[0m\u001B[0;34m\u001B[0m\u001B[0m\n",
      "\u001B[0;32m~/anaconda3/lib/python3.9/site-packages/numpy/core/_ufunc_config.py\u001B[0m in \u001B[0;36m__init__\u001B[0;34m(self, call, **kwargs)\u001B[0m\n\u001B[1;32m    427\u001B[0m     \"\"\"\n\u001B[1;32m    428\u001B[0m \u001B[0;34m\u001B[0m\u001B[0m\n\u001B[0;32m--> 429\u001B[0;31m     \u001B[0;32mdef\u001B[0m \u001B[0m__init__\u001B[0m\u001B[0;34m(\u001B[0m\u001B[0mself\u001B[0m\u001B[0;34m,\u001B[0m \u001B[0;34m*\u001B[0m\u001B[0;34m,\u001B[0m \u001B[0mcall\u001B[0m\u001B[0;34m=\u001B[0m\u001B[0m_Unspecified\u001B[0m\u001B[0;34m,\u001B[0m \u001B[0;34m**\u001B[0m\u001B[0mkwargs\u001B[0m\u001B[0;34m)\u001B[0m\u001B[0;34m:\u001B[0m\u001B[0;34m\u001B[0m\u001B[0;34m\u001B[0m\u001B[0m\n\u001B[0m\u001B[1;32m    430\u001B[0m         \u001B[0mself\u001B[0m\u001B[0;34m.\u001B[0m\u001B[0mcall\u001B[0m \u001B[0;34m=\u001B[0m \u001B[0mcall\u001B[0m\u001B[0;34m\u001B[0m\u001B[0;34m\u001B[0m\u001B[0m\n\u001B[1;32m    431\u001B[0m         \u001B[0mself\u001B[0m\u001B[0;34m.\u001B[0m\u001B[0mkwargs\u001B[0m \u001B[0;34m=\u001B[0m \u001B[0mkwargs\u001B[0m\u001B[0;34m\u001B[0m\u001B[0;34m\u001B[0m\u001B[0m\n",
      "\u001B[0;31mKeyboardInterrupt\u001B[0m: "
     ]
    }
   ],
   "source": [
    "def find_best_parameters_unfix_window(x, y):\n",
    "    f_max = 0.\n",
    "    param_max = []\n",
    "    sqrt_d = round(np.sqrt(len(x))) + 1\n",
    "    for metric in metrics:\n",
    "        print('--------------------')\n",
    "        print(f'DISTANCE: {metric.__name__}')\n",
    "\n",
    "        neighbors = []\n",
    "        for i in range(0, len(x)):\n",
    "            x_train = x.drop(i, axis=0)\n",
    "            x_i = x.iloc[i]\n",
    "            neighbors.append(find_neighbours(x_i, x_train, metric, sqrt_d))\n",
    "\n",
    "        for kernel in kernels:\n",
    "            print('----------')\n",
    "            print(f'KERNEL: {kernel.__name__}')\n",
    "            for i in range(sqrt_d):\n",
    "                f_cur = leave_one_out(x, y, metric, kernel, lambda j: neighbors[j][i])\n",
    "                if f_cur > f_max:\n",
    "                    f_max = f_cur\n",
    "                    param_max = [metric, kernel, i]\n",
    "                print(f'f: {f_cur}')\n",
    "            print('----------')\n",
    "            print(\"current f_max:\", f_max)\n",
    "    print('--------------------')\n",
    "    print(f'max f-measure: {f_max}')\n",
    "    if len(param_max) >= 3:\n",
    "        print(\"parameters:\", param_max[0].__name__, \",\", param_max[1].__name__, \",\", param_max[2])\n",
    "    return param_max\n",
    "\n",
    "other_parameters = find_best_parameters_unfix_window(wine, one_hot)"
   ],
   "metadata": {
    "collapsed": false,
    "pycharm": {
     "name": "#%%\n"
    }
   }
  },
  {
   "cell_type": "code",
   "execution_count": 64,
   "outputs": [
    {
     "ename": "NameError",
     "evalue": "name 'other_parameters' is not defined",
     "output_type": "error",
     "traceback": [
      "\u001B[0;31m---------------------------------------------------------------------------\u001B[0m",
      "\u001B[0;31mNameError\u001B[0m                                 Traceback (most recent call last)",
      "\u001B[0;32m/tmp/ipykernel_14810/824509560.py\u001B[0m in \u001B[0;36m<module>\u001B[0;34m\u001B[0m\n\u001B[1;32m      3\u001B[0m     \u001B[0mx_train\u001B[0m \u001B[0;34m=\u001B[0m \u001B[0mwine\u001B[0m\u001B[0;34m.\u001B[0m\u001B[0mdrop\u001B[0m\u001B[0;34m(\u001B[0m\u001B[0mi\u001B[0m\u001B[0;34m,\u001B[0m \u001B[0maxis\u001B[0m\u001B[0;34m=\u001B[0m\u001B[0;36m0\u001B[0m\u001B[0;34m)\u001B[0m\u001B[0;34m\u001B[0m\u001B[0;34m\u001B[0m\u001B[0m\n\u001B[1;32m      4\u001B[0m     \u001B[0mx_i\u001B[0m \u001B[0;34m=\u001B[0m \u001B[0mwine\u001B[0m\u001B[0;34m.\u001B[0m\u001B[0miloc\u001B[0m\u001B[0;34m[\u001B[0m\u001B[0mi\u001B[0m\u001B[0;34m]\u001B[0m\u001B[0;34m\u001B[0m\u001B[0;34m\u001B[0m\u001B[0m\n\u001B[0;32m----> 5\u001B[0;31m     \u001B[0mneighbors\u001B[0m\u001B[0;34m.\u001B[0m\u001B[0mappend\u001B[0m\u001B[0;34m(\u001B[0m\u001B[0mfind_neighbours\u001B[0m\u001B[0;34m(\u001B[0m\u001B[0mx_i\u001B[0m\u001B[0;34m,\u001B[0m \u001B[0mx_train\u001B[0m\u001B[0;34m,\u001B[0m \u001B[0mother_parameters\u001B[0m\u001B[0;34m[\u001B[0m\u001B[0;36m0\u001B[0m\u001B[0;34m]\u001B[0m\u001B[0;34m,\u001B[0m \u001B[0mround\u001B[0m\u001B[0;34m(\u001B[0m\u001B[0msqrt\u001B[0m\u001B[0;34m)\u001B[0m\u001B[0;34m)\u001B[0m\u001B[0;34m)\u001B[0m\u001B[0;34m\u001B[0m\u001B[0;34m\u001B[0m\u001B[0m\n\u001B[0m\u001B[1;32m      6\u001B[0m \u001B[0;34m\u001B[0m\u001B[0m\n\u001B[1;32m      7\u001B[0m \u001B[0mf_other_values\u001B[0m \u001B[0;34m=\u001B[0m \u001B[0;34m[\u001B[0m\u001B[0;34m]\u001B[0m\u001B[0;34m\u001B[0m\u001B[0;34m\u001B[0m\u001B[0m\n",
      "\u001B[0;31mNameError\u001B[0m: name 'other_parameters' is not defined"
     ]
    }
   ],
   "source": [
    "neighbors = []\n",
    "for i in range(len(wine)):\n",
    "    x_train = wine.drop(i, axis=0)\n",
    "    x_i = wine.iloc[i]\n",
    "    neighbors.append(find_neighbours(x_i, x_train, other_parameters[0], round(sqrt)))\n",
    "\n",
    "f_other_values = []\n",
    "for i in range(round(sqrt)):\n",
    "    f_other_values.append(leave_one_out(wine, one_hot, other_parameters[0], other_parameters[1], lambda j: neighbors[j][i]))"
   ],
   "metadata": {
    "collapsed": false,
    "pycharm": {
     "name": "#%%\n"
    }
   }
  },
  {
   "cell_type": "code",
   "execution_count": null,
   "outputs": [],
   "source": [
    "plt.plot(range(1, round(sqrt) + 1), f_other_values)\n",
    "plt.ylabel(\"f-measure\")\n",
    "plt.xlabel(\"window\")\n",
    "plt.show()"
   ],
   "metadata": {
    "collapsed": false,
    "pycharm": {
     "name": "#%%\n"
    }
   }
  }
 ],
 "metadata": {
  "kernelspec": {
   "display_name": "Python 3",
   "language": "python",
   "name": "python3"
  },
  "language_info": {
   "codemirror_mode": {
    "name": "ipython",
    "version": 2
   },
   "file_extension": ".py",
   "mimetype": "text/x-python",
   "name": "python",
   "nbconvert_exporter": "python",
   "pygments_lexer": "ipython2",
   "version": "2.7.6"
  }
 },
 "nbformat": 4,
 "nbformat_minor": 0
}